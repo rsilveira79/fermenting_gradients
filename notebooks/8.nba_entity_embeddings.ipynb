{
 "cells": [
  {
   "cell_type": "markdown",
   "metadata": {},
   "source": [
    "## NBA Players\n",
    "1. **Title** - Visualizing NBA Players on Latent Space\n",
    "\n",
    "2. **Features**\n",
    " - Player_Info\n",
    "     - DISPLAY_FIRST_LAST\n",
    "     - BIRTHDATE\n",
    "     - HEIGHT\n",
    "     - WEIGHT\n",
    "     - SCHOOL\n",
    "     - POSITION\n",
    "     - JERSEY\n",
    " - Career\n",
    "     - Teams Played\n",
    "     - Points Per Game\n",
    "     - Assists Per Game\n",
    "     - 3 Points Per Game\n",
    "     - Steals Per Game\n",
    "     - NBA Titles\n",
    "     - MVP Titles\n",
    " \n",
    "3. **Ideas**\n",
    " - Categorical Embeddings\n",
    " - Graphs\n",
    " - UMAP for dim reduction\n",
    " - Altair interactive for visualization"
   ]
  },
  {
   "cell_type": "code",
   "execution_count": null,
   "metadata": {},
   "outputs": [],
   "source": [
    "#!pip install -U pandas"
   ]
  },
  {
   "cell_type": "code",
   "execution_count": null,
   "metadata": {},
   "outputs": [],
   "source": [
    "from tqdm import tqdm_notebook\n",
    "from nba_api.stats.endpoints import commonplayerinfo, playercareerstats\n",
    "from nba_api.stats.static import players\n",
    "from nba_api.stats.static import teams\n",
    "import pandas as pd\n",
    "import numpy as np\n",
    "from datetime import datetime\n",
    "pd.__version__"
   ]
  },
  {
   "cell_type": "code",
   "execution_count": null,
   "metadata": {},
   "outputs": [],
   "source": [
    "# Find players by full name.\n",
    "players.find_players_by_full_name('michael jordan')"
   ]
  },
  {
   "cell_type": "code",
   "execution_count": null,
   "metadata": {},
   "outputs": [],
   "source": [
    "# Find players by full name.\n",
    "players.find_players_by_full_name('shaq')"
   ]
  },
  {
   "cell_type": "code",
   "execution_count": null,
   "metadata": {},
   "outputs": [],
   "source": [
    "# Find teams by full name.\n",
    "teams.find_teams_by_full_name('mav')"
   ]
  },
  {
   "cell_type": "code",
   "execution_count": null,
   "metadata": {},
   "outputs": [],
   "source": [
    "from nba_api.stats.endpoints import commonplayerinfo\n",
    "\n",
    "jordan_id = 893\n",
    "player_info = commonplayerinfo.CommonPlayerInfo(player_id = jordan_id, timeout=200)"
   ]
  },
  {
   "cell_type": "code",
   "execution_count": null,
   "metadata": {},
   "outputs": [],
   "source": [
    "player_info.available_seasons.get_json()"
   ]
  },
  {
   "cell_type": "code",
   "execution_count": null,
   "metadata": {},
   "outputs": [],
   "source": [
    "player_info.common_player_info.get_data_frame()"
   ]
  },
  {
   "cell_type": "code",
   "execution_count": null,
   "metadata": {},
   "outputs": [],
   "source": [
    "def return_player_info(id):\n",
    "    player_info = commonplayerinfo.CommonPlayerInfo(player_id = id, timeout=50)\n",
    "    player_info_df = player_info.common_player_info.get_data_frame()\n",
    "    \n",
    "    ## Replace Empty String w/ None\n",
    "    player_info_df = player_info_df.replace(r'^\\s*$', \"NOT_AVAILABLE\",regex=True).replace('',\"NOT_AVAILABLE\")\n",
    "    \n",
    "    if player_info_df['HEIGHT'].item() != \"NOT_AVAILABLE\":\n",
    "        height = float(player_info_df['HEIGHT'].item().replace(\"-\",\".\"))\n",
    "    else:\n",
    "        height = np.nan\n",
    "    if player_info_df['WEIGHT'].item() != \"NOT_AVAILABLE\":\n",
    "        weight = int(player_info_df['WEIGHT'].item())\n",
    "    else:\n",
    "        weight = np.nan\n",
    "    \n",
    "    data = {\n",
    "        \"DISPLAY_FIRST_LAST\": player_info_df['DISPLAY_FIRST_LAST'].item(),\n",
    "        \"PERSON_ID\": player_info_df['PERSON_ID'].item(),\n",
    "        \"BIRTHDATE\": datetime.strptime(player_info_df['BIRTHDATE'].item().split('T')[0],\"%Y-%m-%d\"),\n",
    "        \"HEIGHT\": height,\n",
    "        \"WEIGHT\": weight,\n",
    "        \"SCHOOL\": player_info_df['SCHOOL'].item(),\n",
    "        \"POSITION\": player_info_df['POSITION'].item(),\n",
    "        \"JERSEY\": player_info_df['JERSEY'].item() \n",
    "    }\n",
    "    return data"
   ]
  },
  {
   "cell_type": "code",
   "execution_count": null,
   "metadata": {},
   "outputs": [],
   "source": [
    "return_player_info(893)"
   ]
  },
  {
   "cell_type": "code",
   "execution_count": null,
   "metadata": {},
   "outputs": [],
   "source": [
    "player_name = \"Michael Jordan\"\n",
    "return_player_info(players.find_players_by_full_name(player_name)[0]['id'])"
   ]
  },
  {
   "cell_type": "code",
   "execution_count": null,
   "metadata": {},
   "outputs": [],
   "source": [
    "player_name = \"Shaquille O'Neal\"\n",
    "return_player_info(players.find_players_by_full_name(player_name)[0]['id'])"
   ]
  },
  {
   "cell_type": "code",
   "execution_count": null,
   "metadata": {},
   "outputs": [],
   "source": [
    "player_name = \"Larry Bird\"\n",
    "return_player_info(players.find_players_by_full_name(player_name)[0]['id'])"
   ]
  },
  {
   "cell_type": "code",
   "execution_count": null,
   "metadata": {},
   "outputs": [],
   "source": [
    "player_name = \"Magic Johnson\"\n",
    "return_player_info(players.find_players_by_full_name(player_name)[0]['id'])"
   ]
  },
  {
   "cell_type": "code",
   "execution_count": null,
   "metadata": {},
   "outputs": [],
   "source": [
    "return_player_info(1626147)"
   ]
  },
  {
   "cell_type": "markdown",
   "metadata": {},
   "source": [
    "## List Players"
   ]
  },
  {
   "cell_type": "code",
   "execution_count": null,
   "metadata": {},
   "outputs": [],
   "source": [
    "from nba_api.stats.static import players"
   ]
  },
  {
   "cell_type": "code",
   "execution_count": null,
   "metadata": {},
   "outputs": [],
   "source": [
    "active = players.get_active_players()"
   ]
  },
  {
   "cell_type": "code",
   "execution_count": null,
   "metadata": {},
   "outputs": [],
   "source": [
    "inactive = players.get_inactive_players()"
   ]
  },
  {
   "cell_type": "code",
   "execution_count": null,
   "metadata": {},
   "outputs": [],
   "source": [
    "active_ids = [x['id'] for x in active]\n",
    "print(len(active_ids))"
   ]
  },
  {
   "cell_type": "code",
   "execution_count": null,
   "metadata": {},
   "outputs": [],
   "source": [
    "inactive_ids = [x['id'] for x in inactive]\n",
    "print(len(inactive_ids))"
   ]
  },
  {
   "cell_type": "code",
   "execution_count": null,
   "metadata": {},
   "outputs": [],
   "source": [
    "## Search for MJ in Active, Inactive players\n",
    "893 in active_ids, 893 in inactive_ids"
   ]
  },
  {
   "cell_type": "code",
   "execution_count": null,
   "metadata": {},
   "outputs": [],
   "source": [
    "201571\n",
    "1629028"
   ]
  },
  {
   "cell_type": "markdown",
   "metadata": {},
   "source": [
    "## Get Carrier info"
   ]
  },
  {
   "cell_type": "code",
   "execution_count": null,
   "metadata": {},
   "outputs": [],
   "source": [
    "from nba_api.stats.endpoints import playercareerstats\n",
    "from nba_api.stats.endpoints import playoffpicture\n",
    "from nba_api.stats.endpoints import  playerawards\n",
    "from nba_api.stats.endpoints import  playerprofilev2"
   ]
  },
  {
   "cell_type": "code",
   "execution_count": null,
   "metadata": {},
   "outputs": [],
   "source": [
    "def return_career_info(id):\n",
    "    career = playercareerstats.PlayerCareerStats(player_id = id, timeout=50)\n",
    "    career_df_detailed = career.get_data_frames()[0]\n",
    "    career_df_summary = career.get_data_frames()[1]\n",
    "\n",
    "    awards = awards = playerawards.PlayerAwards(id)\n",
    "    \n",
    "    data = {\n",
    "        \"GP\":  career_df_summary['GP'].item(),\n",
    "        \"PTS\":  career_df_summary['PTS'].item(),\n",
    "        \"FG3M\": career_df_summary['FG3M'].item(),\n",
    "        \"REB\": career_df_summary['REB'].item(),\n",
    "        \"OREB\": career_df_summary['OREB'].item(),\n",
    "        \"DREB\": career_df_summary['DREB'].item(),\n",
    "        \"AST\": career_df_summary['AST'].item(),\n",
    "        \"STL\": career_df_summary['STL'].item(),\n",
    "        \"BLK\": career_df_summary['BLK'].item(),\n",
    "        \"TOV\": career_df_summary['TOV'].item(),\n",
    "        \"PF\": career_df_summary['PF'].item(),      \n",
    "\n",
    "        \"TEAMS_PLAYED\": list(career_df_detailed['TEAM_ABBREVIATION'].unique()),\n",
    "        \"AWARDS\":  list(awards.get_data_frames()[0]['DESCRIPTION'].unique())\n",
    "    } \n",
    "    return data"
   ]
  },
  {
   "cell_type": "code",
   "execution_count": null,
   "metadata": {},
   "outputs": [],
   "source": [
    "### Michael Jordan 893\n",
    "# Magic Johnson 77142\n",
    "# Larry Bird 1449\n",
    "return_career_info(1449)"
   ]
  },
  {
   "cell_type": "markdown",
   "metadata": {},
   "source": [
    "## DataFrame - Get all Players"
   ]
  },
  {
   "cell_type": "code",
   "execution_count": null,
   "metadata": {},
   "outputs": [],
   "source": [
    "col_info = ['BIRTHDATE', 'DISPLAY_FIRST_LAST','HEIGHT', 'WEIGHT', 'JERSEY', 'POSITION', 'SCHOOL']\n",
    "col_career = ['GP', 'PTS', 'FG3M', 'REB', 'OREB', 'DREB', 'AST', 'STL', 'BLK', 'TOV', 'PF', 'TEAMS_PLAYED', 'AWARDS']"
   ]
  },
  {
   "cell_type": "code",
   "execution_count": null,
   "metadata": {},
   "outputs": [],
   "source": [
    "all_player_df = pd.DataFrame(columns= col_info + col_career )\n",
    "all_player_df"
   ]
  },
  {
   "cell_type": "code",
   "execution_count": null,
   "metadata": {},
   "outputs": [],
   "source": [
    "print(len(active_ids))\n",
    "print(len(inactive_ids))\n",
    "print(len(active_ids+inactive_ids))"
   ]
  },
  {
   "cell_type": "code",
   "execution_count": null,
   "metadata": {},
   "outputs": [],
   "source": [
    "## Adding Active Ids\n",
    "for i in tqdm_notebook(active_ids+inactive_ids):\n",
    "    try:\n",
    "        player_info = return_player_info(i)\n",
    "        player_career = return_career_info(i)\n",
    "        entry = player_info.update(player_career)\n",
    "        all_player_df.append(entry, ignore_index = True)\n",
    "    except:\n",
    "        print(i)"
   ]
  },
  {
   "cell_type": "code",
   "execution_count": null,
   "metadata": {},
   "outputs": [],
   "source": [
    "all_player_df"
   ]
  },
  {
   "cell_type": "code",
   "execution_count": null,
   "metadata": {},
   "outputs": [],
   "source": [
    "import pickle\n",
    "\n",
    "with open(\"all_player_df.pkl\", \"wb\") as f:\n",
    "    pickle.dump((all_player_df, f))"
   ]
  },
  {
   "cell_type": "markdown",
   "metadata": {},
   "source": [
    "## Sources\n",
    "1. https://towardsdatascience.com/categorical-embedding-and-transfer-learning-dd3c4af6345d\n",
    "2. https://towardsdatascience.com/link-prediction-with-neo4j-part-2-predicting-co-authors-using-scikit-learn-78b42356b44c  \n",
    "3. https://medium.com/@davidheffernan_99410/an-introduction-to-using-categorical-embeddings-ee686ed7e7f9  \n",
    "4. https://medium.com/@george.drakos62/decoded-entity-embeddings-of-categorical-variables-in-neural-networks-1d2468311635  \n",
    "\n",
    "## Implementations\n",
    "1. https://www.kaggle.com/keremt/pytorch-entity-embeddings\n",
    "2. https://pypi.org/project/entity-embeddings-categorical/\n",
    "\n",
    "## NBA API\n",
    "1. https://pypi.org/project/nba-api/\n",
    "\n",
    "## UMAP\n",
    "1. https://umap-learn.readthedocs.io/"
   ]
  }
 ],
 "metadata": {
  "kernelspec": {
   "display_name": "Python (nlp_new)",
   "language": "python",
   "name": "nlp_new"
  },
  "language_info": {
   "codemirror_mode": {
    "name": "ipython",
    "version": 3
   },
   "file_extension": ".py",
   "mimetype": "text/x-python",
   "name": "python",
   "nbconvert_exporter": "python",
   "pygments_lexer": "ipython3",
   "version": "3.6.3"
  }
 },
 "nbformat": 4,
 "nbformat_minor": 2
}
