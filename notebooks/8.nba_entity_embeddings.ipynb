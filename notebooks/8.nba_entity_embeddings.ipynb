{
 "cells": [
  {
   "cell_type": "markdown",
   "metadata": {},
   "source": [
    "## NBA Players\n",
    "1. **Title** - Visualizing NBA Players on Latent Space\n",
    "\n",
    "2. **Features**\n",
    " - Player_Info\n",
    "     - DISPLAY_FIRST_LAST\n",
    "     - BIRTHDATE\n",
    "     - HEIGHT\n",
    "     - WEIGHT\n",
    "     - SCHOOL\n",
    "     - POSITION\n",
    "     - JERSEY\n",
    " - Career\n",
    "     - Teams Played\n",
    "     - Points Per Game\n",
    "     - Assists Per Game\n",
    "     - 3 Points Per Game\n",
    "     - Steals Per Game\n",
    "     - NBA Titles\n",
    "     - MVP Titles\n",
    " \n",
    "3. **Ideas**\n",
    " - Categorical Embeddings\n",
    " - Graphs\n",
    " - UMAP for dim reduction\n",
    " - Altair interactive for visualization"
   ]
  },
  {
   "cell_type": "code",
   "execution_count": 1,
   "metadata": {},
   "outputs": [],
   "source": [
    "#!pip install -U pandas"
   ]
  },
  {
   "cell_type": "code",
   "execution_count": 2,
   "metadata": {},
   "outputs": [
    {
     "data": {
      "text/plain": [
       "'1.0.0'"
      ]
     },
     "execution_count": 2,
     "metadata": {},
     "output_type": "execute_result"
    }
   ],
   "source": [
    "from tqdm import tqdm_notebook\n",
    "from nba_api.stats.endpoints import commonplayerinfo, playercareerstats\n",
    "from nba_api.stats.static import players\n",
    "from nba_api.stats.static import teams\n",
    "import pandas as pd\n",
    "import numpy as np\n",
    "from datetime import datetime\n",
    "pd.__version__"
   ]
  },
  {
   "cell_type": "code",
   "execution_count": 3,
   "metadata": {},
   "outputs": [
    {
     "data": {
      "text/plain": [
       "[{'first_name': 'Michael',\n",
       "  'full_name': 'Michael Jordan',\n",
       "  'id': 893,\n",
       "  'is_active': False,\n",
       "  'last_name': 'Jordan'}]"
      ]
     },
     "execution_count": 3,
     "metadata": {},
     "output_type": "execute_result"
    }
   ],
   "source": [
    "# Find players by full name.\n",
    "players.find_players_by_full_name('michael jordan')"
   ]
  },
  {
   "cell_type": "code",
   "execution_count": 4,
   "metadata": {},
   "outputs": [
    {
     "data": {
      "text/plain": [
       "[{'first_name': 'Shaquille',\n",
       "  'full_name': 'Shaquille Harrison',\n",
       "  'id': 1627885,\n",
       "  'is_active': True,\n",
       "  'last_name': 'Harrison'},\n",
       " {'first_name': 'Shaquille',\n",
       "  'full_name': \"Shaquille O'Neal\",\n",
       "  'id': 406,\n",
       "  'is_active': False,\n",
       "  'last_name': \"O'Neal\"}]"
      ]
     },
     "execution_count": 4,
     "metadata": {},
     "output_type": "execute_result"
    }
   ],
   "source": [
    "# Find players by full name.\n",
    "players.find_players_by_full_name('shaq')"
   ]
  },
  {
   "cell_type": "code",
   "execution_count": 5,
   "metadata": {},
   "outputs": [
    {
     "data": {
      "text/plain": [
       "[{'abbreviation': 'DAL',\n",
       "  'city': 'Dallas',\n",
       "  'full_name': 'Dallas Mavericks',\n",
       "  'id': 1610612742,\n",
       "  'nickname': 'Mavericks',\n",
       "  'state': 'Texas',\n",
       "  'year_founded': 1980}]"
      ]
     },
     "execution_count": 5,
     "metadata": {},
     "output_type": "execute_result"
    }
   ],
   "source": [
    "# Find teams by full name.\n",
    "teams.find_teams_by_full_name('mav')"
   ]
  },
  {
   "cell_type": "code",
   "execution_count": 50,
   "metadata": {},
   "outputs": [],
   "source": [
    "## Proxy Config\n",
    "proxy_config = 'http://localhost:3128'"
   ]
  },
  {
   "cell_type": "code",
   "execution_count": 51,
   "metadata": {},
   "outputs": [],
   "source": [
    "from nba_api.stats.endpoints import commonplayerinfo\n",
    "jordan_id = 893\n",
    "player_info = commonplayerinfo.CommonPlayerInfo(player_id = jordan_id, proxy=proxy_config, timeout=200)"
   ]
  },
  {
   "cell_type": "code",
   "execution_count": 52,
   "metadata": {},
   "outputs": [
    {
     "data": {
      "text/plain": [
       "'{\"headers\": [\"SEASON_ID\"], \"data\": [[\"21984\"], [\"31984\"], [\"41984\"], [\"21985\"], [\"41985\"], [\"21986\"], [\"31986\"], [\"41986\"], [\"21987\"], [\"31987\"], [\"41987\"], [\"21988\"], [\"31988\"], [\"41988\"], [\"21989\"], [\"31989\"], [\"41989\"], [\"21990\"], [\"31990\"], [\"41990\"], [\"21991\"], [\"31991\"], [\"41991\"], [\"21992\"], [\"31992\"], [\"41992\"], [\"21994\"], [\"41994\"], [\"21995\"], [\"31995\"], [\"41995\"], [\"21996\"], [\"31996\"], [\"41996\"], [\"11997\"], [\"21997\"], [\"31997\"], [\"41997\"], [\"12001\"], [\"22001\"], [\"32001\"], [\"12002\"], [\"22002\"], [\"32002\"]]}'"
      ]
     },
     "execution_count": 52,
     "metadata": {},
     "output_type": "execute_result"
    }
   ],
   "source": [
    "player_info.available_seasons.get_json()"
   ]
  },
  {
   "cell_type": "code",
   "execution_count": 53,
   "metadata": {},
   "outputs": [
    {
     "data": {
      "text/html": [
       "<div>\n",
       "<style scoped>\n",
       "    .dataframe tbody tr th:only-of-type {\n",
       "        vertical-align: middle;\n",
       "    }\n",
       "\n",
       "    .dataframe tbody tr th {\n",
       "        vertical-align: top;\n",
       "    }\n",
       "\n",
       "    .dataframe thead th {\n",
       "        text-align: right;\n",
       "    }\n",
       "</style>\n",
       "<table border=\"1\" class=\"dataframe\">\n",
       "  <thead>\n",
       "    <tr style=\"text-align: right;\">\n",
       "      <th></th>\n",
       "      <th>PERSON_ID</th>\n",
       "      <th>FIRST_NAME</th>\n",
       "      <th>LAST_NAME</th>\n",
       "      <th>DISPLAY_FIRST_LAST</th>\n",
       "      <th>DISPLAY_LAST_COMMA_FIRST</th>\n",
       "      <th>DISPLAY_FI_LAST</th>\n",
       "      <th>BIRTHDATE</th>\n",
       "      <th>SCHOOL</th>\n",
       "      <th>COUNTRY</th>\n",
       "      <th>LAST_AFFILIATION</th>\n",
       "      <th>...</th>\n",
       "      <th>TEAM_CITY</th>\n",
       "      <th>PLAYERCODE</th>\n",
       "      <th>FROM_YEAR</th>\n",
       "      <th>TO_YEAR</th>\n",
       "      <th>DLEAGUE_FLAG</th>\n",
       "      <th>NBA_FLAG</th>\n",
       "      <th>GAMES_PLAYED_FLAG</th>\n",
       "      <th>DRAFT_YEAR</th>\n",
       "      <th>DRAFT_ROUND</th>\n",
       "      <th>DRAFT_NUMBER</th>\n",
       "    </tr>\n",
       "  </thead>\n",
       "  <tbody>\n",
       "    <tr>\n",
       "      <th>0</th>\n",
       "      <td>893</td>\n",
       "      <td>Michael</td>\n",
       "      <td>Jordan</td>\n",
       "      <td>Michael Jordan</td>\n",
       "      <td>Jordan, Michael</td>\n",
       "      <td>M. Jordan</td>\n",
       "      <td>1963-02-17T00:00:00</td>\n",
       "      <td>North Carolina</td>\n",
       "      <td>USA</td>\n",
       "      <td>North Carolina/USA</td>\n",
       "      <td>...</td>\n",
       "      <td>Chicago</td>\n",
       "      <td>michael_jordan</td>\n",
       "      <td>1984</td>\n",
       "      <td>2002</td>\n",
       "      <td>N</td>\n",
       "      <td>Y</td>\n",
       "      <td>Y</td>\n",
       "      <td>1984</td>\n",
       "      <td>1</td>\n",
       "      <td>3</td>\n",
       "    </tr>\n",
       "  </tbody>\n",
       "</table>\n",
       "<p>1 rows × 30 columns</p>\n",
       "</div>"
      ],
      "text/plain": [
       "   PERSON_ID FIRST_NAME LAST_NAME DISPLAY_FIRST_LAST DISPLAY_LAST_COMMA_FIRST  \\\n",
       "0        893    Michael    Jordan     Michael Jordan          Jordan, Michael   \n",
       "\n",
       "  DISPLAY_FI_LAST            BIRTHDATE          SCHOOL COUNTRY  \\\n",
       "0       M. Jordan  1963-02-17T00:00:00  North Carolina     USA   \n",
       "\n",
       "     LAST_AFFILIATION  ... TEAM_CITY      PLAYERCODE  FROM_YEAR TO_YEAR  \\\n",
       "0  North Carolina/USA  ...   Chicago  michael_jordan       1984    2002   \n",
       "\n",
       "  DLEAGUE_FLAG NBA_FLAG  GAMES_PLAYED_FLAG DRAFT_YEAR DRAFT_ROUND DRAFT_NUMBER  \n",
       "0            N        Y                  Y       1984           1            3  \n",
       "\n",
       "[1 rows x 30 columns]"
      ]
     },
     "execution_count": 53,
     "metadata": {},
     "output_type": "execute_result"
    }
   ],
   "source": [
    "player_info.common_player_info.get_data_frame()"
   ]
  },
  {
   "cell_type": "code",
   "execution_count": 54,
   "metadata": {},
   "outputs": [],
   "source": [
    "id_num = 893\n",
    "player_info = commonplayerinfo.CommonPlayerInfo(player_id = id_num,  proxy=proxy_config, timeout=50)\n",
    "player_info_df = player_info.common_player_info.get_data_frame()\n",
    "player_info_df = player_info_df.replace(r'^\\s*$', pd.NA ,regex=True).replace('',pd.NA)"
   ]
  },
  {
   "cell_type": "code",
   "execution_count": 55,
   "metadata": {},
   "outputs": [
    {
     "data": {
      "text/plain": [
       "bool"
      ]
     },
     "execution_count": 55,
     "metadata": {},
     "output_type": "execute_result"
    }
   ],
   "source": [
    "type(player_info_df['HEIGHT'].notna().item())"
   ]
  },
  {
   "cell_type": "code",
   "execution_count": 56,
   "metadata": {},
   "outputs": [],
   "source": [
    "def return_player_info(id):\n",
    "    player_info = commonplayerinfo.CommonPlayerInfo(player_id = id, proxy=proxy_config, timeout=50)\n",
    "    player_info_df = player_info.common_player_info.get_data_frame()\n",
    "    \n",
    "    ## Replace Empty String w/ None\n",
    "    player_info_df = player_info_df.replace(r'^\\s*$', pd.NA ,regex=True).replace('',pd.NA)\n",
    "\n",
    "    if player_info_df['HEIGHT'].notna().item():\n",
    "        player_info_df['HEIGHT'] = player_info_df['HEIGHT'].apply(lambda x: x.replace(\"-\",\".\") )\n",
    "        \n",
    "    if player_info_df['WEIGHT'].notna().item():\n",
    "        player_info_df['WEIGHT'] = player_info_df['WEIGHT'].apply(lambda x: int(x))\n",
    "    \n",
    "    data = {\n",
    "        \"DISPLAY_FIRST_LAST\": player_info_df['DISPLAY_FIRST_LAST'].item(),\n",
    "        \"PERSON_ID\": player_info_df['PERSON_ID'].item(),\n",
    "        \"BIRTHDATE\": datetime.strptime(player_info_df['BIRTHDATE'].item().split('T')[0],\"%Y-%m-%d\"),\n",
    "        \"HEIGHT\": player_info_df['HEIGHT'].item(),\n",
    "        \"WEIGHT\": player_info_df['WEIGHT'].item(),\n",
    "        \"SCHOOL\": player_info_df['SCHOOL'].item(),\n",
    "        \"POSITION\": player_info_df['POSITION'].item(),\n",
    "        \"JERSEY\": player_info_df['JERSEY'].item() \n",
    "    }\n",
    "    return data"
   ]
  },
  {
   "cell_type": "code",
   "execution_count": 57,
   "metadata": {},
   "outputs": [
    {
     "data": {
      "text/plain": [
       "{'BIRTHDATE': datetime.datetime(1963, 2, 17, 0, 0),\n",
       " 'DISPLAY_FIRST_LAST': 'Michael Jordan',\n",
       " 'HEIGHT': '6.6',\n",
       " 'JERSEY': '23',\n",
       " 'PERSON_ID': 893,\n",
       " 'POSITION': 'Guard',\n",
       " 'SCHOOL': 'North Carolina',\n",
       " 'WEIGHT': 216}"
      ]
     },
     "execution_count": 57,
     "metadata": {},
     "output_type": "execute_result"
    }
   ],
   "source": [
    "return_player_info(893)"
   ]
  },
  {
   "cell_type": "code",
   "execution_count": 58,
   "metadata": {},
   "outputs": [
    {
     "data": {
      "text/plain": [
       "{'BIRTHDATE': datetime.datetime(1963, 2, 17, 0, 0),\n",
       " 'DISPLAY_FIRST_LAST': 'Michael Jordan',\n",
       " 'HEIGHT': '6.6',\n",
       " 'JERSEY': '23',\n",
       " 'PERSON_ID': 893,\n",
       " 'POSITION': 'Guard',\n",
       " 'SCHOOL': 'North Carolina',\n",
       " 'WEIGHT': 216}"
      ]
     },
     "execution_count": 58,
     "metadata": {},
     "output_type": "execute_result"
    }
   ],
   "source": [
    "player_name = \"Michael Jordan\"\n",
    "return_player_info(players.find_players_by_full_name(player_name)[0]['id'])"
   ]
  },
  {
   "cell_type": "code",
   "execution_count": 59,
   "metadata": {},
   "outputs": [
    {
     "data": {
      "text/plain": [
       "{'BIRTHDATE': datetime.datetime(1972, 3, 6, 0, 0),\n",
       " 'DISPLAY_FIRST_LAST': \"Shaquille O'Neal\",\n",
       " 'HEIGHT': '7.1',\n",
       " 'JERSEY': '34',\n",
       " 'PERSON_ID': 406,\n",
       " 'POSITION': 'Center',\n",
       " 'SCHOOL': 'Louisiana State',\n",
       " 'WEIGHT': 325}"
      ]
     },
     "execution_count": 59,
     "metadata": {},
     "output_type": "execute_result"
    }
   ],
   "source": [
    "player_name = \"Shaquille O'Neal\"\n",
    "return_player_info(players.find_players_by_full_name(player_name)[0]['id'])"
   ]
  },
  {
   "cell_type": "code",
   "execution_count": 60,
   "metadata": {},
   "outputs": [
    {
     "data": {
      "text/plain": [
       "{'BIRTHDATE': datetime.datetime(1956, 12, 7, 0, 0),\n",
       " 'DISPLAY_FIRST_LAST': 'Larry Bird',\n",
       " 'HEIGHT': '6.9',\n",
       " 'JERSEY': '33',\n",
       " 'PERSON_ID': 1449,\n",
       " 'POSITION': 'Forward',\n",
       " 'SCHOOL': 'Indiana State',\n",
       " 'WEIGHT': 220}"
      ]
     },
     "execution_count": 60,
     "metadata": {},
     "output_type": "execute_result"
    }
   ],
   "source": [
    "player_name = \"Larry Bird\"\n",
    "return_player_info(players.find_players_by_full_name(player_name)[0]['id'])"
   ]
  },
  {
   "cell_type": "code",
   "execution_count": 61,
   "metadata": {},
   "outputs": [
    {
     "data": {
      "text/plain": [
       "{'BIRTHDATE': datetime.datetime(1959, 8, 14, 0, 0),\n",
       " 'DISPLAY_FIRST_LAST': 'Magic Johnson',\n",
       " 'HEIGHT': '6.9',\n",
       " 'JERSEY': '32',\n",
       " 'PERSON_ID': 77142,\n",
       " 'POSITION': 'Forward-Guard',\n",
       " 'SCHOOL': 'Michigan State',\n",
       " 'WEIGHT': 220}"
      ]
     },
     "execution_count": 61,
     "metadata": {},
     "output_type": "execute_result"
    }
   ],
   "source": [
    "player_name = \"Magic Johnson\"\n",
    "return_player_info(players.find_players_by_full_name(player_name)[0]['id'])"
   ]
  },
  {
   "cell_type": "code",
   "execution_count": 62,
   "metadata": {},
   "outputs": [
    {
     "name": "stderr",
     "output_type": "stream",
     "text": [
      "/Users/rsilvei/Envs/nlp_new/lib/python3.6/site-packages/pandas/core/missing.py:47: FutureWarning: elementwise comparison failed; returning scalar instead, but in the future will perform elementwise comparison\n",
      "  mask = arr == x\n"
     ]
    },
    {
     "data": {
      "text/plain": [
       "{'BIRTHDATE': datetime.datetime(1993, 11, 19, 0, 0),\n",
       " 'DISPLAY_FIRST_LAST': 'Justin Anderson',\n",
       " 'HEIGHT': <NA>,\n",
       " 'JERSEY': <NA>,\n",
       " 'PERSON_ID': 1626147,\n",
       " 'POSITION': <NA>,\n",
       " 'SCHOOL': 'Virginia',\n",
       " 'WEIGHT': <NA>}"
      ]
     },
     "execution_count": 62,
     "metadata": {},
     "output_type": "execute_result"
    }
   ],
   "source": [
    "return_player_info(1626147)"
   ]
  },
  {
   "cell_type": "markdown",
   "metadata": {},
   "source": [
    "## List Players"
   ]
  },
  {
   "cell_type": "code",
   "execution_count": 63,
   "metadata": {},
   "outputs": [],
   "source": [
    "from nba_api.stats.static import players"
   ]
  },
  {
   "cell_type": "code",
   "execution_count": 71,
   "metadata": {},
   "outputs": [
    {
     "data": {
      "text/plain": [
       "(519, 3982)"
      ]
     },
     "execution_count": 71,
     "metadata": {},
     "output_type": "execute_result"
    }
   ],
   "source": [
    "active = players.get_active_players()\n",
    "inactive = players.get_inactive_players()\n",
    "active_ids = [x['id'] for x in active]\n",
    "inactive_ids = [x['id'] for x in inactive]\n",
    "len(active_ids), len(inactive_ids)"
   ]
  },
  {
   "cell_type": "markdown",
   "metadata": {},
   "source": [
    "## Get Carrier info"
   ]
  },
  {
   "cell_type": "code",
   "execution_count": 72,
   "metadata": {},
   "outputs": [],
   "source": [
    "from nba_api.stats.endpoints import playercareerstats\n",
    "from nba_api.stats.endpoints import playoffpicture\n",
    "from nba_api.stats.endpoints import  playerawards\n",
    "from nba_api.stats.endpoints import  playerprofilev2"
   ]
  },
  {
   "cell_type": "code",
   "execution_count": 73,
   "metadata": {},
   "outputs": [],
   "source": [
    "def return_career_info(id):\n",
    "    \n",
    "    career = playercareerstats.PlayerCareerStats(player_id = id, proxy=proxy_config, get_request=True, timeout=200)\n",
    "    career_df_detailed = career.get_data_frames()[0]\n",
    "    career_df_summary = career.get_data_frames()[1]\n",
    "    awards = playerawards.PlayerAwards(id, proxy=proxy_config)\n",
    "    \n",
    "    data = {\n",
    "        \"GP\":  career_df_summary['GP'].item(),\n",
    "        \"PTS\":  career_df_summary['PTS'].item(),\n",
    "        \"FG3M\": career_df_summary['FG3M'].item(),\n",
    "        \"REB\": career_df_summary['REB'].item(),\n",
    "        \"OREB\": career_df_summary['OREB'].item(),\n",
    "        \"DREB\": career_df_summary['DREB'].item(),\n",
    "        \"AST\": career_df_summary['AST'].item(),\n",
    "        \"STL\": career_df_summary['STL'].item(),\n",
    "        \"BLK\": career_df_summary['BLK'].item(),\n",
    "        \"TOV\": career_df_summary['TOV'].item(),\n",
    "        \"PF\": career_df_summary['PF'].item(),      \n",
    "\n",
    "        \"TEAMS_PLAYED\": list(career_df_detailed['TEAM_ABBREVIATION'].unique()),\n",
    "        \"AWARDS\":  list(awards.get_data_frames()[0]['DESCRIPTION'].unique())\n",
    "    } \n",
    "    return data"
   ]
  },
  {
   "cell_type": "code",
   "execution_count": 74,
   "metadata": {},
   "outputs": [
    {
     "data": {
      "text/plain": [
       "{'AST': 5695,\n",
       " 'AWARDS': ['NBA Player of the Week',\n",
       "  'NBA Sporting News Rookie of the Year',\n",
       "  'Hall of Fame Inductee',\n",
       "  'All-Defensive Team',\n",
       "  'Olympic Gold Medal',\n",
       "  'All-NBA',\n",
       "  'NBA Sporting News Most Valuable Player of the Year',\n",
       "  'All-Rookie Team',\n",
       "  'NBA Player of the Month',\n",
       "  'NBA Finals Most Valuable Player',\n",
       "  'NBA Rookie of the Year',\n",
       "  'NBA Most Valuable Player',\n",
       "  'NBA All-Star Most Valuable Player'],\n",
       " 'BLK': 755,\n",
       " 'DREB': 7217,\n",
       " 'FG3M': 649,\n",
       " 'GP': 897,\n",
       " 'OREB': 1757,\n",
       " 'PF': 2279,\n",
       " 'PTS': 21791,\n",
       " 'REB': 8974,\n",
       " 'STL': 1556,\n",
       " 'TEAMS_PLAYED': ['BOS'],\n",
       " 'TOV': 2816}"
      ]
     },
     "execution_count": 74,
     "metadata": {},
     "output_type": "execute_result"
    }
   ],
   "source": [
    "### Michael Jordan 893\n",
    "# Magic Johnson 77142\n",
    "# Larry Bird 1449\n",
    "return_career_info(1449)"
   ]
  },
  {
   "cell_type": "code",
   "execution_count": 75,
   "metadata": {},
   "outputs": [
    {
     "data": {
      "text/plain": [
       "{'AST': 143,\n",
       " 'AWARDS': [],\n",
       " 'BLK': 69,\n",
       " 'DREB': 420,\n",
       " 'FG3M': 138,\n",
       " 'GP': 219,\n",
       " 'OREB': 136,\n",
       " 'PF': 258,\n",
       " 'PTS': 1157,\n",
       " 'REB': 556,\n",
       " 'STL': 97,\n",
       " 'TEAMS_PLAYED': ['DAL', 'PHI', 'TOT', 'ATL', 'BKN'],\n",
       " 'TOV': 129}"
      ]
     },
     "execution_count": 75,
     "metadata": {},
     "output_type": "execute_result"
    }
   ],
   "source": [
    "return_career_info(1626147)"
   ]
  },
  {
   "cell_type": "markdown",
   "metadata": {},
   "source": [
    "## DataFrame - Get all Players"
   ]
  },
  {
   "cell_type": "code",
   "execution_count": 76,
   "metadata": {},
   "outputs": [
    {
     "data": {
      "text/plain": [
       "['GP',\n",
       " 'PTS',\n",
       " 'FG3M',\n",
       " 'REB',\n",
       " 'OREB',\n",
       " 'DREB',\n",
       " 'AST',\n",
       " 'STL',\n",
       " 'BLK',\n",
       " 'TOV',\n",
       " 'PF',\n",
       " 'TEAMS_PLAYED',\n",
       " 'AWARDS',\n",
       " 'DISPLAY_FIRST_LAST',\n",
       " 'PERSON_ID',\n",
       " 'BIRTHDATE',\n",
       " 'HEIGHT',\n",
       " 'WEIGHT',\n",
       " 'SCHOOL',\n",
       " 'POSITION',\n",
       " 'JERSEY']"
      ]
     },
     "execution_count": 76,
     "metadata": {},
     "output_type": "execute_result"
    }
   ],
   "source": [
    "id = 893\n",
    "mj_info = return_player_info(id)\n",
    "mj_career = return_career_info(id)\n",
    "all_cols = list(mj_career.keys()) + list(mj_info.keys())\n",
    "all_cols"
   ]
  },
  {
   "cell_type": "code",
   "execution_count": 77,
   "metadata": {},
   "outputs": [
    {
     "data": {
      "text/html": [
       "<div>\n",
       "<style scoped>\n",
       "    .dataframe tbody tr th:only-of-type {\n",
       "        vertical-align: middle;\n",
       "    }\n",
       "\n",
       "    .dataframe tbody tr th {\n",
       "        vertical-align: top;\n",
       "    }\n",
       "\n",
       "    .dataframe thead th {\n",
       "        text-align: right;\n",
       "    }\n",
       "</style>\n",
       "<table border=\"1\" class=\"dataframe\">\n",
       "  <thead>\n",
       "    <tr style=\"text-align: right;\">\n",
       "      <th></th>\n",
       "      <th>GP</th>\n",
       "      <th>PTS</th>\n",
       "      <th>FG3M</th>\n",
       "      <th>REB</th>\n",
       "      <th>OREB</th>\n",
       "      <th>DREB</th>\n",
       "      <th>AST</th>\n",
       "      <th>STL</th>\n",
       "      <th>BLK</th>\n",
       "      <th>TOV</th>\n",
       "      <th>...</th>\n",
       "      <th>TEAMS_PLAYED</th>\n",
       "      <th>AWARDS</th>\n",
       "      <th>DISPLAY_FIRST_LAST</th>\n",
       "      <th>PERSON_ID</th>\n",
       "      <th>BIRTHDATE</th>\n",
       "      <th>HEIGHT</th>\n",
       "      <th>WEIGHT</th>\n",
       "      <th>SCHOOL</th>\n",
       "      <th>POSITION</th>\n",
       "      <th>JERSEY</th>\n",
       "    </tr>\n",
       "  </thead>\n",
       "  <tbody>\n",
       "  </tbody>\n",
       "</table>\n",
       "<p>0 rows × 21 columns</p>\n",
       "</div>"
      ],
      "text/plain": [
       "Empty DataFrame\n",
       "Columns: [GP, PTS, FG3M, REB, OREB, DREB, AST, STL, BLK, TOV, PF, TEAMS_PLAYED, AWARDS, DISPLAY_FIRST_LAST, PERSON_ID, BIRTHDATE, HEIGHT, WEIGHT, SCHOOL, POSITION, JERSEY]\n",
       "Index: []\n",
       "\n",
       "[0 rows x 21 columns]"
      ]
     },
     "execution_count": 77,
     "metadata": {},
     "output_type": "execute_result"
    }
   ],
   "source": [
    "all_player_df = pd.DataFrame(columns= all_cols)\n",
    "all_player_df"
   ]
  },
  {
   "cell_type": "code",
   "execution_count": 78,
   "metadata": {},
   "outputs": [],
   "source": [
    "all_list = active_ids + inactive_ids"
   ]
  },
  {
   "cell_type": "code",
   "execution_count": 79,
   "metadata": {},
   "outputs": [],
   "source": [
    "# player_info = return_player_info(id)\n",
    "# player_career = return_career_info(id)\n",
    "# entry = dict(player_info, **player_career)\n",
    "# entry.update(player_career)\n",
    "# all_player_df = all_player_df.append(entry, ignore_index = True)\n",
    "# all_player_df"
   ]
  },
  {
   "cell_type": "code",
   "execution_count": 80,
   "metadata": {},
   "outputs": [
    {
     "data": {
      "application/vnd.jupyter.widget-view+json": {
       "model_id": "cce5d7e945c74774bee27f142bf506a0",
       "version_major": 2,
       "version_minor": 0
      },
      "text/html": [
       "<p>Failed to display Jupyter Widget of type <code>HBox</code>.</p>\n",
       "<p>\n",
       "  If you're reading this message in the Jupyter Notebook or JupyterLab Notebook, it may mean\n",
       "  that the widgets JavaScript is still loading. If this message persists, it\n",
       "  likely means that the widgets JavaScript library is either not installed or\n",
       "  not enabled. See the <a href=\"https://ipywidgets.readthedocs.io/en/stable/user_install.html\">Jupyter\n",
       "  Widgets Documentation</a> for setup instructions.\n",
       "</p>\n",
       "<p>\n",
       "  If you're reading this message in another frontend (for example, a static\n",
       "  rendering on GitHub or <a href=\"https://nbviewer.jupyter.org/\">NBViewer</a>),\n",
       "  it may mean that your frontend doesn't currently support widgets.\n",
       "</p>\n"
      ],
      "text/plain": [
       "HBox(children=(IntProgress(value=0, max=4501), HTML(value='')))"
      ]
     },
     "metadata": {},
     "output_type": "display_data"
    },
    {
     "name": "stderr",
     "output_type": "stream",
     "text": [
      "/Users/rsilvei/Envs/nlp_new/lib/python3.6/site-packages/pandas/core/missing.py:47: FutureWarning: elementwise comparison failed; returning scalar instead, but in the future will perform elementwise comparison\n",
      "  mask = arr == x\n"
     ]
    },
    {
     "name": "stdout",
     "output_type": "stream",
     "text": [
      "\n"
     ]
    }
   ],
   "source": [
    "## Adding Active Ids\n",
    "for i in tqdm_notebook(all_list):\n",
    "    try:\n",
    "        player_info = return_player_info(i)\n",
    "        player_career = return_career_info(i)\n",
    "        entry = dict(player_info, **player_career)\n",
    "        entry.update(player_career)\n",
    "        all_player_df = all_player_df.append(entry, ignore_index = True)\n",
    "        \n",
    "    except:\n",
    "        pass"
   ]
  },
  {
   "cell_type": "code",
   "execution_count": 81,
   "metadata": {},
   "outputs": [
    {
     "data": {
      "text/html": [
       "<div>\n",
       "<style scoped>\n",
       "    .dataframe tbody tr th:only-of-type {\n",
       "        vertical-align: middle;\n",
       "    }\n",
       "\n",
       "    .dataframe tbody tr th {\n",
       "        vertical-align: top;\n",
       "    }\n",
       "\n",
       "    .dataframe thead th {\n",
       "        text-align: right;\n",
       "    }\n",
       "</style>\n",
       "<table border=\"1\" class=\"dataframe\">\n",
       "  <thead>\n",
       "    <tr style=\"text-align: right;\">\n",
       "      <th></th>\n",
       "      <th>GP</th>\n",
       "      <th>PTS</th>\n",
       "      <th>FG3M</th>\n",
       "      <th>REB</th>\n",
       "      <th>OREB</th>\n",
       "      <th>DREB</th>\n",
       "      <th>AST</th>\n",
       "      <th>STL</th>\n",
       "      <th>BLK</th>\n",
       "      <th>TOV</th>\n",
       "      <th>...</th>\n",
       "      <th>TEAMS_PLAYED</th>\n",
       "      <th>AWARDS</th>\n",
       "      <th>DISPLAY_FIRST_LAST</th>\n",
       "      <th>PERSON_ID</th>\n",
       "      <th>BIRTHDATE</th>\n",
       "      <th>HEIGHT</th>\n",
       "      <th>WEIGHT</th>\n",
       "      <th>SCHOOL</th>\n",
       "      <th>POSITION</th>\n",
       "      <th>JERSEY</th>\n",
       "    </tr>\n",
       "  </thead>\n",
       "  <tbody>\n",
       "    <tr>\n",
       "      <th>0</th>\n",
       "      <td>515</td>\n",
       "      <td>5020</td>\n",
       "      <td>0</td>\n",
       "      <td>3890</td>\n",
       "      <td>1776</td>\n",
       "      <td>2114</td>\n",
       "      <td>593</td>\n",
       "      <td>452</td>\n",
       "      <td>517</td>\n",
       "      <td>737</td>\n",
       "      <td>...</td>\n",
       "      <td>[OKC]</td>\n",
       "      <td>[All-Rookie Team]</td>\n",
       "      <td>Steven Adams</td>\n",
       "      <td>203500</td>\n",
       "      <td>1993-07-20</td>\n",
       "      <td>6.11</td>\n",
       "      <td>265</td>\n",
       "      <td>Pittsburgh</td>\n",
       "      <td>Center</td>\n",
       "      <td>12</td>\n",
       "    </tr>\n",
       "    <tr>\n",
       "      <th>1</th>\n",
       "      <td>204</td>\n",
       "      <td>2052</td>\n",
       "      <td>4</td>\n",
       "      <td>1529</td>\n",
       "      <td>421</td>\n",
       "      <td>1108</td>\n",
       "      <td>546</td>\n",
       "      <td>166</td>\n",
       "      <td>168</td>\n",
       "      <td>331</td>\n",
       "      <td>...</td>\n",
       "      <td>[MIA]</td>\n",
       "      <td>[NBA Player of the Week]</td>\n",
       "      <td>Bam Adebayo</td>\n",
       "      <td>1628389</td>\n",
       "      <td>1997-07-18</td>\n",
       "      <td>6.9</td>\n",
       "      <td>255</td>\n",
       "      <td>Kentucky</td>\n",
       "      <td>Center-Forward</td>\n",
       "      <td>13</td>\n",
       "    </tr>\n",
       "    <tr>\n",
       "      <th>2</th>\n",
       "      <td>1000</td>\n",
       "      <td>19552</td>\n",
       "      <td>180</td>\n",
       "      <td>8347</td>\n",
       "      <td>2679</td>\n",
       "      <td>5668</td>\n",
       "      <td>1977</td>\n",
       "      <td>729</td>\n",
       "      <td>1106</td>\n",
       "      <td>1569</td>\n",
       "      <td>...</td>\n",
       "      <td>[POR, SAS]</td>\n",
       "      <td>[NBA Player of the Week, All-NBA, All-Rookie T...</td>\n",
       "      <td>LaMarcus Aldridge</td>\n",
       "      <td>200746</td>\n",
       "      <td>1985-07-19</td>\n",
       "      <td>6.11</td>\n",
       "      <td>250</td>\n",
       "      <td>Texas</td>\n",
       "      <td>Center-Forward</td>\n",
       "      <td>12</td>\n",
       "    </tr>\n",
       "    <tr>\n",
       "      <th>3</th>\n",
       "      <td>41</td>\n",
       "      <td>211</td>\n",
       "      <td>40</td>\n",
       "      <td>80</td>\n",
       "      <td>8</td>\n",
       "      <td>72</td>\n",
       "      <td>74</td>\n",
       "      <td>11</td>\n",
       "      <td>7</td>\n",
       "      <td>40</td>\n",
       "      <td>...</td>\n",
       "      <td>[NOP]</td>\n",
       "      <td>[]</td>\n",
       "      <td>Nickeil Alexander-Walker</td>\n",
       "      <td>1629638</td>\n",
       "      <td>1998-09-02</td>\n",
       "      <td>6.5</td>\n",
       "      <td>205</td>\n",
       "      <td>Virginia Tech</td>\n",
       "      <td>Guard</td>\n",
       "      <td>0</td>\n",
       "    </tr>\n",
       "    <tr>\n",
       "      <th>4</th>\n",
       "      <td>68</td>\n",
       "      <td>432</td>\n",
       "      <td>65</td>\n",
       "      <td>89</td>\n",
       "      <td>8</td>\n",
       "      <td>81</td>\n",
       "      <td>68</td>\n",
       "      <td>12</td>\n",
       "      <td>7</td>\n",
       "      <td>56</td>\n",
       "      <td>...</td>\n",
       "      <td>[UTA, MEM]</td>\n",
       "      <td>[]</td>\n",
       "      <td>Grayson Allen</td>\n",
       "      <td>1628960</td>\n",
       "      <td>1995-10-08</td>\n",
       "      <td>6.4</td>\n",
       "      <td>198</td>\n",
       "      <td>Duke</td>\n",
       "      <td>Guard</td>\n",
       "      <td>3</td>\n",
       "    </tr>\n",
       "    <tr>\n",
       "      <th>...</th>\n",
       "      <td>...</td>\n",
       "      <td>...</td>\n",
       "      <td>...</td>\n",
       "      <td>...</td>\n",
       "      <td>...</td>\n",
       "      <td>...</td>\n",
       "      <td>...</td>\n",
       "      <td>...</td>\n",
       "      <td>...</td>\n",
       "      <td>...</td>\n",
       "      <td>...</td>\n",
       "      <td>...</td>\n",
       "      <td>...</td>\n",
       "      <td>...</td>\n",
       "      <td>...</td>\n",
       "      <td>...</td>\n",
       "      <td>...</td>\n",
       "      <td>...</td>\n",
       "      <td>...</td>\n",
       "      <td>...</td>\n",
       "      <td>...</td>\n",
       "    </tr>\n",
       "    <tr>\n",
       "      <th>4471</th>\n",
       "      <td>19</td>\n",
       "      <td>23</td>\n",
       "      <td>0</td>\n",
       "      <td>35</td>\n",
       "      <td>11</td>\n",
       "      <td>24</td>\n",
       "      <td>4</td>\n",
       "      <td>2</td>\n",
       "      <td>5</td>\n",
       "      <td>3</td>\n",
       "      <td>...</td>\n",
       "      <td>[ORL]</td>\n",
       "      <td>[]</td>\n",
       "      <td>Stephen Zimmerman</td>\n",
       "      <td>1627757</td>\n",
       "      <td>1996-09-09</td>\n",
       "      <td>7.0</td>\n",
       "      <td>240</td>\n",
       "      <td>UNLV</td>\n",
       "      <td>Center</td>\n",
       "      <td>33</td>\n",
       "    </tr>\n",
       "    <tr>\n",
       "      <th>4472</th>\n",
       "      <td>98</td>\n",
       "      <td>458</td>\n",
       "      <td>70</td>\n",
       "      <td>256</td>\n",
       "      <td>28</td>\n",
       "      <td>228</td>\n",
       "      <td>82</td>\n",
       "      <td>35</td>\n",
       "      <td>31</td>\n",
       "      <td>83</td>\n",
       "      <td>...</td>\n",
       "      <td>[CHI]</td>\n",
       "      <td>[]</td>\n",
       "      <td>Paul Zipser</td>\n",
       "      <td>1627835</td>\n",
       "      <td>1994-02-18</td>\n",
       "      <td>6.8</td>\n",
       "      <td>226</td>\n",
       "      <td>None</td>\n",
       "      <td>Forward</td>\n",
       "      <td>16</td>\n",
       "    </tr>\n",
       "    <tr>\n",
       "      <th>4473</th>\n",
       "      <td>7</td>\n",
       "      <td>2</td>\n",
       "      <td>0</td>\n",
       "      <td>8</td>\n",
       "      <td>3</td>\n",
       "      <td>5</td>\n",
       "      <td>1</td>\n",
       "      <td>1</td>\n",
       "      <td>3</td>\n",
       "      <td>4</td>\n",
       "      <td>...</td>\n",
       "      <td>[DET]</td>\n",
       "      <td>[]</td>\n",
       "      <td>Jim Zoet</td>\n",
       "      <td>78647</td>\n",
       "      <td>1953-12-30</td>\n",
       "      <td>7.1</td>\n",
       "      <td>240</td>\n",
       "      <td>Kent State</td>\n",
       "      <td>Center</td>\n",
       "      <td>34</td>\n",
       "    </tr>\n",
       "    <tr>\n",
       "      <th>4474</th>\n",
       "      <td>53</td>\n",
       "      <td>118</td>\n",
       "      <td>None</td>\n",
       "      <td>46</td>\n",
       "      <td>None</td>\n",
       "      <td>None</td>\n",
       "      <td>73</td>\n",
       "      <td>None</td>\n",
       "      <td>None</td>\n",
       "      <td>None</td>\n",
       "      <td>...</td>\n",
       "      <td>[MIL]</td>\n",
       "      <td>[]</td>\n",
       "      <td>Bill Zopf</td>\n",
       "      <td>78648</td>\n",
       "      <td>1948-06-07</td>\n",
       "      <td>6.1</td>\n",
       "      <td>170</td>\n",
       "      <td>Duquesne</td>\n",
       "      <td>Guard</td>\n",
       "      <td>6</td>\n",
       "    </tr>\n",
       "    <tr>\n",
       "      <th>4475</th>\n",
       "      <td>56</td>\n",
       "      <td>273</td>\n",
       "      <td>None</td>\n",
       "      <td>None</td>\n",
       "      <td>None</td>\n",
       "      <td>None</td>\n",
       "      <td>50</td>\n",
       "      <td>None</td>\n",
       "      <td>None</td>\n",
       "      <td>None</td>\n",
       "      <td>...</td>\n",
       "      <td>[WAS]</td>\n",
       "      <td>[]</td>\n",
       "      <td>Matt Zunic</td>\n",
       "      <td>78650</td>\n",
       "      <td>1919-12-19</td>\n",
       "      <td>6.3</td>\n",
       "      <td>195</td>\n",
       "      <td>George Washington</td>\n",
       "      <td>Guard</td>\n",
       "      <td>&lt;NA&gt;</td>\n",
       "    </tr>\n",
       "  </tbody>\n",
       "</table>\n",
       "<p>4476 rows × 21 columns</p>\n",
       "</div>"
      ],
      "text/plain": [
       "        GP    PTS  FG3M   REB  OREB  DREB   AST   STL   BLK   TOV  ...  \\\n",
       "0      515   5020     0  3890  1776  2114   593   452   517   737  ...   \n",
       "1      204   2052     4  1529   421  1108   546   166   168   331  ...   \n",
       "2     1000  19552   180  8347  2679  5668  1977   729  1106  1569  ...   \n",
       "3       41    211    40    80     8    72    74    11     7    40  ...   \n",
       "4       68    432    65    89     8    81    68    12     7    56  ...   \n",
       "...    ...    ...   ...   ...   ...   ...   ...   ...   ...   ...  ...   \n",
       "4471    19     23     0    35    11    24     4     2     5     3  ...   \n",
       "4472    98    458    70   256    28   228    82    35    31    83  ...   \n",
       "4473     7      2     0     8     3     5     1     1     3     4  ...   \n",
       "4474    53    118  None    46  None  None    73  None  None  None  ...   \n",
       "4475    56    273  None  None  None  None    50  None  None  None  ...   \n",
       "\n",
       "     TEAMS_PLAYED                                             AWARDS  \\\n",
       "0           [OKC]                                  [All-Rookie Team]   \n",
       "1           [MIA]                           [NBA Player of the Week]   \n",
       "2      [POR, SAS]  [NBA Player of the Week, All-NBA, All-Rookie T...   \n",
       "3           [NOP]                                                 []   \n",
       "4      [UTA, MEM]                                                 []   \n",
       "...           ...                                                ...   \n",
       "4471        [ORL]                                                 []   \n",
       "4472        [CHI]                                                 []   \n",
       "4473        [DET]                                                 []   \n",
       "4474        [MIL]                                                 []   \n",
       "4475        [WAS]                                                 []   \n",
       "\n",
       "            DISPLAY_FIRST_LAST PERSON_ID  BIRTHDATE HEIGHT WEIGHT  \\\n",
       "0                 Steven Adams    203500 1993-07-20   6.11    265   \n",
       "1                  Bam Adebayo   1628389 1997-07-18    6.9    255   \n",
       "2            LaMarcus Aldridge    200746 1985-07-19   6.11    250   \n",
       "3     Nickeil Alexander-Walker   1629638 1998-09-02    6.5    205   \n",
       "4                Grayson Allen   1628960 1995-10-08    6.4    198   \n",
       "...                        ...       ...        ...    ...    ...   \n",
       "4471         Stephen Zimmerman   1627757 1996-09-09    7.0    240   \n",
       "4472               Paul Zipser   1627835 1994-02-18    6.8    226   \n",
       "4473                  Jim Zoet     78647 1953-12-30    7.1    240   \n",
       "4474                 Bill Zopf     78648 1948-06-07    6.1    170   \n",
       "4475                Matt Zunic     78650 1919-12-19    6.3    195   \n",
       "\n",
       "                 SCHOOL        POSITION JERSEY  \n",
       "0            Pittsburgh          Center     12  \n",
       "1              Kentucky  Center-Forward     13  \n",
       "2                 Texas  Center-Forward     12  \n",
       "3         Virginia Tech           Guard      0  \n",
       "4                  Duke           Guard      3  \n",
       "...                 ...             ...    ...  \n",
       "4471               UNLV          Center     33  \n",
       "4472               None         Forward     16  \n",
       "4473         Kent State          Center     34  \n",
       "4474           Duquesne           Guard      6  \n",
       "4475  George Washington           Guard   <NA>  \n",
       "\n",
       "[4476 rows x 21 columns]"
      ]
     },
     "execution_count": 81,
     "metadata": {},
     "output_type": "execute_result"
    }
   ],
   "source": [
    "all_player_df"
   ]
  },
  {
   "cell_type": "code",
   "execution_count": 86,
   "metadata": {},
   "outputs": [
    {
     "name": "stdout",
     "output_type": "stream",
     "text": [
      "1.text_classifier_roberta.ipynb\r\n",
      "1.text_classifier_roberta_NEW.ipynb\r\n",
      "1.text_classifier_roberta_datsaset_resampler.ipynb\r\n",
      "2.uncertainty_swag.ipynb\r\n",
      "\u001b[1m\u001b[36m2017-06-custom-intent-engines\u001b[m\u001b[m\r\n",
      "3.causality_review.ipynb\r\n",
      "4.dpp_diversity_phrases.ipynb\r\n",
      "4.dpp_image.ipynb\r\n",
      "4.nips2019_papers.ipynb\r\n",
      "4.nips2019_papers_simple_altair.ipynb\r\n",
      "4.sample_dpp.ipynb\r\n",
      "5.causal_inference_resumés.ipynb\r\n",
      "5.dowhy_tutorial.ipynb\r\n",
      "5.mediation_analysis.ipynb\r\n",
      "6.gpytorch_uncertainty.ipynb\r\n",
      "6.gpytorch_uncertainty_multiclass_cifar.ipynb\r\n",
      "6.gpytorch_uncertainty_text_classifier.ipynb\r\n",
      "6.pymc3_gp_classification_text.ipynb\r\n",
      "6.pyro_text_classification.ipynb\r\n",
      "7.VOGN_toy_example.ipynb\r\n",
      "7.uncertainty_vogn.ipynb\r\n",
      "7.uncertainty_vogn_initial.ipynb\r\n",
      "8.nba_entity_embeddings.ipynb\r\n",
      "8.propensity_score_initial.ipynb\r\n",
      "all_player_df.pkl\r\n",
      "causal_model.png\r\n",
      "intent_186.csv\r\n",
      "intents_phrases_183.pkl\r\n",
      "intents_phrases_186.pkl\r\n",
      "model_elmo_swag_uncertainty.pth\r\n",
      "nips_2018.pkl\r\n",
      "nips_2018_bert.pkl\r\n",
      "nips_2018_elmo.pkl\r\n",
      "\u001b[1m\u001b[36mtmp\u001b[m\u001b[m\r\n"
     ]
    }
   ],
   "source": [
    "!ls"
   ]
  },
  {
   "cell_type": "code",
   "execution_count": 88,
   "metadata": {},
   "outputs": [],
   "source": [
    "with open(\"all_player_df.pkl\", 'wb') as f:\n",
    "    pickle.dump((all_player_df), f)"
   ]
  },
  {
   "cell_type": "code",
   "execution_count": 90,
   "metadata": {},
   "outputs": [
    {
     "name": "stdout",
     "output_type": "stream",
     "text": [
      "all_player_df.pkl       intents_phrases_186.pkl nips_2018_bert.pkl\r\n",
      "intents_phrases_183.pkl nips_2018.pkl           nips_2018_elmo.pkl\r\n"
     ]
    }
   ],
   "source": [
    "!ls *.pkl"
   ]
  },
  {
   "cell_type": "code",
   "execution_count": 91,
   "metadata": {},
   "outputs": [],
   "source": [
    "import pickle\n",
    "\n",
    "with open(\"all_player_df.pkl\",'rb') as f:\n",
    "    testin = pickle.load(f)"
   ]
  },
  {
   "cell_type": "code",
   "execution_count": 93,
   "metadata": {},
   "outputs": [
    {
     "data": {
      "text/html": [
       "<div>\n",
       "<style scoped>\n",
       "    .dataframe tbody tr th:only-of-type {\n",
       "        vertical-align: middle;\n",
       "    }\n",
       "\n",
       "    .dataframe tbody tr th {\n",
       "        vertical-align: top;\n",
       "    }\n",
       "\n",
       "    .dataframe thead th {\n",
       "        text-align: right;\n",
       "    }\n",
       "</style>\n",
       "<table border=\"1\" class=\"dataframe\">\n",
       "  <thead>\n",
       "    <tr style=\"text-align: right;\">\n",
       "      <th></th>\n",
       "      <th>GP</th>\n",
       "      <th>PTS</th>\n",
       "      <th>FG3M</th>\n",
       "      <th>REB</th>\n",
       "      <th>OREB</th>\n",
       "      <th>DREB</th>\n",
       "      <th>AST</th>\n",
       "      <th>STL</th>\n",
       "      <th>BLK</th>\n",
       "      <th>TOV</th>\n",
       "      <th>...</th>\n",
       "      <th>TEAMS_PLAYED</th>\n",
       "      <th>AWARDS</th>\n",
       "      <th>DISPLAY_FIRST_LAST</th>\n",
       "      <th>PERSON_ID</th>\n",
       "      <th>BIRTHDATE</th>\n",
       "      <th>HEIGHT</th>\n",
       "      <th>WEIGHT</th>\n",
       "      <th>SCHOOL</th>\n",
       "      <th>POSITION</th>\n",
       "      <th>JERSEY</th>\n",
       "    </tr>\n",
       "  </thead>\n",
       "  <tbody>\n",
       "    <tr>\n",
       "      <th>2355</th>\n",
       "      <td>1072</td>\n",
       "      <td>32292</td>\n",
       "      <td>581</td>\n",
       "      <td>6672</td>\n",
       "      <td>1668</td>\n",
       "      <td>5004</td>\n",
       "      <td>5633</td>\n",
       "      <td>2514</td>\n",
       "      <td>893</td>\n",
       "      <td>2924</td>\n",
       "      <td>...</td>\n",
       "      <td>[CHI, WAS]</td>\n",
       "      <td>[NBA Player of the Month, All-NBA, All-Defensi...</td>\n",
       "      <td>Michael Jordan</td>\n",
       "      <td>893</td>\n",
       "      <td>1963-02-17</td>\n",
       "      <td>6.6</td>\n",
       "      <td>216</td>\n",
       "      <td>North Carolina</td>\n",
       "      <td>Guard</td>\n",
       "      <td>23</td>\n",
       "    </tr>\n",
       "  </tbody>\n",
       "</table>\n",
       "<p>1 rows × 21 columns</p>\n",
       "</div>"
      ],
      "text/plain": [
       "        GP    PTS FG3M   REB  OREB  DREB   AST   STL  BLK   TOV  ...  \\\n",
       "2355  1072  32292  581  6672  1668  5004  5633  2514  893  2924  ...   \n",
       "\n",
       "     TEAMS_PLAYED                                             AWARDS  \\\n",
       "2355   [CHI, WAS]  [NBA Player of the Month, All-NBA, All-Defensi...   \n",
       "\n",
       "     DISPLAY_FIRST_LAST PERSON_ID  BIRTHDATE HEIGHT WEIGHT          SCHOOL  \\\n",
       "2355     Michael Jordan       893 1963-02-17    6.6    216  North Carolina   \n",
       "\n",
       "     POSITION JERSEY  \n",
       "2355    Guard     23  \n",
       "\n",
       "[1 rows x 21 columns]"
      ]
     },
     "execution_count": 93,
     "metadata": {},
     "output_type": "execute_result"
    }
   ],
   "source": [
    "testin[testin['DISPLAY_FIRST_LAST']=='Michael Jordan']"
   ]
  },
  {
   "cell_type": "markdown",
   "metadata": {},
   "source": [
    "## Sources\n",
    "1. https://towardsdatascience.com/categorical-embedding-and-transfer-learning-dd3c4af6345d\n",
    "2. https://towardsdatascience.com/link-prediction-with-neo4j-part-2-predicting-co-authors-using-scikit-learn-78b42356b44c  \n",
    "3. https://medium.com/@davidheffernan_99410/an-introduction-to-using-categorical-embeddings-ee686ed7e7f9  \n",
    "4. https://medium.com/@george.drakos62/decoded-entity-embeddings-of-categorical-variables-in-neural-networks-1d2468311635  \n",
    "\n",
    "## Implementations\n",
    "1. https://www.kaggle.com/keremt/pytorch-entity-embeddings\n",
    "2. https://pypi.org/project/entity-embeddings-categorical/\n",
    "\n",
    "## NBA API\n",
    "1. https://pypi.org/project/nba-api/\n",
    "\n",
    "## UMAP\n",
    "1. https://umap-learn.readthedocs.io/"
   ]
  }
 ],
 "metadata": {
  "kernelspec": {
   "display_name": "Python (nlp_new)",
   "language": "python",
   "name": "nlp_new"
  },
  "language_info": {
   "codemirror_mode": {
    "name": "ipython",
    "version": 3
   },
   "file_extension": ".py",
   "mimetype": "text/x-python",
   "name": "python",
   "nbconvert_exporter": "python",
   "pygments_lexer": "ipython3",
   "version": "3.6.3"
  }
 },
 "nbformat": 4,
 "nbformat_minor": 2
}
