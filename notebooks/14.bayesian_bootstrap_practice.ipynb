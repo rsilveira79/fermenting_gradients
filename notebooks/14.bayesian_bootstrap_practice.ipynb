{
 "cells": [
  {
   "cell_type": "code",
   "execution_count": 3,
   "metadata": {},
   "outputs": [],
   "source": [
    "import numpy as np\n",
    "import pandas\n",
    "from sklearn.utils import resample\n",
    "import matplotlib.pyplot as plt\n",
    "from copy import deepcopy\n",
    "from scipy.stats import dirichlet, norm, multinomial, gamma"
   ]
  },
  {
   "cell_type": "code",
   "execution_count": 12,
   "metadata": {},
   "outputs": [
    {
     "data": {
      "text/plain": [
       "((10,), array([10,  2,  2, 16,  4, 19,  6,  2, 17,  1]))"
      ]
     },
     "execution_count": 12,
     "metadata": {},
     "output_type": "execute_result"
    }
   ],
   "source": [
    "low = 0\n",
    "high = 20\n",
    "total_samp = 10\n",
    "vect = np.random.randint(low,high,total_samp)\n",
    "vect, vect.mean()\n",
    "vect.shape, vect"
   ]
  },
  {
   "cell_type": "code",
   "execution_count": 17,
   "metadata": {},
   "outputs": [
    {
     "data": {
      "text/plain": [
       "(array([19, 17, 16, 10,  1,  2,  2,  2, 16,  2]),\n",
       " array([ 2,  2,  6, 10, 10,  6,  4, 19,  2,  1]),\n",
       " array([17, 10,  4,  1, 10,  2,  1,  1, 17, 17]),\n",
       " array([19,  2, 16,  2,  2,  1,  2, 16,  2, 10]))"
      ]
     },
     "execution_count": 17,
     "metadata": {},
     "output_type": "execute_result"
    }
   ],
   "source": [
    "n_samples = 1000\n",
    "samps = [resample(vect, replace=True) for _ in range(n_samples)]\n",
    "s_means = np.array([s.mean() for s in samps])\n",
    "samps[0], samps[1], samps[2], samps[3],"
   ]
  },
  {
   "cell_type": "code",
   "execution_count": 14,
   "metadata": {},
   "outputs": [],
   "source": [
    "num_bins = 80\n",
    "bins = np.linspace(-1, high, num_bins)"
   ]
  },
  {
   "cell_type": "code",
   "execution_count": 15,
   "metadata": {},
   "outputs": [
    {
     "data": {
      "text/plain": [
       "Text(0.5, 1.0, 'Regular Bootstrap')"
      ]
     },
     "execution_count": 15,
     "metadata": {},
     "output_type": "execute_result"
    },
    {
     "data": {
      "image/png": "[encoded data removed]",
      "text/plain": [
       "<Figure size 700x400 with 1 Axes>"
      ]
     },
     "metadata": {
      "needs_background": "light"
     },
     "output_type": "display_data"
    }
   ],
   "source": [
    "plt.figure(figsize=[7,4], dpi=100)\n",
    "plt.hist(s_means, bins, label='regular bootstrap posterior', density=True)\n",
    "plt.plot(vect, [0.005]*vect.shape[0], 'rx', label='data')\n",
    "plt.tight_layout()\n",
    "plt.legend(fontsize=8)\n",
    "plt.xlim(-1, high)\n",
    "plt.yticks([])\n",
    "plt.title('Regular Bootstrap')"
   ]
  },
  {
   "cell_type": "code",
   "execution_count": null,
   "metadata": {},
   "outputs": [],
   "source": [
    "## Using Dirichlet\n",
    "vect"
   ]
  },
  {
   "cell_type": "code",
   "execution_count": null,
   "metadata": {},
   "outputs": [],
   "source": [
    "dirichlet_samples = dirichlet([1] * len(vect)).rvs(100000)\n",
    "dirichlet_samples.shape"
   ]
  },
  {
   "cell_type": "code",
   "execution_count": null,
   "metadata": {},
   "outputs": [],
   "source": [
    "s_means"
   ]
  },
  {
   "cell_type": "code",
   "execution_count": null,
   "metadata": {},
   "outputs": [],
   "source": [
    "(vect*dirichlet_samples).sum(axis=1)"
   ]
  },
  {
   "cell_type": "code",
   "execution_count": null,
   "metadata": {},
   "outputs": [],
   "source": [
    "bayes_boots_samples = (vect * dirichlet_samples).sum(axis=1)\n",
    "bayes_boots_samples.shape"
   ]
  },
  {
   "cell_type": "code",
   "execution_count": null,
   "metadata": {},
   "outputs": [],
   "source": [
    "plt.figure(figsize=[12,8], dpi=300)\n",
    "plt.hist(bayes_boots_samples, bins, label='bayesian bootstrap samples', density=True)\n",
    "plt.hist(s_means, bins, alpha=0.4, label='regular bootstrap posterior', density=True)\n",
    "plt.plot(vect, [0.005]*vect.shape[0], 'rx', label='data')\n",
    "plt.tight_layout()\n",
    "plt.legend(fontsize=8)\n",
    "plt.xlim(-1, high)\n",
    "plt.yticks([])\n",
    "plt.title('Bayes Bootstrap')\n",
    "plt.grid()"
   ]
  },
  {
   "cell_type": "code",
   "execution_count": null,
   "metadata": {},
   "outputs": [],
   "source": [
    "class ExactGaussianInference:\n",
    "    \n",
    "    # initializing with prior paramters\n",
    "    def __init__(self, prior_mu, prior_sigma, likelihood_sigma):\n",
    "        \n",
    "        # storing\n",
    "        self.prior_mu = prior_mu\n",
    "        self.prior_sigma = prior_sigma\n",
    "        self.post_mu = prior_mu\n",
    "        self.post_sigma = prior_sigma\n",
    "        self.likelihood_sigma = likelihood_sigma\n",
    "                \n",
    "    # fitting the posterior for the mean\n",
    "    def get_posterior(self, obs):\n",
    "        \n",
    "        # checking if there is any observation before proceeding\n",
    "        if len(obs) > 0:\n",
    "        \n",
    "            # calculating needed statistics for the observations\n",
    "            obs_mu = np.mean(obs)\n",
    "            obs_sum = np.sum(obs)\n",
    "            obs_n = len(obs)\n",
    "\n",
    "            # updating posterior mean\n",
    "            self.post_mu = (1/(1/self.prior_sigma**2 + obs_n/self.likelihood_sigma**2) *\n",
    "                            (self.prior_mu/self.prior_sigma**2 + obs_sum/self.likelihood_sigma**2))\n",
    "\n",
    "            # updating posterior sigma\n",
    "            self.post_sigma = (1/self.prior_sigma**2 + obs_n/self.likelihood_sigma**2)**(-1)\n",
    "            \n",
    "        # return posterior\n",
    "        return norm(self.post_mu, np.sqrt(self.post_sigma))"
   ]
  },
  {
   "cell_type": "code",
   "execution_count": null,
   "metadata": {},
   "outputs": [],
   "source": [
    "class BootstrapPosteriorInference:\n",
    "    \n",
    "    # initializing with prior paramters\n",
    "    def __init__(self, n_draws):\n",
    "        \n",
    "        # storing\n",
    "        self.n_draws = n_draws\n",
    "                \n",
    "    # fitting the posterior for the mean\n",
    "    def get_posterior(self, obs):\n",
    "        # checking if there is any observation before proceeding\n",
    "        if len(obs) > 0:\n",
    "\n",
    "            # running bootstrap samples\n",
    "            boots_samples = np.array([resample(obs) for _ in range(self.n_draws)])\n",
    "            posterior_draws = boots_samples.mean(axis=1)\n",
    "\n",
    "            # return posterior density via samples\n",
    "            return posterior_draws\n",
    "\n",
    "        else:\n",
    "            print('Cannot run with no observations!')\n",
    "            raise"
   ]
  },
  {
   "cell_type": "code",
   "execution_count": null,
   "metadata": {},
   "outputs": [],
   "source": [
    "class BayesianBootstrapPosteriorInference:\n",
    "    \n",
    "    # initializing with prior paramters\n",
    "    def __init__(self, n_draws):\n",
    "        \n",
    "        # storing\n",
    "        self.n_draws = n_draws\n",
    "                \n",
    "    # fitting the posterior for the mean\n",
    "    def get_posterior(self, obs):\n",
    "        \n",
    "        # checking if there is any observation before proceeding\n",
    "        if len(obs) > 0:\n",
    "\n",
    "            # running bootstrap samples\n",
    "            dir_samples = dirichlet([1] * len(obs)).rvs(self.n_draws)\n",
    "            posterior_draws = (dir_samples * obs).sum(axis=1)\n",
    "\n",
    "            # return posterior density via samples\n",
    "            return posterior_draws\n",
    "\n",
    "        else:\n",
    "            print('Cannot run with no observations!')\n",
    "            raise"
   ]
  },
  {
   "cell_type": "code",
   "execution_count": null,
   "metadata": {},
   "outputs": [],
   "source": [
    "np.random.seed(100)\n",
    "sample_9 = np.random.normal(2, 1, size=9)\n",
    "sample_7 = deepcopy(sample_9[:7])\n",
    "sample_5 = deepcopy(sample_9[:5])\n",
    "sample_3 = deepcopy(sample_9[:3])\n",
    "\n",
    "sample_list = [sample_3, sample_5, sample_7, sample_9]"
   ]
  },
  {
   "cell_type": "code",
   "execution_count": null,
   "metadata": {},
   "outputs": [],
   "source": [
    "sample_9"
   ]
  },
  {
   "cell_type": "code",
   "execution_count": null,
   "metadata": {},
   "outputs": [],
   "source": [
    "sample_7"
   ]
  },
  {
   "cell_type": "code",
   "execution_count": null,
   "metadata": {},
   "outputs": [],
   "source": [
    "sample_5"
   ]
  },
  {
   "cell_type": "code",
   "execution_count": null,
   "metadata": {},
   "outputs": [],
   "source": [
    "sample_3"
   ]
  },
  {
   "cell_type": "code",
   "execution_count": null,
   "metadata": {},
   "outputs": [],
   "source": [
    "sample_list"
   ]
  },
  {
   "cell_type": "code",
   "execution_count": null,
   "metadata": {},
   "outputs": [],
   "source": [
    "egi = ExactGaussianInference(0, 100, 1)\n",
    "\n",
    "# calculating posteriors\n",
    "exact_post_list = []\n",
    "for sample in sample_list:\n",
    "    exact_post_list.append(egi.get_posterior(sample))"
   ]
  },
  {
   "cell_type": "code",
   "execution_count": null,
   "metadata": {},
   "outputs": [],
   "source": [
    "# configuring bootstrap posterior\n",
    "bpi = BootstrapPosteriorInference(10000)\n",
    "\n",
    "# calculating posteriors\n",
    "boots_post_list = []\n",
    "for sample in sample_list:\n",
    "    boots_post_list.append(bpi.get_posterior(sample))"
   ]
  },
  {
   "cell_type": "code",
   "execution_count": null,
   "metadata": {},
   "outputs": [],
   "source": [
    "boots_post_list[0]"
   ]
  },
  {
   "cell_type": "code",
   "execution_count": null,
   "metadata": {},
   "outputs": [],
   "source": [
    "def plot_fig_1():\n",
    "\n",
    "    for i in range(4):\n",
    "\n",
    "        post = exact_post_list[i]\n",
    "        sample = sample_list[i]\n",
    "\n",
    "        plt.subplot(2, 4, i+1)\n",
    "        plt.fill_between(x_grid, post.pdf(x_grid), alpha=0.5, label='exact\\nposterior')\n",
    "        plt.plot(sample, [0]*sample.shape[0], 'rx', label='data')\n",
    "        plt.tight_layout()\n",
    "        plt.legend(fontsize=8)\n",
    "        plt.xlim(-1, 5)\n",
    "        plt.ylim(bottom=-0.05*post.pdf(x_grid).max())\n",
    "        plt.yticks([])\n",
    "        plt.title(f'Exact, N = {sample.shape[0]}')\n",
    "\n",
    "    for i in range(4):\n",
    "\n",
    "        post = boots_post_list[i]\n",
    "        sample = sample_list[i]\n",
    "\n",
    "        plt.subplot(2, 4, i+5)\n",
    "        h = plt.hist(post, alpha=0.5, bins = np.linspace(-1, 5, 80), label='bootstrap\\nposterior', density=True)\n",
    "        plt.plot(sample, [0]*sample.shape[0], 'rx', label='data')\n",
    "        plt.tight_layout()\n",
    "        plt.legend(fontsize=8)\n",
    "        plt.xlim(-1, 5)\n",
    "        plt.ylim(bottom=-0.05*h[0].max())\n",
    "        plt.yticks([])\n",
    "        plt.title(f'Classic Bootstrap, N = {sample.shape[0]}')"
   ]
  },
  {
   "cell_type": "code",
   "execution_count": null,
   "metadata": {},
   "outputs": [],
   "source": [
    "# grid for plotting pdf\n",
    "x_grid = np.linspace(-1, 5, 200)\n",
    "\n",
    "# opening figure\n",
    "plt.figure(figsize=[14,6], dpi=100)\n",
    "\n",
    "# plotting\n",
    "plot_fig_1()"
   ]
  },
  {
   "cell_type": "code",
   "execution_count": null,
   "metadata": {},
   "outputs": [],
   "source": []
  }
 ],
 "metadata": {
  "kernelspec": {
   "display_name": "bayesian",
   "language": "python",
   "name": "bayesian"
  },
  "language_info": {
   "codemirror_mode": {
    "name": "ipython",
    "version": 3
   },
   "file_extension": ".py",
   "mimetype": "text/x-python",
   "name": "python",
   "nbconvert_exporter": "python",
   "pygments_lexer": "ipython3",
   "version": "3.7.7"
  }
 },
 "nbformat": 4,
 "nbformat_minor": 2
}
