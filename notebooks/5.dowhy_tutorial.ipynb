{
 "cells": [
  {
   "cell_type": "code",
   "execution_count": 1,
   "metadata": {},
   "outputs": [],
   "source": [
    "import pandas as pd\n",
    "import seaborn as sns\n",
    "import numpy as np"
   ]
  },
  {
   "cell_type": "code",
   "execution_count": 2,
   "metadata": {},
   "outputs": [],
   "source": [
    "import dowhy"
   ]
  },
  {
   "cell_type": "code",
   "execution_count": 3,
   "metadata": {},
   "outputs": [],
   "source": [
    "from dowhy.do_why import CausalModel\n",
    "import dowhy.datasets"
   ]
  },
  {
   "cell_type": "code",
   "execution_count": 4,
   "metadata": {},
   "outputs": [],
   "source": [
    "data = dowhy.datasets.linear_dataset(\n",
    "    beta=10,\n",
    "    num_common_causes=3,\n",
    "    num_instruments=2,\n",
    "    num_samples=10000,\n",
    "    treatment_is_binary=True)"
   ]
  },
  {
   "cell_type": "code",
   "execution_count": 5,
   "metadata": {},
   "outputs": [
    {
     "data": {
      "text/plain": [
       "dict_keys(['df', 'treatment_name', 'outcome_name', 'common_causes_names', 'instrument_names', 'dot_graph', 'gml_graph', 'ate'])"
      ]
     },
     "execution_count": 5,
     "metadata": {},
     "output_type": "execute_result"
    }
   ],
   "source": [
    "data.keys()"
   ]
  },
  {
   "cell_type": "code",
   "execution_count": 6,
   "metadata": {},
   "outputs": [
    {
     "data": {
      "text/plain": [
       "'v'"
      ]
     },
     "execution_count": 6,
     "metadata": {},
     "output_type": "execute_result"
    }
   ],
   "source": [
    "data['treatment_name']"
   ]
  },
  {
   "cell_type": "code",
   "execution_count": 7,
   "metadata": {},
   "outputs": [
    {
     "data": {
      "text/plain": [
       "'y'"
      ]
     },
     "execution_count": 7,
     "metadata": {},
     "output_type": "execute_result"
    }
   ],
   "source": [
    "data['outcome_name']"
   ]
  },
  {
   "cell_type": "code",
   "execution_count": 8,
   "metadata": {},
   "outputs": [
    {
     "data": {
      "text/plain": [
       "['X0', 'X1', 'X2']"
      ]
     },
     "execution_count": 8,
     "metadata": {},
     "output_type": "execute_result"
    }
   ],
   "source": [
    "data['common_causes_names']"
   ]
  },
  {
   "cell_type": "code",
   "execution_count": 9,
   "metadata": {},
   "outputs": [
    {
     "data": {
      "text/html": [
       "<div>\n",
       "<style scoped>\n",
       "    .dataframe tbody tr th:only-of-type {\n",
       "        vertical-align: middle;\n",
       "    }\n",
       "\n",
       "    .dataframe tbody tr th {\n",
       "        vertical-align: top;\n",
       "    }\n",
       "\n",
       "    .dataframe thead th {\n",
       "        text-align: right;\n",
       "    }\n",
       "</style>\n",
       "<table border=\"1\" class=\"dataframe\">\n",
       "  <thead>\n",
       "    <tr style=\"text-align: right;\">\n",
       "      <th></th>\n",
       "      <th>Z0</th>\n",
       "      <th>Z1</th>\n",
       "      <th>X0</th>\n",
       "      <th>X1</th>\n",
       "      <th>X2</th>\n",
       "      <th>v</th>\n",
       "      <th>y</th>\n",
       "    </tr>\n",
       "  </thead>\n",
       "  <tbody>\n",
       "    <tr>\n",
       "      <th>0</th>\n",
       "      <td>0.0</td>\n",
       "      <td>0.646023</td>\n",
       "      <td>2.477340</td>\n",
       "      <td>-0.591143</td>\n",
       "      <td>-1.358920</td>\n",
       "      <td>1.0</td>\n",
       "      <td>16.478453</td>\n",
       "    </tr>\n",
       "    <tr>\n",
       "      <th>1</th>\n",
       "      <td>0.0</td>\n",
       "      <td>0.289819</td>\n",
       "      <td>0.351553</td>\n",
       "      <td>-2.542156</td>\n",
       "      <td>-0.976012</td>\n",
       "      <td>0.0</td>\n",
       "      <td>-8.447710</td>\n",
       "    </tr>\n",
       "    <tr>\n",
       "      <th>2</th>\n",
       "      <td>0.0</td>\n",
       "      <td>0.557476</td>\n",
       "      <td>1.157060</td>\n",
       "      <td>-0.214114</td>\n",
       "      <td>-1.121894</td>\n",
       "      <td>1.0</td>\n",
       "      <td>12.617602</td>\n",
       "    </tr>\n",
       "    <tr>\n",
       "      <th>3</th>\n",
       "      <td>0.0</td>\n",
       "      <td>0.726191</td>\n",
       "      <td>-0.064254</td>\n",
       "      <td>1.870559</td>\n",
       "      <td>-0.614645</td>\n",
       "      <td>0.0</td>\n",
       "      <td>5.323792</td>\n",
       "    </tr>\n",
       "    <tr>\n",
       "      <th>4</th>\n",
       "      <td>0.0</td>\n",
       "      <td>0.114757</td>\n",
       "      <td>0.461602</td>\n",
       "      <td>-0.031149</td>\n",
       "      <td>-0.474104</td>\n",
       "      <td>0.0</td>\n",
       "      <td>1.195367</td>\n",
       "    </tr>\n",
       "  </tbody>\n",
       "</table>\n",
       "</div>"
      ],
      "text/plain": [
       "    Z0        Z1        X0        X1        X2    v          y\n",
       "0  0.0  0.646023  2.477340 -0.591143 -1.358920  1.0  16.478453\n",
       "1  0.0  0.289819  0.351553 -2.542156 -0.976012  0.0  -8.447710\n",
       "2  0.0  0.557476  1.157060 -0.214114 -1.121894  1.0  12.617602\n",
       "3  0.0  0.726191 -0.064254  1.870559 -0.614645  0.0   5.323792\n",
       "4  0.0  0.114757  0.461602 -0.031149 -0.474104  0.0   1.195367"
      ]
     },
     "execution_count": 9,
     "metadata": {},
     "output_type": "execute_result"
    }
   ],
   "source": [
    "data['df'].head()"
   ]
  },
  {
   "cell_type": "code",
   "execution_count": 10,
   "metadata": {},
   "outputs": [
    {
     "data": {
      "text/plain": [
       "'v'"
      ]
     },
     "execution_count": 10,
     "metadata": {},
     "output_type": "execute_result"
    }
   ],
   "source": [
    "data[\"treatment_name\"]"
   ]
  },
  {
   "cell_type": "code",
   "execution_count": null,
   "metadata": {},
   "outputs": [],
   "source": [
    "data[\"outcome_name\"]"
   ]
  },
  {
   "cell_type": "code",
   "execution_count": null,
   "metadata": {},
   "outputs": [],
   "source": [
    "model = CausalModel(\n",
    "    data=data[\"df\"],\n",
    "    treatment=data[\"treatment_name\"],\n",
    "    outcome=data[\"outcome_name\"],\n",
    "    graph=data[\"gml_graph\"])"
   ]
  },
  {
   "cell_type": "code",
   "execution_count": null,
   "metadata": {},
   "outputs": [],
   "source": [
    "identified_estimand = model.identify_effect()"
   ]
  },
  {
   "cell_type": "code",
   "execution_count": null,
   "metadata": {},
   "outputs": [],
   "source": [
    "estimate = model.estimate_effect(identified_estimand,\n",
    "                                 method_name=\"backdoor.propensity_score_matching\")"
   ]
  },
  {
   "cell_type": "code",
   "execution_count": null,
   "metadata": {},
   "outputs": [],
   "source": [
    "estimate.params.keys()"
   ]
  },
  {
   "cell_type": "code",
   "execution_count": null,
   "metadata": {},
   "outputs": [],
   "source": [
    "estimate.params['estimand_type']"
   ]
  },
  {
   "cell_type": "code",
   "execution_count": null,
   "metadata": {},
   "outputs": [],
   "source": [
    "estimate.params['estimator_class']"
   ]
  },
  {
   "cell_type": "code",
   "execution_count": null,
   "metadata": {},
   "outputs": [],
   "source": []
  },
  {
   "cell_type": "code",
   "execution_count": null,
   "metadata": {},
   "outputs": [],
   "source": []
  },
  {
   "cell_type": "code",
   "execution_count": null,
   "metadata": {},
   "outputs": [],
   "source": [
    "# Refute the obtained estimate using multiple robustness checks.\n",
    "refute_results = model.refute_estimate(identified_estimand, estimate,\n",
    "                                       method_name=\"random_common_cause\")"
   ]
  },
  {
   "cell_type": "code",
   "execution_count": null,
   "metadata": {},
   "outputs": [],
   "source": [
    "model.view_model()"
   ]
  },
  {
   "cell_type": "markdown",
   "metadata": {},
   "source": [
    "## Load Datasets"
   ]
  },
  {
   "cell_type": "code",
   "execution_count": null,
   "metadata": {},
   "outputs": [],
   "source": [
    "!ls -lah ../../../datasets/doleta"
   ]
  },
  {
   "cell_type": "code",
   "execution_count": 16,
   "metadata": {},
   "outputs": [],
   "source": [
    "dataset_path = '../../../datasets/doleta/'"
   ]
  },
  {
   "cell_type": "code",
   "execution_count": 19,
   "metadata": {},
   "outputs": [],
   "source": [
    "dict_cols = { \"EMPLOYER_NAME\": \"I\",\n",
    "                  \"EMPLOYER_ADDRESS_1\": \"J\",\n",
    "                  \"EMPLOYER_CITY\" : \"L\",\n",
    "                  \"EMPLOYER_STATE\": \"M\",\n",
    "                  \"EMPLOYER_NUM_EMPLOYEES\": \"R\",\n",
    "                  \"EMPLOYER_YR_ESTAB\" : \"S\",\n",
    "                  \"PW_SOC_CODE\":  \"Y\",\n",
    "                  \"PW_SOC_TITLE\": \"Z\",\n",
    "                  \"PW_LEVEL_9089\": \"AA\",\n",
    "                  \"PW_AMOUNT_9089\": \"AB\",\n",
    "                  \"PW_UNIT_OF_PAY_9089\": \"AC\",\n",
    "                  \"WAGE_OFFER_FROM_9089\": \"AH\",\n",
    "                  \"WAGE_OFFER_TO_9089\": \"AI\",\n",
    "                  \"JOB_INFO_WORK_CITY\": \"AK\",\n",
    "                  \"JOB_INFO_WORK_STATE\": \"AL\",\n",
    "                  \"JOB_INFO_JOB_TITLE\": \"AN\",\n",
    "                  \"JOB_INFO_EDUCATION\": \"AO\",\n",
    "                  \"JOB_INFO_MAJOR\": \"AQ\",\n",
    "                  \"COUNTRY_OF_CITIZENSHIP\": \"DD\",\n",
    "                  \"FOREIGN_WORKER_INFO_EDUCATION\": \"DG\",\n",
    "                  \"FOREIGN_WORKER_INFO_MAJOR\": \"DI\",\n",
    "                  \"FW_INFO_YR_REL_EDU_COMPLETED\": \"DJ\",\n",
    "                  \"EMPLOYER_DECL_INFO_TITLE\": \"DR\",\n",
    "                  \"NAICS_US_CODE\": \"DS\",\n",
    "                  \"PW_JOB_TITLE_9089\": \"DU\"\n",
    "            }"
   ]
  },
  {
   "cell_type": "code",
   "execution_count": 22,
   "metadata": {},
   "outputs": [
    {
     "data": {
      "text/plain": [
       "['EMPLOYER_NAME',\n",
       " 'EMPLOYER_ADDRESS_1',\n",
       " 'EMPLOYER_CITY',\n",
       " 'EMPLOYER_STATE',\n",
       " 'EMPLOYER_NUM_EMPLOYEES',\n",
       " 'EMPLOYER_YR_ESTAB',\n",
       " 'PW_SOC_CODE',\n",
       " 'PW_SOC_TITLE',\n",
       " 'PW_LEVEL_9089',\n",
       " 'PW_AMOUNT_9089',\n",
       " 'PW_UNIT_OF_PAY_9089',\n",
       " 'WAGE_OFFER_FROM_9089',\n",
       " 'WAGE_OFFER_TO_9089',\n",
       " 'JOB_INFO_WORK_CITY',\n",
       " 'JOB_INFO_WORK_STATE',\n",
       " 'JOB_INFO_JOB_TITLE',\n",
       " 'JOB_INFO_EDUCATION',\n",
       " 'JOB_INFO_MAJOR',\n",
       " 'COUNTRY_OF_CITIZENSHIP',\n",
       " 'FOREIGN_WORKER_INFO_EDUCATION',\n",
       " 'FOREIGN_WORKER_INFO_MAJOR',\n",
       " 'FW_INFO_YR_REL_EDU_COMPLETED',\n",
       " 'EMPLOYER_DECL_INFO_TITLE',\n",
       " 'NAICS_US_CODE',\n",
       " 'PW_JOB_TITLE_9089']"
      ]
     },
     "execution_count": 22,
     "metadata": {},
     "output_type": "execute_result"
    }
   ],
   "source": [
    "selected_cols = list(dict_cols.keys())\n",
    "selected_cols"
   ]
  },
  {
   "cell_type": "code",
   "execution_count": 29,
   "metadata": {},
   "outputs": [],
   "source": [
    "perm_2019 = perm_2019 = pd.read_excel(dataset_path+ 'PERM_Disclosure_Data_FY2019.xlsx')"
   ]
  },
  {
   "cell_type": "code",
   "execution_count": 60,
   "metadata": {},
   "outputs": [],
   "source": [
    "x = 50"
   ]
  },
  {
   "cell_type": "code",
   "execution_count": 66,
   "metadata": {},
   "outputs": [
    {
     "name": "stdout",
     "output_type": "stream",
     "text": [
      "124000.0\n",
      "ASIC Engineer\n",
      "6400\n",
      "NVIDIA CORPORATION\n",
      "SANTA CLARA\n",
      "Santa Clara\n",
      "CALIFORNIA\n",
      "Electronics Engineers, Except Computer\n",
      "2016\n",
      "Master's\n",
      "------------------------------\n",
      "91000.0\n",
      "Business Analyst\n",
      "135\n",
      "INTONE NETWORKS INC\n",
      "ISELIN\n",
      "Iselin\n",
      "NEW JERSEY\n",
      "Computer Systems Analysts\n",
      "2008\n",
      "Master's\n",
      "------------------------------\n",
      "130000.0\n",
      "Architect\n",
      "6400\n",
      "NVIDIA CORPORATION\n",
      "SANTA CLARA\n",
      "Santa Clara\n",
      "CALIFORNIA\n",
      "Electronics Engineers, Except Computer\n",
      "2015\n",
      "Master's\n",
      "------------------------------\n",
      "70325.0\n",
      "FINANCIAL ANALYST\n",
      "5\n",
      "ESSCALA TRADING, LLC\n",
      "BUDD LAKE\n",
      "BUDD LAKE\n",
      "NEW JERSEY\n",
      "ACCOUNTANTS AND AUDITORS\n",
      "2006\n",
      "Bachelor's\n",
      "------------------------------\n",
      "237500.0\n",
      "Manager, Senior Hardware Engineer\n",
      "6400\n",
      "NVIDIA CORPORATION\n",
      "SANTA CLARA\n",
      "Santa Clara\n",
      "CALIFORNIA\n",
      "Architectural and Engineering Managers\n",
      "2009\n",
      "Master's\n",
      "------------------------------\n",
      "38298.0\n",
      "Resource Specialist\n",
      "4000\n",
      "LODI UNIFIED SCHOOL DISTRICT\n",
      "LODI\n",
      "Lodi\n",
      "CALIFORNIA\n",
      "Special Education Teachers, Secondary School\n",
      "1990\n",
      "Bachelor's\n",
      "------------------------------\n",
      "155000.0\n",
      "Sr. Mechanical Engineer (Sr. Thermal Engineer)\n",
      "6400\n",
      "NVIDIA CORPORATION\n",
      "SANTA CLARA\n",
      "Santa Clara\n",
      "CALIFORNIA\n",
      "Materials Engineers\n",
      "2014\n",
      "Master's\n",
      "------------------------------\n",
      "192500.0\n",
      "Senior Systems Software Engineer\n",
      "6400\n",
      "NVIDIA CORPORATION\n",
      "SANTA CLARA\n",
      "Santa Clara\n",
      "CALIFORNIA\n",
      "Software Developers, Systems Software\n",
      "2012\n",
      "Master's\n",
      "------------------------------\n",
      "174400.0\n",
      "Senior Corporate Marketing Manager\n",
      "6400\n",
      "NVIDIA CORPORATION\n",
      "SANTA CLARA\n",
      "Santa Clara\n",
      "CALIFORNIA\n",
      "Marketing Managers\n",
      "2007\n",
      "Bachelor's\n",
      "------------------------------\n",
      "35464.0\n",
      "Baker\n",
      "39\n",
      "SLR HOLDINGS, INC. DBA BREADS UNLIMITED\n",
      "BETHESDA\n",
      "Bethesda\n",
      "MARYLAND\n",
      "Baker\n",
      "1981\n",
      "High School\n",
      "------------------------------\n"
     ]
    }
   ],
   "source": [
    "for i in range(x,x+10):\n",
    "    print(float(perm_2019['WAGE_OFFER_FROM_9089'].loc[i].replace(\",\",\"\")))\n",
    "    print(perm_2019['JOB_INFO_JOB_TITLE'].loc[i])\n",
    "    print(int(perm_2019['EMPLOYER_NUM_EMPLOYEES'].loc[i]))\n",
    "    print(perm_2019['EMPLOYER_NAME'].loc[i])\n",
    "    print(perm_2019['EMPLOYER_CITY'].loc[i])\n",
    "    print(perm_2019['JOB_INFO_WORK_CITY'].loc[i])\n",
    "    print(perm_2019['JOB_INFO_WORK_STATE'].loc[i])\n",
    "    print(perm_2019['PW_JOB_TITLE_9089'].loc[i])\n",
    "    print(int(perm_2019['FW_INFO_YR_REL_EDU_COMPLETED'].loc[i]))\n",
    "    print(perm_2019['FOREIGN_WORKER_INFO_EDUCATION'].loc[i])\n",
    "    print(\"---\"*10)"
   ]
  },
  {
   "cell_type": "code",
   "execution_count": 70,
   "metadata": {},
   "outputs": [],
   "source": [
    "dataframe = perm_2019['WAGE_OFFER_FROM_9089']"
   ]
  },
  {
   "cell_type": "code",
   "execution_count": 71,
   "metadata": {},
   "outputs": [
    {
     "data": {
      "text/plain": [
       "0         32,053.00\n",
       "1         77,459.00\n",
       "2         41,746.00\n",
       "3         15,579.00\n",
       "4             15.33\n",
       "5             12.83\n",
       "6         47,154.00\n",
       "7         83,100.00\n",
       "8         42,245.00\n",
       "9         42,245.00\n",
       "10        43,437.00\n",
       "11       109,100.00\n",
       "12        69,805.00\n",
       "13        94,890.00\n",
       "14            35.00\n",
       "15            34.00\n",
       "16        98,556.88\n",
       "17        72,000.00\n",
       "18            35.00\n",
       "19        91,500.00\n",
       "20        38,460.00\n",
       "21            19.00\n",
       "22        85,600.00\n",
       "23        70,000.00\n",
       "24        74,900.00\n",
       "25        89,150.00\n",
       "26       107,000.00\n",
       "27        91,478.40\n",
       "28        75,649.60\n",
       "29       100,713.60\n",
       "            ...    \n",
       "77845    157,706.00\n",
       "77846     30,217.00\n",
       "77847    101,150.00\n",
       "77848    101,005.00\n",
       "77849         40.00\n",
       "77850     99,382.00\n",
       "77851         12.25\n",
       "77852     28,080.00\n",
       "77853     21,840.00\n",
       "77854         12.25\n",
       "77855     40,227.00\n",
       "77856     66,500.00\n",
       "77857     55,000.00\n",
       "77858     80,000.00\n",
       "77859     29,433.00\n",
       "77860     20,218.00\n",
       "77861     99,000.00\n",
       "77862     37,170.00\n",
       "77863     37,648.00\n",
       "77864    208,000.00\n",
       "77865    102,000.00\n",
       "77866     21,840.00\n",
       "77867     55,702.00\n",
       "77868     25,480.00\n",
       "77869     55,000.00\n",
       "77870     21,840.00\n",
       "77871     21,840.00\n",
       "77872         12.25\n",
       "77873     78,166.00\n",
       "77874    120,182.00\n",
       "Name: WAGE_OFFER_FROM_9089, Length: 77875, dtype: object"
      ]
     },
     "execution_count": 71,
     "metadata": {},
     "output_type": "execute_result"
    }
   ],
   "source": [
    "dataframe"
   ]
  },
  {
   "cell_type": "code",
   "execution_count": null,
   "metadata": {},
   "outputs": [],
   "source": []
  }
 ],
 "metadata": {
  "kernelspec": {
   "display_name": "Bayesian",
   "language": "python",
   "name": "bayesian"
  },
  "language_info": {
   "codemirror_mode": {
    "name": "ipython",
    "version": 3
   },
   "file_extension": ".py",
   "mimetype": "text/x-python",
   "name": "python",
   "nbconvert_exporter": "python",
   "pygments_lexer": "ipython3",
   "version": "3.6.5"
  }
 },
 "nbformat": 4,
 "nbformat_minor": 2
}
