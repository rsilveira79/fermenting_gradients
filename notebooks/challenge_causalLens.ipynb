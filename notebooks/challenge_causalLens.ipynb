{
 "cells": [
  {
   "cell_type": "markdown",
   "metadata": {},
   "source": [
    "## Challenge causalLens\n",
    "- **Name**: Roberto Silveira\n",
    "- **Email**: rsilveira79@gmail.com"
   ]
  },
  {
   "cell_type": "code",
   "execution_count": 137,
   "metadata": {},
   "outputs": [],
   "source": [
    "## General Imports\n",
    "import numpy as np\n",
    "import pandas as pd\n",
    "from pandas.plotting import autocorrelation_plot\n",
    "from sklearn.preprocessing import MinMaxScaler\n",
    "from dateutil.parser import parse \n",
    "from statsmodels.tsa.seasonal import seasonal_decompose\n",
    "\n",
    "## Plot libs\n",
    "import matplotlib as mpl\n",
    "import matplotlib.pyplot as plt\n",
    "import seaborn as sns\n",
    "from datetime import datetime\n",
    "\n",
    "## PyTorch Imports\n",
    "import torch\n",
    "import torch.nn as nn"
   ]
  },
  {
   "cell_type": "markdown",
   "metadata": {},
   "source": [
    "## Atributes (ref: https://archive.ics.uci.edu/ml/datasets/Air+quality)\n",
    "\n",
    "0 Date (DD/MM/YYYY)  \n",
    "1 Time (HH.MM.SS)  \n",
    "2 True hourly averaged concentration CO in mg/m^3 (reference analyzer)  \n",
    "3 PT08.S1 (tin oxide) hourly averaged sensor response (nominally CO targeted)  \n",
    "4 True hourly averaged overall Non Metanic HydroCarbons concentration in microg/m^3 (reference analyzer)  \n",
    "5 True hourly averaged Benzene concentration in microg/m^3 (reference analyzer)  \n",
    "6 PT08.S2 (titania) hourly averaged sensor response (nominally NMHC targeted)  \n",
    "7 True hourly averaged NOx concentration in ppb (reference analyzer)  \n",
    "8 PT08.S3 (tungsten oxide) hourly averaged sensor response (nominally NOx targeted)  \n",
    "9 True hourly averaged NO2 concentration in microg/m^3 (reference analyzer)  \n",
    "10 PT08.S4 (tungsten oxide) hourly averaged sensor response (nominally NO2 targeted)  \n",
    "11 PT08.S5 (indium oxide) hourly averaged sensor response (nominally O3 targeted)  \n",
    "12 Temperature in Â°C  \n",
    "13 Relative Humidity (%)  \n",
    "14 AH Absolute Humidity  "
   ]
  },
  {
   "cell_type": "code",
   "execution_count": 138,
   "metadata": {},
   "outputs": [
    {
     "name": "stdout",
     "output_type": "stream",
     "text": [
      "AirQualityUCI.csv  AirQualityUCI.xlsx\r\n"
     ]
    }
   ],
   "source": [
    "!ls AirQualityUCI/"
   ]
  },
  {
   "cell_type": "code",
   "execution_count": 139,
   "metadata": {},
   "outputs": [
    {
     "data": {
      "text/html": [
       "<div>\n",
       "<style scoped>\n",
       "    .dataframe tbody tr th:only-of-type {\n",
       "        vertical-align: middle;\n",
       "    }\n",
       "\n",
       "    .dataframe tbody tr th {\n",
       "        vertical-align: top;\n",
       "    }\n",
       "\n",
       "    .dataframe thead th {\n",
       "        text-align: right;\n",
       "    }\n",
       "</style>\n",
       "<table border=\"1\" class=\"dataframe\">\n",
       "  <thead>\n",
       "    <tr style=\"text-align: right;\">\n",
       "      <th></th>\n",
       "      <th>Time</th>\n",
       "      <th>CO(GT)</th>\n",
       "      <th>PT08.S1(CO)</th>\n",
       "      <th>NMHC(GT)</th>\n",
       "      <th>C6H6(GT)</th>\n",
       "      <th>PT08.S2(NMHC)</th>\n",
       "      <th>NOx(GT)</th>\n",
       "      <th>PT08.S3(NOx)</th>\n",
       "      <th>NO2(GT)</th>\n",
       "      <th>PT08.S4(NO2)</th>\n",
       "      <th>PT08.S5(O3)</th>\n",
       "      <th>T</th>\n",
       "      <th>RH</th>\n",
       "      <th>AH</th>\n",
       "      <th>Unnamed: 15</th>\n",
       "      <th>Unnamed: 16</th>\n",
       "    </tr>\n",
       "    <tr>\n",
       "      <th>Date</th>\n",
       "      <th></th>\n",
       "      <th></th>\n",
       "      <th></th>\n",
       "      <th></th>\n",
       "      <th></th>\n",
       "      <th></th>\n",
       "      <th></th>\n",
       "      <th></th>\n",
       "      <th></th>\n",
       "      <th></th>\n",
       "      <th></th>\n",
       "      <th></th>\n",
       "      <th></th>\n",
       "      <th></th>\n",
       "      <th></th>\n",
       "      <th></th>\n",
       "    </tr>\n",
       "  </thead>\n",
       "  <tbody>\n",
       "    <tr>\n",
       "      <th>2004-10-03</th>\n",
       "      <td>18.00.00</td>\n",
       "      <td>2,6</td>\n",
       "      <td>1360.0</td>\n",
       "      <td>150.0</td>\n",
       "      <td>11,9</td>\n",
       "      <td>1046.0</td>\n",
       "      <td>166.0</td>\n",
       "      <td>1056.0</td>\n",
       "      <td>113.0</td>\n",
       "      <td>1692.0</td>\n",
       "      <td>1268.0</td>\n",
       "      <td>13,6</td>\n",
       "      <td>48,9</td>\n",
       "      <td>0,7578</td>\n",
       "      <td>0.0</td>\n",
       "      <td>0.0</td>\n",
       "    </tr>\n",
       "    <tr>\n",
       "      <th>2004-10-03</th>\n",
       "      <td>19.00.00</td>\n",
       "      <td>2</td>\n",
       "      <td>1292.0</td>\n",
       "      <td>112.0</td>\n",
       "      <td>9,4</td>\n",
       "      <td>955.0</td>\n",
       "      <td>103.0</td>\n",
       "      <td>1174.0</td>\n",
       "      <td>92.0</td>\n",
       "      <td>1559.0</td>\n",
       "      <td>972.0</td>\n",
       "      <td>13,3</td>\n",
       "      <td>47,7</td>\n",
       "      <td>0,7255</td>\n",
       "      <td>0.0</td>\n",
       "      <td>0.0</td>\n",
       "    </tr>\n",
       "    <tr>\n",
       "      <th>2004-10-03</th>\n",
       "      <td>20.00.00</td>\n",
       "      <td>2,2</td>\n",
       "      <td>1402.0</td>\n",
       "      <td>88.0</td>\n",
       "      <td>9,0</td>\n",
       "      <td>939.0</td>\n",
       "      <td>131.0</td>\n",
       "      <td>1140.0</td>\n",
       "      <td>114.0</td>\n",
       "      <td>1555.0</td>\n",
       "      <td>1074.0</td>\n",
       "      <td>11,9</td>\n",
       "      <td>54,0</td>\n",
       "      <td>0,7502</td>\n",
       "      <td>0.0</td>\n",
       "      <td>0.0</td>\n",
       "    </tr>\n",
       "    <tr>\n",
       "      <th>2004-10-03</th>\n",
       "      <td>21.00.00</td>\n",
       "      <td>2,2</td>\n",
       "      <td>1376.0</td>\n",
       "      <td>80.0</td>\n",
       "      <td>9,2</td>\n",
       "      <td>948.0</td>\n",
       "      <td>172.0</td>\n",
       "      <td>1092.0</td>\n",
       "      <td>122.0</td>\n",
       "      <td>1584.0</td>\n",
       "      <td>1203.0</td>\n",
       "      <td>11,0</td>\n",
       "      <td>60,0</td>\n",
       "      <td>0,7867</td>\n",
       "      <td>0.0</td>\n",
       "      <td>0.0</td>\n",
       "    </tr>\n",
       "    <tr>\n",
       "      <th>2004-10-03</th>\n",
       "      <td>22.00.00</td>\n",
       "      <td>1,6</td>\n",
       "      <td>1272.0</td>\n",
       "      <td>51.0</td>\n",
       "      <td>6,5</td>\n",
       "      <td>836.0</td>\n",
       "      <td>131.0</td>\n",
       "      <td>1205.0</td>\n",
       "      <td>116.0</td>\n",
       "      <td>1490.0</td>\n",
       "      <td>1110.0</td>\n",
       "      <td>11,2</td>\n",
       "      <td>59,6</td>\n",
       "      <td>0,7888</td>\n",
       "      <td>0.0</td>\n",
       "      <td>0.0</td>\n",
       "    </tr>\n",
       "  </tbody>\n",
       "</table>\n",
       "</div>"
      ],
      "text/plain": [
       "                Time CO(GT)  PT08.S1(CO)  NMHC(GT) C6H6(GT)  PT08.S2(NMHC)  \\\n",
       "Date                                                                         \n",
       "2004-10-03  18.00.00    2,6       1360.0     150.0     11,9         1046.0   \n",
       "2004-10-03  19.00.00      2       1292.0     112.0      9,4          955.0   \n",
       "2004-10-03  20.00.00    2,2       1402.0      88.0      9,0          939.0   \n",
       "2004-10-03  21.00.00    2,2       1376.0      80.0      9,2          948.0   \n",
       "2004-10-03  22.00.00    1,6       1272.0      51.0      6,5          836.0   \n",
       "\n",
       "            NOx(GT)  PT08.S3(NOx)  NO2(GT)  PT08.S4(NO2)  PT08.S5(O3)     T  \\\n",
       "Date                                                                          \n",
       "2004-10-03    166.0        1056.0    113.0        1692.0       1268.0  13,6   \n",
       "2004-10-03    103.0        1174.0     92.0        1559.0        972.0  13,3   \n",
       "2004-10-03    131.0        1140.0    114.0        1555.0       1074.0  11,9   \n",
       "2004-10-03    172.0        1092.0    122.0        1584.0       1203.0  11,0   \n",
       "2004-10-03    131.0        1205.0    116.0        1490.0       1110.0  11,2   \n",
       "\n",
       "              RH      AH  Unnamed: 15  Unnamed: 16  \n",
       "Date                                                \n",
       "2004-10-03  48,9  0,7578          0.0          0.0  \n",
       "2004-10-03  47,7  0,7255          0.0          0.0  \n",
       "2004-10-03  54,0  0,7502          0.0          0.0  \n",
       "2004-10-03  60,0  0,7867          0.0          0.0  \n",
       "2004-10-03  59,6  0,7888          0.0          0.0  "
      ]
     },
     "execution_count": 139,
     "metadata": {},
     "output_type": "execute_result"
    }
   ],
   "source": [
    "dataset = pd.read_csv(\"AirQualityUCI/AirQualityUCI.csv\", \n",
    "                        sep=\";\",\n",
    "                      parse_dates=['Date'],\n",
    "                     index_col = 'Date')\n",
    "dataset =dataset.fillna(value=0)\n",
    "dataset = dataset.loc[dataset.index.notnull()]\n",
    "dataset.head()"
   ]
  },
  {
   "cell_type": "code",
   "execution_count": 140,
   "metadata": {},
   "outputs": [
    {
     "data": {
      "text/plain": [
       "Index(['Time', 'CO(GT)', 'PT08.S1(CO)', 'NMHC(GT)', 'C6H6(GT)',\n",
       "       'PT08.S2(NMHC)', 'NOx(GT)', 'PT08.S3(NOx)', 'NO2(GT)', 'PT08.S4(NO2)',\n",
       "       'PT08.S5(O3)', 'T', 'RH', 'AH', 'Unnamed: 15', 'Unnamed: 16'],\n",
       "      dtype='object')"
      ]
     },
     "execution_count": 140,
     "metadata": {},
     "output_type": "execute_result"
    }
   ],
   "source": [
    "dataset.columns"
   ]
  },
  {
   "cell_type": "code",
   "execution_count": 141,
   "metadata": {},
   "outputs": [
    {
     "name": "stdout",
     "output_type": "stream",
     "text": [
      "672\n"
     ]
    },
    {
     "data": {
      "text/plain": [
       "'8,1'"
      ]
     },
     "execution_count": 141,
     "metadata": {},
     "output_type": "execute_result"
    }
   ],
   "source": [
    "## Question 1\n",
    "print(len(dataset['2004-05']))\n",
    "dataset['2004-05']['CO(GT)'].max()"
   ]
  },
  {
   "cell_type": "code",
   "execution_count": 76,
   "metadata": {},
   "outputs": [
    {
     "data": {
      "text/html": [
       "<div>\n",
       "<style scoped>\n",
       "    .dataframe tbody tr th:only-of-type {\n",
       "        vertical-align: middle;\n",
       "    }\n",
       "\n",
       "    .dataframe tbody tr th {\n",
       "        vertical-align: top;\n",
       "    }\n",
       "\n",
       "    .dataframe thead th {\n",
       "        text-align: right;\n",
       "    }\n",
       "</style>\n",
       "<table border=\"1\" class=\"dataframe\">\n",
       "  <thead>\n",
       "    <tr style=\"text-align: right;\">\n",
       "      <th></th>\n",
       "      <th>Time</th>\n",
       "      <th>CO(GT)</th>\n",
       "      <th>PT08.S1(CO)</th>\n",
       "      <th>NMHC(GT)</th>\n",
       "      <th>C6H6(GT)</th>\n",
       "      <th>PT08.S2(NMHC)</th>\n",
       "      <th>NOx(GT)</th>\n",
       "      <th>PT08.S3(NOx)</th>\n",
       "      <th>NO2(GT)</th>\n",
       "      <th>PT08.S4(NO2)</th>\n",
       "      <th>PT08.S5(O3)</th>\n",
       "      <th>T</th>\n",
       "      <th>RH</th>\n",
       "      <th>AH</th>\n",
       "      <th>Unnamed: 15</th>\n",
       "      <th>Unnamed: 16</th>\n",
       "    </tr>\n",
       "    <tr>\n",
       "      <th>Date</th>\n",
       "      <th></th>\n",
       "      <th></th>\n",
       "      <th></th>\n",
       "      <th></th>\n",
       "      <th></th>\n",
       "      <th></th>\n",
       "      <th></th>\n",
       "      <th></th>\n",
       "      <th></th>\n",
       "      <th></th>\n",
       "      <th></th>\n",
       "      <th></th>\n",
       "      <th></th>\n",
       "      <th></th>\n",
       "      <th></th>\n",
       "      <th></th>\n",
       "    </tr>\n",
       "  </thead>\n",
       "  <tbody>\n",
       "    <tr>\n",
       "      <th>2004-12-13</th>\n",
       "      <td>18.00.00</td>\n",
       "      <td>9,9</td>\n",
       "      <td>1881.0</td>\n",
       "      <td>-200.0</td>\n",
       "      <td>50,8</td>\n",
       "      <td>1983.0</td>\n",
       "      <td>1479.0</td>\n",
       "      <td>334.0</td>\n",
       "      <td>269.0</td>\n",
       "      <td>2271.0</td>\n",
       "      <td>2523.0</td>\n",
       "      <td>12,6</td>\n",
       "      <td>55,9</td>\n",
       "      <td>0,8142</td>\n",
       "      <td>0.0</td>\n",
       "      <td>0.0</td>\n",
       "    </tr>\n",
       "    <tr>\n",
       "      <th>2004-11-26</th>\n",
       "      <td>18.00.00</td>\n",
       "      <td>10,1</td>\n",
       "      <td>1956.0</td>\n",
       "      <td>-200.0</td>\n",
       "      <td>45,2</td>\n",
       "      <td>1877.0</td>\n",
       "      <td>1389.0</td>\n",
       "      <td>347.0</td>\n",
       "      <td>255.0</td>\n",
       "      <td>2338.0</td>\n",
       "      <td>2465.0</td>\n",
       "      <td>15,5</td>\n",
       "      <td>62,8</td>\n",
       "      <td>1,0979</td>\n",
       "      <td>0.0</td>\n",
       "      <td>0.0</td>\n",
       "    </tr>\n",
       "    <tr>\n",
       "      <th>2004-11-23</th>\n",
       "      <td>19.00.00</td>\n",
       "      <td>11,9</td>\n",
       "      <td>2008.0</td>\n",
       "      <td>-200.0</td>\n",
       "      <td>50,6</td>\n",
       "      <td>1980.0</td>\n",
       "      <td>1389.0</td>\n",
       "      <td>325.0</td>\n",
       "      <td>220.0</td>\n",
       "      <td>2562.0</td>\n",
       "      <td>2342.0</td>\n",
       "      <td>12,4</td>\n",
       "      <td>74,7</td>\n",
       "      <td>1,0741</td>\n",
       "      <td>0.0</td>\n",
       "      <td>0.0</td>\n",
       "    </tr>\n",
       "    <tr>\n",
       "      <th>2004-11-23</th>\n",
       "      <td>18.00.00</td>\n",
       "      <td>10,2</td>\n",
       "      <td>1982.0</td>\n",
       "      <td>-200.0</td>\n",
       "      <td>49,5</td>\n",
       "      <td>1959.0</td>\n",
       "      <td>1369.0</td>\n",
       "      <td>322.0</td>\n",
       "      <td>227.0</td>\n",
       "      <td>2536.0</td>\n",
       "      <td>2386.0</td>\n",
       "      <td>13,2</td>\n",
       "      <td>72,6</td>\n",
       "      <td>1,0936</td>\n",
       "      <td>0.0</td>\n",
       "      <td>0.0</td>\n",
       "    </tr>\n",
       "    <tr>\n",
       "      <th>2004-11-23</th>\n",
       "      <td>20.00.00</td>\n",
       "      <td>11,5</td>\n",
       "      <td>1918.0</td>\n",
       "      <td>-200.0</td>\n",
       "      <td>49,4</td>\n",
       "      <td>1958.0</td>\n",
       "      <td>1358.0</td>\n",
       "      <td>335.0</td>\n",
       "      <td>190.0</td>\n",
       "      <td>2477.0</td>\n",
       "      <td>2237.0</td>\n",
       "      <td>11,5</td>\n",
       "      <td>76,2</td>\n",
       "      <td>1,0324</td>\n",
       "      <td>0.0</td>\n",
       "      <td>0.0</td>\n",
       "    </tr>\n",
       "    <tr>\n",
       "      <th>...</th>\n",
       "      <td>...</td>\n",
       "      <td>...</td>\n",
       "      <td>...</td>\n",
       "      <td>...</td>\n",
       "      <td>...</td>\n",
       "      <td>...</td>\n",
       "      <td>...</td>\n",
       "      <td>...</td>\n",
       "      <td>...</td>\n",
       "      <td>...</td>\n",
       "      <td>...</td>\n",
       "      <td>...</td>\n",
       "      <td>...</td>\n",
       "      <td>...</td>\n",
       "      <td>...</td>\n",
       "      <td>...</td>\n",
       "    </tr>\n",
       "    <tr>\n",
       "      <th>2004-10-16</th>\n",
       "      <td>05.00.00</td>\n",
       "      <td>-200</td>\n",
       "      <td>926.0</td>\n",
       "      <td>-200.0</td>\n",
       "      <td>4,7</td>\n",
       "      <td>747.0</td>\n",
       "      <td>-200.0</td>\n",
       "      <td>902.0</td>\n",
       "      <td>-200.0</td>\n",
       "      <td>1325.0</td>\n",
       "      <td>759.0</td>\n",
       "      <td>14,5</td>\n",
       "      <td>80,5</td>\n",
       "      <td>1,3221</td>\n",
       "      <td>0.0</td>\n",
       "      <td>0.0</td>\n",
       "    </tr>\n",
       "    <tr>\n",
       "      <th>2004-10-16</th>\n",
       "      <td>06.00.00</td>\n",
       "      <td>-200</td>\n",
       "      <td>971.0</td>\n",
       "      <td>-200.0</td>\n",
       "      <td>6,9</td>\n",
       "      <td>851.0</td>\n",
       "      <td>-200.0</td>\n",
       "      <td>808.0</td>\n",
       "      <td>-200.0</td>\n",
       "      <td>1389.0</td>\n",
       "      <td>876.0</td>\n",
       "      <td>14,6</td>\n",
       "      <td>79,0</td>\n",
       "      <td>1,3082</td>\n",
       "      <td>0.0</td>\n",
       "      <td>0.0</td>\n",
       "    </tr>\n",
       "    <tr>\n",
       "      <th>2004-10-16</th>\n",
       "      <td>07.00.00</td>\n",
       "      <td>-200</td>\n",
       "      <td>1029.0</td>\n",
       "      <td>-200.0</td>\n",
       "      <td>7,7</td>\n",
       "      <td>886.0</td>\n",
       "      <td>-200.0</td>\n",
       "      <td>807.0</td>\n",
       "      <td>-200.0</td>\n",
       "      <td>1446.0</td>\n",
       "      <td>926.0</td>\n",
       "      <td>15,0</td>\n",
       "      <td>74,8</td>\n",
       "      <td>1,2672</td>\n",
       "      <td>0.0</td>\n",
       "      <td>0.0</td>\n",
       "    </tr>\n",
       "    <tr>\n",
       "      <th>2004-10-16</th>\n",
       "      <td>08.00.00</td>\n",
       "      <td>-200</td>\n",
       "      <td>1124.0</td>\n",
       "      <td>-200.0</td>\n",
       "      <td>12,2</td>\n",
       "      <td>1057.0</td>\n",
       "      <td>-200.0</td>\n",
       "      <td>667.0</td>\n",
       "      <td>-200.0</td>\n",
       "      <td>1569.0</td>\n",
       "      <td>1091.0</td>\n",
       "      <td>15,9</td>\n",
       "      <td>70,4</td>\n",
       "      <td>1,2658</td>\n",
       "      <td>0.0</td>\n",
       "      <td>0.0</td>\n",
       "    </tr>\n",
       "    <tr>\n",
       "      <th>2004-06-26</th>\n",
       "      <td>03.00.00</td>\n",
       "      <td>1,1</td>\n",
       "      <td>844.0</td>\n",
       "      <td>-200.0</td>\n",
       "      <td>4,9</td>\n",
       "      <td>759.0</td>\n",
       "      <td>-200.0</td>\n",
       "      <td>1005.0</td>\n",
       "      <td>-200.0</td>\n",
       "      <td>1409.0</td>\n",
       "      <td>848.0</td>\n",
       "      <td>19,5</td>\n",
       "      <td>42,3</td>\n",
       "      <td>0,9461</td>\n",
       "      <td>0.0</td>\n",
       "      <td>0.0</td>\n",
       "    </tr>\n",
       "  </tbody>\n",
       "</table>\n",
       "<p>9357 rows × 16 columns</p>\n",
       "</div>"
      ],
      "text/plain": [
       "                Time CO(GT)  PT08.S1(CO)  NMHC(GT) C6H6(GT)  PT08.S2(NMHC)  \\\n",
       "Date                                                                         \n",
       "2004-12-13  18.00.00    9,9       1881.0    -200.0     50,8         1983.0   \n",
       "2004-11-26  18.00.00   10,1       1956.0    -200.0     45,2         1877.0   \n",
       "2004-11-23  19.00.00   11,9       2008.0    -200.0     50,6         1980.0   \n",
       "2004-11-23  18.00.00   10,2       1982.0    -200.0     49,5         1959.0   \n",
       "2004-11-23  20.00.00   11,5       1918.0    -200.0     49,4         1958.0   \n",
       "...              ...    ...          ...       ...      ...            ...   \n",
       "2004-10-16  05.00.00   -200        926.0    -200.0      4,7          747.0   \n",
       "2004-10-16  06.00.00   -200        971.0    -200.0      6,9          851.0   \n",
       "2004-10-16  07.00.00   -200       1029.0    -200.0      7,7          886.0   \n",
       "2004-10-16  08.00.00   -200       1124.0    -200.0     12,2         1057.0   \n",
       "2004-06-26  03.00.00    1,1        844.0    -200.0      4,9          759.0   \n",
       "\n",
       "            NOx(GT)  PT08.S3(NOx)  NO2(GT)  PT08.S4(NO2)  PT08.S5(O3)     T  \\\n",
       "Date                                                                          \n",
       "2004-12-13   1479.0         334.0    269.0        2271.0       2523.0  12,6   \n",
       "2004-11-26   1389.0         347.0    255.0        2338.0       2465.0  15,5   \n",
       "2004-11-23   1389.0         325.0    220.0        2562.0       2342.0  12,4   \n",
       "2004-11-23   1369.0         322.0    227.0        2536.0       2386.0  13,2   \n",
       "2004-11-23   1358.0         335.0    190.0        2477.0       2237.0  11,5   \n",
       "...             ...           ...      ...           ...          ...   ...   \n",
       "2004-10-16   -200.0         902.0   -200.0        1325.0        759.0  14,5   \n",
       "2004-10-16   -200.0         808.0   -200.0        1389.0        876.0  14,6   \n",
       "2004-10-16   -200.0         807.0   -200.0        1446.0        926.0  15,0   \n",
       "2004-10-16   -200.0         667.0   -200.0        1569.0       1091.0  15,9   \n",
       "2004-06-26   -200.0        1005.0   -200.0        1409.0        848.0  19,5   \n",
       "\n",
       "              RH      AH  Unnamed: 15  Unnamed: 16  \n",
       "Date                                                \n",
       "2004-12-13  55,9  0,8142          0.0          0.0  \n",
       "2004-11-26  62,8  1,0979          0.0          0.0  \n",
       "2004-11-23  74,7  1,0741          0.0          0.0  \n",
       "2004-11-23  72,6  1,0936          0.0          0.0  \n",
       "2004-11-23  76,2  1,0324          0.0          0.0  \n",
       "...          ...     ...          ...          ...  \n",
       "2004-10-16  80,5  1,3221          0.0          0.0  \n",
       "2004-10-16  79,0  1,3082          0.0          0.0  \n",
       "2004-10-16  74,8  1,2672          0.0          0.0  \n",
       "2004-10-16  70,4  1,2658          0.0          0.0  \n",
       "2004-06-26  42,3  0,9461          0.0          0.0  \n",
       "\n",
       "[9357 rows x 16 columns]"
      ]
     },
     "execution_count": 76,
     "metadata": {},
     "output_type": "execute_result"
    }
   ],
   "source": [
    "## Question 2\n",
    "dataset.sort_values(['NOx(GT)'], ascending=False)"
   ]
  },
  {
   "cell_type": "code",
   "execution_count": 77,
   "metadata": {},
   "outputs": [
    {
     "name": "stdout",
     "output_type": "stream",
     "text": [
      "0\n"
     ]
    }
   ],
   "source": [
    "date_nox = '2004-12-13'\n",
    "date_nox = datetime.strptime(date_nox, \"%Y-%m-%d\" )\n",
    "print(date_nox.weekday())\n",
    "## Monday"
   ]
  },
  {
   "cell_type": "code",
   "execution_count": 78,
   "metadata": {},
   "outputs": [
    {
     "data": {
      "text/plain": [
       "65527.0"
      ]
     },
     "execution_count": 78,
     "metadata": {},
     "output_type": "execute_result"
    }
   ],
   "source": [
    "## Question 3\n",
    "dataset['2005-01']['NO2(GT)'].sum()"
   ]
  },
  {
   "cell_type": "code",
   "execution_count": 79,
   "metadata": {},
   "outputs": [
    {
     "name": "stderr",
     "output_type": "stream",
     "text": [
      "/Users/rsilvei/Envs/bayesian/lib/python3.6/site-packages/ipykernel_launcher.py:2: SettingWithCopyWarning: \n",
      "A value is trying to be set on a copy of a slice from a DataFrame.\n",
      "Try using .loc[row_indexer,col_indexer] = value instead\n",
      "\n",
      "See the caveats in the documentation: https://pandas.pydata.org/pandas-docs/stable/user_guide/indexing.html#returning-a-view-versus-a-copy\n",
      "  \n"
     ]
    }
   ],
   "source": [
    "## Question 4\n",
    "dataset['2004-01']['AH'] = dataset['2004-01']['AH']"
   ]
  },
  {
   "cell_type": "code",
   "execution_count": 89,
   "metadata": {},
   "outputs": [
    {
     "data": {
      "text/plain": [
       "2.6"
      ]
     },
     "execution_count": 89,
     "metadata": {},
     "output_type": "execute_result"
    }
   ],
   "source": [
    "float(dataset['CO(GT)'][0].replace(\",\",\".\"))"
   ]
  },
  {
   "cell_type": "code",
   "execution_count": 103,
   "metadata": {},
   "outputs": [
    {
     "data": {
      "text/plain": [
       "<function __main__.<lambda>(x)>"
      ]
     },
     "execution_count": 103,
     "metadata": {},
     "output_type": "execute_result"
    }
   ],
   "source": [
    "lambda x: float(x.replace(\",\",\".\"))"
   ]
  },
  {
   "cell_type": "code",
   "execution_count": 104,
   "metadata": {},
   "outputs": [],
   "source": [
    "dataset['CO(GT)'] = dataset['CO(GT)'].apply(lambda x: float(x.replace(\",\",\".\")))"
   ]
  },
  {
   "cell_type": "code",
   "execution_count": 105,
   "metadata": {},
   "outputs": [
    {
     "data": {
      "text/plain": [
       "numpy.float64"
      ]
     },
     "execution_count": 105,
     "metadata": {},
     "output_type": "execute_result"
    }
   ],
   "source": [
    "type(dataset['CO(GT)'][0])"
   ]
  },
  {
   "cell_type": "code",
   "execution_count": 106,
   "metadata": {},
   "outputs": [
    {
     "data": {
      "image/png": "[encoded data removed]",
      "text/plain": [
       "<Figure size 864x432 with 1 Axes>"
      ]
     },
     "metadata": {},
     "output_type": "display_data"
    }
   ],
   "source": [
    "plt.figure(figsize=(12,6))\n",
    "dataset['CO(GT)'].plot()\n",
    "plt.grid()"
   ]
  },
  {
   "cell_type": "code",
   "execution_count": 109,
   "metadata": {},
   "outputs": [
    {
     "data": {
      "text/plain": [
       "(11.9, -200.0)"
      ]
     },
     "execution_count": 109,
     "metadata": {},
     "output_type": "execute_result"
    }
   ],
   "source": [
    "dataset['CO(GT)'].max(), dataset['CO(GT)'].min()"
   ]
  },
  {
   "cell_type": "code",
   "execution_count": 171,
   "metadata": {},
   "outputs": [],
   "source": [
    "dataset['target'] = dataset['CO(GT)'].shift(1)"
   ]
  },
  {
   "cell_type": "code",
   "execution_count": 172,
   "metadata": {},
   "outputs": [
    {
     "data": {
      "text/plain": [
       "CO(GT)           0.865878\n",
       "PT08.S1(CO)      0.037374\n",
       "NMHC(GT)         0.123690\n",
       "C6H6(GT)        -0.031283\n",
       "PT08.S2(NMHC)    0.024740\n",
       "NOx(GT)          0.508300\n",
       "PT08.S3(NOx)    -0.084541\n",
       "NO2(GT)          0.651210\n",
       "PT08.S4(NO2)    -0.076524\n",
       "PT08.S5(O3)      0.075966\n",
       "Unnamed: 15           NaN\n",
       "Unnamed: 16           NaN\n",
       "target           1.000000\n",
       "Name: target, dtype: float64"
      ]
     },
     "execution_count": 172,
     "metadata": {},
     "output_type": "execute_result"
    }
   ],
   "source": [
    "dataset.corr(method=\"pearson\")['target']"
   ]
  },
  {
   "cell_type": "code",
   "execution_count": 119,
   "metadata": {},
   "outputs": [],
   "source": [
    "## Linear Regression"
   ]
  },
  {
   "cell_type": "code",
   "execution_count": 201,
   "metadata": {},
   "outputs": [],
   "source": [
    "from sklearn.linear_model import LinearRegression\n",
    "from sklearn.model_selection import train_test_split\n",
    "from sklearn.metrics import mean_absolute_error, mean_squared_error, r2_score"
   ]
  },
  {
   "cell_type": "code",
   "execution_count": 147,
   "metadata": {},
   "outputs": [],
   "source": [
    "model = LinearRegression()"
   ]
  },
  {
   "cell_type": "code",
   "execution_count": 148,
   "metadata": {},
   "outputs": [
    {
     "data": {
      "text/plain": [
       "Index(['Time', 'CO(GT)', 'PT08.S1(CO)', 'NMHC(GT)', 'C6H6(GT)',\n",
       "       'PT08.S2(NMHC)', 'NOx(GT)', 'PT08.S3(NOx)', 'NO2(GT)', 'PT08.S4(NO2)',\n",
       "       'PT08.S5(O3)', 'T', 'RH', 'AH', 'Unnamed: 15', 'Unnamed: 16'],\n",
       "      dtype='object')"
      ]
     },
     "execution_count": 148,
     "metadata": {},
     "output_type": "execute_result"
    }
   ],
   "source": [
    "dataset.columns"
   ]
  },
  {
   "cell_type": "code",
   "execution_count": 154,
   "metadata": {},
   "outputs": [],
   "source": [
    "dataset['CO(GT)'] = dataset['CO(GT)'].apply(lambda x: float(x.replace(\",\",\".\")))"
   ]
  },
  {
   "cell_type": "code",
   "execution_count": 142,
   "metadata": {},
   "outputs": [
    {
     "data": {
      "text/plain": [
       "numpy.float64"
      ]
     },
     "execution_count": 142,
     "metadata": {},
     "output_type": "execute_result"
    }
   ],
   "source": [
    "type(dataset['PT08.S1(CO)'][0])"
   ]
  },
  {
   "cell_type": "code",
   "execution_count": 143,
   "metadata": {},
   "outputs": [
    {
     "data": {
      "text/plain": [
       "numpy.float64"
      ]
     },
     "execution_count": 143,
     "metadata": {},
     "output_type": "execute_result"
    }
   ],
   "source": [
    "type(dataset['NMHC(GT)'][0])"
   ]
  },
  {
   "cell_type": "code",
   "execution_count": 144,
   "metadata": {},
   "outputs": [
    {
     "data": {
      "text/plain": [
       "numpy.float64"
      ]
     },
     "execution_count": 144,
     "metadata": {},
     "output_type": "execute_result"
    }
   ],
   "source": [
    "dataset['C6H6(GT)'] = dataset['C6H6(GT)'].apply(lambda x: float(x.replace(\",\",\".\")))\n",
    "type(dataset['C6H6(GT)'][0])"
   ]
  },
  {
   "cell_type": "code",
   "execution_count": 145,
   "metadata": {},
   "outputs": [
    {
     "data": {
      "text/plain": [
       "numpy.float64"
      ]
     },
     "execution_count": 145,
     "metadata": {},
     "output_type": "execute_result"
    }
   ],
   "source": [
    "type(dataset['PT08.S2(NMHC)'][0])"
   ]
  },
  {
   "cell_type": "code",
   "execution_count": 189,
   "metadata": {},
   "outputs": [],
   "source": [
    "dataset['T'] = dataset['T'].apply(lambda x: float(x.replace(\",\",\".\")))"
   ]
  },
  {
   "cell_type": "code",
   "execution_count": 190,
   "metadata": {},
   "outputs": [],
   "source": [
    "dataset['RH'] = dataset['RH'].apply(lambda x: float(x.replace(\",\",\".\")))"
   ]
  },
  {
   "cell_type": "code",
   "execution_count": 191,
   "metadata": {},
   "outputs": [],
   "source": [
    "dataset['AH'] = dataset['AH'].apply(lambda x: float(x.replace(\",\",\".\")))"
   ]
  },
  {
   "cell_type": "code",
   "execution_count": 192,
   "metadata": {},
   "outputs": [],
   "source": [
    "x = dataset[['CO(GT)','PT08.S1(CO)',\n",
    "             'NMHC(GT)', 'C6H6(GT)', \n",
    "             'PT08.S2(NMHC)', 'NOx(GT)',\n",
    "             'PT08.S3(NOx)', 'NO2(GT)', \n",
    "             'PT08.S4(NO2)',\n",
    "             'PT08.S5(O3)', 'T', 'RH', 'AH'\n",
    "            ]]\n",
    "y = dataset['target']"
   ]
  },
  {
   "cell_type": "code",
   "execution_count": 193,
   "metadata": {},
   "outputs": [
    {
     "data": {
      "text/html": [
       "<div>\n",
       "<style scoped>\n",
       "    .dataframe tbody tr th:only-of-type {\n",
       "        vertical-align: middle;\n",
       "    }\n",
       "\n",
       "    .dataframe tbody tr th {\n",
       "        vertical-align: top;\n",
       "    }\n",
       "\n",
       "    .dataframe thead th {\n",
       "        text-align: right;\n",
       "    }\n",
       "</style>\n",
       "<table border=\"1\" class=\"dataframe\">\n",
       "  <thead>\n",
       "    <tr style=\"text-align: right;\">\n",
       "      <th></th>\n",
       "      <th>CO(GT)</th>\n",
       "      <th>PT08.S1(CO)</th>\n",
       "      <th>NMHC(GT)</th>\n",
       "      <th>C6H6(GT)</th>\n",
       "      <th>PT08.S2(NMHC)</th>\n",
       "      <th>NOx(GT)</th>\n",
       "      <th>PT08.S3(NOx)</th>\n",
       "      <th>NO2(GT)</th>\n",
       "      <th>PT08.S4(NO2)</th>\n",
       "      <th>PT08.S5(O3)</th>\n",
       "      <th>T</th>\n",
       "      <th>RH</th>\n",
       "      <th>AH</th>\n",
       "    </tr>\n",
       "    <tr>\n",
       "      <th>Date</th>\n",
       "      <th></th>\n",
       "      <th></th>\n",
       "      <th></th>\n",
       "      <th></th>\n",
       "      <th></th>\n",
       "      <th></th>\n",
       "      <th></th>\n",
       "      <th></th>\n",
       "      <th></th>\n",
       "      <th></th>\n",
       "      <th></th>\n",
       "      <th></th>\n",
       "      <th></th>\n",
       "    </tr>\n",
       "  </thead>\n",
       "  <tbody>\n",
       "    <tr>\n",
       "      <th>2004-10-03</th>\n",
       "      <td>2.6</td>\n",
       "      <td>1360.0</td>\n",
       "      <td>150.0</td>\n",
       "      <td>11.9</td>\n",
       "      <td>1046.0</td>\n",
       "      <td>166.0</td>\n",
       "      <td>1056.0</td>\n",
       "      <td>113.0</td>\n",
       "      <td>1692.0</td>\n",
       "      <td>1268.0</td>\n",
       "      <td>13.6</td>\n",
       "      <td>48.9</td>\n",
       "      <td>0.7578</td>\n",
       "    </tr>\n",
       "    <tr>\n",
       "      <th>2004-10-03</th>\n",
       "      <td>2.0</td>\n",
       "      <td>1292.0</td>\n",
       "      <td>112.0</td>\n",
       "      <td>9.4</td>\n",
       "      <td>955.0</td>\n",
       "      <td>103.0</td>\n",
       "      <td>1174.0</td>\n",
       "      <td>92.0</td>\n",
       "      <td>1559.0</td>\n",
       "      <td>972.0</td>\n",
       "      <td>13.3</td>\n",
       "      <td>47.7</td>\n",
       "      <td>0.7255</td>\n",
       "    </tr>\n",
       "    <tr>\n",
       "      <th>2004-10-03</th>\n",
       "      <td>2.2</td>\n",
       "      <td>1402.0</td>\n",
       "      <td>88.0</td>\n",
       "      <td>9.0</td>\n",
       "      <td>939.0</td>\n",
       "      <td>131.0</td>\n",
       "      <td>1140.0</td>\n",
       "      <td>114.0</td>\n",
       "      <td>1555.0</td>\n",
       "      <td>1074.0</td>\n",
       "      <td>11.9</td>\n",
       "      <td>54.0</td>\n",
       "      <td>0.7502</td>\n",
       "    </tr>\n",
       "    <tr>\n",
       "      <th>2004-10-03</th>\n",
       "      <td>2.2</td>\n",
       "      <td>1376.0</td>\n",
       "      <td>80.0</td>\n",
       "      <td>9.2</td>\n",
       "      <td>948.0</td>\n",
       "      <td>172.0</td>\n",
       "      <td>1092.0</td>\n",
       "      <td>122.0</td>\n",
       "      <td>1584.0</td>\n",
       "      <td>1203.0</td>\n",
       "      <td>11.0</td>\n",
       "      <td>60.0</td>\n",
       "      <td>0.7867</td>\n",
       "    </tr>\n",
       "    <tr>\n",
       "      <th>2004-10-03</th>\n",
       "      <td>1.6</td>\n",
       "      <td>1272.0</td>\n",
       "      <td>51.0</td>\n",
       "      <td>6.5</td>\n",
       "      <td>836.0</td>\n",
       "      <td>131.0</td>\n",
       "      <td>1205.0</td>\n",
       "      <td>116.0</td>\n",
       "      <td>1490.0</td>\n",
       "      <td>1110.0</td>\n",
       "      <td>11.2</td>\n",
       "      <td>59.6</td>\n",
       "      <td>0.7888</td>\n",
       "    </tr>\n",
       "    <tr>\n",
       "      <th>...</th>\n",
       "      <td>...</td>\n",
       "      <td>...</td>\n",
       "      <td>...</td>\n",
       "      <td>...</td>\n",
       "      <td>...</td>\n",
       "      <td>...</td>\n",
       "      <td>...</td>\n",
       "      <td>...</td>\n",
       "      <td>...</td>\n",
       "      <td>...</td>\n",
       "      <td>...</td>\n",
       "      <td>...</td>\n",
       "      <td>...</td>\n",
       "    </tr>\n",
       "    <tr>\n",
       "      <th>2005-04-04</th>\n",
       "      <td>3.1</td>\n",
       "      <td>1314.0</td>\n",
       "      <td>-200.0</td>\n",
       "      <td>13.5</td>\n",
       "      <td>1101.0</td>\n",
       "      <td>472.0</td>\n",
       "      <td>539.0</td>\n",
       "      <td>190.0</td>\n",
       "      <td>1374.0</td>\n",
       "      <td>1729.0</td>\n",
       "      <td>21.9</td>\n",
       "      <td>29.3</td>\n",
       "      <td>0.7568</td>\n",
       "    </tr>\n",
       "    <tr>\n",
       "      <th>2005-04-04</th>\n",
       "      <td>2.4</td>\n",
       "      <td>1163.0</td>\n",
       "      <td>-200.0</td>\n",
       "      <td>11.4</td>\n",
       "      <td>1027.0</td>\n",
       "      <td>353.0</td>\n",
       "      <td>604.0</td>\n",
       "      <td>179.0</td>\n",
       "      <td>1264.0</td>\n",
       "      <td>1269.0</td>\n",
       "      <td>24.3</td>\n",
       "      <td>23.7</td>\n",
       "      <td>0.7119</td>\n",
       "    </tr>\n",
       "    <tr>\n",
       "      <th>2005-04-04</th>\n",
       "      <td>2.4</td>\n",
       "      <td>1142.0</td>\n",
       "      <td>-200.0</td>\n",
       "      <td>12.4</td>\n",
       "      <td>1063.0</td>\n",
       "      <td>293.0</td>\n",
       "      <td>603.0</td>\n",
       "      <td>175.0</td>\n",
       "      <td>1241.0</td>\n",
       "      <td>1092.0</td>\n",
       "      <td>26.9</td>\n",
       "      <td>18.3</td>\n",
       "      <td>0.6406</td>\n",
       "    </tr>\n",
       "    <tr>\n",
       "      <th>2005-04-04</th>\n",
       "      <td>2.1</td>\n",
       "      <td>1003.0</td>\n",
       "      <td>-200.0</td>\n",
       "      <td>9.5</td>\n",
       "      <td>961.0</td>\n",
       "      <td>235.0</td>\n",
       "      <td>702.0</td>\n",
       "      <td>156.0</td>\n",
       "      <td>1041.0</td>\n",
       "      <td>770.0</td>\n",
       "      <td>28.3</td>\n",
       "      <td>13.5</td>\n",
       "      <td>0.5139</td>\n",
       "    </tr>\n",
       "    <tr>\n",
       "      <th>2005-04-04</th>\n",
       "      <td>2.2</td>\n",
       "      <td>1071.0</td>\n",
       "      <td>-200.0</td>\n",
       "      <td>11.9</td>\n",
       "      <td>1047.0</td>\n",
       "      <td>265.0</td>\n",
       "      <td>654.0</td>\n",
       "      <td>168.0</td>\n",
       "      <td>1129.0</td>\n",
       "      <td>816.0</td>\n",
       "      <td>28.5</td>\n",
       "      <td>13.1</td>\n",
       "      <td>0.5028</td>\n",
       "    </tr>\n",
       "  </tbody>\n",
       "</table>\n",
       "<p>9357 rows × 13 columns</p>\n",
       "</div>"
      ],
      "text/plain": [
       "            CO(GT)  PT08.S1(CO)  NMHC(GT)  C6H6(GT)  PT08.S2(NMHC)  NOx(GT)  \\\n",
       "Date                                                                          \n",
       "2004-10-03     2.6       1360.0     150.0      11.9         1046.0    166.0   \n",
       "2004-10-03     2.0       1292.0     112.0       9.4          955.0    103.0   \n",
       "2004-10-03     2.2       1402.0      88.0       9.0          939.0    131.0   \n",
       "2004-10-03     2.2       1376.0      80.0       9.2          948.0    172.0   \n",
       "2004-10-03     1.6       1272.0      51.0       6.5          836.0    131.0   \n",
       "...            ...          ...       ...       ...            ...      ...   \n",
       "2005-04-04     3.1       1314.0    -200.0      13.5         1101.0    472.0   \n",
       "2005-04-04     2.4       1163.0    -200.0      11.4         1027.0    353.0   \n",
       "2005-04-04     2.4       1142.0    -200.0      12.4         1063.0    293.0   \n",
       "2005-04-04     2.1       1003.0    -200.0       9.5          961.0    235.0   \n",
       "2005-04-04     2.2       1071.0    -200.0      11.9         1047.0    265.0   \n",
       "\n",
       "            PT08.S3(NOx)  NO2(GT)  PT08.S4(NO2)  PT08.S5(O3)     T    RH  \\\n",
       "Date                                                                       \n",
       "2004-10-03        1056.0    113.0        1692.0       1268.0  13.6  48.9   \n",
       "2004-10-03        1174.0     92.0        1559.0        972.0  13.3  47.7   \n",
       "2004-10-03        1140.0    114.0        1555.0       1074.0  11.9  54.0   \n",
       "2004-10-03        1092.0    122.0        1584.0       1203.0  11.0  60.0   \n",
       "2004-10-03        1205.0    116.0        1490.0       1110.0  11.2  59.6   \n",
       "...                  ...      ...           ...          ...   ...   ...   \n",
       "2005-04-04         539.0    190.0        1374.0       1729.0  21.9  29.3   \n",
       "2005-04-04         604.0    179.0        1264.0       1269.0  24.3  23.7   \n",
       "2005-04-04         603.0    175.0        1241.0       1092.0  26.9  18.3   \n",
       "2005-04-04         702.0    156.0        1041.0        770.0  28.3  13.5   \n",
       "2005-04-04         654.0    168.0        1129.0        816.0  28.5  13.1   \n",
       "\n",
       "                AH  \n",
       "Date                \n",
       "2004-10-03  0.7578  \n",
       "2004-10-03  0.7255  \n",
       "2004-10-03  0.7502  \n",
       "2004-10-03  0.7867  \n",
       "2004-10-03  0.7888  \n",
       "...            ...  \n",
       "2005-04-04  0.7568  \n",
       "2005-04-04  0.7119  \n",
       "2005-04-04  0.6406  \n",
       "2005-04-04  0.5139  \n",
       "2005-04-04  0.5028  \n",
       "\n",
       "[9357 rows x 13 columns]"
      ]
     },
     "execution_count": 193,
     "metadata": {},
     "output_type": "execute_result"
    }
   ],
   "source": [
    "x"
   ]
  },
  {
   "cell_type": "code",
   "execution_count": 176,
   "metadata": {},
   "outputs": [],
   "source": [
    "y.fillna(value=0 , inplace = True)"
   ]
  },
  {
   "cell_type": "code",
   "execution_count": 207,
   "metadata": {},
   "outputs": [],
   "source": [
    "x_train, x_valid, y_train, y_valid = train_test_split(x, y, \n",
    "                                                      test_size = 0.4,\n",
    "                                                      shuffle = True)"
   ]
  },
  {
   "cell_type": "code",
   "execution_count": 208,
   "metadata": {},
   "outputs": [
    {
     "data": {
      "text/plain": [
       "((5614, 13), (3743, 13), (5614,), (3743,))"
      ]
     },
     "execution_count": 208,
     "metadata": {},
     "output_type": "execute_result"
    }
   ],
   "source": [
    "x_train.shape, x_valid.shape, y_train.shape, y_valid.shape"
   ]
  },
  {
   "cell_type": "code",
   "execution_count": 209,
   "metadata": {},
   "outputs": [
    {
     "data": {
      "text/plain": [
       "LinearRegression()"
      ]
     },
     "execution_count": 209,
     "metadata": {},
     "output_type": "execute_result"
    }
   ],
   "source": [
    "model.fit(x_train, y_train)"
   ]
  },
  {
   "cell_type": "code",
   "execution_count": 210,
   "metadata": {},
   "outputs": [],
   "source": [
    "preds = model.predict(x_valid)"
   ]
  },
  {
   "cell_type": "code",
   "execution_count": 211,
   "metadata": {},
   "outputs": [
    {
     "data": {
      "text/plain": [
       "15.007247537273768"
      ]
     },
     "execution_count": 211,
     "metadata": {},
     "output_type": "execute_result"
    }
   ],
   "source": [
    "mean_absolute_error(y_valid, preds)"
   ]
  },
  {
   "cell_type": "code",
   "execution_count": 212,
   "metadata": {},
   "outputs": [
    {
     "data": {
      "text/plain": [
       "1419.8779611801388"
      ]
     },
     "execution_count": 212,
     "metadata": {},
     "output_type": "execute_result"
    }
   ],
   "source": [
    "mean_squared_error(y_valid, preds)"
   ]
  },
  {
   "cell_type": "code",
   "execution_count": 213,
   "metadata": {},
   "outputs": [
    {
     "data": {
      "text/plain": [
       "0.7603705299643854"
      ]
     },
     "execution_count": 213,
     "metadata": {},
     "output_type": "execute_result"
    }
   ],
   "source": [
    "r2_score(y_valid, preds)"
   ]
  },
  {
   "cell_type": "code",
   "execution_count": null,
   "metadata": {},
   "outputs": [],
   "source": []
  }
 ],
 "metadata": {
  "kernelspec": {
   "display_name": "Bayesian",
   "language": "python",
   "name": "bayesian"
  },
  "language_info": {
   "codemirror_mode": {
    "name": "ipython",
    "version": 3
   },
   "file_extension": ".py",
   "mimetype": "text/x-python",
   "name": "python",
   "nbconvert_exporter": "python",
   "pygments_lexer": "ipython3",
   "version": "3.6.5"
  }
 },
 "nbformat": 4,
 "nbformat_minor": 2
}
