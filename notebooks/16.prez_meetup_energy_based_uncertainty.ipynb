{
 "cells": [
  {
   "cell_type": "markdown",
   "metadata": {},
   "source": [
    "# Sources\n",
    "## Videos\n",
    "1. ~~[Energy-based Approaches to Representation Learning - Yann LeCun](https://www.youtube.com/watch?v=m17B-cXcZFI)~~\n",
    "2. [Week 7 – Lecture: Energy based models and self-supervised learning](https://www.youtube.com/watch?v=tVwV14YkbYs&feature=youtu.be)  \n",
    "3. [Beyond temperature scaling: Obtaining well-calibrated multiclass probabilities with Dirichlet calibration](https://dirichletcal.github.io/documents/neurips2019/video/Meelis_Ettekanne.mp4) - **Bons slides!**  \n",
    "4. [Brier Score and Practical Examples](https://www.youtube.com/watch?v=RXMu96RJj_s&t=1137s_)  \n",
    "5. [Robust Artificial Intelligence: Obtaining Calibrated Probabilities from Machine Learning Models](https://www.youtube.com/watch?v=ujXgYXpedEk)  \n",
    "6. [Isotonic Regression - University of Texas Austin](https://www.youtube.com/watch?v=TEbLUhHqLgE)\n",
    "    \n",
    "## Papers\n",
    "\n",
    "### Calibration\n",
    "1. **2005** - [Predicting Good Probabilities With Supervised Learning](https://www.cs.cornell.edu/~alexn/papers/calibration.icml05.crc.rev3.pdf)\n",
    "2. **2017** - [A baseline for detecting misclassified and out-of-distribution examples in neural networks](https://arxiv.org/pdf/1610.02136.pdf)\n",
    "3. **2017** - [On Calibration of Modern Neural Networks](https://geoffpleiss.com/nn_calibration)  \n",
    "4. **2019** - [Why ReLU networks yield high-confidence predictions far away from\n",
    "the training data and how to mitigate the problem](https://arxiv.org/abs/1812.05720)\n",
    "5. **2019** - [Beyond temperature scaling: Obtaining well-calibrated multiclass probabilities with Dirichlet calibration](https://arxiv.org/pdf/1910.12656.pdf) [2](https://dirichletcal.github.io/)  \n",
    "6. **2020** - [Being Bayesian, Even Just a Bit, Fixes Overconfidence in ReLU Networks](https://arxiv.org/pdf/2002.10118.pdf)\n",
    "7. **2020** - [Calibrate and Prune: Improving Reliability of Lottery Tickets Through Prediction Calibration](https://arxiv.org/pdf/2002.03875v3.pdf)  \n",
    "8. **2020** - [Unlabelled Data Improves Bayesian Uncertainty Calibration under Covariate Shift](https://arxiv.org/pdf/2006.14988.pdf)  \n",
    "9. **2020** - [Mix-n-Match : Ensemble and Compositional Methods for Uncertainty Calibration in Deep Learning](https://arxiv.org/abs/2003.07329)  \n",
    "10. **2020** - ICLR - [Distance-Based Learning from Errors for Confidence Calibration](https://iclr.cc/virtual_2020/poster_BJeB5hVtvB.html)  \n",
    "11. **2020** - [Measuring Calibration in Deep Learning](https://openreview.net/pdf?id=r1la7krKPS)\n",
    "12. **2021** - [Uncertainty calibration error: a new metric for multi-class classification](https://openreview.net/pdf?id=XOuAOv_-5Fx) \n",
    "\n",
    "\n",
    "### OOD\n",
    "1. [Energy-based Out-of-distribution Detection](https://arxiv.org/abs/2010.03759)\n",
    "2. [A Tutorial on Energy-Based Learning](http://yann.lecun.com/exdb/publis/pdf/lecun-06.pdf)  \n",
    "3. [Beyond temperature scaling: Obtaining well-calibrated multiclass probabilities with Dirichlet calibration](https://dirichletcal.github.io/)  "
   ]
  },
  {
   "cell_type": "markdown",
   "metadata": {},
   "source": [
    "### Paper - [Predicting Good Probabilities](https://www.cs.cornell.edu/~alexn/papers/calibration.icml05.crc.rev3.pdf)\n",
    "- States that Correctly classified examples tend to have greater maximum softmax probabilities than erroneously classified and out-of-distribution examples, allowing for their detection\n",
    "- **Softmax** - fast growing exponential function  \n",
    "- Prediction probability from a softmax distribution has a poor direct correspondence to confidence.\n",
    "- Defines standard tasks and evaluation metrics for OOD detection: \n",
    "    - **AUROC** (Area Under the Receiver Operating Characteristic curve) - sidesteps the issue of threshold selection\n",
    "    - **AUPR** (Area Under the Precision-Recall curve)\n",
    "- **Method 1**: uses maximum predicted class probabilities from softmax\n",
    "    - Softmax prediction probability is a misleading confidence proxy when viewed in isolation."
   ]
  },
  {
   "cell_type": "markdown",
   "metadata": {},
   "source": [
    "### Video - [Thomas G. Dietterich - Calibration Video](https://www.youtube.com/watch?v=ujXgYXpedEk)  \n",
    "- Why Calibrated Probabilities \n",
    "    - [SLIDE ✅](https://docs.google.com/presentation/d/1AOWvjUlaQzOmZU_9lpbL5XqGp3MMvhpCaC26ljsgFmY/edit#slide=id.ga4ff447423_0_10)\n",
    "    - Rational Decision Making\n",
    "    - Interpretability\n",
    "    - System Integration (Sensor Fusing, evidence from multiple sources), ensembles\n",
    "    - Improved Accuracy\n",
    "- Multi-Class Problems [SLIDE ✅]\n",
    "    - Normalized 1-vs-rest calibration\n",
    "    - Softmax Temperature Scaling\n",
    "    - Matrix Scaling (Generalized Platt Scaling)\n",
    "    - Vector Scaling (Generalized Platt Scaling)"
   ]
  },
  {
   "cell_type": "markdown",
   "metadata": {},
   "source": [
    "### Video - [Isotonic Regression - University of Texas Austin](https://www.youtube.com/watch?v=TEbLUhHqLgE)\n",
    "- Piecewise Linear Manner\n",
    "- Monotonic Constraint (no negative slope)\n",
    "- Break the problem into small linear regression ones\n",
    "- https://github.com/GeostatsGuy/PythonNumericalDemos/blob/master/SubsurfaceDataAnalytics_IsotonicRegression.ipynb\n",
    "\n",
    "Minimizes the following problem:\n",
    "\n",
    "$$\n",
    "minimize \\; \\sum_{i}w_{i}\\;(y_{i}-\\hat{y}_{i})^2\n",
    "$$\n",
    "Subject to monotonic constraint (always increasing):\n",
    "$$\n",
    "\\hat{y}_{i} \\leqslant \\hat{y}_{j}\n",
    "$$\n",
    "\n",
    "With hyperparameter $k$ = number of bins"
   ]
  },
  {
   "cell_type": "code",
   "execution_count": 1,
   "metadata": {},
   "outputs": [],
   "source": [
    "import numpy as np\n",
    "import pandas as pd\n",
    "import matplotlib.pyplot as plt\n",
    "from sklearn.model_selection import train_test_split\n",
    "from sklearn.linear_model import LinearRegression\n",
    "from sklearn.isotonic import IsotonicRegression"
   ]
  },
  {
   "cell_type": "code",
   "execution_count": 2,
   "metadata": {},
   "outputs": [],
   "source": [
    "npoints = 70\n",
    "x=np.arange(npoints)\n",
    "slope = 10\n",
    "mu, sigma = 2, 23\n",
    "noise = np.random.normal(mu, sigma, npoints)\n",
    "y = 3*x + noise"
   ]
  },
  {
   "cell_type": "code",
   "execution_count": 3,
   "metadata": {},
   "outputs": [
    {
     "data": {
      "text/html": [
       "<div>\n",
       "<style scoped>\n",
       "    .dataframe tbody tr th:only-of-type {\n",
       "        vertical-align: middle;\n",
       "    }\n",
       "\n",
       "    .dataframe tbody tr th {\n",
       "        vertical-align: top;\n",
       "    }\n",
       "\n",
       "    .dataframe thead th {\n",
       "        text-align: right;\n",
       "    }\n",
       "</style>\n",
       "<table border=\"1\" class=\"dataframe\">\n",
       "  <thead>\n",
       "    <tr style=\"text-align: right;\">\n",
       "      <th></th>\n",
       "      <th>x</th>\n",
       "      <th>y</th>\n",
       "    </tr>\n",
       "  </thead>\n",
       "  <tbody>\n",
       "    <tr>\n",
       "      <th>0</th>\n",
       "      <td>0</td>\n",
       "      <td>16.683669</td>\n",
       "    </tr>\n",
       "    <tr>\n",
       "      <th>1</th>\n",
       "      <td>1</td>\n",
       "      <td>-8.993944</td>\n",
       "    </tr>\n",
       "    <tr>\n",
       "      <th>2</th>\n",
       "      <td>2</td>\n",
       "      <td>-18.323330</td>\n",
       "    </tr>\n",
       "    <tr>\n",
       "      <th>3</th>\n",
       "      <td>3</td>\n",
       "      <td>-21.067972</td>\n",
       "    </tr>\n",
       "    <tr>\n",
       "      <th>4</th>\n",
       "      <td>4</td>\n",
       "      <td>38.922979</td>\n",
       "    </tr>\n",
       "  </tbody>\n",
       "</table>\n",
       "</div>"
      ],
      "text/plain": [
       "   x          y\n",
       "0  0  16.683669\n",
       "1  1  -8.993944\n",
       "2  2 -18.323330\n",
       "3  3 -21.067972\n",
       "4  4  38.922979"
      ]
     },
     "execution_count": 3,
     "metadata": {},
     "output_type": "execute_result"
    }
   ],
   "source": [
    "dataset = pd.DataFrame(data={\"x\":x, \"y\":y})\n",
    "dataset.head()"
   ]
  },
  {
   "cell_type": "code",
   "execution_count": 4,
   "metadata": {},
   "outputs": [],
   "source": [
    "xtrain, xtest, ytrain, ytest = train_test_split(np.array(dataset['x']), np.array(dataset['y']), test_size=0.25)"
   ]
  },
  {
   "cell_type": "code",
   "execution_count": 5,
   "metadata": {},
   "outputs": [
    {
     "data": {
      "text/plain": [
       "Text(0.5, 1.0, 'Number of Bins')"
      ]
     },
     "execution_count": 5,
     "metadata": {},
     "output_type": "execute_result"
    },
    {
     "data": {
      "image/png": "[encoded data removed]",
      "text/plain": [
       "<Figure size 864x576 with 1 Axes>"
      ]
     },
     "metadata": {
      "needs_background": "light"
     },
     "output_type": "display_data"
    }
   ],
   "source": [
    "n_bins = 10\n",
    "X_predict = np.linspace(0,50,n_bins)\n",
    "plt.figure(figsize=(12,8))\n",
    "for p in X_predict:\n",
    "    plt.axvline(p, color = 'gray', alpha = 0.2)\n",
    "plt.scatter(x,y)\n",
    "plt.xlim(0,50)\n",
    "plt.title(\"Number of Bins\")"
   ]
  },
  {
   "cell_type": "code",
   "execution_count": 6,
   "metadata": {},
   "outputs": [
    {
     "data": {
      "text/plain": [
       "IsotonicRegression()"
      ]
     },
     "execution_count": 6,
     "metadata": {},
     "output_type": "execute_result"
    }
   ],
   "source": [
    "lin_model = LinearRegression()\n",
    "lin_model.fit(xtrain.reshape(-1, 1),ytrain)\n",
    "\n",
    "isotonic_model = IsotonicRegression()\n",
    "isotonic_model.fit(xtrain,ytrain)"
   ]
  },
  {
   "cell_type": "code",
   "execution_count": 7,
   "metadata": {},
   "outputs": [],
   "source": [
    "lin_preds = lin_model.predict(np.array(dataset['x']).reshape(-1, 1))"
   ]
  },
  {
   "cell_type": "code",
   "execution_count": 18,
   "metadata": {},
   "outputs": [
    {
     "data": {
      "text/plain": [
       "(array([ 0.        ,  5.55555556, 11.11111111, 16.66666667, 22.22222222,\n",
       "        27.77777778, 33.33333333, 38.88888889, 44.44444444, 50.        ]),\n",
       " array([ -7.56921116,  29.43424094,  40.32843401,  46.27748346,\n",
       "         67.7868774 ,  81.47467355, 129.42179084, 129.42179084,\n",
       "        129.42179084, 154.52154788]))"
      ]
     },
     "execution_count": 18,
     "metadata": {},
     "output_type": "execute_result"
    }
   ],
   "source": [
    "n_bins = 10\n",
    "X_predict = np.linspace(0,50,n_bins)\n",
    "isotonic_preds = isotonic_model.predict(X_predict)\n",
    "X_predict, isotonic_preds"
   ]
  },
  {
   "cell_type": "code",
   "execution_count": 19,
   "metadata": {},
   "outputs": [
    {
     "data": {
      "text/plain": [
       "Text(0.5, 1.0, 'Isotonic Regression')"
      ]
     },
     "execution_count": 19,
     "metadata": {},
     "output_type": "execute_result"
    },
    {
     "data": {
      "image/png": "[encoded data removed]",
      "text/plain": [
       "<Figure size 864x576 with 1 Axes>"
      ]
     },
     "metadata": {
      "needs_background": "light"
     },
     "output_type": "display_data"
    }
   ],
   "source": [
    "plt.figure(figsize=(12,8))\n",
    "for p in X_predict:\n",
    "    plt.axvline(p, color = 'red', alpha = 0.2)\n",
    "plt.scatter(x,y)\n",
    "plt.plot(x,lin_preds, color='green',alpha = 0.5,  linewidth=3, label='predicted test')\n",
    "plt.plot(X_predict,isotonic_preds, color='red',alpha = 0.5,  linewidth=4, label='predicted test')\n",
    "plt.xlim(0,50)\n",
    "\n",
    "arrow = dict(\n",
    "    arrowstyle=\"->\",\n",
    "    connectionstyle=\"angle,angleA=0,angleB=90,rad=10\")\n",
    "bbox = dict(boxstyle=\"round\", fc=\"lightgrey\", lw=2)\n",
    "plt.annotate(\"Linear Model\",  xy=(26,80), xytext=(15,100),  size=14, bbox=bbox, arrowprops=arrow)\n",
    "plt.annotate(\"Isotonic Regression\",  xy=(35,127), xytext=(25,150),  size=14, bbox=bbox, arrowprops=arrow)\n",
    "\n",
    "plt.title(\"Isotonic Regression\", size=20)"
   ]
  },
  {
   "cell_type": "code",
   "execution_count": 11,
   "metadata": {},
   "outputs": [
    {
     "data": {
      "text/plain": [
       "<Figure size 432x288 with 0 Axes>"
      ]
     },
     "metadata": {},
     "output_type": "display_data"
    }
   ],
   "source": [
    "plt.savefig(\"isotonic_regression.png\")"
   ]
  },
  {
   "cell_type": "markdown",
   "metadata": {},
   "source": [
    "### Paper - [Baseline Misclassified](https://arxiv.org/pdf/1610.02136.pdf)"
   ]
  },
  {
   "cell_type": "code",
   "execution_count": null,
   "metadata": {},
   "outputs": [],
   "source": [
    "arrowprops = dict(\n",
    "    arrowstyle=\"->\",\n",
    "    connectionstyle=\"angle,angleA=0,angleB=90,rad=10\")\n",
    "\n",
    "offset = 72\n",
    "ax.annotate(\n",
    "    f'data = ({xdata:.1f}, {ydata:.1f})',\n",
    "    (xdata, ydata),\n",
    "    xytext=(-2*offset, offset), textcoords='offset points',\n",
    "    bbox=bbox, arrowprops=arrowprops)"
   ]
  },
  {
   "cell_type": "code",
   "execution_count": null,
   "metadata": {},
   "outputs": [],
   "source": []
  },
  {
   "cell_type": "code",
   "execution_count": null,
   "metadata": {},
   "outputs": [],
   "source": []
  },
  {
   "cell_type": "code",
   "execution_count": null,
   "metadata": {},
   "outputs": [],
   "source": []
  },
  {
   "cell_type": "code",
   "execution_count": null,
   "metadata": {},
   "outputs": [],
   "source": []
  },
  {
   "cell_type": "markdown",
   "metadata": {},
   "source": [
    "### Paper - [ReLU high-confidence](https://arxiv.org/pdf/1812.05720.pdf)\n",
    "- ReLu - product almost always high confidence away from the data"
   ]
  },
  {
   "cell_type": "code",
   "execution_count": null,
   "metadata": {},
   "outputs": [],
   "source": []
  },
  {
   "cell_type": "code",
   "execution_count": null,
   "metadata": {},
   "outputs": [],
   "source": []
  },
  {
   "cell_type": "code",
   "execution_count": null,
   "metadata": {},
   "outputs": [],
   "source": []
  },
  {
   "cell_type": "code",
   "execution_count": null,
   "metadata": {},
   "outputs": [],
   "source": []
  },
  {
   "cell_type": "markdown",
   "metadata": {},
   "source": [
    "### Review - [Video Yan Lecun](https://www.youtube.com/watch?v=m17B-cXcZFI&t=75s) "
   ]
  },
  {
   "cell_type": "markdown",
   "metadata": {},
   "source": [
    "- Reduce amount of supervision, obtain uncertainty info\n",
    "- Not probabilistic view, no need to normalize\n",
    "- Babies learn from observation, with little interaction\n",
    "- Self-supervised learning $\\rightarrow$ next revolution $\\rightarrow$ use parts of the input to learn, without supervision **_\"filling the blanks\"_**\n",
    "- Big question $\\rightarrow$ how to do predictions in presence of uncertainty\n",
    "- Energy-Based Unsupervised Learning\n",
    "     - Learn an energy function F(Y) \n",
    "         - low values on data manifold (iid)\n",
    "         - higher values everywhere else (OOD)\n",
    "     - Unconditional F(y) and Conditional F(x,y)\n",
    "     - Similar to Auto-encoders (Reconstruction error = Energy Function)\n",
    "     - Most intersting strategy to shape energy function F(y), i.e., push OOD points up $\\rightarrow$ **Regularized Latent Variable EBM**"
   ]
  },
  {
   "cell_type": "markdown",
   "metadata": {},
   "source": [
    "### Review [EBM OOD Paper](https://arxiv.org/abs/2010.03759) "
   ]
  },
  {
   "cell_type": "code",
   "execution_count": null,
   "metadata": {},
   "outputs": [],
   "source": []
  },
  {
   "cell_type": "code",
   "execution_count": null,
   "metadata": {},
   "outputs": [],
   "source": []
  },
  {
   "cell_type": "markdown",
   "metadata": {},
   "source": [
    "### Review [A Tutorial on Energy-Based Learning](http://yann.lecun.com/exdb/publis/pdf/lecun-06.pdf) "
   ]
  },
  {
   "cell_type": "code",
   "execution_count": null,
   "metadata": {},
   "outputs": [],
   "source": []
  },
  {
   "cell_type": "code",
   "execution_count": null,
   "metadata": {},
   "outputs": [],
   "source": []
  },
  {
   "cell_type": "code",
   "execution_count": null,
   "metadata": {},
   "outputs": [],
   "source": []
  },
  {
   "cell_type": "markdown",
   "metadata": {},
   "source": [
    "## Dataset - Census Income Dataset"
   ]
  },
  {
   "cell_type": "code",
   "execution_count": null,
   "metadata": {},
   "outputs": [],
   "source": []
  },
  {
   "cell_type": "code",
   "execution_count": null,
   "metadata": {},
   "outputs": [],
   "source": []
  },
  {
   "cell_type": "code",
   "execution_count": null,
   "metadata": {},
   "outputs": [],
   "source": []
  },
  {
   "cell_type": "code",
   "execution_count": null,
   "metadata": {},
   "outputs": [],
   "source": []
  },
  {
   "cell_type": "code",
   "execution_count": null,
   "metadata": {},
   "outputs": [],
   "source": []
  },
  {
   "cell_type": "code",
   "execution_count": null,
   "metadata": {},
   "outputs": [],
   "source": []
  },
  {
   "cell_type": "markdown",
   "metadata": {},
   "source": [
    "## Slide: Calibration "
   ]
  },
  {
   "cell_type": "code",
   "execution_count": null,
   "metadata": {},
   "outputs": [],
   "source": [
    "import numpy as np\n",
    "import pandas as pd"
   ]
  },
  {
   "cell_type": "code",
   "execution_count": null,
   "metadata": {},
   "outputs": [],
   "source": [
    "size = 50\n",
    "random_probas = pd.DataFrame(data=np.random.random(size), columns = [\"Predicted Probas\"])\n",
    "random_probas.tail()"
   ]
  },
  {
   "cell_type": "code",
   "execution_count": null,
   "metadata": {},
   "outputs": [],
   "source": [
    "random_probas['True outcome']=random_probas['Predicted Probas'].apply(lambda x: 1 if x-np.random.choice([0, np.random.random(1)])>0.5 else 0)\n",
    "random_probas_sorted = random_probas.sort_values(by = 'Predicted Probas').reset_index(drop=True)\n",
    "random_probas_sorted.tail()"
   ]
  },
  {
   "cell_type": "code",
   "execution_count": null,
   "metadata": {},
   "outputs": [],
   "source": [
    "#!pip install arviz"
   ]
  },
  {
   "cell_type": "code",
   "execution_count": null,
   "metadata": {},
   "outputs": [],
   "source": [
    "import arviz as az\n"
   ]
  },
  {
   "cell_type": "code",
   "execution_count": null,
   "metadata": {},
   "outputs": [],
   "source": [
    "az.plot_kde(random_probas_sorted['Predicted Probas'])\n",
    "az.set_ylim([-0.05, 1.05])"
   ]
  },
  {
   "cell_type": "code",
   "execution_count": null,
   "metadata": {},
   "outputs": [],
   "source": [
    "s = pd.Series(random_probas_sorted['Predicted Probas'])\n",
    "s.plot.kde()"
   ]
  },
  {
   "cell_type": "code",
   "execution_count": null,
   "metadata": {},
   "outputs": [],
   "source": [
    "import matplotlib.pyplot as plt\n",
    "from sklearn.calibration import calibration_curve\n",
    "%matplotlib inline"
   ]
  },
  {
   "cell_type": "code",
   "execution_count": null,
   "metadata": {},
   "outputs": [],
   "source": [
    "def plot_calibration_curve(df, num_bins=5):\n",
    "    \n",
    "    ## Normalize Probs\n",
    "    df['Predicted Probas']=(df['Predicted Probas'] - df['Predicted Probas'].min()) / (df['Predicted Probas'].max() - df['Predicted Probas'].min())\n",
    "    \n",
    "    ## Getting DataFrame\n",
    "    df['bins'] = pd.cut(df['Predicted Probas'], num_bins, labels=np.arange(num_bins))\n",
    "    bined_plot = random_probas_sorted.groupby('bins').mean()\n",
    "\n",
    "    ## Plot Calibration Curve\n",
    "    plt.figure(figsize=(10, 10))\n",
    "    ax1 = plt.subplot2grid((3, 1), (0, 0), rowspan=2)\n",
    "    ax2 = plt.subplot2grid((3, 1), (2, 0))\n",
    "    ax1.plot([0, 1], [0, 1], \"k:\", label=\"Perfectly calibrated\")\n",
    "    ax1.plot(bined_plot['Predicted Probas'], bined_plot['True outcome'], \"s-\", label=\"Reliability Plot\")\n",
    "    ax2.hist(df['Predicted Probas'], range=(0, 1), bins=num_bins, histtype=\"step\", lw=2)\n",
    "    ax1.set_ylabel(\"Fraction of positives\")\n",
    "    ax1.set_ylim([-0.05, 1.05])\n",
    "    ax1.legend(loc=\"lower right\")\n",
    "    ax1.set_title('Calibration plots  (reliability curve)')\n",
    "    ax2.set_xlabel(\"Mean predicted value\")\n",
    "    ax2.set_ylabel(\"Count\")\n",
    "    ax2.legend(loc=\"upper center\", ncol=2)\n",
    "    plt.tight_layout()\n",
    "    plt.show()"
   ]
  },
  {
   "cell_type": "code",
   "execution_count": null,
   "metadata": {},
   "outputs": [],
   "source": [
    "plot_calibration_curve(random_probas_sorted, num_bins=5)"
   ]
  },
  {
   "cell_type": "code",
   "execution_count": null,
   "metadata": {},
   "outputs": [],
   "source": []
  },
  {
   "cell_type": "markdown",
   "metadata": {},
   "source": [
    "## Brier Score"
   ]
  },
  {
   "cell_type": "code",
   "execution_count": null,
   "metadata": {},
   "outputs": [],
   "source": []
  },
  {
   "cell_type": "code",
   "execution_count": null,
   "metadata": {},
   "outputs": [],
   "source": []
  },
  {
   "cell_type": "code",
   "execution_count": null,
   "metadata": {},
   "outputs": [],
   "source": []
  },
  {
   "cell_type": "code",
   "execution_count": null,
   "metadata": {},
   "outputs": [],
   "source": []
  },
  {
   "cell_type": "code",
   "execution_count": null,
   "metadata": {},
   "outputs": [],
   "source": []
  },
  {
   "cell_type": "code",
   "execution_count": null,
   "metadata": {},
   "outputs": [],
   "source": []
  },
  {
   "cell_type": "code",
   "execution_count": null,
   "metadata": {},
   "outputs": [],
   "source": []
  }
 ],
 "metadata": {
  "kernelspec": {
   "display_name": "torch",
   "language": "python",
   "name": "torch"
  },
  "language_info": {
   "codemirror_mode": {
    "name": "ipython",
    "version": 3
   },
   "file_extension": ".py",
   "mimetype": "text/x-python",
   "name": "python",
   "nbconvert_exporter": "python",
   "pygments_lexer": "ipython3",
   "version": "3.7.2"
  }
 },
 "nbformat": 4,
 "nbformat_minor": 4
}
