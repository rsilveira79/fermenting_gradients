{
 "cells": [
  {
   "cell_type": "code",
   "execution_count": 2,
   "metadata": {},
   "outputs": [],
   "source": [
    "import requests\n",
    "import urllib.request\n",
    "import time\n",
    "from bs4 import BeautifulSoup\n",
    "from string import punctuation\n",
    "import numpy as np\n",
    "import pandas as pd\n",
    "import pickle\n",
    "import pickle, re\n",
    "\n",
    "## Imports\n",
    "import torch\n",
    "import torch.nn as nn\n",
    "import torch.optim as optim\n",
    "\n",
    "## Embeddings\n",
    "from flair.data import Sentence\n",
    "from flair.embeddings import FlairEmbeddings\n",
    "\n",
    "## Ploting\n",
    "%matplotlib inline\n",
    "from torch.nn.functional import interpolate\n",
    "from sklearn.manifold import TSNE\n",
    "import matplotlib.pyplot as plt\n",
    "\n",
    "from tqdm import tqdm_notebook\n",
    "import warnings\n",
    "warnings.filterwarnings(\"ignore\")"
   ]
  },
  {
   "cell_type": "markdown",
   "metadata": {},
   "source": [
    "## Crawling NIPs Paper Information w/ Beautiful Soup"
   ]
  },
  {
   "cell_type": "code",
   "execution_count": null,
   "metadata": {},
   "outputs": [],
   "source": [
    "url = 'https://nips.cc/Conferences/2019/AcceptedPapersInitial'\n",
    "response = requests.get(url)"
   ]
  },
  {
   "cell_type": "code",
   "execution_count": null,
   "metadata": {},
   "outputs": [],
   "source": [
    "def strip_punctuation(s):\n",
    "    return ''.join(c for c in s if c not in punctuation)"
   ]
  },
  {
   "cell_type": "code",
   "execution_count": null,
   "metadata": {},
   "outputs": [],
   "source": [
    "def clean_title(x):\n",
    "    x = str(x).replace(\"<b>\",\"\").replace(\"</b>\",\"\")\n",
    "    x = x.replace(\"-\",\" \")\n",
    "    x = strip_punctuation(x)\n",
    "    x = x.lower()\n",
    "    return x"
   ]
  },
  {
   "cell_type": "code",
   "execution_count": null,
   "metadata": {},
   "outputs": [],
   "source": [
    "soup = BeautifulSoup(response.text, \"html.parser\")\n",
    "paper_title = soup.findAll('b')\n",
    "paper_title = paper_title[3:] ## Removing some initial garbage\n",
    "paper_title = [clean_title(x) for x in paper_title]\n",
    "print(len(paper_title))\n",
    "paper_title[0:10]"
   ]
  },
  {
   "cell_type": "markdown",
   "metadata": {},
   "source": [
    "# Embeddings - Using Flair"
   ]
  },
  {
   "cell_type": "code",
   "execution_count": null,
   "metadata": {},
   "outputs": [],
   "source": [
    "flair_embedding_forward = FlairEmbeddings('news-forward')"
   ]
  },
  {
   "cell_type": "code",
   "execution_count": null,
   "metadata": {},
   "outputs": [],
   "source": [
    "def get_flair_embedding(sent):\n",
    "    sentence = Sentence(sent)\n",
    "    flair_embedding_forward.embed(sentence)\n",
    "    all_tensors = torch.zeros(flair_embedding_forward.embedding_length)\n",
    "    for token in sentence:\n",
    "        all_tensors+=token.embedding\n",
    "    return all_tensors/len(sentence)"
   ]
  },
  {
   "cell_type": "code",
   "execution_count": null,
   "metadata": {},
   "outputs": [],
   "source": [
    "def get_cosine_distance(text_1, text_2):\n",
    "    cos = nn.CosineSimilarity(dim=0, eps=1e-6)\n",
    "    cos_sim = cos(text_1, text_2)\n",
    "    return cos_sim.detach().numpy()"
   ]
  },
  {
   "cell_type": "code",
   "execution_count": null,
   "metadata": {},
   "outputs": [],
   "source": [
    "def get_flair_embedding_batch(sent_list):\n",
    "    size_array = len(sent_list)\n",
    "    tensor_array = torch.full((len(sent_list), flair_embedding_forward.embedding_length), fill_value = 0)\n",
    "    for i,sent in tqdm_notebook(enumerate(sent_list)):\n",
    "        sentence = Sentence(sent)\n",
    "        flair_embedding_forward.embed(sentence)\n",
    "        all_tensors = torch.zeros(flair_embedding_forward.embedding_length)\n",
    "        for token in sentence:\n",
    "            all_tensors+=token.embedding\n",
    "        all_tensors_avg = all_tensors/len(sentence)\n",
    "        tensor_array[i]=all_tensors_avg\n",
    "    return tensor_array"
   ]
  },
  {
   "cell_type": "markdown",
   "metadata": {},
   "source": [
    "## Embeddings - BERT"
   ]
  },
  {
   "cell_type": "code",
   "execution_count": null,
   "metadata": {},
   "outputs": [],
   "source": [
    "from flair.embeddings import BertEmbeddings"
   ]
  },
  {
   "cell_type": "code",
   "execution_count": null,
   "metadata": {},
   "outputs": [],
   "source": [
    "bert_embedding = BertEmbeddings()"
   ]
  },
  {
   "cell_type": "code",
   "execution_count": null,
   "metadata": {},
   "outputs": [],
   "source": [
    "bert_embedding.embedding_length"
   ]
  },
  {
   "cell_type": "code",
   "execution_count": null,
   "metadata": {},
   "outputs": [],
   "source": [
    "def get_bert_embedding(sent):\n",
    "    sentence = Sentence(sent)\n",
    "    bert_embedding.embed(sentence)\n",
    "    all_tensors = torch.zeros(bert_embedding.embedding_length)\n",
    "    for token in sentence:\n",
    "        all_tensors+=token.embedding\n",
    "    return all_tensors/len(sentence)"
   ]
  },
  {
   "cell_type": "code",
   "execution_count": null,
   "metadata": {},
   "outputs": [],
   "source": [
    "get_bert_embedding(\"is this it\").shape"
   ]
  },
  {
   "cell_type": "code",
   "execution_count": null,
   "metadata": {},
   "outputs": [],
   "source": [
    "def get_bert_embedding_batch(sent_list):\n",
    "    size_array = len(sent_list)\n",
    "    tensor_array = torch.full((len(sent_list), bert_embedding.embedding_length), fill_value = 0)\n",
    "    for i,sent in tqdm_notebook(enumerate(sent_list)):\n",
    "        embed = get_bert_embedding(sent)\n",
    "        tensor_array[i]=embed\n",
    "    return tensor_array"
   ]
  },
  {
   "cell_type": "code",
   "execution_count": null,
   "metadata": {},
   "outputs": [],
   "source": [
    "embeddings_papers_bert = get_bert_embedding_batch(list(nips_2018_dataframe['clean_field'])).detach()"
   ]
  },
  {
   "cell_type": "code",
   "execution_count": null,
   "metadata": {},
   "outputs": [],
   "source": [
    "with open(\"nips_2018_bert.pkl\", \"wb\") as f:\n",
    "    pickle.dump((nips_2018_dataframe,embeddings_papers_bert),f)"
   ]
  },
  {
   "cell_type": "markdown",
   "metadata": {},
   "source": [
    "## Getting Abstracts w/ BeatifulSoup"
   ]
  },
  {
   "cell_type": "code",
   "execution_count": null,
   "metadata": {},
   "outputs": [],
   "source": [
    "url = 'http://papers.nips.cc/paper/7288-kalman-normalization-normalizing-internal-representations-across-network-layers'"
   ]
  },
  {
   "cell_type": "code",
   "execution_count": null,
   "metadata": {},
   "outputs": [],
   "source": [
    "def get_title_abstract(url):\n",
    "    response = requests.get(url)\n",
    "    soup = BeautifulSoup(response.text, \"html.parser\")\n",
    "    title = soup.find(attrs={'class' : 'subtitle'})\n",
    "    abstract = soup.find(attrs={'class' : 'abstract'})\n",
    "    return title.get_text(), abstract.get_text()"
   ]
  },
  {
   "cell_type": "code",
   "execution_count": null,
   "metadata": {},
   "outputs": [],
   "source": [
    "get_title_abstract(url)"
   ]
  },
  {
   "cell_type": "markdown",
   "metadata": {},
   "source": [
    "## Get all links for a given NIPs year"
   ]
  },
  {
   "cell_type": "code",
   "execution_count": null,
   "metadata": {},
   "outputs": [],
   "source": [
    "links_url = 'http://papers.nips.cc/book/advances-in-neural-information-processing-systems-31-2018'"
   ]
  },
  {
   "cell_type": "code",
   "execution_count": null,
   "metadata": {},
   "outputs": [],
   "source": [
    "response = requests.get(links_url)\n",
    "soup = BeautifulSoup(response.text, \"html.parser\")\n",
    "main_wrapper = soup.find(attrs={'class' : 'main wrapper clearfix'})"
   ]
  },
  {
   "cell_type": "code",
   "execution_count": null,
   "metadata": {},
   "outputs": [],
   "source": [
    "paper_urls = []\n",
    "for a in main_wrapper.find_all('a', href=True):\n",
    "    if '/paper/' in str(a):\n",
    "        paper_urls.append(\"http://papers.nips.cc\" + a['href'])\n",
    "print(\"Total papers in 2018: {}\".format(len(paper_urls)))\n",
    "paper_urls[0:5]"
   ]
  },
  {
   "cell_type": "code",
   "execution_count": null,
   "metadata": {},
   "outputs": [],
   "source": [
    "nips_2018 = {}\n",
    "for i in tqdm_notebook(range(len(paper_urls))):\n",
    "    t, a = get_title_abstract(paper_urls[i])\n",
    "    nips_2018[i] = {\"title\":t, \"abstract\":a}\n",
    "nips_2018[2]"
   ]
  },
  {
   "cell_type": "code",
   "execution_count": null,
   "metadata": {},
   "outputs": [],
   "source": [
    "nips_2018_dataframe = pd.DataFrame.from_dict(nips_2018, orient='index')\n",
    "nips_2018_dataframe.tail()"
   ]
  },
  {
   "cell_type": "code",
   "execution_count": null,
   "metadata": {},
   "outputs": [],
   "source": [
    "nips_2018_dataframe['clean_field'] = nips_2018_dataframe['title'] + ' ' + nips_2018_dataframe['abstract']\n",
    "nips_2018_dataframe['clean_field'] = nips_2018_dataframe['clean_field'].apply(lambda x: clean_title(x))\n",
    "nips_2018_dataframe['clean_field'][1008]"
   ]
  },
  {
   "cell_type": "code",
   "execution_count": null,
   "metadata": {},
   "outputs": [],
   "source": [
    "embeddings_papers = get_flair_embedding_batch(list(nips_2018_dataframe['clean_field'])).detach()"
   ]
  },
  {
   "cell_type": "code",
   "execution_count": null,
   "metadata": {},
   "outputs": [],
   "source": [
    "with open(\"nips_2018.pkl\", \"wb\") as f:\n",
    "    pickle.dump((nips_2018_dataframe,embeddings_papers),f)"
   ]
  },
  {
   "cell_type": "markdown",
   "metadata": {},
   "source": [
    "# Embeddings - Using ELMo"
   ]
  },
  {
   "cell_type": "code",
   "execution_count": null,
   "metadata": {},
   "outputs": [],
   "source": [
    "## AllenNLP\n",
    "import allennlp\n",
    "from allennlp.modules.elmo import Elmo, batch_to_ids"
   ]
  },
  {
   "cell_type": "code",
   "execution_count": null,
   "metadata": {},
   "outputs": [],
   "source": [
    "!ls ../../../vectors/"
   ]
  },
  {
   "cell_type": "code",
   "execution_count": null,
   "metadata": {},
   "outputs": [],
   "source": [
    "elmo_weights_key = '../../../vectors/elmo_2x4096_512_2048cnn_2xhighway_5.5B_weights.hdf5'\n",
    "elmo_config_key = '../../../vectors/elmo_2x4096_512_2048cnn_2xhighway_5.5B_options.json'\n",
    "elmo = Elmo(elmo_config_key, elmo_weights_key, num_output_representations = 1, dropout=0.3, requires_grad = False)"
   ]
  },
  {
   "cell_type": "code",
   "execution_count": null,
   "metadata": {},
   "outputs": [],
   "source": [
    "def get_elmo(sent):\n",
    "    elmo.eval()\n",
    "    sent = [sent.split()]\n",
    "    character_ids = batch_to_ids(sent)\n",
    "    if torch.cuda.is_available():\n",
    "        character_ids = character_ids.cuda()\n",
    "    embeddings = elmo(character_ids)\n",
    "    rep = embeddings['elmo_representations'][0]\n",
    "    rep = rep.squeeze(dim=0)\n",
    "    avg = rep.mean(dim=0)\n",
    "    avg = avg/torch.norm(avg)\n",
    "    return avg"
   ]
  },
  {
   "cell_type": "code",
   "execution_count": null,
   "metadata": {},
   "outputs": [],
   "source": [
    "def get_elmo_embedding_batch(sent_list):\n",
    "    size_array = len(sent_list)\n",
    "    tensor_array = torch.full((len(sent_list), elmo.get_output_dim()), fill_value = 0)\n",
    "    for i,sent in tqdm_notebook(enumerate(sent_list)):\n",
    "        embed = get_elmo(sent)\n",
    "        tensor_array[i]=embed\n",
    "    return tensor_array"
   ]
  },
  {
   "cell_type": "code",
   "execution_count": null,
   "metadata": {},
   "outputs": [],
   "source": [
    "embeddings_papers_elmo = get_elmo_embedding_batch(list(nips_2018_dataframe['clean_field']))"
   ]
  },
  {
   "cell_type": "code",
   "execution_count": null,
   "metadata": {},
   "outputs": [],
   "source": [
    "embeddings_papers_elmo[0]"
   ]
  },
  {
   "cell_type": "code",
   "execution_count": null,
   "metadata": {},
   "outputs": [],
   "source": [
    "with open(\"nips_2018_elmo.pkl\", \"wb\") as f:\n",
    "    pickle.dump((nips_2018_dataframe,embeddings_papers_elmo),f)"
   ]
  },
  {
   "cell_type": "markdown",
   "metadata": {},
   "source": [
    "## Loading Dataframe"
   ]
  },
  {
   "cell_type": "code",
   "execution_count": null,
   "metadata": {},
   "outputs": [],
   "source": [
    "!ls -lah"
   ]
  },
  {
   "cell_type": "code",
   "execution_count": null,
   "metadata": {},
   "outputs": [],
   "source": [
    "embed_type = 'bert'\n",
    "file_embeds = {\n",
    "    'elmo':   'nips_2018_elmo.pkl',\n",
    "    'flair':  'nips_2018.pkl',\n",
    "    'bert':   'nips_2018_bert.pkl'\n",
    "}"
   ]
  },
  {
   "cell_type": "code",
   "execution_count": null,
   "metadata": {},
   "outputs": [],
   "source": [
    "with open(file_embeds[embed_type], \"rb\") as f:\n",
    "    nips_2018_dataframe, embeddings_papers = pickle.load(f)"
   ]
  },
  {
   "cell_type": "code",
   "execution_count": null,
   "metadata": {},
   "outputs": [],
   "source": [
    "if embeddings_papers.requires_grad:\n",
    "    embeddings_papers = embeddings_papers.detach()"
   ]
  },
  {
   "cell_type": "code",
   "execution_count": null,
   "metadata": {},
   "outputs": [],
   "source": [
    "embeddings_papers.shape"
   ]
  },
  {
   "cell_type": "code",
   "execution_count": null,
   "metadata": {},
   "outputs": [],
   "source": [
    "nips_2018_dataframe.head()"
   ]
  },
  {
   "cell_type": "code",
   "execution_count": null,
   "metadata": {},
   "outputs": [],
   "source": [
    "def plot_nearest_papers(nearest_dataframe, perplexity = 20):\n",
    "    ## Do TSNE and plot\n",
    "    tsne=TSNE(n_components=2, perplexity = perplexity, method ='barnes_hut',verbose=1)\n",
    "    sentences_tsne = tsne.fit_transform(embeddings_papers.numpy())  \n",
    "    nearest_array = np.full((len(nearest_dataframe['index']),sentences_tsne.shape[1]), 5).astype('float32')\n",
    "    for i, point in enumerate(list(nearest_dataframe['index'])):\n",
    "        nearest_array[i] = sentences_tsne[point]\n",
    "        \n",
    "    ## Sets to plot\n",
    "    initial_points = (sentences_tsne[:,0],sentences_tsne[:,1])\n",
    "    nearest_points = (nearest_array[:,0],nearest_array[:,1])\n",
    "    \n",
    "    ## Plotting and adding label\n",
    "    plt.subplots(figsize=(30, 15))\n",
    "    plt.grid()\n",
    "    plt.scatter(initial_points[0], initial_points[1], c='y', marker='o')\n",
    "    plt.scatter(nearest_points[0], nearest_points[1], c='r', marker='x', s = 30)\n",
    "    for label, x, y in zip(nearest_dataframe['Paper Title'], nearest_points[0], nearest_points[1]):\n",
    "         font = {'size' : 16, 'weight' : 'normal'}\n",
    "         plt.rc('font', **font)\n",
    "         plt.annotate(label, xy=(x, y), xytext=(0, 0), textcoords='offset pixels')\n",
    "    return None"
   ]
  },
  {
   "cell_type": "code",
   "execution_count": null,
   "metadata": {},
   "outputs": [],
   "source": [
    "### Get distance function\n",
    "def calculate_nearest_paper(query_text, topn=5, query_type='full'):\n",
    "    text_distances = pd.DataFrame(columns=['Paper Title', 'Distance', 'index'])\n",
    "    if embed_type == 'flair':\n",
    "        query_embedding = get_flair_embedding(query_text)\n",
    "    elif embed_type == 'elmo':\n",
    "        query_embedding = get_elmo(query_text)\n",
    "    elif embed_type == 'bert':\n",
    "        query_embedding = get_bert_embedding(query_text)\n",
    "    for i, txt in enumerate(range(len(nips_2018_dataframe))):\n",
    "        dist = get_cosine_distance(query_embedding,embeddings_papers[i])\n",
    "        text_distances.loc[i]=[nips_2018_dataframe['title'][i].split('.')[0],dist, i]\n",
    "    text_distances= text_distances.sort_values(by=['Distance'], ascending = False).reset_index(drop=True)[0:topn]\n",
    "    return text_distances"
   ]
  },
  {
   "cell_type": "code",
   "execution_count": null,
   "metadata": {},
   "outputs": [],
   "source": [
    "num_papers = 10"
   ]
  },
  {
   "cell_type": "code",
   "execution_count": null,
   "metadata": {},
   "outputs": [],
   "source": [
    "ix = np.random.choice(len(nips_2018_dataframe))\n",
    "print(\"{} - {}\".format(ix, nips_2018_dataframe['title'][ix]))\n",
    "nearest_papers = calculate_nearest_paper(nips_2018_dataframe['clean_field'][ix], topn=num_papers)\n",
    "nearest_papers"
   ]
  },
  {
   "cell_type": "code",
   "execution_count": null,
   "metadata": {},
   "outputs": [],
   "source": [
    "plot_nearest_papers(nearest_papers, perplexity = 4)"
   ]
  },
  {
   "cell_type": "markdown",
   "metadata": {},
   "source": [
    "## DPP papers"
   ]
  },
  {
   "cell_type": "code",
   "execution_count": null,
   "metadata": {},
   "outputs": [],
   "source": [
    "from numpy.random import rand, randn\n",
    "from scipy.linalg import qr\n",
    "from numpy import linalg as LA\n",
    "from dppy.finite_dpps import FiniteDPP"
   ]
  },
  {
   "cell_type": "code",
   "execution_count": null,
   "metadata": {},
   "outputs": [],
   "source": [
    "def get_diverse_papers(samp_size, total_samp = 10):\n",
    "    eig_vecs, _ = qr(embeddings_papers)\n",
    "    eigenvals_sentences  = LA.eigvals(eig_vecs).astype('float64')\n",
    "    DPP = FiniteDPP(kernel_type='likelihood',\n",
    "                **{'L': (eig_vecs * eigenvals_sentences).dot(eig_vecs.T)})\n",
    "    \n",
    "    DPP.flush_samples()\n",
    "    for _ in range(total_samp):\n",
    "        DPP.sample_exact_k_dpp(size=samp_size)\n",
    "    rand_sample = np.random.choice(len(DPP.list_of_samples))\n",
    "    diverse = DPP.list_of_samples[rand_sample]\n",
    "    diverse_papers_df = pd.DataFrame(columns=['Paper Title', 'index'])\n",
    "    for i, ix in enumerate(diverse):\n",
    "        diverse_papers_df.loc[i] = [nips_2018_dataframe['title'][ix], ix ]\n",
    "    return diverse_papers_df"
   ]
  },
  {
   "cell_type": "code",
   "execution_count": null,
   "metadata": {},
   "outputs": [],
   "source": [
    "diverse_papers_df = get_diverse_papers(num_papers)\n",
    "diverse_papers_df"
   ]
  },
  {
   "cell_type": "code",
   "execution_count": null,
   "metadata": {},
   "outputs": [],
   "source": [
    "plot_nearest_papers(diverse_papers_df, perplexity = 10)"
   ]
  },
  {
   "cell_type": "code",
   "execution_count": null,
   "metadata": {},
   "outputs": [],
   "source": [
    "plot_nearest_papers(nearest_papers, perplexity = 10)"
   ]
  },
  {
   "cell_type": "code",
   "execution_count": null,
   "metadata": {},
   "outputs": [],
   "source": [
    "diverse_papers_df"
   ]
  },
  {
   "cell_type": "code",
   "execution_count": null,
   "metadata": {},
   "outputs": [],
   "source": [
    "nearest_papers"
   ]
  },
  {
   "cell_type": "code",
   "execution_count": null,
   "metadata": {},
   "outputs": [],
   "source": []
  }
 ],
 "metadata": {
  "kernelspec": {
   "display_name": "Python (nlp_new)",
   "language": "python",
   "name": "nlp_new"
  },
  "language_info": {
   "codemirror_mode": {
    "name": "ipython",
    "version": 3
   },
   "file_extension": ".py",
   "mimetype": "text/x-python",
   "name": "python",
   "nbconvert_exporter": "python",
   "pygments_lexer": "ipython3",
   "version": "3.6.3"
  }
 },
 "nbformat": 4,
 "nbformat_minor": 2
}
