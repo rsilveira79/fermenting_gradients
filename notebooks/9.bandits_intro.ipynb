{
 "cells": [
  {
   "cell_type": "code",
   "execution_count": 1,
   "metadata": {},
   "outputs": [],
   "source": [
    "import json\n",
    "import numpy as np\n",
    "import matplotlib.pyplot as plt\n",
    "import pandas as pd"
   ]
  },
  {
   "cell_type": "code",
   "execution_count": null,
   "metadata": {},
   "outputs": [],
   "source": [
    "# class for our row of bandits\n",
    "class MAB:\n",
    "    \n",
    "    # initialization\n",
    "    def __init__(self, bandit_probs):\n",
    "        \n",
    "        # storing bandit probs\n",
    "        self.bandit_probs = bandit_probs\n",
    "        \n",
    "    # function that helps us draw from the bandits\n",
    "    def draw(self, k):\n",
    "\n",
    "        # we return the reward and the regret of the action\n",
    "        return np.random.binomial(1, self.bandit_probs[k]), np.max(self.bandit_probs) - self.bandit_probs[k]"
   ]
  },
  {
   "cell_type": "code",
   "execution_count": null,
   "metadata": {},
   "outputs": [],
   "source": [
    "probs = [0.25, 0.3, 0.4, 0.35]\n",
    "\n",
    "bandits = MAB(probs)"
   ]
  },
  {
   "cell_type": "code",
   "execution_count": null,
   "metadata": {},
   "outputs": [],
   "source": [
    "bandits.draw(3)"
   ]
  },
  {
   "cell_type": "markdown",
   "metadata": {},
   "source": [
    "## Playing with Beta distribution"
   ]
  },
  {
   "cell_type": "code",
   "execution_count": null,
   "metadata": {},
   "outputs": [],
   "source": [
    "import torch\n",
    "import altair as alt\n",
    "from torch.distributions import Beta\n",
    "alt.data_transformers.disable_max_rows()"
   ]
  },
  {
   "cell_type": "code",
   "execution_count": null,
   "metadata": {},
   "outputs": [],
   "source": [
    "alpha_sucess = 200.\n",
    "beta_failures = 100.\n",
    "n_samples = 10000\n",
    "m = Beta(torch.tensor(alpha_sucess), torch.tensor(beta_failures))\n",
    "m.sample()"
   ]
  },
  {
   "cell_type": "code",
   "execution_count": null,
   "metadata": {},
   "outputs": [],
   "source": [
    "data = pd.DataFrame()\n",
    "alpha_sucess = [0., 1000.,1000., 500.]\n",
    "beta_failures = [1000., 10., 1000.,5000.]\n",
    "n_samples = 10000\n",
    "for i, (a, b) in enumerate(zip(alpha_sucess, beta_failures)):\n",
    "    m = Beta(torch.tensor(a), torch.tensor(b))\n",
    "    m.sample()\n",
    "    draws = np.vstack([m.sample().numpy() for x in range(n_samples)]).squeeze()\n",
    "    data = data.assign(**{\"probs_{}\".format(i):draws})"
   ]
  },
  {
   "cell_type": "code",
   "execution_count": null,
   "metadata": {},
   "outputs": [],
   "source": [
    "alt.Chart(data).transform_fold(\n",
    "    ['probs_0',\n",
    "     'probs_1',\n",
    "     'probs_2',\n",
    "     'probs_3'],\n",
    "    as_ = ['Measurement_type', 'value']\n",
    ").transform_density(\n",
    "    density='value',\n",
    "    bandwidth=0.1,\n",
    "    groupby=['Measurement_type'],\n",
    "    extent= [0, 1],\n",
    ").mark_area().encode(\n",
    "    alt.X('value:Q'),\n",
    "    alt.Y('density:Q'),\n",
    "    alt.Color('Measurement_type:N')\n",
    ").properties(width=800, height=400)"
   ]
  },
  {
   "cell_type": "code",
   "execution_count": null,
   "metadata": {},
   "outputs": [],
   "source": []
  }
 ],
 "metadata": {
  "kernelspec": {
   "display_name": "Python (nlp_new)",
   "language": "python",
   "name": "nlp_new"
  },
  "language_info": {
   "codemirror_mode": {
    "name": "ipython",
    "version": 3
   },
   "file_extension": ".py",
   "mimetype": "text/x-python",
   "name": "python",
   "nbconvert_exporter": "python",
   "pygments_lexer": "ipython3",
   "version": "3.6.3"
  }
 },
 "nbformat": 4,
 "nbformat_minor": 2
}
