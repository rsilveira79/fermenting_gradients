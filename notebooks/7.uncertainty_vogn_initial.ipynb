{
 "cells": [
  {
   "cell_type": "code",
   "execution_count": 1,
   "metadata": {},
   "outputs": [
    {
     "name": "stderr",
     "output_type": "stream",
     "text": [
      "/Users/rsilvei/Envs/nlp_new/lib/python3.6/site-packages/chainer-7.0.0-py3.6.egg/chainer/_environment_check.py:54: UserWarning: Accelerate has been detected as a NumPy backend library.\n",
      "vecLib, which is a part of Accelerate, is known not to work correctly with Chainer.\n",
      "We recommend using other BLAS libraries such as OpenBLAS.\n",
      "For details of the issue, please see\n",
      "https://docs.chainer.org/en/stable/tips.html#mnist-example-does-not-converge-in-cpu-mode-on-mac-os-x.\n",
      "\n",
      "Please be aware that Mac OS X is not an officially supported OS.\n",
      "\n",
      "  ''')  # NOQA\n"
     ]
    }
   ],
   "source": [
    "import torch\n",
    "import torchsso\n",
    "\n",
    "import warnings\n",
    "warnings.filterwarnings(\"ignore\")"
   ]
  },
  {
   "cell_type": "code",
   "execution_count": 2,
   "metadata": {},
   "outputs": [
    {
     "name": "stdout",
     "output_type": "stream",
     "text": [
      "1.3.1\n"
     ]
    }
   ],
   "source": [
    "import os\n",
    "import pandas as pd\n",
    "import numpy as np\n",
    "import json, re\n",
    "from tqdm import tqdm_notebook\n",
    "\n",
    "# Torch, Sklearn imports\n",
    "from sklearn.model_selection import train_test_split\n",
    "import torch\n",
    "import torch.optim as optim\n",
    "import torch.nn as nn\n",
    "import torch.nn.functional as F\n",
    "from torch.autograd import Variable\n",
    "from torch.utils.data import TensorDataset, Dataset, DataLoader, RandomSampler\n",
    "\n",
    "# Sklearn and Matplotlib\n",
    "from sklearn.datasets import make_blobs\n",
    "import numpy as np\n",
    "import matplotlib.pyplot as plt\n",
    "plt.rcParams['font.size'] = 18\n",
    "print(torch.__version__)"
   ]
  },
  {
   "cell_type": "code",
   "execution_count": null,
   "metadata": {},
   "outputs": [],
   "source": [
    "use_cuda = torch.cuda.is_available()\n",
    "device = torch.device('cuda' if use_cuda else 'cpu')\n",
    "use_cuda, device"
   ]
  },
  {
   "cell_type": "code",
   "execution_count": null,
   "metadata": {},
   "outputs": [],
   "source": [
    " # Generate a dataset - Args\n",
    "n_samples = 500\n",
    "centers = 5\n",
    "random_state = 5\n",
    "batch_size = 5\n",
    "epochs = 50\n",
    "plot_interval = 50\n",
    "fig_dir = 'tmp'\n",
    "n_samples_for_mcplot = 20"
   ]
  },
  {
   "cell_type": "code",
   "execution_count": null,
   "metadata": {},
   "outputs": [],
   "source": [
    "X, y = make_blobs(n_samples=n_samples, n_features=2, centers=centers, random_state=random_state)\n",
    "y[y < int(centers) / 2] = 0\n",
    "y[y >= int(centers) / 2] = 1"
   ]
  },
  {
   "cell_type": "code",
   "execution_count": null,
   "metadata": {},
   "outputs": [],
   "source": [
    "X.shape, y.shape"
   ]
  },
  {
   "cell_type": "code",
   "execution_count": null,
   "metadata": {},
   "outputs": [],
   "source": [
    "x_min, x_max = X[:, 0].min() - 1, X[:, 0].max() + 1\n",
    "y_min, y_max = X[:, 1].min() - 1, X[:, 1].max() + 1\n",
    "h = 0.05\n",
    "xx, yy = np.meshgrid(np.arange(x_min, x_max, h),np.arange(y_min, y_max, h))\n",
    "data_meshgrid = torch.from_numpy(np.c_[xx.ravel(), yy.ravel()]).type(torch.float).to(device)\n",
    "\n",
    "X_tensor = torch.from_numpy(X).type(torch.float)\n",
    "y_tensor = torch.from_numpy(y).type(torch.float)\n",
    "train_dataset = TensorDataset(X_tensor, y_tensor)\n",
    "train_loader = DataLoader(train_dataset, batch_size=batch_size)"
   ]
  },
  {
   "cell_type": "code",
   "execution_count": null,
   "metadata": {},
   "outputs": [],
   "source": [
    "next(iter(train_loader))"
   ]
  },
  {
   "cell_type": "code",
   "execution_count": null,
   "metadata": {},
   "outputs": [],
   "source": [
    "def get_entropy(prob: torch.Tensor):\n",
    "    entropy = - prob * torch.log(prob) - (1 - prob) * torch.log(1 - prob)\n",
    "    entropy[entropy != entropy] = 0  # nan to zero\n",
    "    entropy = entropy.detach().cpu().numpy()\n",
    "    return entropy"
   ]
  },
  {
   "cell_type": "markdown",
   "metadata": {},
   "source": [
    "## Model Definition"
   ]
  },
  {
   "cell_type": "code",
   "execution_count": null,
   "metadata": {},
   "outputs": [],
   "source": [
    "class MLP(nn.Module):\n",
    "    def __init__(self, input_size, output_size, hidden_sizes=None):\n",
    "        super(MLP, self).__init__()\n",
    "        self.input_size = input_size\n",
    "        self.hidden_sizes = hidden_sizes\n",
    "        if output_size is not None:\n",
    "            self.output_size = output_size\n",
    "            self.squeeze_output = False\n",
    "        else:\n",
    "            self.output_size = 1\n",
    "            self.squeeze_output = True\n",
    "        self.act = F.relu\n",
    "        # Define layers\n",
    "        if hidden_sizes is None:\n",
    "            # Linear model\n",
    "            self.hidden_layers = []\n",
    "            self.output_layer = nn.Linear(self.input_size, self.output_size)\n",
    "        else:\n",
    "            # Neural network\n",
    "            features = zip([self.input_size] + hidden_sizes[:-1], hidden_sizes)\n",
    "            self.hidden_layers = nn.ModuleList([nn.Linear(in_features, out_features) for in_features, out_features in features])\n",
    "            self.output_layer = nn.Linear(hidden_sizes[-1], self.output_size)\n",
    "\n",
    "    def forward(self, x):\n",
    "        x = x.view(-1, self.input_size)\n",
    "        h = x\n",
    "        for layer in self.hidden_layers:\n",
    "            h = self.act(layer(h))\n",
    "        out = self.output_layer(h)\n",
    "        if self.squeeze_output:\n",
    "            out = torch.squeeze(out).view([-1])\n",
    "        return out"
   ]
  },
  {
   "cell_type": "code",
   "execution_count": null,
   "metadata": {},
   "outputs": [],
   "source": [
    "# Model arguments\n",
    "model_kwargs = dict(input_size=2, \n",
    "                    output_size=None, \n",
    "                    hidden_sizes=[128])"
   ]
  },
  {
   "cell_type": "code",
   "execution_count": null,
   "metadata": {},
   "outputs": [],
   "source": [
    "model1 = MLP(**model_kwargs)\n",
    "model1 = model1.to(device)\n",
    "optimizer1 = torch.optim.Adam(model1.parameters())\n",
    "\n",
    "model2 = MLP(**model_kwargs)\n",
    "model2 = model2.to(device)\n",
    "optimizer2 = torchsso.optim.VOGN(model2, dataset_size=len(train_loader.dataset))"
   ]
  },
  {
   "cell_type": "markdown",
   "metadata": {},
   "source": [
    "## Train Loop"
   ]
  },
  {
   "cell_type": "code",
   "execution_count": null,
   "metadata": {},
   "outputs": [],
   "source": [
    "figpaths = []\n",
    "i = 0  # iteration"
   ]
  },
  {
   "cell_type": "code",
   "execution_count": null,
   "metadata": {},
   "outputs": [],
   "source": [
    "# Run training\n",
    "for epoch in range(epochs):\n",
    "\n",
    "    model1.train()\n",
    "    model2.train()\n",
    "\n",
    "    for data, target in train_loader:\n",
    "\n",
    "        data, target = data.to(device), target.to(device)\n",
    "\n",
    "        def closure1():\n",
    "            optimizer1.zero_grad()\n",
    "            output = model1(data)\n",
    "            loss = F.binary_cross_entropy_with_logits(output, target)\n",
    "            loss.backward()\n",
    "            return loss\n",
    "\n",
    "        def closure2():\n",
    "            optimizer2.zero_grad()\n",
    "            output = model2(data)\n",
    "            loss = F.binary_cross_entropy_with_logits(output, target)\n",
    "            loss.backward()\n",
    "            return loss, output\n",
    "\n",
    "        loss1 = optimizer1.step(closure1)\n",
    "        loss2, _ = optimizer2.step(closure2)\n",
    "\n",
    "        if (i + 1) % plot_interval == 0:\n",
    "            # Setup figures\n",
    "            fig = plt.figure(figsize=(21, 6))\n",
    "            gs = fig.add_gridspec(1, 3)\n",
    "\n",
    "            # Decision boundary\n",
    "            ax1 = fig.add_subplot(gs[0, 0])\n",
    "            ax1.set_xlabel('Input 1')\n",
    "            ax1.set_ylabel('Input 2')\n",
    "            ax1.set_title(f'Iteration {i+1}')\n",
    "\n",
    "            # Entropy (Adam)\n",
    "            ax2 = fig.add_subplot(gs[0, 1])\n",
    "            ax2.set_xlabel('Input 1')\n",
    "            ax2.set_ylabel('Input 2')\n",
    "            ax2.set_title(f'Entropy (Adam)')\n",
    "\n",
    "            # Entropy (VOGN)\n",
    "            ax3 = fig.add_subplot(gs[0, 2])\n",
    "            ax3.set_xlabel('Input 1')\n",
    "            ax3.set_ylabel('Input 2')\n",
    "            ax3.set_title(f'Entropy (VOGN)')\n",
    "\n",
    "            model1.eval()\n",
    "            model2.eval()\n",
    "\n",
    "            # (Adam)\n",
    "            prob = torch.sigmoid(model1(data_meshgrid)).view(xx.shape)\n",
    "            entropy = get_entropy(prob)\n",
    "            pred = torch.round(prob).detach().cpu().numpy()\n",
    "\n",
    "            plot = ax1.contour(xx, yy, pred, colors=['blue'], linewidths=[2])\n",
    "            plot.collections[len(plot.collections)//2].set_label('Adam')\n",
    "            im = ax2.pcolormesh(xx, yy, entropy)\n",
    "            fig.colorbar(im, ax=ax2)\n",
    "\n",
    "            # (VOGN) get MC samples\n",
    "            prob, probs = optimizer2.prediction(data_meshgrid, keep_probs=True)\n",
    "            prob = prob.view(xx.shape)\n",
    "            entropy = get_entropy(prob)\n",
    "\n",
    "            probs = probs[:n_samples_for_mcplot]\n",
    "            preds = [torch.round(p).detach().cpu().numpy().reshape(xx.shape) for p in probs]\n",
    "            for pred in preds:\n",
    "                ax1.contour(xx, yy, pred, colors=['red'], alpha=0.01)\n",
    "            im = ax3.pcolormesh(xx, yy, entropy)\n",
    "            fig.colorbar(im, ax=ax3)\n",
    "\n",
    "            # (VOGN) get mean prediction\n",
    "            prob = optimizer2.prediction(data_meshgrid, mc=0).view(xx.shape)\n",
    "            pred = torch.round(prob).detach().cpu().numpy()\n",
    "\n",
    "            plot = ax1.contour(xx, yy, pred, colors=['red'], linewidths=[2])\n",
    "            plot.collections[len(plot.collections)//2].set_label('VOGN')\n",
    "\n",
    "            # plot samples\n",
    "            for label, marker, color in zip([0, 1], ['o', 's'], ['white', 'gray']):\n",
    "                _X = X[y == label]\n",
    "                ax1.scatter(_X[:, 0], _X[:, 1], s=80, c=color, edgecolors='black', marker=marker)\n",
    "                ax2.scatter(_X[:, 0], _X[:, 1], s=80, c=color, edgecolors='black', marker=marker)\n",
    "                ax3.scatter(_X[:, 0], _X[:, 1], s=80, c=color, edgecolors='black', marker=marker)\n",
    "\n",
    "            # save tmp figure\n",
    "            ax1.grid(linestyle='--')\n",
    "            ax2.grid(linestyle='--')\n",
    "            ax3.grid(linestyle='--')\n",
    "            ax1.set_yticks([-5, 0, 5, 10])\n",
    "            ax2.set_yticks([-5, 0, 5, 10])\n",
    "            ax3.set_yticks([-5, 0, 5, 10])\n",
    "            ax1.legend(loc='lower right')\n",
    "            ax1.set_aspect(0.8)\n",
    "            plt.tight_layout()\n",
    "            figname = f'iteration{i+1}.png'\n",
    "            figpath = os.path.join(fig_dir, figname)\n",
    "            if not os.path.isdir(fig_dir):\n",
    "                os.makedirs(fig_dir)\n",
    "            fig.savefig(figpath)\n",
    "            plt.close(fig)\n",
    "            figpaths.append(figpath)\n",
    "\n",
    "        i += 1\n",
    "\n",
    "    print(f'Train Epoch: {epoch+1}\\tLoss(Adam): {loss1:.6f} Loss(VOGN): {loss2:.6f}')\n"
   ]
  },
  {
   "cell_type": "code",
   "execution_count": null,
   "metadata": {},
   "outputs": [],
   "source": []
  }
 ],
 "metadata": {
  "kernelspec": {
   "display_name": "Python (nlp_new)",
   "language": "python",
   "name": "nlp_new"
  },
  "language_info": {
   "codemirror_mode": {
    "name": "ipython",
    "version": 3
   },
   "file_extension": ".py",
   "mimetype": "text/x-python",
   "name": "python",
   "nbconvert_exporter": "python",
   "pygments_lexer": "ipython3",
   "version": "3.6.3"
  }
 },
 "nbformat": 4,
 "nbformat_minor": 2
}
