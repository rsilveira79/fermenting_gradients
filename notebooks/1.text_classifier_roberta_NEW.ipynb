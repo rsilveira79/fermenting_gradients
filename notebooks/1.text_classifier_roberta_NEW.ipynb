{
 "cells": [
  {
   "cell_type": "code",
   "execution_count": null,
   "metadata": {},
   "outputs": [],
   "source": [
    "#!pip install imbalanced-learn"
   ]
  },
  {
   "cell_type": "code",
   "execution_count": 1,
   "metadata": {},
   "outputs": [
    {
     "name": "stdout",
     "output_type": "stream",
     "text": [
      "1.1.0\n",
      "2.1.1\n"
     ]
    }
   ],
   "source": [
    "import pandas as pd\n",
    "import numpy as np\n",
    "import json, re\n",
    "from tqdm import tqdm_notebook\n",
    "\n",
    "try:\n",
    "    from collections import OrderedDict\n",
    "except ImportError:\n",
    "    from ordereddict import OrderedDict\n",
    "\n",
    "# Torch, Sklearn imports\n",
    "from sklearn.model_selection import train_test_split\n",
    "import torch\n",
    "import torch.optim as optim\n",
    "import torch.nn as nn\n",
    "import torch.nn.functional as F\n",
    "from torch.autograd import Variable\n",
    "from torch.utils.data import Dataset, DataLoader, RandomSampler\n",
    "\n",
    "## NLP libs\n",
    "from nltk import download\n",
    "import gensim\n",
    "\n",
    "## PyTorch Transformer\n",
    "import transformers\n",
    "\n",
    "## Roberta\n",
    "from transformers import RobertaModel, RobertaTokenizer\n",
    "from transformers import RobertaForSequenceClassification, RobertaConfig\n",
    "\n",
    "## DistilBert\n",
    "from transformers import DistilBertModel, DistilBertTokenizer\n",
    "from transformers import DistilBertForSequenceClassification, DistilBertConfig\n",
    "from transformers.optimization import AdamW, WarmupLinearSchedule\n",
    "\n",
    "from timebudget import timebudget\n",
    "timebudget.report_atexit()  # Generate report when the program exits\n",
    "\n",
    "import warnings\n",
    "warnings.filterwarnings(\"ignore\")\n",
    "stopwords = {\"ourselves\", \"hers\", \"between\", \"yourself\", \"but\", \"again\", \"there\", \"about\", \"once\", \"during\", \"out\", \"very\", \"having\", \"with\", \"they\", \"own\", \"an\", \"be\", \"some\", \"for\", \"do\", \"its\", \"yours\", \"such\", \"into\", \"of\", \"most\", \"itself\", \"other\", \"off\", \"is\", \"s\", \"am\", \"or\", \"who\", \"as\", \"from\", \"him\", \"each\", \"the\", \"themselves\", \"until\", \"below\", \"are\", \"we\", \"these\", \"your\", \"his\", \"through\", \"don\", \"nor\", \"me\", \"were\", \"her\", \"more\", \"himself\", \"this\", \"down\", \"should\", \"our\", \"their\", \"while\", \"above\", \"both\", \"up\", \"to\", \"ours\", \"had\", \"she\", \"all\", \"no\", \"when\", \"at\", \"any\", \"before\", \"them\", \"same\", \"and\", \"been\", \"have\", \"in\", \"will\", \"on\", \"does\", \"yourselves\", \"then\", \"that\", \"because\", \"what\", \"over\", \"why\", \"so\", \"can\", \"did\", \"not\", \"now\", \"under\", \"he\", \"you\", \"herself\", \"has\", \"just\", \"where\", \"too\", \"only\", \"myself\", \"which\", \"those\", \"i\", \"after\", \"few\", \"whom\", \"t\", \"being\", \"if\", \"theirs\", \"my\", \"against\", \"a\", \"by\", \"doing\", \"it\", \"how\", \"further\", \"was\", \"here\", \"than\"}\n",
    "\n",
    "print(torch.__version__)\n",
    "print(transformers.__version__)"
   ]
  },
  {
   "cell_type": "code",
   "execution_count": 2,
   "metadata": {},
   "outputs": [
    {
     "name": "stdout",
     "output_type": "stream",
     "text": [
      "1.text_classifier_roberta.ipynb      4.nips2019_papers_simple_altair.ipynb\r\n",
      "1.text_classifier_roberta_NEW.ipynb  4.sample_dpp.ipynb\r\n",
      "2017-06-custom-intent-engines\t     intents_phrases_183.pkl\r\n",
      "2.uncertainty_swag.ipynb\t     intents_phrases_186.pkl\r\n",
      "3.causality_review.ipynb\t     model_elmo_swag_uncertainty.pth\r\n",
      "4.dpp_diversity_phrases.ipynb\t     nips_2018_bert.pkl\r\n",
      "4.dpp_image.ipynb\t\t     nips_2018_elmo.pkl\r\n",
      "4.nips2019_papers.ipynb\t\t     nips_2018.pkl\r\n"
     ]
    }
   ],
   "source": [
    "!ls"
   ]
  },
  {
   "cell_type": "code",
   "execution_count": 3,
   "metadata": {},
   "outputs": [
    {
     "data": {
      "text/html": [
       "<div>\n",
       "<style scoped>\n",
       "    .dataframe tbody tr th:only-of-type {\n",
       "        vertical-align: middle;\n",
       "    }\n",
       "\n",
       "    .dataframe tbody tr th {\n",
       "        vertical-align: top;\n",
       "    }\n",
       "\n",
       "    .dataframe thead th {\n",
       "        text-align: right;\n",
       "    }\n",
       "</style>\n",
       "<table border=\"1\" class=\"dataframe\">\n",
       "  <thead>\n",
       "    <tr style=\"text-align: right;\">\n",
       "      <th></th>\n",
       "      <th>intent</th>\n",
       "      <th>phrase</th>\n",
       "    </tr>\n",
       "  </thead>\n",
       "  <tbody>\n",
       "    <tr>\n",
       "      <td>2770</td>\n",
       "      <td>workerVeteranStatus.update</td>\n",
       "      <td>modify her military information</td>\n",
       "    </tr>\n",
       "    <tr>\n",
       "      <td>2771</td>\n",
       "      <td>workerVeteranStatus.update</td>\n",
       "      <td>modify worker military status</td>\n",
       "    </tr>\n",
       "    <tr>\n",
       "      <td>2772</td>\n",
       "      <td>workerVeteranStatus.update</td>\n",
       "      <td>change employee veteran status</td>\n",
       "    </tr>\n",
       "    <tr>\n",
       "      <td>2773</td>\n",
       "      <td>workerVeteranStatus.update</td>\n",
       "      <td>change his military status</td>\n",
       "    </tr>\n",
       "    <tr>\n",
       "      <td>2774</td>\n",
       "      <td>workerVeteranStatus.update</td>\n",
       "      <td>update Brian's veteran status</td>\n",
       "    </tr>\n",
       "  </tbody>\n",
       "</table>\n",
       "</div>"
      ],
      "text/plain": [
       "                          intent                           phrase\n",
       "2770  workerVeteranStatus.update  modify her military information\n",
       "2771  workerVeteranStatus.update    modify worker military status\n",
       "2772  workerVeteranStatus.update   change employee veteran status\n",
       "2773  workerVeteranStatus.update       change his military status\n",
       "2774  workerVeteranStatus.update    update Brian's veteran status"
      ]
     },
     "execution_count": 3,
     "metadata": {},
     "output_type": "execute_result"
    }
   ],
   "source": [
    "dataset_path = \"intents_phrases_186.pkl\"\n",
    "dataset = pd.read_pickle(dataset_path)\n",
    "dataset = dataset.rename(columns={\"usersays\":\"phrase\"})\n",
    "dataset.tail()"
   ]
  },
  {
   "cell_type": "code",
   "execution_count": 4,
   "metadata": {},
   "outputs": [
    {
     "data": {
      "text/plain": [
       "positionRelationships.update              49\n",
       "workerMaritalStatus.update                39\n",
       "associateGovernmentRegistration.update    39\n",
       "question.detect                           37\n",
       "personMaritalStatus.update                35\n",
       "                                          ..\n",
       "location.read                              7\n",
       "view.job                                   6\n",
       "jobSearch.update                           6\n",
       "jobSearch.create                           6\n",
       "jobSearch.delete                           5\n",
       "Name: intent, Length: 186, dtype: int64"
      ]
     },
     "execution_count": 4,
     "metadata": {},
     "output_type": "execute_result"
    }
   ],
   "source": [
    "dataset.intent.value_counts()"
   ]
  },
  {
   "cell_type": "code",
   "execution_count": 5,
   "metadata": {},
   "outputs": [],
   "source": [
    "# # Make shorter version of the dataset\n",
    "# selected_intents = ['position.update',\n",
    "#                     'jobBoard.update',\n",
    "#                     'job.create',\n",
    "#                     'lateralMove',\n",
    "#                     'band.update',\n",
    "#                     'adjustment',\n",
    "#                    'worker.changeManager']\n",
    "# dataset = dataset[dataset.intent.isin(selected_intents)].reset_index(drop=True)\n",
    "# print(len(set(dataset.intent)))\n",
    "# dataset.tail()"
   ]
  },
  {
   "cell_type": "code",
   "execution_count": 6,
   "metadata": {},
   "outputs": [],
   "source": [
    "# dataset_path = './2017-06-custom-intent-engines/'\n",
    "# ## Another dataset\n",
    "# dataset = pd.DataFrame(columns = ['utterance', 'label'])\n",
    "# for intent in ['AddToPlaylist', 'BookRestaurant', 'GetWeather', 'PlayMusic', 'RateBook', 'SearchCreativeWork',\n",
    "#                'SearchScreeningEvent']:\n",
    "#     with open(dataset_path + intent + \"/train_\" + intent + \".json\",\n",
    "#               encoding='cp1251') as data_file:\n",
    "#         data = json.load(data_file)\n",
    "#     print(\"Class: {}, # utterances: {}\".format(intent,len(data[intent])))\n",
    "#     texts = []\n",
    "#     for i in range(len(data[intent])):\n",
    "#         text = ''\n",
    "#         for j in range(len(data[intent][i]['data'])):\n",
    "#             text += data[intent][i]['data'][j]['text']\n",
    "#         dataset = dataset.append({'utterance': text, 'label': intent}, ignore_index=True)\n",
    "# dataset = dataset.rename(columns={\"utterance\":\"phrase\", \"label\":\"intent\"})\n",
    "# dataset.tail()"
   ]
  },
  {
   "cell_type": "markdown",
   "metadata": {},
   "source": [
    "## Over-sampling dataset"
   ]
  },
  {
   "cell_type": "code",
   "execution_count": 7,
   "metadata": {},
   "outputs": [],
   "source": [
    "def resample_dataset(dataframe,\n",
    "                     label_column = 'intent',\n",
    "                     feature_column = 'phrase',\n",
    "                     max_samples = 100):\n",
    "    \n",
    "    from imblearn.over_sampling import SMOTE, RandomOverSampler, ADASYN\n",
    "\n",
    "    ## Build label vocabulary\n",
    "    label_to_ix = {}\n",
    "    for label in dataset[label_column]:\n",
    "        for word in label.split():\n",
    "            if word not in label_to_ix:\n",
    "                label_to_ix[word]=len(label_to_ix)\n",
    "          \n",
    "    ## Define Sampling Strategy based on number of samples\n",
    "    classes_sample = {}\n",
    "    for cls in list(set(label_to_ix.values())):\n",
    "        classes_sample.update({cls:max_samples})\n",
    "\n",
    "    sampler = RandomOverSampler(sampling_strategy = classes_sample, random_state=42)\n",
    "    x = np.array(dataset.index).reshape(-1, 1)\n",
    "    y = np.array(list(dataset[label_column].apply(lambda x: label_to_ix[x])))\n",
    "    \n",
    "    ## Oversampling\n",
    "    x_resampled, y_resampled = sampler.fit_sample(x, y)\n",
    "    dataset_resampled = pd.DataFrame(columns=[feature_column,label_column])\n",
    "    \n",
    "    ## Iterating\n",
    "    for i, item in enumerate(x_resampled):\n",
    "        row = {\n",
    "            feature_column :dataset[feature_column].loc[item[0]],\n",
    "            label_column: list(label_to_ix.keys())[y_resampled[i]]\n",
    "        }\n",
    "        dataset_resampled = dataset_resampled.append(row, ignore_index=True)\n",
    "    return dataset_resampled"
   ]
  },
  {
   "cell_type": "code",
   "execution_count": 8,
   "metadata": {},
   "outputs": [
    {
     "data": {
      "text/plain": [
       "personVeteranStatus.update                50\n",
       "personCitizenship.update                  50\n",
       "personDeathDate.inform                    50\n",
       "band.activate                             50\n",
       "workerStartDate.update                    50\n",
       "                                          ..\n",
       "legalEntity.deactivate                    50\n",
       "termination.revoke                        50\n",
       "position.update                           50\n",
       "team.leave                                50\n",
       "associateGovernmentRegistration.update    50\n",
       "Name: intent, Length: 186, dtype: int64"
      ]
     },
     "execution_count": 8,
     "metadata": {},
     "output_type": "execute_result"
    }
   ],
   "source": [
    "dataset = resample_dataset(dataset, max_samples = 50)\n",
    "dataset.intent.value_counts()"
   ]
  },
  {
   "cell_type": "code",
   "execution_count": 9,
   "metadata": {},
   "outputs": [
    {
     "data": {
      "text/html": [
       "<div>\n",
       "<style scoped>\n",
       "    .dataframe tbody tr th:only-of-type {\n",
       "        vertical-align: middle;\n",
       "    }\n",
       "\n",
       "    .dataframe tbody tr th {\n",
       "        vertical-align: top;\n",
       "    }\n",
       "\n",
       "    .dataframe thead th {\n",
       "        text-align: right;\n",
       "    }\n",
       "</style>\n",
       "<table border=\"1\" class=\"dataframe\">\n",
       "  <thead>\n",
       "    <tr style=\"text-align: right;\">\n",
       "      <th></th>\n",
       "      <th>phrase</th>\n",
       "      <th>intent</th>\n",
       "    </tr>\n",
       "  </thead>\n",
       "  <tbody>\n",
       "    <tr>\n",
       "      <td>9295</td>\n",
       "      <td>modify her military information</td>\n",
       "      <td>workerVeteranStatus.update</td>\n",
       "    </tr>\n",
       "    <tr>\n",
       "      <td>9296</td>\n",
       "      <td>edit military service for him</td>\n",
       "      <td>workerVeteranStatus.update</td>\n",
       "    </tr>\n",
       "    <tr>\n",
       "      <td>9297</td>\n",
       "      <td>change his military status</td>\n",
       "      <td>workerVeteranStatus.update</td>\n",
       "    </tr>\n",
       "    <tr>\n",
       "      <td>9298</td>\n",
       "      <td>change his military status</td>\n",
       "      <td>workerVeteranStatus.update</td>\n",
       "    </tr>\n",
       "    <tr>\n",
       "      <td>9299</td>\n",
       "      <td>They're no longer in the military</td>\n",
       "      <td>workerVeteranStatus.update</td>\n",
       "    </tr>\n",
       "  </tbody>\n",
       "</table>\n",
       "</div>"
      ],
      "text/plain": [
       "                                 phrase                      intent\n",
       "9295    modify her military information  workerVeteranStatus.update\n",
       "9296      edit military service for him  workerVeteranStatus.update\n",
       "9297         change his military status  workerVeteranStatus.update\n",
       "9298         change his military status  workerVeteranStatus.update\n",
       "9299  They're no longer in the military  workerVeteranStatus.update"
      ]
     },
     "execution_count": 9,
     "metadata": {},
     "output_type": "execute_result"
    }
   ],
   "source": [
    "dataset.tail()"
   ]
  },
  {
   "cell_type": "markdown",
   "metadata": {},
   "source": [
    "## Cleaning Dataset"
   ]
  },
  {
   "cell_type": "code",
   "execution_count": 10,
   "metadata": {},
   "outputs": [],
   "source": [
    "def transformText(text, do_stop=False, do_stem=False):\n",
    "    # Convert text to lower\n",
    "    text = text.lower()\n",
    "    \n",
    "    # Cleaning input\n",
    "    text = text.replace(\"'s\",\"\")\n",
    "    text = text.replace(\"’s\",\"\")\n",
    "    text = text.replace(\"?\",\"\")\n",
    "    text = text.replace(\"-\",\"\")\n",
    "    \n",
    "    # Removing non ASCII chars    \n",
    "    text = re.sub(r'[^\\x00-\\x7f]',r' ',text)\n",
    "    # Strip multiple whitespaces\n",
    "    text = gensim.corpora.textcorpus.strip_multiple_whitespaces(text)\n",
    "    # Removing all the stopwords\n",
    "    if (do_stop==True):\n",
    "        filtered_words = [word for word in text.split() if word not in stopwords]\n",
    "    else:\n",
    "        filtered_words = [word for word in text.split()]\n",
    "    # Preprocessed text after stop words removal\n",
    "    text = \" \".join(filtered_words)\n",
    "    # Remove the punctuation\n",
    "    text = gensim.parsing.preprocessing.strip_punctuation2(text)\n",
    "    # Strip multiple whitespaces\n",
    "    text = gensim.corpora.textcorpus.strip_multiple_whitespaces(text)\n",
    "    if (do_stem==True):\n",
    "        # Stemming\n",
    "        text = gensim.parsing.preprocessing.stem_text(text)\n",
    "    return text"
   ]
  },
  {
   "cell_type": "code",
   "execution_count": 67,
   "metadata": {},
   "outputs": [
    {
     "data": {
      "text/html": [
       "<div>\n",
       "<style scoped>\n",
       "    .dataframe tbody tr th:only-of-type {\n",
       "        vertical-align: middle;\n",
       "    }\n",
       "\n",
       "    .dataframe tbody tr th {\n",
       "        vertical-align: top;\n",
       "    }\n",
       "\n",
       "    .dataframe thead th {\n",
       "        text-align: right;\n",
       "    }\n",
       "</style>\n",
       "<table border=\"1\" class=\"dataframe\">\n",
       "  <thead>\n",
       "    <tr style=\"text-align: right;\">\n",
       "      <th></th>\n",
       "      <th>phrase</th>\n",
       "      <th>intent</th>\n",
       "      <th>preproc_text</th>\n",
       "    </tr>\n",
       "  </thead>\n",
       "  <tbody>\n",
       "    <tr>\n",
       "      <td>9295</td>\n",
       "      <td>I'm unmarried now</td>\n",
       "      <td>personMaritalStatus.update</td>\n",
       "      <td>i m unmarried now</td>\n",
       "    </tr>\n",
       "    <tr>\n",
       "      <td>9296</td>\n",
       "      <td>schedule evaluation</td>\n",
       "      <td>evaluation.schedule</td>\n",
       "      <td>schedule evaluation</td>\n",
       "    </tr>\n",
       "    <tr>\n",
       "      <td>9297</td>\n",
       "      <td>launch pay band</td>\n",
       "      <td>band.activate</td>\n",
       "      <td>launch pay band</td>\n",
       "    </tr>\n",
       "    <tr>\n",
       "      <td>9298</td>\n",
       "      <td>add some sick days to compensation</td>\n",
       "      <td>compensationPlan.create</td>\n",
       "      <td>add some sick days to compensation</td>\n",
       "    </tr>\n",
       "    <tr>\n",
       "      <td>9299</td>\n",
       "      <td>I divorced</td>\n",
       "      <td>personMaritalStatus.update</td>\n",
       "      <td>i divorced</td>\n",
       "    </tr>\n",
       "  </tbody>\n",
       "</table>\n",
       "</div>"
      ],
      "text/plain": [
       "                                  phrase                      intent  \\\n",
       "9295                   I'm unmarried now  personMaritalStatus.update   \n",
       "9296                 schedule evaluation         evaluation.schedule   \n",
       "9297                     launch pay band               band.activate   \n",
       "9298  add some sick days to compensation     compensationPlan.create   \n",
       "9299                          I divorced  personMaritalStatus.update   \n",
       "\n",
       "                            preproc_text  \n",
       "9295                   i m unmarried now  \n",
       "9296                 schedule evaluation  \n",
       "9297                     launch pay band  \n",
       "9298  add some sick days to compensation  \n",
       "9299                          i divorced  "
      ]
     },
     "execution_count": 67,
     "metadata": {},
     "output_type": "execute_result"
    }
   ],
   "source": [
    "dataset['preproc_text'] = dataset['phrase'].apply(lambda x: transformText(x, do_stop=False))\n",
    "dataset.tail(5)"
   ]
  },
  {
   "cell_type": "code",
   "execution_count": 69,
   "metadata": {},
   "outputs": [
    {
     "name": "stdout",
     "output_type": "stream",
     "text": [
      "# Labels: 186\n"
     ]
    }
   ],
   "source": [
    "## Build label vocabulary\n",
    "label_to_ix = {}\n",
    "for label in dataset.intent:\n",
    "    for word in label.split():\n",
    "        if word not in label_to_ix:\n",
    "            label_to_ix[word]=len(label_to_ix)\n",
    "print(\"# Labels: {}\".format(len(label_to_ix)))"
   ]
  },
  {
   "cell_type": "code",
   "execution_count": null,
   "metadata": {},
   "outputs": [
    {
     "name": "stdout",
     "output_type": "stream",
     "text": [
      "RoBERTa\n"
     ]
    }
   ],
   "source": [
    "model_type = 'roberta'\n",
    "## Distilbert\n",
    "if model_type == 'distilbert':\n",
    "    print(\"DistilBERT\")\n",
    "    config = DistilBertConfig.from_pretrained('distilbert-base-uncased')\n",
    "    config.num_labels = len(list(label_to_ix.values()))\n",
    "    tokenizer = DistilBertTokenizer.from_pretrained('distilbert-base-uncased')\n",
    "    model = DistilBertForSequenceClassification(config)\n",
    "    print(config)\n",
    "elif model_type == 'roberta':\n",
    "    print(\"RoBERTa\")\n",
    "    config = RobertaConfig.from_pretrained('roberta-base')\n",
    "    config.num_labels = len(list(label_to_ix.values()))\n",
    "    config.num_hidden_layers = 4\n",
    "    tokenizer = RobertaTokenizer.from_pretrained('roberta-base')\n",
    "    model = RobertaForSequenceClassification(config)\n",
    "    print(config)"
   ]
  },
  {
   "cell_type": "markdown",
   "metadata": {},
   "source": [
    "## New Model "
   ]
  },
  {
   "cell_type": "code",
   "execution_count": 25,
   "metadata": {},
   "outputs": [],
   "source": [
    "def prepare_features(seq_1, zero_pad = False, max_seq_length = 150):\n",
    "    enc_text = tokenizer.encode_plus(seq_1, add_special_tokens=True, max_length=300)\n",
    "    if zero_pad:\n",
    "        while len(enc_text['input_ids']) < max_seq_length:\n",
    "            enc_text['input_ids'].append(0)\n",
    "            enc_text['token_type_ids'].append(0)\n",
    "    return enc_text"
   ]
  },
  {
   "cell_type": "code",
   "execution_count": 26,
   "metadata": {},
   "outputs": [
    {
     "data": {
      "text/plain": [
       "{'special_tokens_mask': [1, 0, 0, 0, 1],\n",
       " 'input_ids': [0,\n",
       "  33959,\n",
       "  42,\n",
       "  2638,\n",
       "  2,\n",
       "  0,\n",
       "  0,\n",
       "  0,\n",
       "  0,\n",
       "  0,\n",
       "  0,\n",
       "  0,\n",
       "  0,\n",
       "  0,\n",
       "  0,\n",
       "  0,\n",
       "  0,\n",
       "  0,\n",
       "  0,\n",
       "  0,\n",
       "  0,\n",
       "  0,\n",
       "  0,\n",
       "  0,\n",
       "  0,\n",
       "  0,\n",
       "  0,\n",
       "  0,\n",
       "  0,\n",
       "  0,\n",
       "  0,\n",
       "  0,\n",
       "  0,\n",
       "  0,\n",
       "  0,\n",
       "  0,\n",
       "  0,\n",
       "  0,\n",
       "  0,\n",
       "  0,\n",
       "  0,\n",
       "  0,\n",
       "  0,\n",
       "  0,\n",
       "  0,\n",
       "  0,\n",
       "  0,\n",
       "  0,\n",
       "  0,\n",
       "  0,\n",
       "  0,\n",
       "  0,\n",
       "  0,\n",
       "  0,\n",
       "  0,\n",
       "  0,\n",
       "  0,\n",
       "  0,\n",
       "  0,\n",
       "  0,\n",
       "  0,\n",
       "  0,\n",
       "  0,\n",
       "  0,\n",
       "  0,\n",
       "  0,\n",
       "  0,\n",
       "  0,\n",
       "  0,\n",
       "  0,\n",
       "  0,\n",
       "  0,\n",
       "  0,\n",
       "  0,\n",
       "  0,\n",
       "  0,\n",
       "  0,\n",
       "  0,\n",
       "  0,\n",
       "  0,\n",
       "  0,\n",
       "  0,\n",
       "  0,\n",
       "  0,\n",
       "  0,\n",
       "  0,\n",
       "  0,\n",
       "  0,\n",
       "  0,\n",
       "  0,\n",
       "  0,\n",
       "  0,\n",
       "  0,\n",
       "  0,\n",
       "  0,\n",
       "  0,\n",
       "  0,\n",
       "  0,\n",
       "  0,\n",
       "  0,\n",
       "  0,\n",
       "  0,\n",
       "  0,\n",
       "  0,\n",
       "  0,\n",
       "  0,\n",
       "  0,\n",
       "  0,\n",
       "  0,\n",
       "  0,\n",
       "  0,\n",
       "  0,\n",
       "  0,\n",
       "  0,\n",
       "  0,\n",
       "  0,\n",
       "  0,\n",
       "  0,\n",
       "  0,\n",
       "  0,\n",
       "  0,\n",
       "  0,\n",
       "  0,\n",
       "  0,\n",
       "  0,\n",
       "  0,\n",
       "  0,\n",
       "  0,\n",
       "  0,\n",
       "  0,\n",
       "  0,\n",
       "  0,\n",
       "  0,\n",
       "  0,\n",
       "  0,\n",
       "  0,\n",
       "  0,\n",
       "  0,\n",
       "  0,\n",
       "  0,\n",
       "  0,\n",
       "  0,\n",
       "  0,\n",
       "  0,\n",
       "  0,\n",
       "  0,\n",
       "  0,\n",
       "  0,\n",
       "  0,\n",
       "  0],\n",
       " 'token_type_ids': [0,\n",
       "  0,\n",
       "  0,\n",
       "  0,\n",
       "  0,\n",
       "  0,\n",
       "  0,\n",
       "  0,\n",
       "  0,\n",
       "  0,\n",
       "  0,\n",
       "  0,\n",
       "  0,\n",
       "  0,\n",
       "  0,\n",
       "  0,\n",
       "  0,\n",
       "  0,\n",
       "  0,\n",
       "  0,\n",
       "  0,\n",
       "  0,\n",
       "  0,\n",
       "  0,\n",
       "  0,\n",
       "  0,\n",
       "  0,\n",
       "  0,\n",
       "  0,\n",
       "  0,\n",
       "  0,\n",
       "  0,\n",
       "  0,\n",
       "  0,\n",
       "  0,\n",
       "  0,\n",
       "  0,\n",
       "  0,\n",
       "  0,\n",
       "  0,\n",
       "  0,\n",
       "  0,\n",
       "  0,\n",
       "  0,\n",
       "  0,\n",
       "  0,\n",
       "  0,\n",
       "  0,\n",
       "  0,\n",
       "  0,\n",
       "  0,\n",
       "  0,\n",
       "  0,\n",
       "  0,\n",
       "  0,\n",
       "  0,\n",
       "  0,\n",
       "  0,\n",
       "  0,\n",
       "  0,\n",
       "  0,\n",
       "  0,\n",
       "  0,\n",
       "  0,\n",
       "  0,\n",
       "  0,\n",
       "  0,\n",
       "  0,\n",
       "  0,\n",
       "  0,\n",
       "  0,\n",
       "  0,\n",
       "  0,\n",
       "  0,\n",
       "  0,\n",
       "  0,\n",
       "  0,\n",
       "  0,\n",
       "  0,\n",
       "  0,\n",
       "  0,\n",
       "  0,\n",
       "  0,\n",
       "  0,\n",
       "  0,\n",
       "  0,\n",
       "  0,\n",
       "  0,\n",
       "  0,\n",
       "  0,\n",
       "  0,\n",
       "  0,\n",
       "  0,\n",
       "  0,\n",
       "  0,\n",
       "  0,\n",
       "  0,\n",
       "  0,\n",
       "  0,\n",
       "  0,\n",
       "  0,\n",
       "  0,\n",
       "  0,\n",
       "  0,\n",
       "  0,\n",
       "  0,\n",
       "  0,\n",
       "  0,\n",
       "  0,\n",
       "  0,\n",
       "  0,\n",
       "  0,\n",
       "  0,\n",
       "  0,\n",
       "  0,\n",
       "  0,\n",
       "  0,\n",
       "  0,\n",
       "  0,\n",
       "  0,\n",
       "  0,\n",
       "  0,\n",
       "  0,\n",
       "  0,\n",
       "  0,\n",
       "  0,\n",
       "  0,\n",
       "  0,\n",
       "  0,\n",
       "  0,\n",
       "  0,\n",
       "  0,\n",
       "  0,\n",
       "  0,\n",
       "  0,\n",
       "  0,\n",
       "  0,\n",
       "  0,\n",
       "  0,\n",
       "  0,\n",
       "  0,\n",
       "  0,\n",
       "  0,\n",
       "  0,\n",
       "  0,\n",
       "  0,\n",
       "  0,\n",
       "  0,\n",
       "  0,\n",
       "  0]}"
      ]
     },
     "execution_count": 26,
     "metadata": {},
     "output_type": "execute_result"
    }
   ],
   "source": [
    "prepare_features(\"testing this loved\", zero_pad = True)"
   ]
  },
  {
   "cell_type": "code",
   "execution_count": 27,
   "metadata": {},
   "outputs": [],
   "source": [
    "class Intents(Dataset):\n",
    "    def __init__(self, dataframe):\n",
    "        self.len = len(dataframe)\n",
    "        self.data = dataframe\n",
    "        \n",
    "    def __getitem__(self, index):\n",
    "        utterance = self.data.preproc_text[index]\n",
    "        label = self.data.intent[index]\n",
    "        X = prepare_features(utterance, zero_pad = True)\n",
    "        y = label_to_ix[self.data.intent[index]]\n",
    "        return np.array(X['input_ids']), np.array(X['token_type_ids']), y\n",
    "    \n",
    "    def __len__(self):\n",
    "        return self.len"
   ]
  },
  {
   "cell_type": "code",
   "execution_count": 28,
   "metadata": {},
   "outputs": [
    {
     "data": {
      "text/html": [
       "<div>\n",
       "<style scoped>\n",
       "    .dataframe tbody tr th:only-of-type {\n",
       "        vertical-align: middle;\n",
       "    }\n",
       "\n",
       "    .dataframe tbody tr th {\n",
       "        vertical-align: top;\n",
       "    }\n",
       "\n",
       "    .dataframe thead th {\n",
       "        text-align: right;\n",
       "    }\n",
       "</style>\n",
       "<table border=\"1\" class=\"dataframe\">\n",
       "  <thead>\n",
       "    <tr style=\"text-align: right;\">\n",
       "      <th></th>\n",
       "      <th>phrase</th>\n",
       "      <th>intent</th>\n",
       "      <th>preproc_text</th>\n",
       "    </tr>\n",
       "  </thead>\n",
       "  <tbody>\n",
       "    <tr>\n",
       "      <td>9290</td>\n",
       "      <td>change legal entity</td>\n",
       "      <td>legalEntity.update</td>\n",
       "      <td>change legal entity</td>\n",
       "    </tr>\n",
       "    <tr>\n",
       "      <td>9291</td>\n",
       "      <td>update my sexual orientation</td>\n",
       "      <td>personLGBT.update</td>\n",
       "      <td>update sexual orientation</td>\n",
       "    </tr>\n",
       "    <tr>\n",
       "      <td>9292</td>\n",
       "      <td>close</td>\n",
       "      <td>logout</td>\n",
       "      <td>close</td>\n",
       "    </tr>\n",
       "    <tr>\n",
       "      <td>9293</td>\n",
       "      <td>say no to job app</td>\n",
       "      <td>jobApplication.reject</td>\n",
       "      <td>say job app</td>\n",
       "    </tr>\n",
       "    <tr>\n",
       "      <td>9294</td>\n",
       "      <td>job board correction</td>\n",
       "      <td>jobBoard.update</td>\n",
       "      <td>job board correction</td>\n",
       "    </tr>\n",
       "    <tr>\n",
       "      <td>9295</td>\n",
       "      <td>complete pre-screening</td>\n",
       "      <td>assessment.submit</td>\n",
       "      <td>complete prescreening</td>\n",
       "    </tr>\n",
       "    <tr>\n",
       "      <td>9296</td>\n",
       "      <td>Setup new job</td>\n",
       "      <td>job.create</td>\n",
       "      <td>setup new job</td>\n",
       "    </tr>\n",
       "    <tr>\n",
       "      <td>9297</td>\n",
       "      <td>new worker form I9 section 1</td>\n",
       "      <td>worker.usI9Screening.section1.generate</td>\n",
       "      <td>new worker form i9 section 1</td>\n",
       "    </tr>\n",
       "    <tr>\n",
       "      <td>9298</td>\n",
       "      <td>activation of a new job</td>\n",
       "      <td>job.activate</td>\n",
       "      <td>activation new job</td>\n",
       "    </tr>\n",
       "    <tr>\n",
       "      <td>9299</td>\n",
       "      <td>edit position level</td>\n",
       "      <td>level.update</td>\n",
       "      <td>edit position level</td>\n",
       "    </tr>\n",
       "  </tbody>\n",
       "</table>\n",
       "</div>"
      ],
      "text/plain": [
       "                            phrase                                  intent  \\\n",
       "9290           change legal entity                      legalEntity.update   \n",
       "9291  update my sexual orientation                       personLGBT.update   \n",
       "9292                         close                                  logout   \n",
       "9293             say no to job app                   jobApplication.reject   \n",
       "9294          job board correction                         jobBoard.update   \n",
       "9295        complete pre-screening                       assessment.submit   \n",
       "9296                 Setup new job                              job.create   \n",
       "9297  new worker form I9 section 1  worker.usI9Screening.section1.generate   \n",
       "9298       activation of a new job                            job.activate   \n",
       "9299           edit position level                            level.update   \n",
       "\n",
       "                      preproc_text  \n",
       "9290           change legal entity  \n",
       "9291     update sexual orientation  \n",
       "9292                         close  \n",
       "9293                   say job app  \n",
       "9294          job board correction  \n",
       "9295         complete prescreening  \n",
       "9296                 setup new job  \n",
       "9297  new worker form i9 section 1  \n",
       "9298            activation new job  \n",
       "9299           edit position level  "
      ]
     },
     "execution_count": 28,
     "metadata": {},
     "output_type": "execute_result"
    }
   ],
   "source": [
    "dataset.tail(10)"
   ]
  },
  {
   "cell_type": "code",
   "execution_count": 29,
   "metadata": {},
   "outputs": [
    {
     "data": {
      "text/html": [
       "<div>\n",
       "<style scoped>\n",
       "    .dataframe tbody tr th:only-of-type {\n",
       "        vertical-align: middle;\n",
       "    }\n",
       "\n",
       "    .dataframe tbody tr th {\n",
       "        vertical-align: top;\n",
       "    }\n",
       "\n",
       "    .dataframe thead th {\n",
       "        text-align: right;\n",
       "    }\n",
       "</style>\n",
       "<table border=\"1\" class=\"dataframe\">\n",
       "  <thead>\n",
       "    <tr style=\"text-align: right;\">\n",
       "      <th></th>\n",
       "      <th>phrase</th>\n",
       "      <th>intent</th>\n",
       "      <th>preproc_text</th>\n",
       "    </tr>\n",
       "  </thead>\n",
       "  <tbody>\n",
       "    <tr>\n",
       "      <td>0</td>\n",
       "      <td>Let me create new job offer</td>\n",
       "      <td>jobOffer.create</td>\n",
       "      <td>let create new job offer</td>\n",
       "    </tr>\n",
       "    <tr>\n",
       "      <td>1</td>\n",
       "      <td>questions help please</td>\n",
       "      <td>helper.commands</td>\n",
       "      <td>questions help please</td>\n",
       "    </tr>\n",
       "    <tr>\n",
       "      <td>2</td>\n",
       "      <td>include new paygrade</td>\n",
       "      <td>payGrade.create</td>\n",
       "      <td>include new paygrade</td>\n",
       "    </tr>\n",
       "    <tr>\n",
       "      <td>3</td>\n",
       "      <td>correct job posting</td>\n",
       "      <td>jobPosting.update</td>\n",
       "      <td>correct job posting</td>\n",
       "    </tr>\n",
       "    <tr>\n",
       "      <td>4</td>\n",
       "      <td>shut off job family</td>\n",
       "      <td>jobFamily.deactivate</td>\n",
       "      <td>shut job family</td>\n",
       "    </tr>\n",
       "  </tbody>\n",
       "</table>\n",
       "</div>"
      ],
      "text/plain": [
       "                        phrase                intent              preproc_text\n",
       "0  Let me create new job offer       jobOffer.create  let create new job offer\n",
       "1        questions help please       helper.commands     questions help please\n",
       "2         include new paygrade       payGrade.create      include new paygrade\n",
       "3          correct job posting     jobPosting.update       correct job posting\n",
       "4          shut off job family  jobFamily.deactivate           shut job family"
      ]
     },
     "execution_count": 29,
     "metadata": {},
     "output_type": "execute_result"
    }
   ],
   "source": [
    "train_size = 0.8\n",
    "# dataset = pd.concat([dataset, dataset]).reset_index(drop=True)\n",
    "dataset = dataset.sample(frac=1).reset_index(drop=True)\n",
    "dataset.head()"
   ]
  },
  {
   "cell_type": "code",
   "execution_count": 30,
   "metadata": {},
   "outputs": [],
   "source": [
    "train_dataset=dataset.sample(frac=train_size,random_state=42).reset_index(drop=True)\n",
    "test_dataset=dataset.drop(train_dataset.index).reset_index(drop=True)"
   ]
  },
  {
   "cell_type": "code",
   "execution_count": 31,
   "metadata": {},
   "outputs": [],
   "source": [
    "training_set = Intents(train_dataset)\n",
    "testing_set = Intents(test_dataset)"
   ]
  },
  {
   "cell_type": "code",
   "execution_count": 32,
   "metadata": {},
   "outputs": [
    {
     "data": {
      "text/html": [
       "<div>\n",
       "<style scoped>\n",
       "    .dataframe tbody tr th:only-of-type {\n",
       "        vertical-align: middle;\n",
       "    }\n",
       "\n",
       "    .dataframe tbody tr th {\n",
       "        vertical-align: top;\n",
       "    }\n",
       "\n",
       "    .dataframe thead th {\n",
       "        text-align: right;\n",
       "    }\n",
       "</style>\n",
       "<table border=\"1\" class=\"dataframe\">\n",
       "  <thead>\n",
       "    <tr style=\"text-align: right;\">\n",
       "      <th></th>\n",
       "      <th>phrase</th>\n",
       "      <th>intent</th>\n",
       "      <th>preproc_text</th>\n",
       "    </tr>\n",
       "  </thead>\n",
       "  <tbody>\n",
       "    <tr>\n",
       "      <td>7435</td>\n",
       "      <td>to-dos for next week</td>\n",
       "      <td>my.todos</td>\n",
       "      <td>todos next week</td>\n",
       "    </tr>\n",
       "    <tr>\n",
       "      <td>7436</td>\n",
       "      <td>modify personal contacts</td>\n",
       "      <td>personPersonalContacts.update</td>\n",
       "      <td>modify personal contacts</td>\n",
       "    </tr>\n",
       "    <tr>\n",
       "      <td>7437</td>\n",
       "      <td>Bruno is male</td>\n",
       "      <td>workerGender.update</td>\n",
       "      <td>bruno male</td>\n",
       "    </tr>\n",
       "    <tr>\n",
       "      <td>7438</td>\n",
       "      <td>passed away on September 2000</td>\n",
       "      <td>personDeathDate.inform</td>\n",
       "      <td>passed away september 2000</td>\n",
       "    </tr>\n",
       "    <tr>\n",
       "      <td>7439</td>\n",
       "      <td>modify campus</td>\n",
       "      <td>campus.update</td>\n",
       "      <td>modify campus</td>\n",
       "    </tr>\n",
       "  </tbody>\n",
       "</table>\n",
       "</div>"
      ],
      "text/plain": [
       "                             phrase                         intent  \\\n",
       "7435           to-dos for next week                       my.todos   \n",
       "7436       modify personal contacts  personPersonalContacts.update   \n",
       "7437                  Bruno is male            workerGender.update   \n",
       "7438  passed away on September 2000         personDeathDate.inform   \n",
       "7439                  modify campus                  campus.update   \n",
       "\n",
       "                    preproc_text  \n",
       "7435             todos next week  \n",
       "7436    modify personal contacts  \n",
       "7437                  bruno male  \n",
       "7438  passed away september 2000  \n",
       "7439               modify campus  "
      ]
     },
     "execution_count": 32,
     "metadata": {},
     "output_type": "execute_result"
    }
   ],
   "source": [
    "train_dataset.tail()"
   ]
  },
  {
   "cell_type": "code",
   "execution_count": 33,
   "metadata": {},
   "outputs": [
    {
     "data": {
      "text/plain": [
       "personBirthInformation.update         46\n",
       "level.create                          46\n",
       "personPersonalPhoneNumber.update      46\n",
       "my.todos                              45\n",
       "logout                                45\n",
       "                                      ..\n",
       "password.update                       35\n",
       "team.update                           34\n",
       "campus.delete                         33\n",
       "worker.changeManager                  33\n",
       "worker.usI9Screening.status.update    30\n",
       "Name: intent, Length: 186, dtype: int64"
      ]
     },
     "execution_count": 33,
     "metadata": {},
     "output_type": "execute_result"
    }
   ],
   "source": [
    "train_dataset.intent.value_counts()"
   ]
  },
  {
   "cell_type": "code",
   "execution_count": 34,
   "metadata": {},
   "outputs": [
    {
     "data": {
      "text/plain": [
       "personGovernmentRegistration.update    17\n",
       "worker.changeOrganization              16\n",
       "personName.update                      16\n",
       "workerStartDate.update                 16\n",
       "job.update                             15\n",
       "                                       ..\n",
       "jobFamily.create                        5\n",
       "band.deactivate                         5\n",
       "personStudentStatus.update              5\n",
       "jobPosting.create                       2\n",
       "jobApplication.reject                   2\n",
       "Name: intent, Length: 186, dtype: int64"
      ]
     },
     "execution_count": 34,
     "metadata": {},
     "output_type": "execute_result"
    }
   ],
   "source": [
    "test_dataset.intent.value_counts()"
   ]
  },
  {
   "cell_type": "code",
   "execution_count": 35,
   "metadata": {},
   "outputs": [
    {
     "name": "stdout",
     "output_type": "stream",
     "text": [
      "GPU is AVAILABLE!🤘🙌💪\n"
     ]
    }
   ],
   "source": [
    "### Dataloaders Parameters\n",
    "params = {'batch_size': 4,\n",
    "          'shuffle': True,\n",
    "          'drop_last': True,\n",
    "          'num_workers': 0}\n",
    "training_loader = DataLoader(training_set, **params)\n",
    "testing_loader = DataLoader(testing_set, **params)\n",
    "loss_function = nn.CrossEntropyLoss()\n",
    "learning_rate = 3.5e-06\n",
    "optimizer = optim.Adam(params =  model.parameters(), lr=learning_rate)\n",
    "if torch.cuda.is_available():\n",
    "    print(\"GPU is AVAILABLE!🤘🙌💪\")\n",
    "    model = model.cuda()"
   ]
  },
  {
   "cell_type": "code",
   "execution_count": 36,
   "metadata": {},
   "outputs": [
    {
     "data": {
      "text/plain": [
       "(torch.Size([4, 150]), torch.Size([4, 150]), torch.Size([4]))"
      ]
     },
     "execution_count": 36,
     "metadata": {},
     "output_type": "execute_result"
    }
   ],
   "source": [
    "ids, tokens, labels = next(iter(training_loader))\n",
    "ids.shape, tokens.shape, labels.shape"
   ]
  },
  {
   "cell_type": "code",
   "execution_count": 37,
   "metadata": {},
   "outputs": [
    {
     "name": "stdout",
     "output_type": "stream",
     "text": [
      "RoBERTa\n",
      "tensor(5.2800, device='cuda:0', grad_fn=<NllLossBackward>)\n",
      "torch.Size([4, 186])\n"
     ]
    }
   ],
   "source": [
    "if model_type == 'roberta':\n",
    "    print(\"RoBERTa\")\n",
    "    out = model.forward(ids.cuda(), token_type_ids=tokens.cuda(), head_mask=None)[0]\n",
    "elif model_type == 'distilbert':\n",
    "    print(\"DistilBERT\")\n",
    "    out = model.forward(ids.cuda())[0]\n",
    "print(loss_function(out, labels.cuda()))\n",
    "print(out.shape)"
   ]
  },
  {
   "cell_type": "code",
   "execution_count": 38,
   "metadata": {},
   "outputs": [
    {
     "data": {
      "text/plain": [
       "3.5e-06"
      ]
     },
     "execution_count": 38,
     "metadata": {},
     "output_type": "execute_result"
    }
   ],
   "source": [
    "optimizer.param_groups[0]['lr']"
   ]
  },
  {
   "cell_type": "code",
   "execution_count": 39,
   "metadata": {},
   "outputs": [],
   "source": [
    "@timebudget\n",
    "def train(model, epochs):\n",
    "    max_epochs = epochs\n",
    "    model = model.train()\n",
    "    for epoch in tqdm_notebook(range(max_epochs)):\n",
    "        print(\"EPOCH -- {}\".format(epoch))\n",
    "        for i, (ids, tokens, labels) in enumerate(training_loader):\n",
    "            optimizer.zero_grad()\n",
    "            if torch.cuda.is_available():\n",
    "                ids = ids.cuda()\n",
    "                tokens = tokens.cuda()\n",
    "                labels = labels.cuda()\n",
    "            if model_type == 'roberta':\n",
    "                output = model.forward(ids,token_type_ids=tokens)[0]\n",
    "            elif model_type == 'distilbert':\n",
    "                output = model.forward(ids)[0]\n",
    "            loss = loss_function(output, labels)\n",
    "            loss.backward()\n",
    "            optimizer.step()\n",
    "            if i%500 == 0:\n",
    "                correct = 0\n",
    "                total = 0\n",
    "                for (ids, tokens, labels) in testing_loader:\n",
    "                    if torch.cuda.is_available():\n",
    "                        ids = ids.cuda()\n",
    "                        tokens = tokens.cuda()\n",
    "                        labels = labels.cuda()\n",
    "                    if model_type == 'roberta':\n",
    "                        output = model.forward(ids,token_type_ids=tokens)[0]\n",
    "                    elif model_type == 'distilbert':\n",
    "                        output = model.forward(ids)[0]\n",
    "                    _, predicted = torch.max(output.data, 1)\n",
    "                    total += labels.size(0)\n",
    "                    correct += (predicted.cpu() == labels.cpu()).sum()\n",
    "                accuracy = 100.00 * correct.numpy() / total\n",
    "                print('Iteration: {}. Loss: {}. Accuracy: {}%'.format(i, loss.item(), accuracy))\n",
    "    return \"Training finished!\""
   ]
  },
  {
   "cell_type": "code",
   "execution_count": 40,
   "metadata": {},
   "outputs": [
    {
     "data": {
      "application/vnd.jupyter.widget-view+json": {
       "model_id": "d3a7d3122c7c40ea87ba56bfd95ccc3a",
       "version_major": 2,
       "version_minor": 0
      },
      "text/plain": [
       "HBox(children=(IntProgress(value=0, max=20), HTML(value='')))"
      ]
     },
     "metadata": {},
     "output_type": "display_data"
    },
    {
     "name": "stdout",
     "output_type": "stream",
     "text": [
      "EPOCH -- 0\n",
      "Iteration: 0. Loss: 5.197153091430664. Accuracy: 0.5376344086021505%\n",
      "Iteration: 500. Loss: 5.293965816497803. Accuracy: 0.3225806451612903%\n",
      "Iteration: 1000. Loss: 5.110079765319824. Accuracy: 0.43010752688172044%\n",
      "Iteration: 1500. Loss: 5.379077434539795. Accuracy: 0.5913978494623656%\n",
      "EPOCH -- 1\n",
      "Iteration: 0. Loss: 5.486606597900391. Accuracy: 0.43010752688172044%\n",
      "Iteration: 500. Loss: 5.320595741271973. Accuracy: 0.4838709677419355%\n",
      "Iteration: 1000. Loss: 5.325439929962158. Accuracy: 0.5913978494623656%\n",
      "Iteration: 1500. Loss: 5.194285869598389. Accuracy: 0.7526881720430108%\n",
      "EPOCH -- 2\n",
      "Iteration: 0. Loss: 5.413905620574951. Accuracy: 0.9139784946236559%\n",
      "Iteration: 500. Loss: 5.2936506271362305. Accuracy: 0.8602150537634409%\n",
      "Iteration: 1000. Loss: 5.287839889526367. Accuracy: 0.7526881720430108%\n",
      "Iteration: 1500. Loss: 5.284292221069336. Accuracy: 1.5591397849462365%\n",
      "EPOCH -- 3\n",
      "Iteration: 0. Loss: 5.176022529602051. Accuracy: 1.6666666666666667%\n",
      "Iteration: 500. Loss: 4.987929344177246. Accuracy: 3.4408602150537635%\n",
      "Iteration: 1000. Loss: 4.959273815155029. Accuracy: 7.741935483870968%\n",
      "Iteration: 1500. Loss: 4.829017162322998. Accuracy: 11.666666666666666%\n",
      "EPOCH -- 4\n",
      "Iteration: 0. Loss: 4.749316215515137. Accuracy: 15.806451612903226%\n",
      "Iteration: 500. Loss: 4.752298355102539. Accuracy: 20.376344086021504%\n",
      "Iteration: 1000. Loss: 4.644786357879639. Accuracy: 27.204301075268816%\n",
      "Iteration: 1500. Loss: 3.98180890083313. Accuracy: 30.322580645161292%\n",
      "EPOCH -- 5\n",
      "Iteration: 0. Loss: 3.9686686992645264. Accuracy: 34.56989247311828%\n",
      "Iteration: 500. Loss: 4.298661708831787. Accuracy: 35.59139784946237%\n",
      "Iteration: 1000. Loss: 3.606588840484619. Accuracy: 38.11827956989247%\n",
      "Iteration: 1500. Loss: 3.2222838401794434. Accuracy: 40.215053763440864%\n",
      "EPOCH -- 6\n",
      "Iteration: 0. Loss: 3.748340606689453. Accuracy: 42.58064516129032%\n",
      "Iteration: 500. Loss: 3.3786401748657227. Accuracy: 45.053763440860216%\n",
      "Iteration: 1000. Loss: 2.6182003021240234. Accuracy: 47.31182795698925%\n",
      "Iteration: 1500. Loss: 2.957301616668701. Accuracy: 49.354838709677416%\n",
      "EPOCH -- 7\n",
      "Iteration: 0. Loss: 2.709803581237793. Accuracy: 48.44086021505376%\n",
      "Iteration: 500. Loss: 2.0256526470184326. Accuracy: 50.53763440860215%\n",
      "Iteration: 1000. Loss: 2.4275624752044678. Accuracy: 52.096774193548384%\n",
      "Iteration: 1500. Loss: 2.434427261352539. Accuracy: 53.494623655913976%\n",
      "EPOCH -- 8\n",
      "Iteration: 0. Loss: 2.349637508392334. Accuracy: 55.59139784946237%\n",
      "Iteration: 500. Loss: 3.251253128051758. Accuracy: 56.666666666666664%\n",
      "Iteration: 1000. Loss: 2.768918514251709. Accuracy: 56.774193548387096%\n",
      "Iteration: 1500. Loss: 2.6913459300994873. Accuracy: 57.68817204301075%\n",
      "EPOCH -- 9\n",
      "Iteration: 0. Loss: 2.238990306854248. Accuracy: 59.56989247311828%\n",
      "Iteration: 500. Loss: 1.6513417959213257. Accuracy: 59.67741935483871%\n",
      "Iteration: 1000. Loss: 2.9976840019226074. Accuracy: 59.784946236559136%\n",
      "Iteration: 1500. Loss: 2.8070833683013916. Accuracy: 61.774193548387096%\n",
      "EPOCH -- 10\n",
      "Iteration: 0. Loss: 1.5845181941986084. Accuracy: 63.01075268817204%\n",
      "Iteration: 500. Loss: 2.282072067260742. Accuracy: 63.225806451612904%\n",
      "Iteration: 1000. Loss: 2.025210380554199. Accuracy: 65.86021505376344%\n",
      "Iteration: 1500. Loss: 1.2220686674118042. Accuracy: 67.36559139784946%\n",
      "EPOCH -- 11\n",
      "Iteration: 0. Loss: 1.897707223892212. Accuracy: 67.04301075268818%\n",
      "Iteration: 500. Loss: 1.3809740543365479. Accuracy: 67.90322580645162%\n",
      "Iteration: 1000. Loss: 0.6139698028564453. Accuracy: 68.81720430107526%\n",
      "Iteration: 1500. Loss: 1.732098937034607. Accuracy: 70.59139784946237%\n",
      "EPOCH -- 12\n",
      "Iteration: 0. Loss: 1.7210239171981812. Accuracy: 72.68817204301075%\n",
      "Iteration: 500. Loss: 1.3463990688323975. Accuracy: 73.11827956989248%\n",
      "Iteration: 1000. Loss: 1.5073360204696655. Accuracy: 73.97849462365592%\n",
      "Iteration: 1500. Loss: 1.0127313137054443. Accuracy: 75.3225806451613%\n",
      "EPOCH -- 13\n",
      "Iteration: 0. Loss: 1.62688410282135. Accuracy: 76.72043010752688%\n",
      "Iteration: 500. Loss: 1.1871527433395386. Accuracy: 76.29032258064517%\n",
      "Iteration: 1000. Loss: 1.1704509258270264. Accuracy: 78.33333333333333%\n",
      "Iteration: 1500. Loss: 2.0361623764038086. Accuracy: 78.81720430107526%\n",
      "EPOCH -- 14\n",
      "Iteration: 0. Loss: 1.0033658742904663. Accuracy: 79.51612903225806%\n",
      "Iteration: 500. Loss: 1.1477491855621338. Accuracy: 81.18279569892474%\n",
      "Iteration: 1000. Loss: 0.9594460725784302. Accuracy: 82.52688172043011%\n",
      "Iteration: 1500. Loss: 0.359291672706604. Accuracy: 83.65591397849462%\n",
      "EPOCH -- 15\n",
      "Iteration: 0. Loss: 1.0426632165908813. Accuracy: 84.03225806451613%\n",
      "Iteration: 500. Loss: 0.7971824407577515. Accuracy: 84.89247311827957%\n",
      "Iteration: 1000. Loss: 0.7255692481994629. Accuracy: 86.88172043010752%\n",
      "Iteration: 1500. Loss: 0.7853244543075562. Accuracy: 87.04301075268818%\n",
      "EPOCH -- 16\n",
      "Iteration: 0. Loss: 0.8877294063568115. Accuracy: 87.68817204301075%\n",
      "Iteration: 500. Loss: 0.5311893224716187. Accuracy: 88.38709677419355%\n",
      "Iteration: 1000. Loss: 1.1637942790985107. Accuracy: 90.96774193548387%\n",
      "Iteration: 1500. Loss: 0.8812810182571411. Accuracy: 90.48387096774194%\n",
      "EPOCH -- 17\n",
      "Iteration: 0. Loss: 0.6630831956863403. Accuracy: 91.55913978494624%\n",
      "Iteration: 500. Loss: 0.3083764314651489. Accuracy: 92.20430107526882%\n",
      "Iteration: 1000. Loss: 0.6056487560272217. Accuracy: 93.17204301075269%\n",
      "Iteration: 1500. Loss: 1.0794332027435303. Accuracy: 92.41935483870968%\n",
      "EPOCH -- 18\n",
      "Iteration: 0. Loss: 0.4826955795288086. Accuracy: 93.70967741935483%\n",
      "Iteration: 500. Loss: 0.5225807428359985. Accuracy: 93.87096774193549%\n",
      "Iteration: 1000. Loss: 0.5266551971435547. Accuracy: 94.83870967741936%\n",
      "Iteration: 1500. Loss: 0.3775109052658081. Accuracy: 95.21505376344086%\n",
      "EPOCH -- 19\n",
      "Iteration: 0. Loss: 0.38018620014190674. Accuracy: 94.94623655913979%\n",
      "Iteration: 500. Loss: 0.5010813474655151. Accuracy: 95.16129032258064%\n",
      "Iteration: 1000. Loss: 0.7856817245483398. Accuracy: 95.0%\n",
      "Iteration: 1500. Loss: 0.09240174293518066. Accuracy: 95.86021505376344%\n",
      "\n"
     ]
    },
    {
     "data": {
      "text/plain": [
       "'Training finished!'"
      ]
     },
     "execution_count": 40,
     "metadata": {},
     "output_type": "execute_result"
    }
   ],
   "source": [
    "train(model, 20)"
   ]
  },
  {
   "cell_type": "code",
   "execution_count": 43,
   "metadata": {},
   "outputs": [
    {
     "name": "stdout",
     "output_type": "stream",
     "text": [
      "timebudget report...\n",
      "                    train: 1511706.63ms for      1 execs\n"
     ]
    },
    {
     "data": {
      "text/plain": [
       "NoneType"
      ]
     },
     "execution_count": 43,
     "metadata": {},
     "output_type": "execute_result"
    }
   ],
   "source": [
    "type(timebudget.report())"
   ]
  },
  {
   "cell_type": "code",
   "execution_count": 44,
   "metadata": {},
   "outputs": [
    {
     "data": {
      "text/plain": [
       "25.1951"
      ]
     },
     "execution_count": 44,
     "metadata": {},
     "output_type": "execute_result"
    }
   ],
   "source": [
    "(1511706/1000)/60"
   ]
  },
  {
   "cell_type": "code",
   "execution_count": 61,
   "metadata": {},
   "outputs": [
    {
     "data": {
      "text/plain": [
       "'moved'"
      ]
     },
     "execution_count": 61,
     "metadata": {},
     "output_type": "execute_result"
    }
   ],
   "source": [
    "transformText(\"I moved\", do_stop=True)"
   ]
  },
  {
   "cell_type": "code",
   "execution_count": 45,
   "metadata": {},
   "outputs": [],
   "source": [
    "def get_reply(msg):\n",
    "    features = prepare_features(msg, zero_pad = True)\n",
    "    ids = torch.tensor(features['input_ids']).unsqueeze(0).cuda()\n",
    "    tokens = torch.tensor(features['token_type_ids']).unsqueeze(0).cuda()\n",
    "    output = model.forward(ids,token_type_ids=tokens)[0]\n",
    "    _, predicted = torch.max(output.data, 1)\n",
    "    return list(label_to_ix.keys())[predicted]"
   ]
  },
  {
   "cell_type": "code",
   "execution_count": 60,
   "metadata": {},
   "outputs": [
    {
     "name": "stdout",
     "output_type": "stream",
     "text": [
      "workerPersonalAddress.update\n",
      "workerPersonalAddress.update\n",
      "workerPersonalAddress.update\n",
      "workerPersonalAddress.update\n",
      "workerPersonalAddress.update\n",
      "workerPersonalAddress.update\n",
      "workerPersonalAddress.update\n",
      "workerPersonalAddress.update\n",
      "workerPersonalAddress.update\n",
      "workerPersonalAddress.update\n"
     ]
    }
   ],
   "source": [
    "msg = \"I moved\"\n",
    "for i in range(10):\n",
    "    print(get_reply(msg))"
   ]
  },
  {
   "cell_type": "markdown",
   "metadata": {},
   "source": [
    "## Parameters\n",
    "\n",
    "### External dataset\n",
    "| Model     | LR       | Batch Size   | Epochs    | Accuracy    |\n",
    "| :---:     | :---:    | :---:        | :---:     |  :---:      |\n",
    "| RoBERTa   |   1e-05  |     2        |    5      |   97.73%    | \n",
    "| RoBERTa   |   1e-05  |     4        |    5      |   98.57%    | \n",
    "| RoBERTa   |   2e-05  |     2        |    5      |   14.04%    | \n",
    "| RoBERTa   |   2e-05  |     4        |    5      |   13.69%    | \n",
    " \n",
    "\n",
    "### Internal dataset (7 intents)\n",
    "| Model     | LR       | Batch Size   | Epochs    | Accuracy    |\n",
    "| :---:     | :---:    | :---:        | :---:     |  :---:      |\n",
    "| RoBERTa   |   1e-06  |     2        |    5      |  88.69%     | \n",
    "| RoBERTa   |   1e-06  |     4        |    5      |  59.64%     |\n",
    "| RoBERTa   |   5e-06  |     2        |    5      |  100% (after 2 epochs)        | \n",
    "| RoBERTa   |   5e-06  |     4        |    5      |          |\n",
    "| RoBERTa   |   1e-05  |     2        |    5      |          | \n",
    "| RoBERTa   |   1e-05  |     4        |    5      |          | \n",
    "| DistilBERT   |   1e-06  |     2        |    5      |       | \n",
    "| DistilBERT   |   1e-06  |     4        |    5      |       |\n",
    "| DistilBERT   |   5e-06  |     2        |    5      |          | \n",
    "| DistilBERT   |   5e-06  |     4        |    5      |          |\n",
    "| DistilBERT   |   1e-05  |     2        |    5      |          | \n",
    "| DistilBERT   |   1e-05  |     4        |    5      |          | \n",
    "\n",
    "### Internal dataset (complete)\n",
    "| Model     | LR       | Batch Size   | Epochs    | Accuracy    |  Hiddden Layers |  Training  Time |\n",
    "| :---:     | :---:    | :---:        | :---:     |  :---:      |    :---:        |      :---:      |\n",
    "| RoBERTa   |   1e-06  |     2        |    5      |   0.64%     |      12         |        na       |\n",
    "| RoBERTa   |   2e-06  |     2        |    5      |   9.13%     |      12         |        na       |\n",
    "| RoBERTa   |   3e-06  |     2        |    5      |   26.02%    |      12         |        na       |\n",
    "| RoBERTa   |   4e-06  |     2        |    5      |   45.91%    |      12         |        na       |\n",
    "| RoBERTa   |   5e-06  |     2        |    5      |   12.68%    |      12         |        na       |\n",
    "| RoBERTa   |   7e-06  |     2        |    5      |   0.91%     |      12         |        na       |\n",
    "| RoBERTa   |   3.5e-06  |     4        |    8      |  62.20%   |      12         |        na       |\n",
    "| RoBERTa   |   3.5e-06  |     4        |    12      |   89.67% |      6          |      25 min     |\n",
    "| RoBERTa   |   3.5e-06  |     4        |    12      |   82.09% |      5          |      23.36 min  |\n",
    "| RoBERTa   |   3.5e-06  |     4        |    12      |   82.04% |      4          |      18.76 min  |\n",
    "| RoBERTa   |   3.5e-06  |     4        |    16      |   94.35% |      4          |      25 min     |\n",
    "| RoBERTa   |   3.5e-06  |     4        |    20      |   95.86% |      3          |      25.19 min  |\n",
    "| RoBERTa   |   3.5e-06  |     4        |    25 (18)      |   99.46% |      4          |      111 min  |"
   ]
  },
  {
   "cell_type": "code",
   "execution_count": null,
   "metadata": {},
   "outputs": [],
   "source": [
    "msg = \"radiohead playlist\"\n",
    "input_msg = prepare_features(msg, zero_pad=True)\n",
    "ids = torch.tensor(input_msg['input_ids'])\n",
    "tokens = torch.tensor(input_msg['token_type_ids'])\n",
    "ids\n",
    "out = model.forward(ids.cuda(),token_type_ids=tokens.cuda())\n",
    "\n",
    "#model.forward(input_msg['input_ids'],token_type_ids=input_msg['token_type_ids'])"
   ]
  },
  {
   "cell_type": "code",
   "execution_count": null,
   "metadata": {},
   "outputs": [],
   "source": [
    "def get_reply(msg):\n",
    "    model.eval()\n",
    "    input_msg, _ = prepare_features(msg)\n",
    "    if torch.cuda.is_available():\n",
    "        input_msg = input_msg.cuda()\n",
    "    output = model(input_msg)[0]\n",
    "    _, pred_label = torch.max(output.data, 1)\n",
    "    prediction=list(label_to_ix.keys())[pred_label]\n",
    "    return prediction"
   ]
  }
 ],
 "metadata": {
  "kernelspec": {
   "display_name": "Python 3",
   "language": "python",
   "name": "python3"
  },
  "language_info": {
   "codemirror_mode": {
    "name": "ipython",
    "version": 3
   },
   "file_extension": ".py",
   "mimetype": "text/x-python",
   "name": "python",
   "nbconvert_exporter": "python",
   "pygments_lexer": "ipython3",
   "version": "3.6.7"
  }
 },
 "nbformat": 4,
 "nbformat_minor": 2
}
