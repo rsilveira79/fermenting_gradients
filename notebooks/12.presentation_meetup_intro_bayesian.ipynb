{
 "cells": [
  {
   "cell_type": "markdown",
   "metadata": {
    "slideshow": {
     "slide_type": "slide"
    }
   },
   "source": [
    "# Uma breve introdução à inferência Bayesiana\n",
    "\n",
    "<TABLE>\n",
    "<tr>\n",
    "    <th><img src=\"imgs_prez/betao-1X.jpg\"  width=\"128\" height=\"128\" align=\"center\"/></th>\n",
    "    <th align=\"center\">Roberto Pereira Silveira</th>\n",
    "</tr>\n",
    "</TABLE>"
   ]
  },
  {
   "cell_type": "code",
   "execution_count": null,
   "metadata": {
    "slideshow": {
     "slide_type": "skip"
    }
   },
   "outputs": [],
   "source": [
    "import pymc3 as pm\n",
    "import matplotlib.pyplot as plt\n",
    "import numpy as np\n",
    "import scipy.stats as st\n",
    "\n",
    "import arviz as az\n",
    "az.style.use(\"arviz-darkgrid\")\n",
    "\n",
    "import warnings\n",
    "warnings.filterwarnings(\"ignore\")\n",
    "\n",
    "%matplotlib inline  "
   ]
  },
  {
   "cell_type": "markdown",
   "metadata": {
    "slideshow": {
     "slide_type": "slide"
    }
   },
   "source": [
    "## TOC:\n",
    "* [1 - 3 Steps of Bayesian Data Analises](#3steps-BDA)\n",
    "* [2 - Bayes Formula - An Intuition](#bayes-formula)\n",
    "* [3 - Most Used Distributions](#distributions)\n",
    "* [4 - Posterior Approximation - A glimpse into MCMC](#mcmc)\n",
    "* [5 - Quick Example in PyMC3](#example)\n",
    "* [6 - Sources](#sources)"
   ]
  },
  {
   "cell_type": "code",
   "execution_count": null,
   "metadata": {},
   "outputs": [],
   "source": [
    "!ls imgs_prez/"
   ]
  },
  {
   "cell_type": "markdown",
   "metadata": {
    "slideshow": {
     "slide_type": "slide"
    }
   },
   "source": [
    "## 1. The three steps of Bayesian data analysis<a class=\"anchor\" id=\"3steps-BDA\"></a>\n",
    "\n",
    "From Andrew Gelmann in Bayesian Data Analysis (BDA - 3rd Edition) and Chris Fonnesbeck (https://github.com/fonnesbeck/bayes_tutorial_2019).\n",
    "\n",
    "<img src=\"imgs_prez/bayes_123.png\" align=\"center\"/>\n",
    "\n",
    "**Source**: https://github.com/fonnesbeck/bayes_tutorial_2019)"
   ]
  },
  {
   "cell_type": "markdown",
   "metadata": {
    "slideshow": {
     "slide_type": "subslide"
    }
   },
   "source": [
    "### Step 1: Specify a probability model\n",
    "\n",
    "As was noted above, Bayesian statistics involves using probability models to solve problems. So, the first task is to *completely specify* the model in terms of probability distributions. This includes everything: unknown parameters, data, covariates, missing data, predictions. All must be assigned some probability density.\n",
    "\n",
    "This step involves making choices.\n",
    "\n",
    "- what is the form of the sampling distribution of the data?\n",
    "- what form best describes our uncertainty in the unknown parameters?\n",
    "\n",
    "**Source**: https://github.com/fonnesbeck/bayes_tutorial_2019)"
   ]
  },
  {
   "cell_type": "markdown",
   "metadata": {
    "slideshow": {
     "slide_type": "subslide"
    }
   },
   "source": [
    "### Step 2: Calculate a posterior distribution\n",
    "\n",
    "The mathematical form \\\\(p(\\theta | y)\\\\) that we associated with the Bayesian approach is referred to as a **posterior distribution**.\n",
    "\n",
    "> posterior /pos·ter·i·or/ (pos-tēr´e-er) later in time; subsequent.\n",
    "\n",
    "Why posterior? Because it tells us what we know about the unknown \\\\(\\theta\\\\) *after* having observed \\\\(y\\\\).\n",
    "\n",
    "This posterior distribution is formulated as a function of the probability model that was specified in Step 1. Usually, we can write it down but we cannot calculate it analytically. In fact, the difficulty inherent in calculating the posterior distribution for most models of interest is perhaps the major contributing factor for the lack of widespread adoption of Bayesian methods for data analysis. Various strategies for doing so comprise this tutorial.\n",
    "\n",
    "**But**, once the posterior distribution is calculated, you get a lot for free:\n",
    "\n",
    "- point estimates\n",
    "- credible intervals\n",
    "- quantiles\n",
    "- predictions\n",
    "\n",
    "**Source**: https://github.com/fonnesbeck/bayes_tutorial_2019)"
   ]
  },
  {
   "cell_type": "markdown",
   "metadata": {
    "slideshow": {
     "slide_type": "subslide"
    }
   },
   "source": [
    "### Step 3: Check your model\n",
    "\n",
    "Though frequently ignored in practice, it is critical that the model and its outputs be assessed before using the outputs for inference. Models are specified based on assumptions that are largely unverifiable, so the least we can do is examine the output in detail, relative to the specified model and the data that were used to fit the model.\n",
    "\n",
    "Specifically, we must ask:\n",
    "\n",
    "- does the model fit data?\n",
    "- are the conclusions reasonable?\n",
    "- are the outputs sensitive to changes in model structure?\n",
    "\n",
    "**Source**: https://github.com/fonnesbeck/bayes_tutorial_2019)"
   ]
  },
  {
   "cell_type": "markdown",
   "metadata": {
    "slideshow": {
     "slide_type": "subslide"
    }
   },
   "source": [
    "### The Frequentist World View\n",
    "\n",
    "![Fisher](imgs_prez/fisher.png)\n",
    "\n",
    "- The data that have been observed are considered **random**, because they are realizations of random processes, and hence will vary each time one goes to observe the system.\n",
    "- Model parameters are considered **fixed**. The parameters' values are unknown, but they are fixed, and so we *condition* on them.\n",
    "\n",
    "In mathematical notation, this implies a (very) general model of the following form:\n",
    "\n",
    "<div style=\"font-size:35px\">\n",
    "\\\\[f(y | \\theta)\\\\]\n",
    "</div>"
   ]
  },
  {
   "cell_type": "markdown",
   "metadata": {},
   "source": [
    "### The Bayesian World View\n",
    "\n",
    "![Bayes](imgs_prez/bayes.png)\n",
    "\n",
    "- Data are considered **fixed**. They used to be random, but once they were written into your lab notebook/spreadsheet/IPython notebook they do not change.\n",
    "- Model parameters themselves may not be random, but Bayesians use probability distribtutions to describe their uncertainty in parameter values, and are therefore treated as **random**. In some cases, it is useful to consider parameters as having been sampled from probability distributions.\n",
    "\n",
    "This implies the following form:\n",
    "\n",
    "<div style=\"font-size:35px\">\n",
    "\\\\[p(\\theta | y)\\\\]\n",
    "</div>\n",
    "\n",
    "This formulation used to be referred to as ***inverse probability***, because it infers from observations to parameters, or from effects to causes.\n",
    "\n",
    "Bayesians do not seek new estimators for every estimation problem they encounter. There is only one estimator for Bayesian inference: **Bayes' Formula**."
   ]
  },
  {
   "cell_type": "markdown",
   "metadata": {
    "slideshow": {
     "slide_type": "slide"
    }
   },
   "source": [
    " <img src=\"imgs_prez/img1.png\" align=\"center\"/>\n",
    " **Source**: betanalpha.github.io"
   ]
  },
  {
   "cell_type": "markdown",
   "metadata": {
    "slideshow": {
     "slide_type": "subslide"
    }
   },
   "source": [
    " <img src=\"imgs_prez/img2.png\" align=\"center\"/>\n",
    " \n",
    " **Source**: betanalpha.github.io"
   ]
  },
  {
   "cell_type": "markdown",
   "metadata": {
    "slideshow": {
     "slide_type": "subslide"
    }
   },
   "source": [
    "<img src=\"imgs_prez/img3.png\" align=\"center\"/>\n",
    "\n",
    " **Source**: betanalpha.github.io"
   ]
  },
  {
   "cell_type": "markdown",
   "metadata": {
    "slideshow": {
     "slide_type": "subslide"
    }
   },
   "source": [
    "<img src=\"imgs_prez/img4.png\" align=\"center\"/>\n",
    "\n",
    " **Source**: betanalpha.github.io"
   ]
  },
  {
   "cell_type": "markdown",
   "metadata": {
    "slideshow": {
     "slide_type": "subslide"
    }
   },
   "source": [
    "<img src=\"imgs_prez/img5.png\" align=\"center\"/>\n",
    "\n",
    " **Source**: betanalpha.github.io"
   ]
  },
  {
   "cell_type": "markdown",
   "metadata": {
    "slideshow": {
     "slide_type": "subslide"
    }
   },
   "source": [
    "<img src=\"imgs_prez/img6.png\" align=\"center\"/>\n",
    "\n",
    " **Source**: betanalpha.github.io"
   ]
  },
  {
   "cell_type": "markdown",
   "metadata": {
    "slideshow": {
     "slide_type": "slide"
    }
   },
   "source": [
    "## 2. Bayes Formula - An Intuition <a class=\"anchor\" id=\"bayes-formula\"></a>"
   ]
  },
  {
   "cell_type": "markdown",
   "metadata": {
    "slideshow": {
     "slide_type": "slide"
    }
   },
   "source": [
    "From product rule we have\n",
    "\n",
    "$$\n",
    "p(\\theta,  y)= p(\\theta \\mid y) \\: p(y) \n",
    "$$\n",
    "\n",
    "Can be also written as:\n",
    "$$\n",
    "p(\\theta,  y)= p(y \\mid \\theta ) \\: p(\\theta)\n",
    "$$\n",
    "\n",
    "Re-ordening\n",
    "$$\n",
    "p(\\theta \\mid y) \\: p(y) = p(y \\mid \\theta ) \\: p(\\theta)\n",
    "$$"
   ]
  },
  {
   "cell_type": "markdown",
   "metadata": {
    "slideshow": {
     "slide_type": "subslide"
    }
   },
   "source": [
    "Finally:\n",
    "$$\n",
    "p(\\theta \\mid y)  = \\frac{p(y \\mid \\theta ) \\: p(\\theta)}{p(y)}\n",
    "$$\n",
    "\n",
    "Where:\n",
    "    \n",
    "$p(y \\mid \\theta ) \\rightarrow$ **Likelihood** =\"plausibility\"of the data given the parameters  \n",
    "\n",
    "$p(\\theta)  \\rightarrow$ **Prior Distribution** = What we know about parameters withouth seen the data \n",
    "\n",
    "$p(y) \\rightarrow $  **Marginal Likelihood or Evidence** = Normalizing constant (so that posterior probabilities sum to 1)\n",
    "\n",
    "$(\\theta \\mid y) \\rightarrow $  **Posterior Distribution** = compromise between prior and likelihood, updating prior believes in light of new data $\\rightarrow$ suitable for **sequential** data analysis  \n",
    "\n",
    "Writting differently ($ \\theta = hypothesis $, $ y = data $):   \n",
    "$$\n",
    "p(hypothesis \\mid data)  = \\frac{p(data \\mid hypothesis ) \\: p(hypothesis)}{p(data)}\n",
    "$$"
   ]
  },
  {
   "cell_type": "markdown",
   "metadata": {
    "slideshow": {
     "slide_type": "slide"
    }
   },
   "source": [
    "### _\"A Bayesian us one who, vagely expecting a horse, and catching a glimpse of a donkey, strongly believes he has seen a mule.\"_"
   ]
  },
  {
   "cell_type": "markdown",
   "metadata": {
    "slideshow": {
     "slide_type": "slide"
    }
   },
   "source": [
    "## A quick Example\n",
    " **Source**: https://github.com/AllenDowney/BiteSizeBayes/blob/master/05_test_soln.ipynb\n",
    "\n",
    "> In Bayesville, 1% of the population has an undiagnosed medical condition.  Jimmy gets tested for the condition and the test comes back positive; that is, the test says Jimmy has the condition.  \n",
    ">\n",
    "> The test is 95% accurate, which means\n",
    "> * If you give the test to someone with the condition, the probability is 95% that the test will be positive, and \n",
    "> * If you give it to someone who does not have the condition, the probability is 95% that the test will be negative.  \n",
    ">\n",
    "> What is the probability that Jimmy actually has the condition?  "
   ]
  },
  {
   "cell_type": "markdown",
   "metadata": {
    "slideshow": {
     "slide_type": "skip"
    }
   },
   "source": [
    "Because the test is 95% accurate, it is tempting to say that the probability is 95% that the test is correct and Jimmy has the condition."
   ]
  },
  {
   "cell_type": "code",
   "execution_count": null,
   "metadata": {
    "slideshow": {
     "slide_type": "subslide"
    }
   },
   "outputs": [],
   "source": [
    "import pandas as pd\n",
    "\n",
    "table = pd.DataFrame(index=['condition', 'no condition'])\n",
    "table['prior'] = 0.01, 0.99\n",
    "table"
   ]
  },
  {
   "cell_type": "code",
   "execution_count": null,
   "metadata": {
    "slideshow": {
     "slide_type": "subslide"
    }
   },
   "outputs": [],
   "source": [
    "table['likelihood'] = 0.95, 0.05\n",
    "table"
   ]
  },
  {
   "cell_type": "code",
   "execution_count": null,
   "metadata": {
    "slideshow": {
     "slide_type": "subslide"
    }
   },
   "outputs": [],
   "source": [
    "table['unnorm'] = table['prior'] * table['likelihood']\n",
    "table"
   ]
  },
  {
   "cell_type": "code",
   "execution_count": null,
   "metadata": {
    "slideshow": {
     "slide_type": "subslide"
    }
   },
   "outputs": [],
   "source": [
    "prob_data = table['unnorm'].sum()\n",
    "prob_data"
   ]
  },
  {
   "cell_type": "code",
   "execution_count": null,
   "metadata": {
    "slideshow": {
     "slide_type": "subslide"
    }
   },
   "outputs": [],
   "source": [
    "table['posterior'] = table['unnorm'] / prob_data\n",
    "table"
   ]
  },
  {
   "cell_type": "code",
   "execution_count": null,
   "metadata": {
    "slideshow": {
     "slide_type": "subslide"
    }
   },
   "outputs": [],
   "source": [
    "def make_bayes_table(hypos, prior, likelihood):\n",
    "    \"\"\"Make a Bayes table.\n",
    "    \n",
    "    hypos: sequence of hypotheses\n",
    "    prior: prior probabilities\n",
    "    likelihood: sequence of likelihoods\n",
    "    \n",
    "    returns: DataFrame\n",
    "    \"\"\"\n",
    "    table = pd.DataFrame(index=hypos)\n",
    "    table['prior'] = prior\n",
    "    table['likelihood'] = likelihood\n",
    "    table['unnorm'] = table['prior'] * table['likelihood']\n",
    "    prob_data = table['unnorm'].sum()\n",
    "    table['posterior'] = table['unnorm'] / prob_data\n",
    "    return table"
   ]
  },
  {
   "cell_type": "code",
   "execution_count": null,
   "metadata": {
    "slideshow": {
     "slide_type": "subslide"
    }
   },
   "outputs": [],
   "source": [
    "## Increased Test Sensitivity to 99.5%\n",
    "hypos = ['condition', 'no condition']\n",
    "prior = 0.01, 0.99\n",
    "likelihood = 0.995, 0.005\n",
    "\n",
    "make_bayes_table(hypos, prior, likelihood)"
   ]
  },
  {
   "cell_type": "code",
   "execution_count": null,
   "metadata": {
    "slideshow": {
     "slide_type": "subslide"
    }
   },
   "outputs": [],
   "source": [
    "## Re-Test, Again Positive\n",
    "hypos = ['condition', 'no condition']\n",
    "prior = 0.667785, 0.332215\n",
    "likelihood = 0.995, 0.005\n",
    "\n",
    "make_bayes_table(hypos, prior, likelihood)"
   ]
  },
  {
   "cell_type": "markdown",
   "metadata": {
    "slideshow": {
     "slide_type": "slide"
    }
   },
   "source": [
    "**Contraction** $\\rightarrow$ likelihood function is more informative than, but also consistent with, the prior distribution:\n",
    "\n",
    " <img src=\"imgs_prez/img7.png\" width=\"640\" height=\"640\" align=\"center\"/>\n",
    " **Source**: betanalpha.github.io"
   ]
  },
  {
   "cell_type": "markdown",
   "metadata": {
    "slideshow": {
     "slide_type": "subslide"
    }
   },
   "source": [
    "**Containment** $\\rightarrow$ prior distribution is more informative than, but also consistent with, the likelihood function:\n",
    "\n",
    " <img src=\"imgs_prez/img8.png\" width=\"640\" height=\"640\" align=\"center\"/>\n",
    " **Source**: betanalpha.github.io"
   ]
  },
  {
   "cell_type": "markdown",
   "metadata": {
    "slideshow": {
     "slide_type": "subslide"
    }
   },
   "source": [
    "**Compromise** $\\rightarrow$ when there is tension between the information encoded in the likelihood function and the prior:\n",
    "\n",
    " <img src=\"imgs_prez/img9.png\" width=\"640\" height=\"640\" align=\"center\"/>\n",
    " **Source**: betanalpha.github.io"
   ]
  },
  {
   "cell_type": "markdown",
   "metadata": {
    "slideshow": {
     "slide_type": "slide"
    }
   },
   "source": [
    "<img src=\"imgs_prez/bayesian_inference_summary.png\" width=\"640\" height=\"640\" align=\"center\"/>\n",
    "\n",
    "**Source**: Osvaldo Martin - Bayesian Analysis with Python"
   ]
  },
  {
   "cell_type": "markdown",
   "metadata": {
    "slideshow": {
     "slide_type": "slide"
    }
   },
   "source": [
    "## 3. Most Used Distributions <a class=\"anchor\" id=\"distributions\"></a>"
   ]
  },
  {
   "cell_type": "markdown",
   "metadata": {
    "slideshow": {
     "slide_type": "slide"
    }
   },
   "source": [
    "\n",
    "3.1. **Continuous Distributions** <a class=\"anchor\" id=\"continuous\"></a>  \n",
    "3.1.1 - Uniform  \n",
    "3.1.2 - Normal (Gaussian) <a class=\"anchor\" id=\"normal\"></a>  \n",
    "3.1.3 - T-Student (Robust Inference) <a class=\"anchor\" id=\"tstudent\"></a>  \n",
    "3.1.4 - Beta (univariate)  <a class=\"anchor\" id=\"beta\"></a>  \n",
    "3.1.5 - Gamma  <a class=\"anchor\" id=\"gamma\"></a>  \n",
    "\n",
    "3.2. **Discrete Distributions**  \n",
    "3.2.1 - Bernouli  \n",
    "3.2.2 - Binomial  \n",
    "3.2.3 - Poisson  \n",
    "3.2.4 - Negative Binomial  \n",
    "\n",
    "#### https://pymc3.readthedocs.io/en/latest/api/distributions/continuous.html"
   ]
  },
  {
   "cell_type": "code",
   "execution_count": null,
   "metadata": {
    "slideshow": {
     "slide_type": "skip"
    }
   },
   "outputs": [],
   "source": [
    "def get_samples(dist, n_samples):\n",
    "    samples = np.array([dist.random() for n in range(n_samples)])\n",
    "    return samples"
   ]
  },
  {
   "cell_type": "code",
   "execution_count": null,
   "metadata": {
    "slideshow": {
     "slide_type": "skip"
    }
   },
   "outputs": [],
   "source": [
    "def plot_dist_kde(dist, n_samples):\n",
    "    samples = np.array([dist.random() for n in range(n_samples)])\n",
    "    return None"
   ]
  },
  {
   "cell_type": "markdown",
   "metadata": {
    "slideshow": {
     "slide_type": "slide"
    }
   },
   "source": [
    "## 3.1 Continuous Distributions <a class=\"anchor\" id=\"continuous-distributions\"></a>"
   ]
  },
  {
   "cell_type": "markdown",
   "metadata": {
    "slideshow": {
     "slide_type": "slide"
    }
   },
   "source": [
    "### 3.1.1 - Uniform Distribution\n",
    "\n",
    "$$\n",
    "p(x \\mid lower, upper) = \\frac{1}{upper-lower}\n",
    "$$"
   ]
  },
  {
   "cell_type": "code",
   "execution_count": null,
   "metadata": {
    "hideCode": false,
    "slideshow": {
     "slide_type": "subslide"
    }
   },
   "outputs": [],
   "source": [
    "x = np.linspace(-3.0, 3.0, 1000)\n",
    "a, b = 0.0, 2.0\n",
    "y = np.zeros(1000)\n",
    "y[(x<b) & (x>a)] = 1.0/(b-a)\n",
    "fig, ax = plt.subplots(figsize=(20,12))\n",
    "ax.plot(x, y, label='lower=1, upper=2', linewidth=4)\n",
    "a, b = -2.0, 1.0\n",
    "y = np.zeros(1000)\n",
    "y[(x<b) & (x>a)] = 1.0/(b-a)\n",
    "ax.plot(x, y, label='lower=-2, upper=1', linewidth=4)\n",
    "ax.legend(loc='upper left', frameon=True, shadow=True, fontsize = 'xx-large')\n",
    "ax.set(ylim=[-0.1,0.6], xlabel='x', ylabel='p(x | lower, upper)')\n",
    "plt.show()"
   ]
  },
  {
   "cell_type": "markdown",
   "metadata": {
    "slideshow": {
     "slide_type": "slide"
    }
   },
   "source": [
    "### 3.1.2 - Normal (Gaussian) Distribution\n",
    "\n",
    "$$\n",
    "p(x \\mid \\mu, \\sigma) = \\frac{1}{\\sigma \\sqrt{2\\pi}} e^{\\frac{-1}{2}(\\frac{x-\\mu}{\\sigma})^2}\n",
    "$$"
   ]
  },
  {
   "cell_type": "code",
   "execution_count": null,
   "metadata": {
    "hideCode": false,
    "slideshow": {
     "slide_type": "subslide"
    }
   },
   "outputs": [],
   "source": [
    "x = np.linspace(-5.0, 5.0, 1000)\n",
    "fig, ax = plt.subplots(figsize=(20,12))\n",
    "f = lambda mu, sd : st.norm.pdf(x, loc=mu, scale=sd)\n",
    "plot_pdf = lambda a, b : ax.plot(x, f(a,b), label=r'$\\mu$={0}, $\\sigma$={1}'.format(a,b), linewidth=4)\n",
    "plot_pdf(0.0, 0.4)\n",
    "plot_pdf(0.0, 1.0)\n",
    "plot_pdf(0.0, 2.0)\n",
    "plot_pdf(-2.0, 0.4)\n",
    "plt.legend(loc='upper left', frameon=True, shadow=True, fontsize = 'xx-large')\n",
    "ax.set(xlim=[-5,5], ylim=[-0.05,1.1], xlabel='x', ylabel='p(x | μ,σ)')\n",
    "plt.show()"
   ]
  },
  {
   "cell_type": "markdown",
   "metadata": {
    "slideshow": {
     "slide_type": "slide"
    }
   },
   "source": [
    "### 3.1.3 - T-Student (Robust)\n",
    "\n",
    "$$\n",
    "p(x \\mid \\nu) = \\frac{\\Gamma(\\frac{\\nu+1}{2})}{\\sqrt{\\nu \\pi} \\; \\Gamma(\\frac{\\nu}{2})} \\; (1+\\frac{x^2}{\\nu})^\\frac{-(\\nu+1)}{2}\n",
    "$$\n",
    "\n",
    "$\\nu \\; \\rightarrow$ \"normality\" parameter\n",
    "\n",
    "Where:  \n",
    "$\\nu=1 \\; \\rightarrow$  heavy tails (Cauchy)  \n",
    "$\\nu=\\infty \\; \\rightarrow$  Gaussian (Normal)"
   ]
  },
  {
   "cell_type": "code",
   "execution_count": null,
   "metadata": {
    "hideCode": false,
    "hidePrompt": false,
    "slideshow": {
     "slide_type": "subslide"
    }
   },
   "outputs": [],
   "source": [
    "x = np.linspace(-5.0, 5.0, 1000)\n",
    "fig, ax = plt.subplots(figsize=(20,12))\n",
    "f = lambda mu, lam, df : st.t.pdf(x, df, loc=mu, scale=1.0/np.sqrt(lam))\n",
    "plot_pdf = lambda mu, lam, df : ax.plot(x, f(mu, lam, df), label=r'$\\nu$={2}'.format(mu, lam, df), linewidth=4)\n",
    "plot_pdf(0.0, 1.0, 1.0)\n",
    "plot_pdf(0.0, 1.0, 2.0)\n",
    "plot_pdf(0.0, 1.0, 5)\n",
    "plot_pdf(0.0, 1.0, 100)\n",
    "plt.legend(loc='upper left', frameon=True, shadow=True, fontsize = 'xx-large')\n",
    "ax.set(xlim=[-5,5], ylim=[0,0.4], xlabel='x', ylabel='p(x | ν)')\n",
    "plt.show()"
   ]
  },
  {
   "cell_type": "markdown",
   "metadata": {
    "slideshow": {
     "slide_type": "slide"
    }
   },
   "source": [
    "### 3.1.4 - Beta\n",
    "\n",
    "$$\n",
    "p(x \\mid \\alpha, \\beta) = \\frac{\\Gamma(\\alpha+\\beta)}{\\Gamma(\\alpha)+\\Gamma(\\beta)}\\theta^{\\alpha-1}(1-\\theta)^{\\beta-1}\n",
    "$$"
   ]
  },
  {
   "cell_type": "code",
   "execution_count": null,
   "metadata": {
    "hideCode": false,
    "slideshow": {
     "slide_type": "subslide"
    }
   },
   "outputs": [],
   "source": [
    "x = np.linspace(0.0, 1.0, 1000)\n",
    "fig, ax = plt.subplots(figsize=(20,12))\n",
    "f = lambda a, b : st.beta.pdf(x, a, b)\n",
    "plot_pdf = lambda a, b : ax.plot(x, f(a,b), label=r'$\\alpha$={0}, $\\beta$={1}'.format(a,b), linewidth=4)\n",
    "plot_pdf(0.5, 0.5)\n",
    "plot_pdf(5.0, 1.0)\n",
    "plot_pdf(1.0, 3.0)\n",
    "plot_pdf(1.0, 1.0)\n",
    "plot_pdf(2.0, 2.0)\n",
    "plot_pdf(2.0, 5.0)\n",
    "plt.legend(loc='upper center', frameon=True, shadow=True, fontsize = 'xx-large')\n",
    "ax.set(xlim=[0,1], ylim=[0,2.5], xlabel='x', ylabel='p(x|α,β)')\n",
    "plt.show()"
   ]
  },
  {
   "cell_type": "markdown",
   "metadata": {},
   "source": [
    "### 3.1.5 - Gamma\n",
    "\n",
    "$$\n",
    "p(x \\mid \\alpha, \\beta) = \\frac{\\beta^{\\alpha} \\; x^{\\alpha-1} \\; e^{-\\beta x} }{\\Gamma{(\\alpha)}}\n",
    "$$"
   ]
  },
  {
   "cell_type": "code",
   "execution_count": null,
   "metadata": {},
   "outputs": [],
   "source": [
    "x = np.linspace(0.0, 20.0, 1000)\n",
    "fig, ax = plt.subplots(figsize=(20,12))\n",
    "f = lambda a, b : st.gamma.pdf(x, a, scale=1.0/b)\n",
    "plot_pdf = lambda a, b : ax.plot(x, f(a, b), label=r'$\\alpha$={0}, $\\beta$={1}'.format(a, b), linewidth=4)\n",
    "plot_pdf(1.0, 0.5)\n",
    "plot_pdf(2.0, 0.5)\n",
    "plot_pdf(3.0, 1.0)\n",
    "plot_pdf(7.5, 1.0)\n",
    "plt.legend(loc='upper center', frameon=True, shadow=True, fontsize = 'xx-large')\n",
    "ax.set(xlim=[0,20], ylim=[0,0.4], xlabel='x', ylabel='p(x|α,β)')\n",
    "plt.show()"
   ]
  },
  {
   "cell_type": "markdown",
   "metadata": {},
   "source": [
    "## 3.2 Discrete Distributions <a class=\"anchor\" id=\"discrete-distributions\"></a>"
   ]
  },
  {
   "cell_type": "markdown",
   "metadata": {},
   "source": [
    "### 3.2.2 - Bernoulli\n",
    "\n",
    "\n",
    "$$\n",
    "p(x \\mid p) = p^{x}(1-p)^{1-x}\n",
    "$$\n",
    "\n",
    "Where:  \n",
    "$p \\; \\rightarrow$  Probability of success"
   ]
  },
  {
   "cell_type": "code",
   "execution_count": null,
   "metadata": {},
   "outputs": [],
   "source": [
    "fig, ax = plt.subplots(figsize=(20,12))\n",
    "f = lambda p : st.bernoulli.pmf(np.arange(st.bernoulli.ppf(0.01, p), st.bernoulli.ppf(0.99, p)), p)\n",
    "plot_pmf = lambda p : ax.bar(np.arange(st.bernoulli.ppf(0.01, p), st.bernoulli.ppf(0.99, p)), f(p), width=0.2, label=r'p={0}'.format(p))\n",
    "plot_pmf(0.1)\n",
    "plot_pmf(0.2)\n",
    "plot_pmf(0.5)\n",
    "plot_pmf(0.95)\n",
    "plt.legend(loc='upper left', frameon=True, shadow=True, fontsize = 'xx-large')\n",
    "ax.set(xlim=[-1,1], ylim=[0,1], xlabel='x', ylabel='p(x|n,p)')\n",
    "plt.show()"
   ]
  },
  {
   "cell_type": "markdown",
   "metadata": {
    "slideshow": {
     "slide_type": "subslide"
    }
   },
   "source": [
    "### 3.2.2 - Binomial\n",
    "\n",
    "\n",
    "$$\n",
    "p(x \\mid n, p) = \\binom{n}{x} \\; p^{x}(1-p)^{n-x}\n",
    "$$\n",
    "\n",
    "Where:  \n",
    "$n \\; \\rightarrow$  Number of independent events  \n",
    "$p \\; \\rightarrow$  Probability of success\n",
    "\n",
    "Binomial is sum of individual Bernoulli distributions"
   ]
  },
  {
   "cell_type": "code",
   "execution_count": null,
   "metadata": {},
   "outputs": [],
   "source": [
    "n_events= 50\n",
    "fig, ax = plt.subplots(figsize=(20,12))\n",
    "f = lambda n, p : st.binom.pmf(np.arange(st.binom.ppf(0.01, n, p), st.binom.ppf(0.99, n, p)), n,p)\n",
    "plot_pmf = lambda n, p : ax.bar(np.arange(st.binom.ppf(0.01, n, p), st.binom.ppf(0.99, n, p)), f(n, p), width=0.3, label=r'n={0}, p={1}'.format(n, p))\n",
    "plot_pmf(n_events,0.1)\n",
    "plot_pmf(n_events,0.2)\n",
    "plot_pmf(n_events,0.5)\n",
    "plot_pmf(n_events,0.95)\n",
    "plt.legend(loc='upper center', frameon=True, shadow=True, fontsize = 'xx-large')\n",
    "ax.set(xlim=[-1,n_events], ylim=[0,0.3], xlabel='x', ylabel='p(x|n,p)')\n",
    "plt.show()"
   ]
  },
  {
   "cell_type": "markdown",
   "metadata": {},
   "source": [
    "### 3.1.3 - Poisson Distribution\n",
    "\n",
    "$$\n",
    "p(x \\mid \\mu) = \\frac{e^{-\\mu} \\; \\mu^{x}}{x!}\n",
    "$$\n",
    "\n",
    "Where:  \n",
    "$\\mu \\; \\rightarrow$  Expected number of occurrences during the given interval ($\\mu$ >= 0)"
   ]
  },
  {
   "cell_type": "code",
   "execution_count": null,
   "metadata": {},
   "outputs": [],
   "source": [
    "fig, ax = plt.subplots(figsize=(20,12))\n",
    "f = lambda mu : st.poisson.pmf(np.arange(st.poisson.ppf(0.01, mu), st.poisson.ppf(0.99, mu)), mu)\n",
    "plot_pmf = lambda mu : ax.bar(np.arange(st.poisson.ppf(0.01, mu), st.poisson.ppf(0.99, mu)), f(mu), width=0.3, label=r'μ={0}'.format(mu))\n",
    "plot_pmf(0.5)\n",
    "plot_pmf(1)\n",
    "plot_pmf(2)\n",
    "plot_pmf(10)\n",
    "plt.legend(loc='upper center', frameon=True, shadow=True, fontsize = 'xx-large')\n",
    "ax.set(xlim=[-1,20], ylim=[0,0.7], xlabel='x', ylabel='p(x| μ)')\n",
    "plt.show()"
   ]
  },
  {
   "cell_type": "markdown",
   "metadata": {},
   "source": [
    "### 3.1.4 - Negative Binomial\n",
    "\n",
    "$$\n",
    "p(x \\mid n, p) = \\binom{x+n-1}{n-1} \\; p^{n}(1-p)^{x}\n",
    "$$\n",
    "\n",
    "Where:  \n",
    "$n \\; \\rightarrow$  Number of independent events  \n",
    "$p \\; \\rightarrow$  Probability of success"
   ]
  },
  {
   "cell_type": "code",
   "execution_count": null,
   "metadata": {},
   "outputs": [],
   "source": [
    "n_events= 10\n",
    "fig, ax = plt.subplots(figsize=(20,12))\n",
    "f = lambda n, p : st.nbinom.pmf(np.arange(st.nbinom.ppf(0.01, n, p), st.nbinom.ppf(0.99, n, p)), n,p)\n",
    "plot_pmf = lambda n, p : ax.bar(np.arange(st.nbinom.ppf(0.01, n, p), st.nbinom.ppf(0.99, n, p)), f(n, p), width=0.3, label=r'n={0}, p={1}'.format(n, p))\n",
    "plot_pmf(n_events,0.5)\n",
    "plot_pmf(n_events,0.8)\n",
    "plot_pmf(n_events,0.95)\n",
    "plt.legend(loc='upper center', frameon=True, shadow=True, fontsize = 'xx-large')\n",
    "ax.set(xlim=[-1,30], ylim=[0,0.7], xlabel='x', ylabel='p(x|n,p)')\n",
    "plt.show()"
   ]
  },
  {
   "cell_type": "markdown",
   "metadata": {
    "slideshow": {
     "slide_type": "slide"
    }
   },
   "source": [
    "## 4. Posterior Approximation - A glimpse into MCMC <a class=\"anchor\" id=\"mcmc\"></a>"
   ]
  },
  {
   "cell_type": "markdown",
   "metadata": {
    "slideshow": {
     "slide_type": "skip"
    }
   },
   "source": [
    "- While convalescing from an illness in 1946, Stan Ulam was playing solitaire. It, then, occurred to him to try to compute the chances that a particular solitaire laid out with 52 cards would come out successfully (Eckhard, 1987). After attempting exhaustive combinatorial calculations, he decided to go for the more practical approach of laying out several solitaires at random and then observing and counting the number of successful plays. This idea of selecting a statistical sample to approximate a hard combinatorial problem by a much simpler problem is at the heart of modern Monte Carlo simulation.\n",
    "- MCMC algorithms typically require the design of proposal mechanisms to generate candidate hypotheses\n",
    "- MCMC techniques are often applied to solve integration and optimisation problems in large dimensional spaces."
   ]
  },
  {
   "cell_type": "markdown",
   "metadata": {
    "slideshow": {
     "slide_type": "slide"
    }
   },
   "source": [
    "## MCMC Heroes\n",
    "<TABLE border=\"1\">\n",
    "<tr>\n",
    "    <th align=\"center\">Stan Ulam</th>\n",
    "    <th align=\"center\">John von Neumann</th>\n",
    "    <th align=\"center\">Enrico Fermi</th>\n",
    "</tr>\n",
    "<tr>\n",
    "    <th><img src=\"imgs_prez/Stanislaw_Ulam.tif.jpg\" width=\"360\" height=\"180\" align=\"center\"/></th>\n",
    "    <th><img src=\"imgs_prez/440px-JohnvonNeumann-LosAlamos.gif\" width=\"360\" height=\"180\" align=\"center\"/></th>\n",
    "    <th><img src=\"imgs_prez/440px-Enrico_Fermi_1943-49.jpg\" width=\"360\" height=\"180\" align=\"center\"/></th>\n",
    "</tr>\n",
    "</TABLE>\n",
    "\n",
    " **Source**: An Introduction to MCMC for Machine Learning"
   ]
  },
  {
   "cell_type": "markdown",
   "metadata": {
    "slideshow": {
     "slide_type": "skip"
    }
   },
   "source": [
    "## Rejection Sampling\n",
    "\n",
    "Draw samples from a complicated distribution $P(x)$ where sampling directly is hard.  \n",
    "\n",
    "Use a proposal distribution $Q(x)$ that is easier to sample from, where $Q(x)$ needs to envelope $P(x)$ ( $k \\: Q(x) \\: > \\: P(x)$) for all x.\n",
    "\n",
    "**P(x)** $\\rightarrow $ Initial Distribution  \n",
    "**Q(x)** $\\rightarrow $ Proposal Distribution "
   ]
  },
  {
   "cell_type": "code",
   "execution_count": null,
   "metadata": {
    "slideshow": {
     "slide_type": "skip"
    }
   },
   "outputs": [],
   "source": [
    "import numpy as np\n",
    "import scipy.stats as st\n",
    "import seaborn as sns\n",
    "import matplotlib.pyplot as plt\n",
    "\n",
    "proposal_loc = 50\n",
    "proposal_scale = 30\n",
    "sns.set()\n",
    "def p(x):\n",
    "    return st.norm.pdf(x, loc=30, scale=10) \\\n",
    "           + st.norm.pdf(x, loc=80, scale=20) \\\n",
    "          # + st.norm.pdf(x, loc=150, scale=10)\n",
    "def q(x):\n",
    "    return st.norm.pdf(x, loc=proposal_loc, scale=proposal_scale)"
   ]
  },
  {
   "cell_type": "code",
   "execution_count": null,
   "metadata": {
    "slideshow": {
     "slide_type": "skip"
    }
   },
   "outputs": [],
   "source": [
    "def rejection_sampling(iter=1000):\n",
    "    samples = []\n",
    "\n",
    "    for i in range(iter):\n",
    "        z = np.random.normal(proposal_loc, proposal_scale)\n",
    "        u = np.random.uniform(0, k*q(z))\n",
    "\n",
    "        if u <= p(z):\n",
    "            samples.append(z)\n",
    "\n",
    "    return np.array(samples)"
   ]
  },
  {
   "cell_type": "code",
   "execution_count": null,
   "metadata": {
    "slideshow": {
     "slide_type": "skip"
    }
   },
   "outputs": [],
   "source": [
    "p_init = -50\n",
    "p_end = 200\n",
    "x = np.arange(p_init, p_end)\n",
    "k = max(p(x) / q(x))"
   ]
  },
  {
   "cell_type": "code",
   "execution_count": null,
   "metadata": {
    "slideshow": {
     "slide_type": "skip"
    }
   },
   "outputs": [],
   "source": [
    "plt.rcParams[\"figure.figsize\"] = (15,8)\n",
    "plt.plot(x, p(x))\n",
    "plt.plot(x, k*q(x),'g')\n",
    "plt.show()"
   ]
  },
  {
   "cell_type": "code",
   "execution_count": null,
   "metadata": {
    "slideshow": {
     "slide_type": "skip"
    }
   },
   "outputs": [],
   "source": [
    "s = rejection_sampling(iter=100000)\n",
    "sns.distplot(s)"
   ]
  },
  {
   "cell_type": "markdown",
   "metadata": {
    "slideshow": {
     "slide_type": "skip"
    }
   },
   "source": [
    "## Drawbacks\n",
    "- Needs to have a good fit between $Q(x)$ and $P(x)$ \n",
    "- May be hard to choose $Q(x)$ for complex distributions  \n",
    "- Lot's of time wasted in rejecting points out of $P(x)$"
   ]
  },
  {
   "cell_type": "markdown",
   "metadata": {
    "slideshow": {
     "slide_type": "slide"
    }
   },
   "source": [
    "### The Monte Carlo principle\n",
    "\n",
    "$$\n",
    "p_{N}(x)=\\frac{1}{N}\\sum_{i=1}^{N} \\delta_{x}^{(i)}(x)\n",
    "$$\n",
    "\n",
    "Approximate integrals (or very large sums) $I(f)$ with tractable sums $I_{N}(f)$\n",
    "\n",
    "\n",
    "$$\n",
    "I_{N}(f)=\\frac{1}{N}\\sum_{i=1}^{N} f(x^{(i)}) \\xrightarrow[\\inf]{\\text{a.s.}}I(f) = \\int_{x} f(x)p(x)d(x)\n",
    "$$\n",
    "\n",
    "- Main idea: \n",
    "    - generating samples $x_{i}$ while exploring the state space _**X**_ using a\n",
    "Markov chain mechanism $\\rightarrow$ spend more time in most important (high probable) regions"
   ]
  },
  {
   "cell_type": "markdown",
   "metadata": {
    "slideshow": {
     "slide_type": "slide"
    }
   },
   "source": [
    "### Metropolis-Hastings\n",
    "\n",
    "For each parameter _**p**_, do the following.  \n",
    "Initialize an arbitrary point for the parameter (this is $p_{t}$, or _p_ at step _t_).  \n",
    "Define a probability density **P($p_{t}$)**, for which we will draw new values of the parameters. Here, we will use **$P(p)=\\mathcal{N}(p_{t-1},1)$**.\n",
    "For each iteration:\n",
    "1. Generate candidate new candidate $p_{t}$ drawn from **P($p_{t}$)**.\n",
    "2. Calculate the likelihood of the data under the previous parameter value(s) **$p_{t-1}$: L($p_{t-1}$)**\n",
    "3. Calculate the likelihood of the data under the proposed parameter value(s) **$p_{t}$: L($p_{t}$)**\n",
    "4. Calculate acceptance ratio **$r=\\frac{L(p_{t})}{L(p_{t-1})}$**.\n",
    "5. Generate a new random number on the unit interval: **$s \\sim U(0,1)$**.\n",
    "6. Compare s to r.\n",
    " - If s≤r, accept **$p_{t}$**.\n",
    " - If s>r, reject **$p_{t}$** and continue sampling again with **$p_{t-1}$**\n",
    "\n",
    "**Source**: Eric Ma - An Introduction to Probability and Computational Bayesian Statistics"
   ]
  },
  {
   "cell_type": "markdown",
   "metadata": {
    "slideshow": {
     "slide_type": "slide"
    }
   },
   "source": [
    "```python\n",
    "# Metropolis-Hastings Sampling\n",
    "mu_prev = np.random.normal()\n",
    "sigma_prev = np.random.normal()\n",
    "\n",
    "# Keep a history of the parameter values and ratio.\n",
    "mu_history = dict()\n",
    "sigma_history = dict()\n",
    "ratio_history = dict()\n",
    "\n",
    "for i in range(1000):\n",
    "    mu_history[i] = mu_prev\n",
    "    sigma_history[i] = sigma_prev\n",
    "    mu_t = np.random.normal(mu_prev, 0.1)\n",
    "    sigma_t = np.random.normal(sigma_prev, 0.1)\n",
    "\n",
    "    # Compute joint log likelihood\n",
    "    LL_t = model_log_prob(mu_t, sigma_t, y)\n",
    "    LL_prev = model_log_prob(mu_prev, sigma_prev, y)\n",
    "\n",
    "    # Calculate the difference in log-likelihoods\n",
    "    # (or a.k.a. ratio of likelihoods)\n",
    "    diff_log_like = LL_t - LL_prev\n",
    "    if diff_log_like > 0:\n",
    "        ratio = 1\n",
    "    else:\n",
    "        # We need to exponentiate to get the correct ratio,\n",
    "        # since all of our calculations were in log-space\n",
    "        ratio = np.exp(diff_log_like)\n",
    "\n",
    "    # Defensive programming check\n",
    "    if np.isinf(ratio) or np.isnan(ratio):\n",
    "        raise ValueError(f\"LL_t: {LL_t}, LL_prev: {LL_prev}\")\n",
    "\n",
    "    # Ratio comparison step\n",
    "    ratio_history[i] = ratio\n",
    "    p = np.random.uniform(0, 1)\n",
    "\n",
    "    if ratio >= p:\n",
    "        mu_prev = mu_t\n",
    "        sigma_prev = sigma_t\n",
    "```"
   ]
  },
  {
   "cell_type": "markdown",
   "metadata": {
    "slideshow": {
     "slide_type": "slide"
    }
   },
   "source": [
    "### Hamiltonian Monte Carlo\n",
    "\n",
    " **Source**: Michael Betancourt - A Conceptual Introduction to Hamiltonian Monte Carlo"
   ]
  },
  {
   "cell_type": "markdown",
   "metadata": {
    "slideshow": {
     "slide_type": "subslide"
    }
   },
   "source": [
    "<img src=\"imgs_prez/hamiltonian_1.png\" width=\"480\" height=\"480\" align=\"center\"/>\n",
    "\n",
    "**Source**: Michael Betancourt - A Conceptual Introduction to Hamiltonian Monte Carlo"
   ]
  },
  {
   "cell_type": "markdown",
   "metadata": {},
   "source": [
    "<img src=\"imgs_prez/hamiltonian_2.png\" width=\"480\" height=\"480\" align=\"center\"/>\n",
    "\n",
    "**Source**: Michael Betancourt - A Conceptual Introduction to Hamiltonian Monte Carlo"
   ]
  },
  {
   "cell_type": "markdown",
   "metadata": {},
   "source": [
    "<img src=\"imgs_prez/hamiltonian_3.png\" width=\"480\" height=\"480\" align=\"center\"/>\n",
    "\n",
    "**Source**: Michael Betancourt - A Conceptual Introduction to Hamiltonian Monte Carlo"
   ]
  },
  {
   "cell_type": "markdown",
   "metadata": {},
   "source": [
    "<img src=\"imgs_prez/hamiltonian_4.png\" width=\"480\" height=\"480\" align=\"center\"/>\n",
    "\n",
    "**Source**: Michael Betancourt - A Conceptual Introduction to Hamiltonian Monte Carlo"
   ]
  },
  {
   "cell_type": "markdown",
   "metadata": {
    "slideshow": {
     "slide_type": "slide"
    }
   },
   "source": [
    "## Demo - Metropolis- Hastings\n",
    "\n",
    "[Chi Feng - MCMC Galery](https://chi-feng.github.io/mcmc-demo/app.html)"
   ]
  },
  {
   "cell_type": "markdown",
   "metadata": {
    "slideshow": {
     "slide_type": "slide"
    }
   },
   "source": [
    "## 5. Quick Example in PyMC3  <a class=\"anchor\" id=\"example\"></a>\n",
    "\n",
    "**Source**: Osvaldo Martin - Bayesian Analysis with Python"
   ]
  },
  {
   "cell_type": "markdown",
   "metadata": {
    "slideshow": {
     "slide_type": "skip"
    }
   },
   "source": [
    "https://alexioannides.com/2018/11/07/bayesian-regression-in-pymc3-using-mcmc-variational-inference/#comparing-predictions"
   ]
  },
  {
   "cell_type": "code",
   "execution_count": 29,
   "metadata": {
    "hideCode": false,
    "slideshow": {
     "slide_type": "slide"
    }
   },
   "outputs": [
    {
     "data": {
      "text/plain": [
       "Text(0.5, 1.0, 'PDF')"
      ]
     },
     "execution_count": 29,
     "metadata": {},
     "output_type": "execute_result"
    },
    {
     "data": {
      "image/png": "[encoded data removed]",
      "text/plain": [
       "<Figure size 864x432 with 2 Axes>"
      ]
     },
     "metadata": {},
     "output_type": "display_data"
    }
   ],
   "source": [
    "import pymc3 as pm\n",
    "import numpy as np\n",
    "import pandas as pd\n",
    "from theano import shared\n",
    "import scipy.stats as stats\n",
    "import matplotlib.pyplot as plt\n",
    "import arviz as az\n",
    "import warnings\n",
    "warnings.filterwarnings(\"ignore\")\n",
    "\n",
    "np.random.seed(1)\n",
    "N = 300\n",
    "alpha_real = 10\n",
    "beta_real = 3\n",
    "eps_real = np.random.normal(0, 0.5, size=N)\n",
    "\n",
    "x = np.random.normal(10, 1, N)\n",
    "y_real = alpha_real + beta_real * x\n",
    "y = y_real + eps_real\n",
    "\n",
    "_, ax = plt.subplots(1, 2, figsize=(12, 6))\n",
    "ax[0].plot(x, y, 'C0.')\n",
    "ax[0].set_xlabel('x')\n",
    "ax[0].set_ylabel('y')\n",
    "ax[0].plot(x, y_real, 'r')\n",
    "az.plot_kde(y, ax=ax[1], textsize = 10)\n",
    "ax[1].set_xlabel('y')\n",
    "ax[0].set_title(\"Data\")\n",
    "ax[1].set_title(\"PDF\")"
   ]
  },
  {
   "cell_type": "code",
   "execution_count": 30,
   "metadata": {
    "slideshow": {
     "slide_type": "slide"
    }
   },
   "outputs": [
    {
     "name": "stderr",
     "output_type": "stream",
     "text": [
      "Auto-assigning NUTS sampler...\n",
      "Initializing NUTS using jitter+adapt_diag...\n",
      "Multiprocess sampling (4 chains in 4 jobs)\n",
      "NUTS: [ϵ, β, α]\n",
      "100%|██████████| 2500/2500 [00:14<00:00, 173.61it/s]\n",
      "The acceptance probability does not match the target. It is 0.8885409879160978, but should be close to 0.8. Try to increase the number of tuning steps.\n",
      "The acceptance probability does not match the target. It is 0.9145212717450725, but should be close to 0.8. Try to increase the number of tuning steps.\n",
      "The acceptance probability does not match the target. It is 0.9042177169739173, but should be close to 0.8. Try to increase the number of tuning steps.\n",
      "The acceptance probability does not match the target. It is 0.9150899057536254, but should be close to 0.8. Try to increase the number of tuning steps.\n"
     ]
    }
   ],
   "source": [
    "with pm.Model() as model_g:\n",
    "    ## Priors\n",
    "    α = pm.Normal('α', mu=0, sd=10)\n",
    "    β = pm.Normal('β', mu=0, sd=1)\n",
    "    #ϵ = pm.HalfCauchy('ϵ', 5)\n",
    "    ϵ = pm.Normal('ϵ', 10)\n",
    "    \n",
    "    x_shared = shared(x.astype('float64'))\n",
    "    y_shared = shared(y.astype('float64'))\n",
    "\n",
    "    ## Linear Regression\n",
    "    μ = pm.Deterministic('μ', α + β * x_shared)\n",
    "    \n",
    "    ## Likelihood\n",
    "    y_pred = pm.Normal('y_pred', mu=μ, sd=ϵ, observed=y_shared)\n",
    "\n",
    "    trace_g = pm.sample(2000, chains=4)"
   ]
  },
  {
   "cell_type": "code",
   "execution_count": 31,
   "metadata": {
    "hideCode": true,
    "slideshow": {
     "slide_type": "slide"
    }
   },
   "outputs": [
    {
     "data": {
      "text/plain": [
       "array([[<matplotlib.axes._subplots.AxesSubplot object at 0x128f226a0>,\n",
       "        <matplotlib.axes._subplots.AxesSubplot object at 0x128f090f0>],\n",
       "       [<matplotlib.axes._subplots.AxesSubplot object at 0x128f97d68>,\n",
       "        <matplotlib.axes._subplots.AxesSubplot object at 0x128fbdda0>],\n",
       "       [<matplotlib.axes._subplots.AxesSubplot object at 0x128fe7dd8>,\n",
       "        <matplotlib.axes._subplots.AxesSubplot object at 0x129012d68>]],\n",
       "      dtype=object)"
      ]
     },
     "execution_count": 31,
     "metadata": {},
     "output_type": "execute_result"
    },
    {
     "data": {
      "image/png": "[encoded data removed]",
      "text/plain": [
       "<Figure size 864x432 with 6 Axes>"
      ]
     },
     "metadata": {},
     "output_type": "display_data"
    }
   ],
   "source": [
    "az.plot_trace(trace_g, var_names=['α', 'β', 'ϵ'])"
   ]
  },
  {
   "cell_type": "code",
   "execution_count": 32,
   "metadata": {
    "hideCode": false,
    "slideshow": {
     "slide_type": "slide"
    }
   },
   "outputs": [
    {
     "data": {
      "image/png": "[encoded data removed]",
      "text/plain": [
       "<Figure size 1440x864 with 1 Axes>"
      ]
     },
     "metadata": {},
     "output_type": "display_data"
    }
   ],
   "source": [
    "plt.figure(figsize=(20,12))\n",
    "## Plot Data\n",
    "plt.plot(x, y, 'C0.')\n",
    "\n",
    "## Calculate Average\n",
    "alpha_m = trace_g['α'].mean()\n",
    "beta_m = trace_g['β'].mean()\n",
    "\n",
    "## Samples from Posterior\n",
    "draws = range(0, len(trace_g['α']), 10)\n",
    "\n",
    "## Plot Samples\n",
    "plt.plot(x, trace_g['α'][draws] + trace_g['β'][draws] * x[:, np.newaxis], c='gray', alpha=0.5)\n",
    "\n",
    "## Plot Average\n",
    "plt.plot(x, alpha_m + beta_m * x, c='k',\n",
    "         label=f'y = {alpha_m:.2f} + {beta_m:.2f} * x')\n",
    "\n",
    "## Draw \n",
    "#sig = az.plot_hpd(x, trace_g['μ'], credible_interval=0.98, color='blue')\n",
    "\n",
    "plt.xlabel('x')\n",
    "plt.ylabel('y', rotation=0)\n",
    "plt.legend()\n",
    "plt.grid()"
   ]
  },
  {
   "cell_type": "code",
   "execution_count": 33,
   "metadata": {
    "slideshow": {
     "slide_type": "skip"
    }
   },
   "outputs": [],
   "source": [
    "def get_preds(x):\n",
    "    x_shared.set_value([x])\n",
    "    ppc = pm.sample_ppc(trace_g, model=model_g, samples=100)\n",
    "    y_ppc = ppc['y_pred']\n",
    "    mean = y_ppc.mean()\n",
    "    var = y_ppc.var()\n",
    "    hpd = pm.stats.hpd(y_ppc)\n",
    "    return mean, var, hpd"
   ]
  },
  {
   "cell_type": "code",
   "execution_count": 42,
   "metadata": {
    "slideshow": {
     "slide_type": "slide"
    }
   },
   "outputs": [
    {
     "name": "stderr",
     "output_type": "stream",
     "text": [
      "100%|██████████| 100/100 [00:00<00:00, 2703.58it/s]\n",
      "100%|██████████| 100/100 [00:00<00:00, 2615.95it/s]\n",
      "100%|██████████| 100/100 [00:00<00:00, 2328.62it/s]\n",
      "100%|██████████| 100/100 [00:00<00:00, 1870.62it/s]\n",
      "  0%|          | 0/100 [00:00<?, ?it/s]"
     ]
    },
    {
     "name": "stdout",
     "output_type": "stream",
     "text": [
      "Point: 0.1\n",
      "- Mean(Prediction):  10.40\n",
      "- Var (Uncertainty): 0.26\n",
      "- HPD:               [9.3911 - 11.2973]\n",
      "---\n",
      "Point: 5\n",
      "- Mean(Prediction):  25.02\n",
      "- Var (Uncertainty): 0.25\n",
      "- HPD:               [24.1252 - 26.0975]\n",
      "---\n",
      "Point: 15\n",
      "- Mean(Prediction):  54.95\n",
      "- Var (Uncertainty): 0.19\n",
      "- HPD:               [54.1579 - 55.7682]\n",
      "---\n",
      "Point: 20\n",
      "- Mean(Prediction):  70.04\n",
      "- Var (Uncertainty): 0.27\n",
      "- HPD:               [68.9173 - 71.0073]\n",
      "---\n"
     ]
    },
    {
     "name": "stderr",
     "output_type": "stream",
     "text": [
      "100%|██████████| 100/100 [00:00<00:00, 1642.98it/s]\n",
      "100%|██████████| 100/100 [00:00<00:00, 1515.59it/s]"
     ]
    },
    {
     "name": "stdout",
     "output_type": "stream",
     "text": [
      "Point: 50\n",
      "- Mean(Prediction):  159.82\n",
      "- Var (Uncertainty): 1.61\n",
      "- HPD:               [157.3821 - 162.3390]\n",
      "---\n",
      "Point: 300\n",
      "- Mean(Prediction):  906.59\n",
      "- Var (Uncertainty): 47.75\n",
      "- HPD:               [894.5559 - 923.0606]\n",
      "---\n"
     ]
    },
    {
     "name": "stderr",
     "output_type": "stream",
     "text": [
      "\n"
     ]
    }
   ],
   "source": [
    "x_test = [0.1, 5, 15, 20, 50, 300]\n",
    "for point in x_test:\n",
    "    m, v, h = get_preds(point)\n",
    "    print(\"Point: {}\".format(point))\n",
    "    print(\"- Mean(Prediction):  {:.2f}\".format(m))\n",
    "    print(\"- Var (Uncertainty): {:.2f}\".format(v))\n",
    "    print(\"- HPD:               [{:.4f} - {:.4f}]\".format(h[0],h[1]))\n",
    "    print(\"---\")"
   ]
  },
  {
   "cell_type": "markdown",
   "metadata": {
    "slideshow": {
     "slide_type": "slide"
    }
   },
   "source": [
    "## Sources <a class=\"anchor\" id=\"sources\"></a>\n",
    "\n",
    "1. [Michael Betancourt - Probabilistic Modeling and Statistical Inference](https://betanalpha.github.io/assets/case_studies/modeling_and_inference.html)  \n",
    "2. [Michael Betancourt - Probabilistic Building Blocks](https://betanalpha.github.io/assets/case_studies/probability_densities.html)  \n",
    "3. [Michael Betancourt - Markov Chain Monte Carlo in Practice](https://betanalpha.github.io/assets/case_studies/markov_chain_monte_carlo.html)  \n",
    "4. [Aerin Kim - Bayesian Inference — Intuition and Example](https://towardsdatascience.com/bayesian-inference-intuition-and-example-148fd8fb95d6)\n",
    "5. [AllenDowney - ThinkBayes2](https://github.com/AllenDowney/ThinkBayes2)\n",
    "6. [Andrew Gelman - Bayesian Data Analysis](http://www.stat.columbia.edu/~gelman/book/)  \n",
    "7. [Colin Carroll - imcmc](https://github.com/ColCarroll/imcmc)\n",
    "8. [Andrieu, Freitas - An Introduction to MCMC for Machine Learning](https://www.cs.ubc.ca/~arnaud/andrieu_defreitas_doucet_jordan_intromontecarlomachinelearning.pdf)  \n",
    "9. [Eric Ma - An Introduction to Probability and Computational Bayesian Statistics](https://ericmjl.github.io/essays-on-data-science/machine-learning/computational-bayesian-stats/)  \n",
    "10. [Agustinus Kristiadi's Blog - Rejection Sampling](https://wiseodd.github.io/techblog/2015/10/21/rejection-sampling/)  \n",
    "11. [Thomas Wiecki - MCMC sampling for dummies](https://twiecki.io/blog/2015/11/10/mcmc-sampling/)  \n",
    "12. [Chi Feng - MCMC Galery](https://chi-feng.github.io/mcmc-demo/app.html)  \n",
    "13. [Iain Murray - Introduction to MCMC for Deep Learning](https://www.youtube.com/watch?v=Em6mQQy4wYA&t=1974s)  \n",
    "14. [Michael Betancourt - A Conceptual Introduction to Hamiltonian Monte Carlo](https://arxiv.org/abs/1701.02434) "
   ]
  },
  {
   "cell_type": "markdown",
   "metadata": {
    "slideshow": {
     "slide_type": "skip"
    }
   },
   "source": [
    "## Nando MCMC Videos\n",
    "- Video 1: https://youtu.be/TNZk8lo4e-Q\n",
    "- Video 2: https://youtu.be/sK3cg15g8FI"
   ]
  }
 ],
 "metadata": {
  "celltoolbar": "Hide code",
  "kernelspec": {
   "display_name": "Bayesian",
   "language": "python",
   "name": "bayesian"
  },
  "language_info": {
   "codemirror_mode": {
    "name": "ipython",
    "version": 3
   },
   "file_extension": ".py",
   "mimetype": "text/x-python",
   "name": "python",
   "nbconvert_exporter": "python",
   "pygments_lexer": "ipython3",
   "version": "3.6.5"
  }
 },
 "nbformat": 4,
 "nbformat_minor": 2
}
