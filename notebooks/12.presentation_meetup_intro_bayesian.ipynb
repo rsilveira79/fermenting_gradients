{
 "cells": [
  {
   "cell_type": "markdown",
   "metadata": {
    "slideshow": {
     "slide_type": "slide"
    }
   },
   "source": [
    "# Uma breve introdução à inferência Bayesiana\n",
    "\n",
    "<TABLE>\n",
    "<tr>\n",
    "    <th><img src=\"imgs_prez/betao-1X.jpg\"  width=\"128\" height=\"128\" align=\"center\"/></th>\n",
    "    <th align=\"center\">Roberto Pereira Silveira</th>\n",
    "</tr>\n",
    "</TABLE>"
   ]
  },
  {
   "cell_type": "code",
   "execution_count": 1,
   "metadata": {
    "slideshow": {
     "slide_type": "skip"
    }
   },
   "outputs": [
    {
     "name": "stderr",
     "output_type": "stream",
     "text": [
      "/Users/rsilvei/Envs/bayesian/lib/python3.6/site-packages/h5py/__init__.py:36: FutureWarning: Conversion of the second argument of issubdtype from `float` to `np.floating` is deprecated. In future, it will be treated as `np.float64 == np.dtype(float).type`.\n",
      "  from ._conv import register_converters as _register_converters\n"
     ]
    }
   ],
   "source": [
    "import pymc3 as pm\n",
    "import matplotlib.pyplot as plt\n",
    "import numpy as np\n",
    "import scipy.stats as st\n",
    "\n",
    "import arviz as az\n",
    "az.style.use(\"arviz-darkgrid\")\n",
    "\n",
    "import warnings\n",
    "warnings.filterwarnings(\"ignore\")\n",
    "\n",
    "%matplotlib inline  "
   ]
  },
  {
   "cell_type": "markdown",
   "metadata": {
    "slideshow": {
     "slide_type": "slide"
    }
   },
   "source": [
    "## TOC:\n",
    "* [1 - 3 Steps of Bayesian Data Analises](#3steps-BDA)\n",
    "* [2 - Bayes Formula - An Intuition](#bayes-formula)\n",
    "* [3 - Most Used Distributions](#distributions)\n",
    "* [4 - Posterior Approximation - A glimpse into MCMC](#mcmc)\n",
    "* [5 - Quick Example in PyMC3](#example)\n",
    "* [6 - Sources](#sources)"
   ]
  },
  {
   "cell_type": "markdown",
   "metadata": {
    "slideshow": {
     "slide_type": "slide"
    }
   },
   "source": [
    "## 1. The three steps of Bayesian data analysis (Gelman) <a class=\"anchor\" id=\"3steps-BDA\"></a>"
   ]
  },
  {
   "cell_type": "markdown",
   "metadata": {
    "slideshow": {
     "slide_type": "skip"
    }
   },
   "source": [
    "#### Frequentist Approach\n",
    "\n",
    "- Need robust calibration\n",
    "\n",
    "\n",
    "#### Bayesian Inference\n",
    "- Model not only frequency but also epistemological variation and weights over the model configuration space  \n",
    "- A probability distribution encodes much more information than a step function!\n",
    "\n",
    " - **Prior** = prior distribution encodes domain expertise about the model configurations in the observational model, and possibly even the context of the observational model relative to the true data generating process and latent observational process  \n",
    "  - prior distributions do not need to encode all of our domain expertise but rather just enough to ensure useful inferences  \n",
    " - **Likelihood** = The likelihood function maps each model configuration to a numerical quantification that increases for model configurations that are more consistent with the specific observation and decreases for those model configurations that are less consistent. In other words, the likelihood function quantifies the relative consistency of each model configuration with the observed data.  \n",
    " - **Posterior** = Bayes’ Theorem can be thought of as switching from one conditional probability density function, that specifying the observational model, to another, that specifying the posterior distribution.\n"
   ]
  },
  {
   "cell_type": "markdown",
   "metadata": {
    "slideshow": {
     "slide_type": "slide"
    }
   },
   "source": [
    "**Contraction** $\\rightarrow$ likelihood function is more informative than, but also consistent with, the prior distribution:\n",
    "\n",
    " <img src=\"imgs_prez/img7.png\" width=\"640\" height=\"640\" align=\"center\"/>\n",
    " **Source**: betanalpha.github.io"
   ]
  },
  {
   "cell_type": "markdown",
   "metadata": {
    "slideshow": {
     "slide_type": "subslide"
    }
   },
   "source": [
    "**Containment** $\\rightarrow$ prior distribution is more informative than, but also consistent with, the likelihood function:\n",
    "\n",
    " <img src=\"imgs_prez/img8.png\" width=\"640\" height=\"640\" align=\"center\"/>\n",
    " **Source**: betanalpha.github.io"
   ]
  },
  {
   "cell_type": "markdown",
   "metadata": {
    "slideshow": {
     "slide_type": "subslide"
    }
   },
   "source": [
    "**Compromise** $\\rightarrow$ when there is tension between the information encoded in the likelihood function and the prior:\n",
    "\n",
    " <img src=\"imgs_prez/img9.png\" width=\"640\" height=\"640\" align=\"center\"/>\n",
    " **Source**: betanalpha.github.io"
   ]
  },
  {
   "cell_type": "markdown",
   "metadata": {
    "slideshow": {
     "slide_type": "slide"
    }
   },
   "source": [
    " <img src=\"imgs_prez/img1.png\" align=\"center\"/>\n",
    " **Source**: betanalpha.github.io"
   ]
  },
  {
   "cell_type": "markdown",
   "metadata": {
    "slideshow": {
     "slide_type": "subslide"
    }
   },
   "source": [
    " <img src=\"imgs_prez/img2.png\" align=\"center\"/>\n",
    " \n",
    " **Source**: betanalpha.github.io"
   ]
  },
  {
   "cell_type": "markdown",
   "metadata": {
    "slideshow": {
     "slide_type": "subslide"
    }
   },
   "source": [
    "<img src=\"imgs_prez/img3.png\" align=\"center\"/>\n",
    "\n",
    " **Source**: betanalpha.github.io"
   ]
  },
  {
   "cell_type": "markdown",
   "metadata": {
    "slideshow": {
     "slide_type": "subslide"
    }
   },
   "source": [
    "<img src=\"imgs_prez/img4.png\" align=\"center\"/>\n",
    "\n",
    " **Source**: betanalpha.github.io"
   ]
  },
  {
   "cell_type": "markdown",
   "metadata": {
    "slideshow": {
     "slide_type": "subslide"
    }
   },
   "source": [
    "<img src=\"imgs_prez/img5.png\" align=\"center\"/>\n",
    "\n",
    " **Source**: betanalpha.github.io"
   ]
  },
  {
   "cell_type": "markdown",
   "metadata": {
    "slideshow": {
     "slide_type": "subslide"
    }
   },
   "source": [
    "<img src=\"imgs_prez/img6.png\" align=\"center\"/>\n",
    "\n",
    " **Source**: betanalpha.github.io"
   ]
  },
  {
   "cell_type": "code",
   "execution_count": null,
   "metadata": {
    "slideshow": {
     "slide_type": "skip"
    }
   },
   "outputs": [],
   "source": []
  },
  {
   "cell_type": "code",
   "execution_count": null,
   "metadata": {
    "slideshow": {
     "slide_type": "skip"
    }
   },
   "outputs": [],
   "source": []
  },
  {
   "cell_type": "code",
   "execution_count": null,
   "metadata": {
    "slideshow": {
     "slide_type": "skip"
    }
   },
   "outputs": [],
   "source": []
  },
  {
   "cell_type": "markdown",
   "metadata": {
    "slideshow": {
     "slide_type": "slide"
    }
   },
   "source": [
    "## 2. Bayes Formula - An Intuition <a class=\"anchor\" id=\"bayes-formula\"></a>"
   ]
  },
  {
   "cell_type": "markdown",
   "metadata": {
    "slideshow": {
     "slide_type": "slide"
    }
   },
   "source": [
    "From product rule we have\n",
    "\n",
    "$$\n",
    "p(\\theta,  y)= p(\\theta \\mid y) \\: p(y) \n",
    "$$\n",
    "\n",
    "Can be also written as:\n",
    "$$\n",
    "p(\\theta,  y)= p(y \\mid \\theta ) \\: p(\\theta)\n",
    "$$\n",
    "\n",
    "Re-ordening\n",
    "$$\n",
    "p(\\theta \\mid y) \\: p(y) = p(y \\mid \\theta ) \\: p(\\theta)\n",
    "$$"
   ]
  },
  {
   "cell_type": "markdown",
   "metadata": {
    "slideshow": {
     "slide_type": "subslide"
    }
   },
   "source": [
    "Finally:\n",
    "$$\n",
    "p(\\theta \\mid y)  = \\frac{p(y \\mid \\theta ) \\: p(\\theta)}{p(y)}\n",
    "$$\n",
    "\n",
    "Where:\n",
    "    \n",
    "$p(y \\mid \\theta ) \\rightarrow$ **Likelihood** =\"plausibility\"of the data given the parameters  \n",
    "\n",
    "$p(\\theta)  \\rightarrow$ **Prior Distribution** = What we know about parameters withouth seen the data \n",
    "\n",
    "$p(y) \\rightarrow $  **Marginal Likelihood or Evidence** = Normalizing constant (so that posterior probabilities sum to 1)\n",
    "\n",
    "$(\\theta \\mid y) \\rightarrow $  **Posterior Distribution** = compromise between prior and likelihood, updating prior believes in light of new data $\\rightarrow$ suitable for **sequential** data analysis  \n",
    "\n",
    "Writting differently ($ \\theta = hypothesis $, $ y = data $):   \n",
    "$$\n",
    "p(hypothesis \\mid data)  = \\frac{p(data \\mid hypothesis ) \\: p(hypothesis)}{p(data)}\n",
    "$$"
   ]
  },
  {
   "cell_type": "markdown",
   "metadata": {
    "slideshow": {
     "slide_type": "slide"
    }
   },
   "source": [
    "### _\"A Bayesian us one who, vagely expecting a horse, and catching a glimpse of a donkey, strongly believes he has seen a mule.\"_"
   ]
  },
  {
   "cell_type": "markdown",
   "metadata": {},
   "source": [
    "## A quick Example\n",
    " **Source**: https://github.com/AllenDowney/BiteSizeBayes/blob/master/05_test_soln.ipynb"
   ]
  },
  {
   "cell_type": "markdown",
   "metadata": {},
   "source": [
    "> In Bayesville, 1% of the population has an undiagnosed medical condition.  Jimmy gets tested for the condition and the test comes back positive; that is, the test says Jimmy has the condition.  \n",
    ">\n",
    "> The test is 95% accurate, which means\n",
    ">\n",
    "> * If you give the test to someone with the condition, the probability is 95% that the test will be positive, and \n",
    ">\n",
    "> * If you give it to someone who does not have the condition, the probability is 95% that the test will be negative.\n",
    ">\n",
    "> What is the probability that Jimmy actually has the condition?  \n",
    "\n",
    "Because the test is 95% accurate, it is tempting to say that the probability is 95% that the test is correct and Jimmy has the condition."
   ]
  },
  {
   "cell_type": "code",
   "execution_count": 2,
   "metadata": {},
   "outputs": [
    {
     "data": {
      "text/html": [
       "<div>\n",
       "<style scoped>\n",
       "    .dataframe tbody tr th:only-of-type {\n",
       "        vertical-align: middle;\n",
       "    }\n",
       "\n",
       "    .dataframe tbody tr th {\n",
       "        vertical-align: top;\n",
       "    }\n",
       "\n",
       "    .dataframe thead th {\n",
       "        text-align: right;\n",
       "    }\n",
       "</style>\n",
       "<table border=\"1\" class=\"dataframe\">\n",
       "  <thead>\n",
       "    <tr style=\"text-align: right;\">\n",
       "      <th></th>\n",
       "      <th>prior</th>\n",
       "    </tr>\n",
       "  </thead>\n",
       "  <tbody>\n",
       "    <tr>\n",
       "      <th>condition</th>\n",
       "      <td>0.01</td>\n",
       "    </tr>\n",
       "    <tr>\n",
       "      <th>no condition</th>\n",
       "      <td>0.99</td>\n",
       "    </tr>\n",
       "  </tbody>\n",
       "</table>\n",
       "</div>"
      ],
      "text/plain": [
       "              prior\n",
       "condition      0.01\n",
       "no condition   0.99"
      ]
     },
     "execution_count": 2,
     "metadata": {},
     "output_type": "execute_result"
    }
   ],
   "source": [
    "import pandas as pd\n",
    "\n",
    "table = pd.DataFrame(index=['condition', 'no condition'])\n",
    "table['prior'] = 0.01, 0.99\n",
    "table"
   ]
  },
  {
   "cell_type": "code",
   "execution_count": 3,
   "metadata": {},
   "outputs": [
    {
     "data": {
      "text/html": [
       "<div>\n",
       "<style scoped>\n",
       "    .dataframe tbody tr th:only-of-type {\n",
       "        vertical-align: middle;\n",
       "    }\n",
       "\n",
       "    .dataframe tbody tr th {\n",
       "        vertical-align: top;\n",
       "    }\n",
       "\n",
       "    .dataframe thead th {\n",
       "        text-align: right;\n",
       "    }\n",
       "</style>\n",
       "<table border=\"1\" class=\"dataframe\">\n",
       "  <thead>\n",
       "    <tr style=\"text-align: right;\">\n",
       "      <th></th>\n",
       "      <th>prior</th>\n",
       "      <th>likelihood</th>\n",
       "    </tr>\n",
       "  </thead>\n",
       "  <tbody>\n",
       "    <tr>\n",
       "      <th>condition</th>\n",
       "      <td>0.01</td>\n",
       "      <td>0.95</td>\n",
       "    </tr>\n",
       "    <tr>\n",
       "      <th>no condition</th>\n",
       "      <td>0.99</td>\n",
       "      <td>0.05</td>\n",
       "    </tr>\n",
       "  </tbody>\n",
       "</table>\n",
       "</div>"
      ],
      "text/plain": [
       "              prior  likelihood\n",
       "condition      0.01        0.95\n",
       "no condition   0.99        0.05"
      ]
     },
     "execution_count": 3,
     "metadata": {},
     "output_type": "execute_result"
    }
   ],
   "source": [
    "table['likelihood'] = 0.95, 0.05\n",
    "table"
   ]
  },
  {
   "cell_type": "code",
   "execution_count": 4,
   "metadata": {},
   "outputs": [
    {
     "data": {
      "text/html": [
       "<div>\n",
       "<style scoped>\n",
       "    .dataframe tbody tr th:only-of-type {\n",
       "        vertical-align: middle;\n",
       "    }\n",
       "\n",
       "    .dataframe tbody tr th {\n",
       "        vertical-align: top;\n",
       "    }\n",
       "\n",
       "    .dataframe thead th {\n",
       "        text-align: right;\n",
       "    }\n",
       "</style>\n",
       "<table border=\"1\" class=\"dataframe\">\n",
       "  <thead>\n",
       "    <tr style=\"text-align: right;\">\n",
       "      <th></th>\n",
       "      <th>prior</th>\n",
       "      <th>likelihood</th>\n",
       "      <th>unnorm</th>\n",
       "    </tr>\n",
       "  </thead>\n",
       "  <tbody>\n",
       "    <tr>\n",
       "      <th>condition</th>\n",
       "      <td>0.01</td>\n",
       "      <td>0.95</td>\n",
       "      <td>0.0095</td>\n",
       "    </tr>\n",
       "    <tr>\n",
       "      <th>no condition</th>\n",
       "      <td>0.99</td>\n",
       "      <td>0.05</td>\n",
       "      <td>0.0495</td>\n",
       "    </tr>\n",
       "  </tbody>\n",
       "</table>\n",
       "</div>"
      ],
      "text/plain": [
       "              prior  likelihood  unnorm\n",
       "condition      0.01        0.95  0.0095\n",
       "no condition   0.99        0.05  0.0495"
      ]
     },
     "execution_count": 4,
     "metadata": {},
     "output_type": "execute_result"
    }
   ],
   "source": [
    "table['unnorm'] = table['prior'] * table['likelihood']\n",
    "table"
   ]
  },
  {
   "cell_type": "code",
   "execution_count": 5,
   "metadata": {},
   "outputs": [
    {
     "data": {
      "text/plain": [
       "0.059000000000000004"
      ]
     },
     "execution_count": 5,
     "metadata": {},
     "output_type": "execute_result"
    }
   ],
   "source": [
    "prob_data = table['unnorm'].sum()\n",
    "prob_data"
   ]
  },
  {
   "cell_type": "code",
   "execution_count": 6,
   "metadata": {},
   "outputs": [
    {
     "data": {
      "text/html": [
       "<div>\n",
       "<style scoped>\n",
       "    .dataframe tbody tr th:only-of-type {\n",
       "        vertical-align: middle;\n",
       "    }\n",
       "\n",
       "    .dataframe tbody tr th {\n",
       "        vertical-align: top;\n",
       "    }\n",
       "\n",
       "    .dataframe thead th {\n",
       "        text-align: right;\n",
       "    }\n",
       "</style>\n",
       "<table border=\"1\" class=\"dataframe\">\n",
       "  <thead>\n",
       "    <tr style=\"text-align: right;\">\n",
       "      <th></th>\n",
       "      <th>prior</th>\n",
       "      <th>likelihood</th>\n",
       "      <th>unnorm</th>\n",
       "      <th>posterior</th>\n",
       "    </tr>\n",
       "  </thead>\n",
       "  <tbody>\n",
       "    <tr>\n",
       "      <th>condition</th>\n",
       "      <td>0.01</td>\n",
       "      <td>0.95</td>\n",
       "      <td>0.0095</td>\n",
       "      <td>0.161017</td>\n",
       "    </tr>\n",
       "    <tr>\n",
       "      <th>no condition</th>\n",
       "      <td>0.99</td>\n",
       "      <td>0.05</td>\n",
       "      <td>0.0495</td>\n",
       "      <td>0.838983</td>\n",
       "    </tr>\n",
       "  </tbody>\n",
       "</table>\n",
       "</div>"
      ],
      "text/plain": [
       "              prior  likelihood  unnorm  posterior\n",
       "condition      0.01        0.95  0.0095   0.161017\n",
       "no condition   0.99        0.05  0.0495   0.838983"
      ]
     },
     "execution_count": 6,
     "metadata": {},
     "output_type": "execute_result"
    }
   ],
   "source": [
    "table['posterior'] = table['unnorm'] / prob_data\n",
    "table"
   ]
  },
  {
   "cell_type": "code",
   "execution_count": 7,
   "metadata": {},
   "outputs": [],
   "source": [
    "def make_bayes_table(hypos, prior, likelihood):\n",
    "    \"\"\"Make a Bayes table.\n",
    "    \n",
    "    hypos: sequence of hypotheses\n",
    "    prior: prior probabilities\n",
    "    likelihood: sequence of likelihoods\n",
    "    \n",
    "    returns: DataFrame\n",
    "    \"\"\"\n",
    "    table = pd.DataFrame(index=hypos)\n",
    "    table['prior'] = prior\n",
    "    table['likelihood'] = likelihood\n",
    "    table['unnorm'] = table['prior'] * table['likelihood']\n",
    "    prob_data = table['unnorm'].sum()\n",
    "    table['posterior'] = table['unnorm'] / prob_data\n",
    "    return table"
   ]
  },
  {
   "cell_type": "code",
   "execution_count": 9,
   "metadata": {
    "slideshow": {
     "slide_type": "skip"
    }
   },
   "outputs": [
    {
     "data": {
      "text/html": [
       "<div>\n",
       "<style scoped>\n",
       "    .dataframe tbody tr th:only-of-type {\n",
       "        vertical-align: middle;\n",
       "    }\n",
       "\n",
       "    .dataframe tbody tr th {\n",
       "        vertical-align: top;\n",
       "    }\n",
       "\n",
       "    .dataframe thead th {\n",
       "        text-align: right;\n",
       "    }\n",
       "</style>\n",
       "<table border=\"1\" class=\"dataframe\">\n",
       "  <thead>\n",
       "    <tr style=\"text-align: right;\">\n",
       "      <th></th>\n",
       "      <th>prior</th>\n",
       "      <th>likelihood</th>\n",
       "      <th>unnorm</th>\n",
       "      <th>posterior</th>\n",
       "    </tr>\n",
       "  </thead>\n",
       "  <tbody>\n",
       "    <tr>\n",
       "      <th>condition</th>\n",
       "      <td>0.01</td>\n",
       "      <td>0.995</td>\n",
       "      <td>0.00995</td>\n",
       "      <td>0.667785</td>\n",
       "    </tr>\n",
       "    <tr>\n",
       "      <th>no condition</th>\n",
       "      <td>0.99</td>\n",
       "      <td>0.005</td>\n",
       "      <td>0.00495</td>\n",
       "      <td>0.332215</td>\n",
       "    </tr>\n",
       "  </tbody>\n",
       "</table>\n",
       "</div>"
      ],
      "text/plain": [
       "              prior  likelihood   unnorm  posterior\n",
       "condition      0.01       0.995  0.00995   0.667785\n",
       "no condition   0.99       0.005  0.00495   0.332215"
      ]
     },
     "execution_count": 9,
     "metadata": {},
     "output_type": "execute_result"
    }
   ],
   "source": [
    "## Increased Test Sensitivity to 99.5%\n",
    "hypos = ['condition', 'no condition']\n",
    "prior = 0.01, 0.99\n",
    "likelihood = 0.995, 0.005\n",
    "\n",
    "make_bayes_table(hypos, prior, likelihood)"
   ]
  },
  {
   "cell_type": "code",
   "execution_count": 10,
   "metadata": {},
   "outputs": [
    {
     "data": {
      "text/html": [
       "<div>\n",
       "<style scoped>\n",
       "    .dataframe tbody tr th:only-of-type {\n",
       "        vertical-align: middle;\n",
       "    }\n",
       "\n",
       "    .dataframe tbody tr th {\n",
       "        vertical-align: top;\n",
       "    }\n",
       "\n",
       "    .dataframe thead th {\n",
       "        text-align: right;\n",
       "    }\n",
       "</style>\n",
       "<table border=\"1\" class=\"dataframe\">\n",
       "  <thead>\n",
       "    <tr style=\"text-align: right;\">\n",
       "      <th></th>\n",
       "      <th>prior</th>\n",
       "      <th>likelihood</th>\n",
       "      <th>unnorm</th>\n",
       "      <th>posterior</th>\n",
       "    </tr>\n",
       "  </thead>\n",
       "  <tbody>\n",
       "    <tr>\n",
       "      <th>condition</th>\n",
       "      <td>0.667785</td>\n",
       "      <td>0.995</td>\n",
       "      <td>0.664446</td>\n",
       "      <td>0.997506</td>\n",
       "    </tr>\n",
       "    <tr>\n",
       "      <th>no condition</th>\n",
       "      <td>0.332215</td>\n",
       "      <td>0.005</td>\n",
       "      <td>0.001661</td>\n",
       "      <td>0.002494</td>\n",
       "    </tr>\n",
       "  </tbody>\n",
       "</table>\n",
       "</div>"
      ],
      "text/plain": [
       "                 prior  likelihood    unnorm  posterior\n",
       "condition     0.667785       0.995  0.664446   0.997506\n",
       "no condition  0.332215       0.005  0.001661   0.002494"
      ]
     },
     "execution_count": 10,
     "metadata": {},
     "output_type": "execute_result"
    }
   ],
   "source": [
    "## Re-Test, Again Positive\n",
    "hypos = ['condition', 'no condition']\n",
    "prior = 0.667785, 0.332215\n",
    "likelihood = 0.995, 0.005\n",
    "\n",
    "make_bayes_table(hypos, prior, likelihood)"
   ]
  },
  {
   "cell_type": "markdown",
   "metadata": {
    "slideshow": {
     "slide_type": "slide"
    }
   },
   "source": [
    "<img src=\"imgs_prez/bayesian_inference_summary.png\" width=\"640\" height=\"640\" align=\"center\"/>\n",
    "\n",
    "**Source**: Osvaldo Martin - Bayesian Analysis with Python"
   ]
  },
  {
   "cell_type": "markdown",
   "metadata": {
    "slideshow": {
     "slide_type": "slide"
    }
   },
   "source": [
    "## 3. Most Used Distributions <a class=\"anchor\" id=\"distributions\"></a>"
   ]
  },
  {
   "cell_type": "markdown",
   "metadata": {
    "slideshow": {
     "slide_type": "slide"
    }
   },
   "source": [
    "\n",
    "3.1. **Continuous Distributions** <a class=\"anchor\" id=\"continuous\"></a>  \n",
    "3.1.1 - Uniform  \n",
    "3.1.2 - Normal (Gaussian) <a class=\"anchor\" id=\"normal\"></a>  \n",
    "3.1.3 - T-Student (Robust Inference) <a class=\"anchor\" id=\"tstudent\"></a>  \n",
    "3.1.4 - Beta (univariate)  <a class=\"anchor\" id=\"beta\"></a>  \n",
    "3.1.5 - Gamma  <a class=\"anchor\" id=\"gamma\"></a>  \n",
    "\n",
    "3.2. **Discrete Distributions**  \n",
    "3.2.1 - Bernouli  \n",
    "3.2.2 - Binomial  \n",
    "3.2.3 - Poisson  \n",
    "3.2.4 - Negative Binomial  \n",
    "\n",
    "#### https://pymc3.readthedocs.io/en/latest/api/distributions/continuous.html"
   ]
  },
  {
   "cell_type": "code",
   "execution_count": null,
   "metadata": {
    "slideshow": {
     "slide_type": "skip"
    }
   },
   "outputs": [],
   "source": [
    "def get_samples(dist, n_samples):\n",
    "    samples = np.array([dist.random() for n in range(n_samples)])\n",
    "    return samples"
   ]
  },
  {
   "cell_type": "code",
   "execution_count": null,
   "metadata": {
    "slideshow": {
     "slide_type": "skip"
    }
   },
   "outputs": [],
   "source": [
    "def plot_dist_kde(dist, n_samples):\n",
    "    samples = np.array([dist.random() for n in range(n_samples)])\n",
    "    return None"
   ]
  },
  {
   "cell_type": "markdown",
   "metadata": {
    "slideshow": {
     "slide_type": "slide"
    }
   },
   "source": [
    "## 3.1 Continuous Distributions <a class=\"anchor\" id=\"continuous-distributions\"></a>"
   ]
  },
  {
   "cell_type": "markdown",
   "metadata": {
    "slideshow": {
     "slide_type": "slide"
    }
   },
   "source": [
    "### 3.1.1 - Uniform Distribution\n",
    "\n",
    "$$\n",
    "p(x \\mid lower, upper) = \\frac{1}{upper-lower}\n",
    "$$"
   ]
  },
  {
   "cell_type": "code",
   "execution_count": null,
   "metadata": {
    "hideCode": false,
    "slideshow": {
     "slide_type": "subslide"
    }
   },
   "outputs": [],
   "source": [
    "x = np.linspace(-3.0, 3.0, 1000)\n",
    "a, b = 0.0, 2.0\n",
    "y = np.zeros(1000)\n",
    "y[(x<b) & (x>a)] = 1.0/(b-a)\n",
    "fig, ax = plt.subplots(figsize=(20,12))\n",
    "ax.plot(x, y, label='lower=1, upper=2', linewidth=4)\n",
    "a, b = -2.0, 1.0\n",
    "y = np.zeros(1000)\n",
    "y[(x<b) & (x>a)] = 1.0/(b-a)\n",
    "ax.plot(x, y, label='lower=-2, upper=1', linewidth=4)\n",
    "ax.legend(loc='upper left', frameon=True, shadow=True, fontsize = 'xx-large')\n",
    "ax.set(ylim=[-0.1,0.6], xlabel='x', ylabel='p(x | lower, upper)')\n",
    "plt.show()"
   ]
  },
  {
   "cell_type": "markdown",
   "metadata": {
    "slideshow": {
     "slide_type": "slide"
    }
   },
   "source": [
    "### 3.1.2 - Normal (Gaussian) Distribution\n",
    "\n",
    "$$\n",
    "p(x \\mid \\mu, \\sigma) = \\frac{1}{\\sigma \\sqrt{2\\pi}} e^{\\frac{-1}{2}(\\frac{x-\\mu}{\\sigma})^2}\n",
    "$$"
   ]
  },
  {
   "cell_type": "code",
   "execution_count": null,
   "metadata": {
    "hideCode": false,
    "slideshow": {
     "slide_type": "subslide"
    }
   },
   "outputs": [],
   "source": [
    "x = np.linspace(-5.0, 5.0, 1000)\n",
    "fig, ax = plt.subplots(figsize=(20,12))\n",
    "f = lambda mu, sd : st.norm.pdf(x, loc=mu, scale=sd)\n",
    "plot_pdf = lambda a, b : ax.plot(x, f(a,b), label=r'$\\mu$={0}, $\\sigma$={1}'.format(a,b), linewidth=4)\n",
    "plot_pdf(0.0, 0.4)\n",
    "plot_pdf(0.0, 1.0)\n",
    "plot_pdf(0.0, 2.0)\n",
    "plot_pdf(-2.0, 0.4)\n",
    "plt.legend(loc='upper left', frameon=True, shadow=True, fontsize = 'xx-large')\n",
    "ax.set(xlim=[-5,5], ylim=[-0.05,1.1], xlabel='x', ylabel='p(x | μ,σ)')\n",
    "plt.show()"
   ]
  },
  {
   "cell_type": "markdown",
   "metadata": {
    "slideshow": {
     "slide_type": "slide"
    }
   },
   "source": [
    "### 3.1.3 - T-Student (Robust)\n",
    "\n",
    "$$\n",
    "p(x \\mid \\nu) = \\frac{\\Gamma(\\frac{\\nu+1}{2})}{\\sqrt{\\nu \\pi} \\; \\Gamma(\\frac{\\nu}{2})} \\; (1+\\frac{x^2}{\\nu})^\\frac{-(\\nu+1)}{2}\n",
    "$$\n",
    "\n",
    "$\\nu \\; \\rightarrow$ \"normality\" parameter\n",
    "\n",
    "Where:  \n",
    "$\\nu=1 \\; \\rightarrow$  heavy tails (Cauchy)  \n",
    "$\\nu=\\infty \\; \\rightarrow$  Gaussian (Normal)"
   ]
  },
  {
   "cell_type": "code",
   "execution_count": null,
   "metadata": {
    "hideCode": false,
    "hidePrompt": false,
    "slideshow": {
     "slide_type": "subslide"
    }
   },
   "outputs": [],
   "source": [
    "x = np.linspace(-5.0, 5.0, 1000)\n",
    "fig, ax = plt.subplots(figsize=(20,12))\n",
    "f = lambda mu, lam, df : st.t.pdf(x, df, loc=mu, scale=1.0/np.sqrt(lam))\n",
    "plot_pdf = lambda mu, lam, df : ax.plot(x, f(mu, lam, df), label=r'$\\nu$={2}'.format(mu, lam, df), linewidth=4)\n",
    "plot_pdf(0.0, 1.0, 1.0)\n",
    "plot_pdf(0.0, 1.0, 2.0)\n",
    "plot_pdf(0.0, 1.0, 5)\n",
    "plot_pdf(0.0, 1.0, 100)\n",
    "plt.legend(loc='upper left', frameon=True, shadow=True, fontsize = 'xx-large')\n",
    "ax.set(xlim=[-5,5], ylim=[0,0.4], xlabel='x', ylabel='p(x | ν)')\n",
    "plt.show()"
   ]
  },
  {
   "cell_type": "markdown",
   "metadata": {
    "slideshow": {
     "slide_type": "slide"
    }
   },
   "source": [
    "### 3.1.4 - Beta\n",
    "\n",
    "$$\n",
    "p(x \\mid \\alpha, \\beta) = \\frac{\\Gamma(\\alpha+\\beta)}{\\Gamma(\\alpha)+\\Gamma(\\beta)}\\theta^{\\alpha-1}(1-\\theta)^{\\beta-1}\n",
    "$$"
   ]
  },
  {
   "cell_type": "code",
   "execution_count": 4,
   "metadata": {
    "hideCode": false,
    "slideshow": {
     "slide_type": "subslide"
    }
   },
   "outputs": [
    {
     "data": {
      "image/png": "[encoded data removed]",
      "text/plain": [
       "<Figure size 1440x864 with 1 Axes>"
      ]
     },
     "metadata": {},
     "output_type": "display_data"
    }
   ],
   "source": [
    "x = np.linspace(0.0, 1.0, 1000)\n",
    "fig, ax = plt.subplots(figsize=(20,12))\n",
    "f = lambda a, b : st.beta.pdf(x, a, b)\n",
    "plot_pdf = lambda a, b : ax.plot(x, f(a,b), label=r'$\\alpha$={0}, $\\beta$={1}'.format(a,b), linewidth=4)\n",
    "plot_pdf(0.5, 0.5)\n",
    "plot_pdf(5.0, 1.0)\n",
    "plot_pdf(1.0, 3.0)\n",
    "plot_pdf(1.0, 1.0)\n",
    "plot_pdf(2.0, 2.0)\n",
    "plot_pdf(2.0, 5.0)\n",
    "plt.legend(loc='upper center', frameon=True, shadow=True, fontsize = 'xx-large')\n",
    "ax.set(xlim=[0,1], ylim=[0,2.5], xlabel='x', ylabel='p(x|α,β)')\n",
    "plt.show()"
   ]
  },
  {
   "cell_type": "markdown",
   "metadata": {},
   "source": [
    "### 3.1.5 - Gamma\n",
    "\n",
    "$$\n",
    "p(x \\mid \\alpha, \\beta) = \\frac{\\beta^{\\alpha} \\; x^{\\alpha-1} \\; e^{-\\beta x} }{\\Gamma{(\\alpha)}}\n",
    "$$"
   ]
  },
  {
   "cell_type": "code",
   "execution_count": null,
   "metadata": {},
   "outputs": [],
   "source": [
    "x = np.linspace(0.0, 20.0, 1000)\n",
    "fig, ax = plt.subplots(figsize=(20,12))\n",
    "f = lambda a, b : st.gamma.pdf(x, a, scale=1.0/b)\n",
    "plot_pdf = lambda a, b : ax.plot(x, f(a, b), label=r'$\\alpha$={0}, $\\beta$={1}'.format(a, b), linewidth=4)\n",
    "plot_pdf(1.0, 0.5)\n",
    "plot_pdf(2.0, 0.5)\n",
    "plot_pdf(3.0, 1.0)\n",
    "plot_pdf(7.5, 1.0)\n",
    "plt.legend(loc='upper center', frameon=True, shadow=True, fontsize = 'xx-large')\n",
    "ax.set(xlim=[0,20], ylim=[0,0.4], xlabel='x', ylabel='p(x|α,β)')\n",
    "plt.show()"
   ]
  },
  {
   "cell_type": "markdown",
   "metadata": {},
   "source": [
    "## 3.2 Discrete Distributions <a class=\"anchor\" id=\"discrete-distributions\"></a>"
   ]
  },
  {
   "cell_type": "markdown",
   "metadata": {},
   "source": [
    "### 3.2.2 - Bernoulli\n",
    "\n",
    "\n",
    "$$\n",
    "p(x \\mid p) = p^{x}(1-p)^{1-x}\n",
    "$$\n",
    "\n",
    "Where:  \n",
    "$p \\; \\rightarrow$  Probability of success"
   ]
  },
  {
   "cell_type": "code",
   "execution_count": null,
   "metadata": {},
   "outputs": [],
   "source": [
    "fig, ax = plt.subplots(figsize=(20,12))\n",
    "f = lambda p : st.bernoulli.pmf(np.arange(st.bernoulli.ppf(0.01, p), st.bernoulli.ppf(0.99, p)), p)\n",
    "plot_pmf = lambda p : ax.bar(np.arange(st.bernoulli.ppf(0.01, p), st.bernoulli.ppf(0.99, p)), f(p), width=0.2, label=r'p={0}'.format(p))\n",
    "plot_pmf(0.1)\n",
    "plot_pmf(0.2)\n",
    "plot_pmf(0.5)\n",
    "plot_pmf(0.95)\n",
    "plt.legend(loc='upper left', frameon=True, shadow=True, fontsize = 'xx-large')\n",
    "ax.set(xlim=[-1,1], ylim=[0,1], xlabel='x', ylabel='p(x|n,p)')\n",
    "plt.show()"
   ]
  },
  {
   "cell_type": "markdown",
   "metadata": {
    "slideshow": {
     "slide_type": "subslide"
    }
   },
   "source": [
    "### 3.2.2 - Binomial\n",
    "\n",
    "\n",
    "$$\n",
    "p(x \\mid n, p) = \\binom{n}{x} \\; p^{x}(1-p)^{n-x}\n",
    "$$\n",
    "\n",
    "Where:  \n",
    "$n \\; \\rightarrow$  Number of independent events  \n",
    "$p \\; \\rightarrow$  Probability of success\n",
    "\n",
    "Binomial is sum of individual Bernoulli distributions"
   ]
  },
  {
   "cell_type": "code",
   "execution_count": null,
   "metadata": {},
   "outputs": [],
   "source": [
    "n_events= 50\n",
    "fig, ax = plt.subplots(figsize=(20,12))\n",
    "f = lambda n, p : st.binom.pmf(np.arange(st.binom.ppf(0.01, n, p), st.binom.ppf(0.99, n, p)), n,p)\n",
    "plot_pmf = lambda n, p : ax.bar(np.arange(st.binom.ppf(0.01, n, p), st.binom.ppf(0.99, n, p)), f(n, p), width=0.3, label=r'n={0}, p={1}'.format(n, p))\n",
    "plot_pmf(n_events,0.1)\n",
    "plot_pmf(n_events,0.2)\n",
    "plot_pmf(n_events,0.5)\n",
    "plot_pmf(n_events,0.95)\n",
    "plt.legend(loc='upper center', frameon=True, shadow=True, fontsize = 'xx-large')\n",
    "ax.set(xlim=[-1,n_events], ylim=[0,0.3], xlabel='x', ylabel='p(x|n,p)')\n",
    "plt.show()"
   ]
  },
  {
   "cell_type": "markdown",
   "metadata": {},
   "source": [
    "### 3.1.3 - Poisson Distribution\n",
    "\n",
    "$$\n",
    "p(x \\mid \\mu) = \\frac{e^{-\\mu} \\; \\mu^{x}}{x!}\n",
    "$$\n",
    "\n",
    "Where:  \n",
    "$\\mu \\; \\rightarrow$  Expected number of occurrences during the given interval ($\\mu$ >= 0)"
   ]
  },
  {
   "cell_type": "code",
   "execution_count": null,
   "metadata": {},
   "outputs": [],
   "source": [
    "fig, ax = plt.subplots(figsize=(20,12))\n",
    "f = lambda mu : st.poisson.pmf(np.arange(st.poisson.ppf(0.01, mu), st.poisson.ppf(0.99, mu)), mu)\n",
    "plot_pmf = lambda mu : ax.bar(np.arange(st.poisson.ppf(0.01, mu), st.poisson.ppf(0.99, mu)), f(mu), width=0.3, label=r'μ={0}'.format(mu))\n",
    "plot_pmf(0.5)\n",
    "plot_pmf(1)\n",
    "plot_pmf(2)\n",
    "plot_pmf(10)\n",
    "plt.legend(loc='upper center', frameon=True, shadow=True, fontsize = 'xx-large')\n",
    "ax.set(xlim=[-1,20], ylim=[0,0.7], xlabel='x', ylabel='p(x| μ)')\n",
    "plt.show()"
   ]
  },
  {
   "cell_type": "markdown",
   "metadata": {},
   "source": [
    "### 3.1.4 - Negative Binomial\n",
    "\n",
    "$$\n",
    "p(x \\mid n, p) = \\binom{x+n-1}{n-1} \\; p^{n}(1-p)^{x}\n",
    "$$\n",
    "\n",
    "Where:  \n",
    "$n \\; \\rightarrow$  Number of independent events  \n",
    "$p \\; \\rightarrow$  Probability of success"
   ]
  },
  {
   "cell_type": "code",
   "execution_count": null,
   "metadata": {},
   "outputs": [],
   "source": [
    "n_events= 10\n",
    "fig, ax = plt.subplots(figsize=(20,12))\n",
    "f = lambda n, p : st.nbinom.pmf(np.arange(st.nbinom.ppf(0.01, n, p), st.nbinom.ppf(0.99, n, p)), n,p)\n",
    "plot_pmf = lambda n, p : ax.bar(np.arange(st.nbinom.ppf(0.01, n, p), st.nbinom.ppf(0.99, n, p)), f(n, p), width=0.3, label=r'n={0}, p={1}'.format(n, p))\n",
    "plot_pmf(n_events,0.5)\n",
    "plot_pmf(n_events,0.8)\n",
    "plot_pmf(n_events,0.95)\n",
    "plt.legend(loc='upper center', frameon=True, shadow=True, fontsize = 'xx-large')\n",
    "ax.set(xlim=[-1,30], ylim=[0,0.7], xlabel='x', ylabel='p(x|n,p)')\n",
    "plt.show()"
   ]
  },
  {
   "cell_type": "markdown",
   "metadata": {
    "slideshow": {
     "slide_type": "slide"
    }
   },
   "source": [
    "## 4. Posterior Approximation - A glimpse into MCMC <a class=\"anchor\" id=\"mcmc\"></a>"
   ]
  },
  {
   "cell_type": "markdown",
   "metadata": {
    "slideshow": {
     "slide_type": "skip"
    }
   },
   "source": [
    "- While convalescing from an illness in 1946, Stan Ulam was playing solitaire. It, then, occurred to him to try to compute the chances that a particular solitaire laid out with 52 cards would come out successfully (Eckhard, 1987). After attempting exhaustive combinatorial calculations, he decided to go for the more practical approach of laying out several solitaires at random and then observing and counting the number of successful plays. This idea of selecting a statistical sample to approximate a hard combinatorial problem by a much simpler problem is at the heart of modern Monte Carlo simulation.\n",
    "- MCMC algorithms typically require the design of proposal mechanisms to generate candidate hypotheses\n",
    "- MCMC techniques are often applied to solve integration and optimisation problems in large dimensional spaces."
   ]
  },
  {
   "cell_type": "markdown",
   "metadata": {
    "slideshow": {
     "slide_type": "slide"
    }
   },
   "source": [
    "## MCMC Heroes\n",
    "<TABLE border=\"1\">\n",
    "<tr>\n",
    "    <th align=\"center\">Stan Ulam</th>\n",
    "    <th align=\"center\">John von Neumann</th>\n",
    "    <th align=\"center\">Enrico Fermi</th>\n",
    "</tr>\n",
    "<tr>\n",
    "    <th><img src=\"imgs_prez/Stanislaw_Ulam.tif.jpg\" width=\"360\" height=\"180\" align=\"center\"/></th>\n",
    "    <th><img src=\"imgs_prez/440px-JohnvonNeumann-LosAlamos.gif\" width=\"360\" height=\"180\" align=\"center\"/></th>\n",
    "    <th><img src=\"imgs_prez/440px-Enrico_Fermi_1943-49.jpg\" width=\"360\" height=\"180\" align=\"center\"/></th>\n",
    "</tr>\n",
    "</TABLE>\n",
    "\n",
    " **Source**: An Introduction to MCMC for Machine Learning"
   ]
  },
  {
   "cell_type": "markdown",
   "metadata": {
    "slideshow": {
     "slide_type": "slide"
    }
   },
   "source": [
    "## Rejection Sampling\n",
    "\n",
    "Draw samples from a complicated distribution $P(x)$ where sampling directly is hard.  \n",
    "\n",
    "Use a proposal distribution $Q(x)$ that is easier to sample from, where $Q(x)$ needs to envelope $P(x)$ ( $k \\: Q(x) \\: > \\: P(x)$) for all x.\n",
    "\n",
    "**P(x)** $\\rightarrow $ Initial Distribution  \n",
    "**Q(x)** $\\rightarrow $ Proposal Distribution "
   ]
  },
  {
   "cell_type": "code",
   "execution_count": null,
   "metadata": {
    "slideshow": {
     "slide_type": "skip"
    }
   },
   "outputs": [],
   "source": [
    "import numpy as np\n",
    "import scipy.stats as st\n",
    "import seaborn as sns\n",
    "import matplotlib.pyplot as plt\n",
    "\n",
    "proposal_loc = 50\n",
    "proposal_scale = 30\n",
    "sns.set()\n",
    "def p(x):\n",
    "    return st.norm.pdf(x, loc=30, scale=10) \\\n",
    "           + st.norm.pdf(x, loc=80, scale=20) \\\n",
    "          # + st.norm.pdf(x, loc=150, scale=10)\n",
    "def q(x):\n",
    "    return st.norm.pdf(x, loc=proposal_loc, scale=proposal_scale)"
   ]
  },
  {
   "cell_type": "code",
   "execution_count": null,
   "metadata": {
    "slideshow": {
     "slide_type": "slide"
    }
   },
   "outputs": [],
   "source": [
    "def rejection_sampling(iter=1000):\n",
    "    samples = []\n",
    "\n",
    "    for i in range(iter):\n",
    "        z = np.random.normal(proposal_loc, proposal_scale)\n",
    "        u = np.random.uniform(0, k*q(z))\n",
    "\n",
    "        if u <= p(z):\n",
    "            samples.append(z)\n",
    "\n",
    "    return np.array(samples)"
   ]
  },
  {
   "cell_type": "code",
   "execution_count": null,
   "metadata": {
    "slideshow": {
     "slide_type": "slide"
    }
   },
   "outputs": [],
   "source": [
    "p_init = -50\n",
    "p_end = 200\n",
    "x = np.arange(p_init, p_end)\n",
    "k = max(p(x) / q(x))"
   ]
  },
  {
   "cell_type": "code",
   "execution_count": null,
   "metadata": {
    "slideshow": {
     "slide_type": "slide"
    }
   },
   "outputs": [],
   "source": [
    "plt.rcParams[\"figure.figsize\"] = (15,8)\n",
    "plt.plot(x, p(x))\n",
    "plt.plot(x, k*q(x),'g')\n",
    "plt.show()"
   ]
  },
  {
   "cell_type": "code",
   "execution_count": null,
   "metadata": {
    "slideshow": {
     "slide_type": "slide"
    }
   },
   "outputs": [],
   "source": [
    "s = rejection_sampling(iter=100000)\n",
    "sns.distplot(s)"
   ]
  },
  {
   "cell_type": "markdown",
   "metadata": {
    "slideshow": {
     "slide_type": "slide"
    }
   },
   "source": [
    "## Drawbacks\n",
    "- Needs to have a good fit between $Q(x)$ and $P(x)$ \n",
    "- May be hard to choose $Q(x)$ for complex distributions  \n",
    "- Lot's of time wasted in rejecting points out of $P(x)$"
   ]
  },
  {
   "cell_type": "markdown",
   "metadata": {
    "slideshow": {
     "slide_type": "slide"
    }
   },
   "source": [
    "### The Monte Carlo principle\n",
    "\n",
    "$$\n",
    "p_{N}(x)=\\frac{1}{N}\\sum_{i=1}^{N} \\delta_{x}^{(i)}(x)\n",
    "$$\n",
    "\n",
    "Approximate integrals (or very large sums) $I(f)$ with tractable sums $I_{N}(f)$\n",
    "\n",
    "\n",
    "$$\n",
    "I_{N}(f)=\\frac{1}{N}\\sum_{i=1}^{N} f(x^{(i)}) \\xrightarrow[\\inf]{\\text{a.s.}}I(f) = \\int_{x} f(x)p(x)d(x)\n",
    "$$\n",
    "\n",
    "- Main idea: \n",
    "    - generating samples $x_{i}$ while exploring the state space _**X**_ using a\n",
    "Markov chain mechanism $\\rightarrow$ spend more time in most important (high probable) regions"
   ]
  },
  {
   "cell_type": "code",
   "execution_count": null,
   "metadata": {},
   "outputs": [],
   "source": []
  },
  {
   "cell_type": "markdown",
   "metadata": {},
   "source": [
    "### Metropolis-Hastings"
   ]
  },
  {
   "cell_type": "code",
   "execution_count": null,
   "metadata": {},
   "outputs": [],
   "source": []
  },
  {
   "cell_type": "markdown",
   "metadata": {},
   "source": [
    "### Hamiltonian Monte Carlo\n",
    "\n",
    " **Source**: https://colindcarroll.com/2019/04/11/hamiltonian-monte-carlo-from-scratch/"
   ]
  },
  {
   "cell_type": "code",
   "execution_count": null,
   "metadata": {},
   "outputs": [],
   "source": [
    "https://colindcarroll.com/2019/04/11/hamiltonian-monte-carlo-from-scratch/"
   ]
  },
  {
   "cell_type": "markdown",
   "metadata": {
    "slideshow": {
     "slide_type": "slide"
    }
   },
   "source": [
    "## Demo - Metropolis- Hastings\n",
    "\n",
    "[Chi Feng - MCMC Galery](https://chi-feng.github.io/mcmc-demo/app.html)"
   ]
  },
  {
   "cell_type": "code",
   "execution_count": null,
   "metadata": {
    "slideshow": {
     "slide_type": "slide"
    }
   },
   "outputs": [],
   "source": []
  },
  {
   "cell_type": "markdown",
   "metadata": {
    "slideshow": {
     "slide_type": "slide"
    }
   },
   "source": [
    "## 5. Quick Example in PyMC3  <a class=\"anchor\" id=\"example\"></a>"
   ]
  },
  {
   "cell_type": "code",
   "execution_count": null,
   "metadata": {},
   "outputs": [],
   "source": []
  },
  {
   "cell_type": "markdown",
   "metadata": {},
   "source": [
    "## Sources <a class=\"anchor\" id=\"sources\"></a>\n",
    "\n",
    "1. [Michael Betancourt - Probabilistic Modeling and Statistical Inference](https://betanalpha.github.io/assets/case_studies/modeling_and_inference.html)  \n",
    "2. [Michael Betancourt - Probabilistic Building Blocks](https://betanalpha.github.io/assets/case_studies/probability_densities.html)  \n",
    "3. [Michael Betancourt - Markov Chain Monte Carlo in Practice](https://betanalpha.github.io/assets/case_studies/markov_chain_monte_carlo.html)  \n",
    "4. [Aerin Kim - Bayesian Inference — Intuition and Example](https://towardsdatascience.com/bayesian-inference-intuition-and-example-148fd8fb95d6)\n",
    "5. [AllenDowney - ThinkBayes2](https://github.com/AllenDowney/ThinkBayes2)\n",
    "6. [Andrew Gelman - Bayesian Data Analysis](http://www.stat.columbia.edu/~gelman/book/)  \n",
    "7. [Colin Carroll - imcmc](https://github.com/ColCarroll/imcmc)\n",
    "8. [Andrieu, Freitas - An Introduction to MCMC for Machine Learning](https://www.cs.ubc.ca/~arnaud/andrieu_defreitas_doucet_jordan_intromontecarlomachinelearning.pdf)  \n",
    "9. [Eric Ma - An Introduction to Probability and Computational Bayesian Statistics](https://ericmjl.github.io/essays-on-data-science/machine-learning/computational-bayesian-stats/)  \n",
    "10. [Agustinus Kristiadi's Blog - Rejection Sampling](https://wiseodd.github.io/techblog/2015/10/21/rejection-sampling/)  \n",
    "11. [Thomas Wiecki - MCMC sampling for dummies](https://twiecki.io/blog/2015/11/10/mcmc-sampling/)  \n",
    "12. [Chi Feng - MCMC Galery](https://chi-feng.github.io/mcmc-demo/app.html)  \n",
    "13. [Iain Murray - Introduction to MCMC for Deep Learning](https://www.youtube.com/watch?v=Em6mQQy4wYA&t=1974s)"
   ]
  },
  {
   "cell_type": "markdown",
   "metadata": {
    "slideshow": {
     "slide_type": "skip"
    }
   },
   "source": [
    "## Nando MCMC Videos\n",
    "- Video 1: https://youtu.be/TNZk8lo4e-Q\n",
    "- Video 2: https://youtu.be/sK3cg15g8FI"
   ]
  }
 ],
 "metadata": {
  "celltoolbar": "Slideshow",
  "kernelspec": {
   "display_name": "Bayesian",
   "language": "python",
   "name": "bayesian"
  },
  "language_info": {
   "codemirror_mode": {
    "name": "ipython",
    "version": 3
   },
   "file_extension": ".py",
   "mimetype": "text/x-python",
   "name": "python",
   "nbconvert_exporter": "python",
   "pygments_lexer": "ipython3",
   "version": "3.6.5"
  }
 },
 "nbformat": 4,
 "nbformat_minor": 2
}
