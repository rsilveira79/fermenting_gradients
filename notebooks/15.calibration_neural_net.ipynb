{
 "cells": [
  {
   "cell_type": "code",
   "execution_count": 2,
   "metadata": {},
   "outputs": [],
   "source": [
    "import matplotlib.pyplot as plt"
   ]
  },
  {
   "cell_type": "code",
   "execution_count": 3,
   "metadata": {},
   "outputs": [],
   "source": [
    "def reliability_curve(y_true, y_score, pred_labels, bins=5, normalize=False): \n",
    "    bin_width = 1.0 / bins\n",
    "    bin_centers = np.linspace(0, 1.0 - bin_width, bins) + bin_width / 2\n",
    "\n",
    "    y_score_bin_mean = np.empty(bins)\n",
    "    empirical_prob_pos = np.empty(bins)\n",
    "    empirical_acc_pos = np.empty(bins)\n",
    "    count_bins = np.empty(bins)\n",
    "\n",
    "    for i, threshold in enumerate(bin_centers):\n",
    "        # determine all samples where y_score falls into the i-th bin\n",
    "        bin_idx = np.logical_and(threshold - bin_width / 2 < y_score,\n",
    "                                  y_score <= threshold + bin_width / 2)\n",
    "        # Store mean y_score and mean empirical probability of positive class\n",
    "        y_score_bin_mean[i] = y_score[bin_idx].mean()\n",
    "        total_bin_preds = bin_idx.sum()\n",
    "        empirical_acc_pos[i] = (y_true[bin_idx]==pred_labels[bin_idx]).sum()/total_bin_preds\n",
    "        count_bins[i] = bin_idx.sum()\n",
    "\n",
    "    ## Plotting Stuff\n",
    "    plt.figure(0, figsize=(8, 8))\n",
    "    x = bin_centers\n",
    "    y = np.nan_to_num(y_score_bin_mean)\n",
    "    y1 = np.nan_to_num(empirical_acc_pos)  \n",
    "    plt.plot([0.0, 1.0], [0.0, 1.0], 'k', label=\"Perfect Calibration\")\n",
    "    plt.bar(x, y, width=0.1, align='center', alpha=0.1, ec='black')\n",
    "    plt.bar(x, y1, width=0.1, align='center', alpha=0.7, ec='black')\n",
    "    plt.xlim(0,1)\n",
    "    # Frescurites\n",
    "    for i in range(len(y)):\n",
    "        plt.hlines(y[i],0,x[i], linestyles='dashed') # Here you are drawing the horizontal lines\n",
    "    for i in range(len(bin_centers)):\n",
    "        if y[i]>0:\n",
    "            plt.annotate(\"{:.3f}\".format(y[i]),  xy=(bin_centers[i]- bin_width / 2, y[i]- 0.03), weight = 'bold', textcoords='offset points')\n",
    "\n",
    "    ## Calculating ECE\n",
    "    gap_weighted = np.absolute(np.nan_to_num(y_score_bin_mean)-np.nan_to_num(empirical_acc_pos))*count_bins\n",
    "    ece = gap_weighted.sum()\n",
    "\n",
    "    ## Frescurites\n",
    "    bbox_props = dict(boxstyle=\"round\", fc=\"lightgrey\", ec=\"brown\", lw=2)\n",
    "    plt.text(0.2, 0.9, \"ECE: {:.2f}\".format(ece), ha=\"center\", va=\"center\", size=20, weight = 'bold', bbox=bbox_props)\n",
    "\n",
    "    plt.title(\"Reliability Diagram\", size=20)\n",
    "    plt.ylabel(\"Accuracy (P[y]\",  size=18)\n",
    "    plt.xlabel(\"Confidence\",  size=18)\n",
    "    return ece"
   ]
  },
  {
   "cell_type": "code",
   "execution_count": null,
   "metadata": {},
   "outputs": [],
   "source": []
  },
  {
   "cell_type": "code",
   "execution_count": null,
   "metadata": {},
   "outputs": [],
   "source": []
  }
 ],
 "metadata": {
  "kernelspec": {
   "display_name": "bayesian",
   "language": "python",
   "name": "bayesian"
  },
  "language_info": {
   "codemirror_mode": {
    "name": "ipython",
    "version": 3
   },
   "file_extension": ".py",
   "mimetype": "text/x-python",
   "name": "python",
   "nbconvert_exporter": "python",
   "pygments_lexer": "ipython3",
   "version": "3.7.7"
  }
 },
 "nbformat": 4,
 "nbformat_minor": 4
}
