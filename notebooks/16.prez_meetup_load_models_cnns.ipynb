{
 "cells": [
  {
   "cell_type": "code",
   "execution_count": null,
   "id": "persistent-armor",
   "metadata": {},
   "outputs": [],
   "source": [
    "import torch\n",
    "import torch.nn as nn\n",
    "import torch.nn.functional as F\n",
    "import torchvision\n",
    "import torchvision.transforms as transforms\n",
    "import torch.optim as optim\n",
    "\n",
    "import matplotlib.pyplot as plt\n",
    "import numpy as np\n",
    "from tqdm import tqdm"
   ]
  },
  {
   "cell_type": "code",
   "execution_count": null,
   "id": "thermal-polls",
   "metadata": {},
   "outputs": [],
   "source": [
    "transform = transforms.Compose(\n",
    "    [transforms.ToTensor(),\n",
    "     transforms.Normalize((0.5, 0.5, 0.5), (0.5, 0.5, 0.5))])"
   ]
  },
  {
   "cell_type": "code",
   "execution_count": null,
   "id": "angry-orientation",
   "metadata": {},
   "outputs": [],
   "source": [
    "batch_size = 16\n",
    "\n",
    "trainset = torchvision.datasets.CIFAR10(root='./data', train=True,\n",
    "                                        download=True, transform=transform)\n",
    "trainloader = torch.utils.data.DataLoader(trainset, batch_size=batch_size,\n",
    "                                          shuffle=True, num_workers=2)\n",
    "\n",
    "testset = torchvision.datasets.CIFAR10(root='./data', train=False,\n",
    "                                       download=True, transform=transform)\n",
    "testloader = torch.utils.data.DataLoader(testset, batch_size=batch_size,\n",
    "                                         shuffle=False, num_workers=2)"
   ]
  },
  {
   "cell_type": "code",
   "execution_count": null,
   "id": "difficult-cricket",
   "metadata": {},
   "outputs": [],
   "source": [
    "def imshow(img):\n",
    "    fig, ax = plt.subplots(figsize=(12, 4))\n",
    "    img = img / 2 + 0.5     # unnormalize\n",
    "    npimg = img.numpy()\n",
    "    ax.imshow(np.transpose(npimg, (1, 2, 0)), interpolation='nearest')\n",
    "    plt.show()\n",
    "\n",
    "# get some random training images\n",
    "dataiter = iter(trainloader)\n",
    "images, labels = dataiter.next()\n",
    "\n",
    "# show images\n",
    "print('    '.join('%5s' % trainset.classes[labels[j]] for j in range(0,int(batch_size/2))))\n",
    "imshow(torchvision.utils.make_grid(images))\n",
    "print('    '.join('%5s' % trainset.classes[labels[j]] for j in range(int(batch_size/2),batch_size)))"
   ]
  },
  {
   "cell_type": "code",
   "execution_count": null,
   "id": "passing-india",
   "metadata": {},
   "outputs": [],
   "source": [
    "class LeNet5(nn.Module):\n",
    "    def __init__(self, n_classes):\n",
    "        super(LeNet5, self).__init__()\n",
    "        self.feature_extractor = nn.Sequential(            \n",
    "            nn.Conv2d(in_channels=3, out_channels=6, kernel_size=5, stride=1),\n",
    "            nn.Tanh(),\n",
    "            nn.AvgPool2d(kernel_size=2),\n",
    "            nn.Conv2d(in_channels=6, out_channels=16, kernel_size=5, stride=1),\n",
    "            nn.Tanh(),\n",
    "            nn.AvgPool2d(kernel_size=2),\n",
    "            nn.Conv2d(in_channels=16, out_channels=120, kernel_size=5, stride=1),\n",
    "            nn.Tanh()\n",
    "        )\n",
    "\n",
    "        self.classifier = nn.Sequential(\n",
    "            nn.Linear(in_features=120, out_features=84),\n",
    "            nn.Tanh(),\n",
    "            nn.Linear(in_features=84, out_features=n_classes),\n",
    "        )\n",
    "    def forward(self, x):\n",
    "        x = self.feature_extractor(x)\n",
    "        x = torch.flatten(x, 1)\n",
    "        logits = self.classifier(x)\n",
    "        probs = F.softmax(logits, dim=1)\n",
    "        return logits"
   ]
  },
  {
   "cell_type": "code",
   "execution_count": null,
   "id": "light-liver",
   "metadata": {},
   "outputs": [],
   "source": [
    "device = torch.device('cuda' if torch.cuda.is_available() else 'cpu')"
   ]
  },
  {
   "cell_type": "code",
   "execution_count": null,
   "id": "retained-shipping",
   "metadata": {},
   "outputs": [],
   "source": [
    "NUM_CLASSES = len(trainset.classes)\n",
    "NUM_CLASSES"
   ]
  },
  {
   "cell_type": "code",
   "execution_count": null,
   "id": "acceptable-legislation",
   "metadata": {},
   "outputs": [],
   "source": [
    "epoch_load = 100\n",
    "model_lenet = LeNet5(NUM_CLASSES)\n",
    "model_lenet.to(device)\n",
    "model_lenet.load_state_dict(torch.load(\"trained_models/LeNet_tiny__900.pt\", map_location=torch.device('cpu')))"
   ]
  },
  {
   "cell_type": "code",
   "execution_count": null,
   "id": "hazardous-visiting",
   "metadata": {},
   "outputs": [],
   "source": [
    "def calculate_accuracy(model, loader):\n",
    "    total = 0\n",
    "    correct = 0\n",
    "    for i, (x, label) in enumerate(loader):\n",
    "        logits = model(x.to(device))\n",
    "        conf, preds = logits.topk(1)\n",
    "        correct += (label.to(device) == preds.squeeze(1)).sum()\n",
    "        total +=label.size(0)\n",
    "    return (100*correct/total).item()"
   ]
  },
  {
   "cell_type": "code",
   "execution_count": null,
   "id": "valid-prisoner",
   "metadata": {},
   "outputs": [],
   "source": [
    "calculate_accuracy(model_lenet, testloader)"
   ]
  },
  {
   "cell_type": "code",
   "execution_count": null,
   "id": "powered-canyon",
   "metadata": {},
   "outputs": [],
   "source": [
    "logits = torch.stack([model_1(x[0]) for x in testloader])\n",
    "labs = torch.stack([x[1] for x in testloader])\n",
    "labs = labs.view(-1)\n",
    "logs = logs.view(-1,10)"
   ]
  },
  {
   "cell_type": "code",
   "execution_count": null,
   "id": "valuable-samuel",
   "metadata": {},
   "outputs": [],
   "source": [
    "labs[0].shape"
   ]
  },
  {
   "cell_type": "code",
   "execution_count": null,
   "id": "allied-seller",
   "metadata": {},
   "outputs": [],
   "source": [
    "logits[0].shape"
   ]
  },
  {
   "cell_type": "code",
   "execution_count": null,
   "id": "violent-smile",
   "metadata": {},
   "outputs": [],
   "source": [
    "labs.view(-1).shape, logs.view(-1,10).shape"
   ]
  },
  {
   "cell_type": "code",
   "execution_count": null,
   "id": "excessive-observer",
   "metadata": {},
   "outputs": [],
   "source": [
    "softmaxes = torch.nn.functional.softmax(logits, 1)\n",
    "confidences, predictions = softmaxes.max(1)"
   ]
  },
  {
   "cell_type": "code",
   "execution_count": null,
   "id": "mature-effectiveness",
   "metadata": {},
   "outputs": [],
   "source": [
    "confidences.shape"
   ]
  },
  {
   "cell_type": "code",
   "execution_count": null,
   "id": "gothic-cooking",
   "metadata": {},
   "outputs": [],
   "source": [
    "predictions.shape"
   ]
  },
  {
   "cell_type": "code",
   "execution_count": null,
   "id": "similar-bridges",
   "metadata": {},
   "outputs": [],
   "source": [
    "accuracies = torch.eq(predictions, labels)"
   ]
  },
  {
   "cell_type": "code",
   "execution_count": null,
   "id": "secondary-terry",
   "metadata": {},
   "outputs": [],
   "source": [
    "def calculate_ece(logits, labels, n_bins=10):\n",
    "    \"\"\"\n",
    "    Calculates the Expected Calibration Error of a model.\n",
    "    (This isn't necessary for temperature scaling, just a cool metric).\n",
    "    The input to this loss is the logits of a model, NOT the softmax scores.\n",
    "    This divides the confidence outputs into equally-sized interval bins.\n",
    "    In each bin, we compute the confidence gap:\n",
    "    bin_gap = | avg_confidence_in_bin - accuracy_in_bin |\n",
    "    We then return a weighted average of the gaps, based on the number\n",
    "    of samples in each bin\n",
    "    See: Naeini, Mahdi Pakdaman, Gregory F. Cooper, and Milos Hauskrecht.\n",
    "    \"Obtaining Well Calibrated Probabilities Using Bayesian Binning.\" AAAI.\n",
    "    2015.\n",
    "    \"\"\"\n",
    "\n",
    "    bin_boundaries = torch.linspace(0, 1, n_bins + 1)\n",
    "    bin_lowers = bin_boundaries[:-1]\n",
    "    bin_uppers = bin_boundaries[1:]\n",
    "\n",
    "    softmaxes = F.softmax(logits, dim=1)\n",
    "    confidences, predictions = torch.max(softmaxes, 1)\n",
    "    accuracies = predictions.eq(labels)\n",
    "\n",
    "    ece = torch.zeros(1, device=logits.device)\n",
    "    for bin_lower, bin_upper in zip(bin_lowers, bin_uppers):\n",
    "        # Calculated |confidence - accuracy| in each bin\n",
    "        in_bin = confidences.gt(bin_lower.item()) * confidences.le(bin_upper.item())\n",
    "        prop_in_bin = in_bin.float().mean()\n",
    "        if prop_in_bin.item() > 0:\n",
    "            accuracy_in_bin = accuracies[in_bin].float().mean()\n",
    "            avg_confidence_in_bin = confidences[in_bin].mean()\n",
    "            ece += torch.abs(avg_confidence_in_bin - accuracy_in_bin) * prop_in_bin\n",
    "    return ece.item()"
   ]
  },
  {
   "cell_type": "code",
   "execution_count": null,
   "id": "million-gross",
   "metadata": {},
   "outputs": [],
   "source": [
    "def make_model_diagrams(outputs, labels, n_bins=10):\n",
    "    \"\"\"\n",
    "    outputs - a torch tensor (size n x num_classes) with the outputs from the final linear layer\n",
    "    - NOT the softmaxes\n",
    "    labels - a torch tensor (size n) with the labels\n",
    "    \"\"\"\n",
    "    softmaxes = torch.nn.functional.softmax(outputs, 1)\n",
    "    confidences, predictions = softmaxes.max(1)\n",
    "    accuracies = torch.eq(predictions, labels)\n",
    "    overall_accuracy = (predictions==labels).sum().item()/len(labels)\n",
    "    # Reliability diagram\n",
    "    bins = torch.linspace(0, 1, n_bins + 1)\n",
    "    width = 1.0 / n_bins\n",
    "    bin_centers = np.linspace(0, 1.0 - width, n_bins) + width / 2\n",
    "    bin_indices = [confidences.ge(bin_lower) * confidences.lt(bin_upper) for bin_lower, bin_upper in zip(bins[:-1], bins[1:])]\n",
    "    \n",
    "    bin_corrects = np.array([ torch.mean(accuracies[bin_index].float()) for bin_index in bin_indices])\n",
    "    bin_scores = np.array([ torch.mean(confidences[bin_index].float()) for bin_index in bin_indices])\n",
    "     \n",
    "    plt.figure(0, figsize=(8, 8))\n",
    "    gap = (np.nan_to_num(bin_scores) - np.nan_to_num(bin_corrects))\n",
    "    confs = plt.bar(bin_centers, bin_corrects, width=width, alpha=0.1, ec='black')\n",
    "    gaps = plt.bar(bin_centers, gap, bottom=np.nan_to_num(bin_corrects), color=[1, 0.7, 0.7], alpha=0.5, width=width, hatch='//', edgecolor='r')\n",
    "    plt.plot([0, 1], [0, 1], '--', color='gray')\n",
    "    plt.legend([confs, gaps], ['Outputs', 'Gap'], loc='best', fontsize='small')\n",
    "\n",
    "    ece = calculate_ece(outputs, labels, n_bins)\n",
    "\n",
    "    # Clean up\n",
    "    bbox_props = dict(boxstyle=\"round\", fc=\"lightgrey\", ec=\"brown\", lw=2)\n",
    "    plt.text(0.2, 0.85, \"ECE: {:.2f}\".format(ece), ha=\"center\", va=\"center\", size=20, weight = 'bold', bbox=bbox_props)\n",
    "\n",
    "    plt.title(\"Reliability Diagram\", size=20)\n",
    "    plt.ylabel(\"Accuracy (P[y]\",  size=18)\n",
    "    plt.xlabel(\"Confidence\",  size=18)\n",
    "    plt.xlim(0,1)\n",
    "    plt.ylim(0,1)\n",
    "    return ece"
   ]
  },
  {
   "cell_type": "code",
   "execution_count": null,
   "id": "literary-integrity",
   "metadata": {},
   "outputs": [],
   "source": [
    "logits = torch.stack([model_lenet(x[0]) for x in testloader])\n",
    "labs = torch.stack([x[1] for x in testloader])\n",
    "labs = labs.view(-1)\n",
    "logits = logits.view(-1,NUM_CLASSES)\n",
    "make_model_diagrams(logits.detach().cpu(), labs, n_bins=10)"
   ]
  },
  {
   "cell_type": "markdown",
   "id": "minor-japanese",
   "metadata": {},
   "source": [
    "### ResNET"
   ]
  },
  {
   "cell_type": "code",
   "execution_count": null,
   "id": "executed-advance",
   "metadata": {},
   "outputs": [],
   "source": [
    "def _weights_init(m):\n",
    "    classname = m.__class__.__name__\n",
    "    #print(classname)\n",
    "    if isinstance(m, nn.Linear) or isinstance(m, nn.Conv2d):\n",
    "        nn.init.kaiming_normal_(m.weight)\n",
    "\n",
    "class LambdaLayer(nn.Module):\n",
    "    def __init__(self, lambd):\n",
    "        super(LambdaLayer, self).__init__()\n",
    "        self.lambd = lambd\n",
    "\n",
    "    def forward(self, x):\n",
    "        return self.lambd(x)\n",
    "\n",
    "\n",
    "class BasicBlock(nn.Module):\n",
    "    expansion = 1\n",
    "\n",
    "    def __init__(self, in_planes, planes, stride=1, option='A'):\n",
    "        super(BasicBlock, self).__init__()\n",
    "        self.conv1 = nn.Conv2d(in_planes, planes, kernel_size=3, stride=stride, padding=1, bias=False)\n",
    "        self.bn1 = nn.BatchNorm2d(planes)\n",
    "        self.conv2 = nn.Conv2d(planes, planes, kernel_size=3, stride=1, padding=1, bias=False)\n",
    "        self.bn2 = nn.BatchNorm2d(planes)\n",
    "\n",
    "        self.shortcut = nn.Sequential()\n",
    "        if stride != 1 or in_planes != planes:\n",
    "            if option == 'A':\n",
    "                \"\"\"\n",
    "                For CIFAR10 ResNet paper uses option A.\n",
    "                \"\"\"\n",
    "                self.shortcut = LambdaLayer(lambda x:\n",
    "                                            F.pad(x[:, :, ::2, ::2], (0, 0, 0, 0, planes//4, planes//4), \"constant\", 0))\n",
    "            elif option == 'B':\n",
    "                self.shortcut = nn.Sequential(\n",
    "                     nn.Conv2d(in_planes, self.expansion * planes, kernel_size=1, stride=stride, bias=False),\n",
    "                     nn.BatchNorm2d(self.expansion * planes)\n",
    "                )\n",
    "\n",
    "    def forward(self, x):\n",
    "        out = F.relu(self.bn1(self.conv1(x)))\n",
    "        out = self.bn2(self.conv2(out))\n",
    "        out += self.shortcut(x)\n",
    "        out = F.relu(out)\n",
    "        return out\n",
    "\n",
    "\n",
    "class ResNet(nn.Module):\n",
    "    def __init__(self, block, num_blocks, num_classes=10):\n",
    "        super(ResNet, self).__init__()\n",
    "        self.in_planes = 16\n",
    "\n",
    "        self.conv1 = nn.Conv2d(3, 16, kernel_size=3, stride=1, padding=1, bias=False)\n",
    "        self.bn1 = nn.BatchNorm2d(16)\n",
    "        self.layer1 = self._make_layer(block, 16, num_blocks[0], stride=1)\n",
    "        self.layer2 = self._make_layer(block, 32, num_blocks[1], stride=2)\n",
    "        self.layer3 = self._make_layer(block, 64, num_blocks[2], stride=2)\n",
    "        self.linear = nn.Linear(64, num_classes)\n",
    "\n",
    "        self.apply(_weights_init)\n",
    "\n",
    "    def _make_layer(self, block, planes, num_blocks, stride):\n",
    "        strides = [stride] + [1]*(num_blocks-1)\n",
    "        layers = []\n",
    "        for stride in strides:\n",
    "            layers.append(block(self.in_planes, planes, stride))\n",
    "            self.in_planes = planes * block.expansion\n",
    "\n",
    "        return nn.Sequential(*layers)\n",
    "\n",
    "    def forward(self, x):\n",
    "        out = F.relu(self.bn1(self.conv1(x)))\n",
    "        out = self.layer1(out)\n",
    "        out = self.layer2(out)\n",
    "        out = self.layer3(out)\n",
    "        out = F.avg_pool2d(out, out.size()[3])\n",
    "        out = out.view(out.size(0), -1)\n",
    "        out = self.linear(out)\n",
    "        return out"
   ]
  },
  {
   "cell_type": "code",
   "execution_count": null,
   "id": "hollow-orleans",
   "metadata": {},
   "outputs": [],
   "source": [
    "!ls trained_models/"
   ]
  },
  {
   "cell_type": "code",
   "execution_count": null,
   "id": "unlimited-synthetic",
   "metadata": {},
   "outputs": [],
   "source": [
    "model_resnet = ResNet(BasicBlock, [18, 18, 18])\n",
    "model_resnet.to(device)\n",
    "model_resnet.load_state_dict(torch.load(\"trained_models/resnet_2_110_200.pt\", map_location=torch.device('cpu')))\n",
    "calculate_accuracy(model_resnet, testloader)"
   ]
  },
  {
   "cell_type": "code",
   "execution_count": null,
   "id": "sufficient-catholic",
   "metadata": {},
   "outputs": [],
   "source": [
    "logits = torch.stack([model_resnet(x[0]) for x in testloader])\n",
    "labs = torch.stack([x[1] for x in testloader])\n",
    "labs = labs.view(-1)\n",
    "logits = logits.view(-1,NUM_CLASSES)\n",
    "make_model_diagrams(logits.detach().cpu(), labs, n_bins=10)"
   ]
  },
  {
   "cell_type": "code",
   "execution_count": null,
   "id": "legislative-fraction",
   "metadata": {},
   "outputs": [],
   "source": []
  },
  {
   "cell_type": "code",
   "execution_count": null,
   "id": "collectible-heading",
   "metadata": {},
   "outputs": [],
   "source": []
  },
  {
   "cell_type": "code",
   "execution_count": null,
   "id": "metropolitan-vision",
   "metadata": {},
   "outputs": [],
   "source": []
  },
  {
   "cell_type": "code",
   "execution_count": null,
   "id": "contained-metadata",
   "metadata": {},
   "outputs": [],
   "source": []
  },
  {
   "cell_type": "code",
   "execution_count": null,
   "id": "global-thanksgiving",
   "metadata": {},
   "outputs": [],
   "source": []
  },
  {
   "cell_type": "code",
   "execution_count": null,
   "id": "innovative-portland",
   "metadata": {},
   "outputs": [],
   "source": []
  },
  {
   "cell_type": "markdown",
   "id": "hollywood-witness",
   "metadata": {},
   "source": [
    "## Temperature Scaling"
   ]
  },
  {
   "cell_type": "code",
   "execution_count": null,
   "id": "grateful-affair",
   "metadata": {},
   "outputs": [],
   "source": [
    "import torch\n",
    "from torch import nn, optim\n",
    "from torch.nn import functional as F\n",
    "\n",
    "\n",
    "class ModelWithTemperature(nn.Module):\n",
    "    \"\"\"\n",
    "    A thin decorator, which wraps a model with temperature scaling\n",
    "    model (nn.Module):\n",
    "        A classification neural network\n",
    "        NB: Output of the neural network should be the classification logits,\n",
    "            NOT the softmax (or log softmax)!\n",
    "    \"\"\"\n",
    "    def __init__(self, model):\n",
    "        super(ModelWithTemperature, self).__init__()\n",
    "        self.model = model\n",
    "        self.temperature = nn.Parameter(torch.ones(1) * 1.5)\n",
    "\n",
    "    def forward(self, input):\n",
    "        logits = self.model(input)\n",
    "        soft_logits = F.softmax(logits)\n",
    "        temp_logits = self.temperature_scale(logits)\n",
    "        temp_softmax = F.softmax(temp_logits)\n",
    "        return temp_logits\n",
    "\n",
    "    def temperature_scale(self, logits):\n",
    "        \"\"\"\n",
    "        Perform temperature scaling on logits\n",
    "        \"\"\"\n",
    "        # Expand temperature to match the size of logits\n",
    "        temperature = self.temperature.unsqueeze(1).expand(logits.size(0), logits.size(1))\n",
    "        return logits / temperature\n",
    "\n",
    "    # This function probably should live outside of this class, but whatever\n",
    "    def set_temperature(self, valid_loader):\n",
    "        \"\"\"\n",
    "        Tune the tempearature of the model (using the validation set).\n",
    "        We're going to set it to optimize NLL.\n",
    "        valid_loader (DataLoader): validation set loader\n",
    "        \"\"\"\n",
    "        self.cuda()\n",
    "        nll_criterion = nn.CrossEntropyLoss().cuda()\n",
    "        ece_criterion = _ECELoss().cuda()\n",
    "\n",
    "        # First: collect all the logits and labels for the validation set\n",
    "        logits_list = []\n",
    "        labels_list = []\n",
    "        with torch.no_grad():\n",
    "            for input, label in valid_loader:\n",
    "                input = input.cuda()\n",
    "                logits = self.model(input)\n",
    "                logits_list.append(logits)\n",
    "                labels_list.append(label)\n",
    "            logits = torch.cat(logits_list).cuda()\n",
    "            labels = torch.cat(labels_list).cuda()\n",
    "\n",
    "        # Calculate NLL and ECE before temperature scaling\n",
    "        before_temperature_nll = nll_criterion(logits, labels).item()\n",
    "        before_temperature_ece = ece_criterion(logits, labels).item()\n",
    "        print('Before temperature - NLL: %.3f, ECE: %.3f' % (before_temperature_nll, before_temperature_ece))\n",
    "\n",
    "        # Next: optimize the temperature w.r.t. NLL\n",
    "        optimizer = optim.LBFGS([self.temperature], lr=0.01, max_iter=50)\n",
    "\n",
    "        def eval():\n",
    "            loss = nll_criterion(self.temperature_scale(logits), labels)\n",
    "            loss.backward()\n",
    "            return loss\n",
    "        optimizer.step(eval)\n",
    "\n",
    "        # Calculate NLL and ECE after temperature scaling\n",
    "        after_temperature_nll = nll_criterion(self.temperature_scale(logits), labels).item()\n",
    "        after_temperature_ece = ece_criterion(self.temperature_scale(logits), labels).item()\n",
    "        print('Optimal temperature: %.3f' % self.temperature.item())\n",
    "        print('After temperature - NLL: %.3f, ECE: %.3f' % (after_temperature_nll, after_temperature_ece))\n",
    "\n",
    "        return self\n",
    "\n",
    "\n",
    "class _ECELoss(nn.Module):\n",
    "    \"\"\"\n",
    "    Calculates the Expected Calibration Error of a model.\n",
    "    (This isn't necessary for temperature scaling, just a cool metric).\n",
    "    The input to this loss is the logits of a model, NOT the softmax scores.\n",
    "    This divides the confidence outputs into equally-sized interval bins.\n",
    "    In each bin, we compute the confidence gap:\n",
    "    bin_gap = | avg_confidence_in_bin - accuracy_in_bin |\n",
    "    We then return a weighted average of the gaps, based on the number\n",
    "    of samples in each bin\n",
    "    See: Naeini, Mahdi Pakdaman, Gregory F. Cooper, and Milos Hauskrecht.\n",
    "    \"Obtaining Well Calibrated Probabilities Using Bayesian Binning.\" AAAI.\n",
    "    2015.\n",
    "    \"\"\"\n",
    "    def __init__(self, n_bins=15):\n",
    "        \"\"\"\n",
    "        n_bins (int): number of confidence interval bins\n",
    "        \"\"\"\n",
    "        super(_ECELoss, self).__init__()\n",
    "        self.bin_boundaries = torch.linspace(0, 1, n_bins + 1)\n",
    "        self.bin_lowers = self.bin_boundaries[:-1]\n",
    "        self.bin_uppers = self.bin_boundaries[1:]\n",
    "        self.bin_width = 1.0 / n_bins\n",
    "        self.bin_centers = np.linspace(0, 1.0 - self.bin_width, n_bins) + self.bin_width / 2\n",
    "\n",
    "    def forward(self, logits, labels):\n",
    "        softmaxes = F.softmax(logits, dim=1)\n",
    "        confidences, predictions = torch.max(softmaxes, 1)\n",
    "        accuracies = predictions.eq(labels)\n",
    "        ece = torch.zeros(1, device=logits.device)\n",
    "        self.avg_confidences = []\n",
    "        self.accuracy_in_bin = []\n",
    "        for bin_lower, bin_upper in zip(self.bin_lowers, self.bin_uppers):\n",
    "            # Calculated |confidence - accuracy| in each bin\n",
    "            in_bin = confidences.gt(bin_lower.item()) * confidences.le(bin_upper.item())\n",
    "            prop_in_bin = in_bin.float().mean()\n",
    "            if prop_in_bin.item() > 0:\n",
    "                accuracy_in_bin = accuracies[in_bin].float().mean()\n",
    "                avg_confidence_in_bin = confidences[in_bin].mean()\n",
    "                self.avg_confidences.append(avg_confidence_in_bin.detach().cpu().numpy().item())\n",
    "                self.accuracy_in_bin.append(accuracy_in_bin.detach().cpu().numpy().item())\n",
    "                ece += torch.abs(avg_confidence_in_bin - accuracy_in_bin) * prop_in_bin\n",
    "        #self.plot_reliability(ece)\n",
    "        self.ece = ece\n",
    "        return ece\n",
    "\n",
    "    def plot_reliability(self):\n",
    "      plt.figure(0, figsize=(8, 8))\n",
    "      plt.plot([0.0, 1.0], [0.0, 1.0], 'k', label=\"Perfect Calibration\")\n",
    "      plt.bar(self.bin_centers, self.avg_confidences, color='g', width=self.bin_width, align='center', alpha=0.2, ec='black')\n",
    "      plt.bar(self.bin_centers, self.accuracy_in_bin, color='C1', width=self.bin_width, align='center', alpha=0.5, ec='black')\n",
    "      plt.xlim(0,1)\n",
    "      plt.ylim(0,1)\n",
    "      plt.title(\"Reliability Diagram\", size=20)\n",
    "      plt.ylabel(\"Accuracy (P[y]\",  size=18)\n",
    "      plt.xlabel(\"Confidence\",  size=18)\n",
    "      bbox_props = dict(boxstyle=\"round\", fc=\"lightgrey\", ec=\"brown\", lw=2)\n",
    "      plt.text(0.2, 0.9, \"ECE: {:.2f}\".format(self.ece.item()), ha=\"center\", va=\"center\", size=20, weight = 'bold', bbox=bbox_props)\n",
    "      return None"
   ]
  },
  {
   "cell_type": "code",
   "execution_count": null,
   "id": "balanced-character",
   "metadata": {},
   "outputs": [],
   "source": [
    "temperature_model = ModelWithTemperature(trained_model)\n"
   ]
  },
  {
   "cell_type": "code",
   "execution_count": null,
   "id": "macro-picnic",
   "metadata": {},
   "outputs": [],
   "source": [
    "temperature_model.set_temperature(valid_loader)"
   ]
  },
  {
   "cell_type": "code",
   "execution_count": null,
   "id": "every-collaboration",
   "metadata": {},
   "outputs": [],
   "source": [
    "pred_classes = np.array([get_reply_proba(x[0], temperature_model)[0] for x in test_sentences]).squeeze(1)\n",
    "pred_confidence = np.array([get_reply_proba(x[0], temperature_model)[1] for x in test_sentences]).squeeze(1)\n",
    "pred_logits = torch.tensor([get_reply_proba(x[0], temperature_model)[3] for x in test_sentences]).squeeze(1)"
   ]
  },
  {
   "cell_type": "code",
   "execution_count": null,
   "id": "analyzed-crisis",
   "metadata": {},
   "outputs": [],
   "source": [
    "type)"
   ]
  }
 ],
 "metadata": {
  "kernelspec": {
   "display_name": "torch",
   "language": "python",
   "name": "torch"
  },
  "language_info": {
   "codemirror_mode": {
    "name": "ipython",
    "version": 3
   },
   "file_extension": ".py",
   "mimetype": "text/x-python",
   "name": "python",
   "nbconvert_exporter": "python",
   "pygments_lexer": "ipython3",
   "version": "3.7.2"
  }
 },
 "nbformat": 4,
 "nbformat_minor": 5
}
