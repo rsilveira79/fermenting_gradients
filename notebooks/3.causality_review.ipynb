{
 "cells": [
  {
   "cell_type": "code",
   "execution_count": 29,
   "metadata": {},
   "outputs": [],
   "source": [
    "import scipy\n",
    "import numpy as np\n",
    "import matplotlib.pyplot as plt\n",
    "%matplotlib inline"
   ]
  },
  {
   "cell_type": "code",
   "execution_count": 5,
   "metadata": {},
   "outputs": [],
   "source": [
    "a = np.array([1,2,3,4,5,6])"
   ]
  },
  {
   "cell_type": "code",
   "execution_count": 50,
   "metadata": {},
   "outputs": [
    {
     "data": {
      "text/plain": [
       "(0.4590628636823177, 0.07592335247539835)"
      ]
     },
     "execution_count": 50,
     "metadata": {},
     "output_type": "execute_result"
    }
   ],
   "source": [
    "np.mean(a), np.var(a)"
   ]
  },
  {
   "cell_type": "code",
   "execution_count": 51,
   "metadata": {},
   "outputs": [
    {
     "data": {
      "text/plain": [
       "array([1, 2, 3, 4, 5, 6, 7, 8, 9])"
      ]
     },
     "execution_count": 51,
     "metadata": {},
     "output_type": "execute_result"
    }
   ],
   "source": [
    "x = np.array([1,2,3,4,5,6,7,8,9])\n",
    "x"
   ]
  },
  {
   "cell_type": "code",
   "execution_count": 52,
   "metadata": {},
   "outputs": [
    {
     "data": {
      "text/plain": [
       "array([9, 8, 7, 6, 5, 4, 3, 2, 1])"
      ]
     },
     "execution_count": 52,
     "metadata": {},
     "output_type": "execute_result"
    }
   ],
   "source": [
    "y = np.array([9,8,7,6,5,4,3,2,1])\n",
    "y"
   ]
  },
  {
   "cell_type": "code",
   "execution_count": 53,
   "metadata": {},
   "outputs": [
    {
     "data": {
      "text/plain": [
       "array([[ 7.5, -7.5],\n",
       "       [-7.5,  7.5]])"
      ]
     },
     "execution_count": 53,
     "metadata": {},
     "output_type": "execute_result"
    }
   ],
   "source": [
    "np.cov(x,y)"
   ]
  },
  {
   "cell_type": "code",
   "execution_count": 54,
   "metadata": {},
   "outputs": [
    {
     "data": {
      "text/plain": [
       "array([[ 1., -1.],\n",
       "       [-1.,  1.]])"
      ]
     },
     "execution_count": 54,
     "metadata": {},
     "output_type": "execute_result"
    }
   ],
   "source": [
    "np.corrcoef(x,y)"
   ]
  },
  {
   "cell_type": "markdown",
   "metadata": {},
   "source": [
    "## Calculating Covariance from a Random Variable"
   ]
  },
  {
   "cell_type": "code",
   "execution_count": 55,
   "metadata": {},
   "outputs": [
    {
     "data": {
      "text/plain": [
       "((100,), (100,))"
      ]
     },
     "execution_count": 55,
     "metadata": {},
     "output_type": "execute_result"
    }
   ],
   "source": [
    "x = np.random.random([100])\n",
    "y = np.linspace(0,100,100)\n",
    "x.shape, y.shape"
   ]
  },
  {
   "cell_type": "code",
   "execution_count": 56,
   "metadata": {},
   "outputs": [
    {
     "data": {
      "text/plain": [
       "<matplotlib.collections.PathCollection at 0x119949898>"
      ]
     },
     "execution_count": 56,
     "metadata": {},
     "output_type": "execute_result"
    },
    {
     "data": {
      "image/png": "[encoded data removed]",
      "text/plain": [
       "<Figure size 432x288 with 1 Axes>"
      ]
     },
     "metadata": {},
     "output_type": "display_data"
    }
   ],
   "source": [
    "plt.scatter(x,y)"
   ]
  },
  {
   "cell_type": "code",
   "execution_count": 48,
   "metadata": {},
   "outputs": [
    {
     "data": {
      "text/plain": [
       "(0.5289328541245266, 0.09707329149292532)"
      ]
     },
     "execution_count": 48,
     "metadata": {},
     "output_type": "execute_result"
    }
   ],
   "source": [
    "np.mean(x), np.var(x)"
   ]
  },
  {
   "cell_type": "code",
   "execution_count": 57,
   "metadata": {},
   "outputs": [
    {
     "ename": "NameError",
     "evalue": "name 'randn' is not defined",
     "output_type": "error",
     "traceback": [
      "\u001b[0;31m---------------------------------------------------------------------------\u001b[0m",
      "\u001b[0;31mNameError\u001b[0m                                 Traceback (most recent call last)",
      "\u001b[0;32m<ipython-input-57-395362d1cac0>\u001b[0m in \u001b[0;36m<module>\u001b[0;34m()\u001b[0m\n\u001b[0;32m----> 1\u001b[0;31m \u001b[0mx\u001b[0m \u001b[0;34m=\u001b[0m \u001b[0mrandn\u001b[0m\u001b[0;34m(\u001b[0m\u001b[0;34m)\u001b[0m\u001b[0;34m\u001b[0m\u001b[0m\n\u001b[0m",
      "\u001b[0;31mNameError\u001b[0m: name 'randn' is not defined"
     ]
    }
   ],
   "source": [
    "x = randn()"
   ]
  },
  {
   "cell_type": "code",
   "execution_count": 99,
   "metadata": {},
   "outputs": [
    {
     "data": {
      "text/plain": [
       "array([0.57025104])"
      ]
     },
     "execution_count": 99,
     "metadata": {},
     "output_type": "execute_result"
    }
   ],
   "source": [
    "mu, sigma = 0.03, 0.5 \n",
    "s = np.random.normal(mu, sigma, 1)\n",
    "s"
   ]
  },
  {
   "cell_type": "code",
   "execution_count": 100,
   "metadata": {},
   "outputs": [],
   "source": [
    "x = np.random.random([100])\n",
    "y = x + np.random.normal(mu, sigma, 1)"
   ]
  },
  {
   "cell_type": "code",
   "execution_count": 101,
   "metadata": {},
   "outputs": [
    {
     "data": {
      "text/plain": [
       "array([0.08924357, 0.42186819, 0.75989508, 0.81143962, 0.02829436,\n",
       "       0.81612165, 0.68984592, 0.00879529, 0.29816815, 0.77818093,\n",
       "       0.63736353, 0.33768836, 0.15902883, 0.93826525, 0.02783868,\n",
       "       0.15881251, 0.27391707, 0.43457805, 0.77192898, 0.7784491 ,\n",
       "       0.56961083, 0.25296497, 0.80542501, 0.09807721, 0.44224673,\n",
       "       0.60484021, 0.53800803, 0.27248469, 0.49616351, 0.66854164,\n",
       "       0.50286554, 0.40159629, 0.10495762, 0.26946977, 0.13738411,\n",
       "       0.44985057, 0.3462469 , 0.61440886, 0.68368569, 0.11282273,\n",
       "       0.11128295, 0.70669529, 0.89018015, 0.29644641, 0.75398065,\n",
       "       0.93682562, 0.11805434, 0.65599909, 0.9486564 , 0.05413975,\n",
       "       0.05921995, 0.76382823, 0.39655351, 0.03851306, 0.0442251 ,\n",
       "       0.27071573, 0.10355254, 0.34855242, 0.74302071, 0.29571045,\n",
       "       0.96772274, 0.81180077, 0.37227347, 0.37631249, 0.14323857,\n",
       "       0.80026169, 0.26024434, 0.88799192, 0.51909794, 0.81451703,\n",
       "       0.50808575, 0.52027825, 0.89166513, 0.47178652, 0.46348963,\n",
       "       0.32399003, 0.74863822, 0.27613153, 0.67831065, 0.76747485,\n",
       "       0.21535111, 0.22703222, 0.54611872, 0.66213681, 0.66657614,\n",
       "       0.48821864, 0.34552175, 0.08633594, 0.64564735, 0.8580105 ,\n",
       "       0.37403372, 0.87554226, 0.06707241, 0.67402861, 0.20459536,\n",
       "       0.70560498, 0.96708224, 0.89921733, 0.58073063, 0.4788059 ])"
      ]
     },
     "execution_count": 101,
     "metadata": {},
     "output_type": "execute_result"
    }
   ],
   "source": [
    "x"
   ]
  },
  {
   "cell_type": "code",
   "execution_count": 102,
   "metadata": {},
   "outputs": [
    {
     "data": {
      "text/plain": [
       "array([-2.84264792e-01,  4.83598274e-02,  3.86386721e-01,  4.37931266e-01,\n",
       "       -3.45213999e-01,  4.42613289e-01,  3.16337562e-01, -3.64713066e-01,\n",
       "       -7.53402097e-02,  4.04672572e-01,  2.63855168e-01, -3.58200023e-02,\n",
       "       -2.14479526e-01,  5.64756896e-01, -3.45669676e-01, -2.14695848e-01,\n",
       "       -9.95912864e-02,  6.10696968e-02,  3.98420618e-01,  4.04940742e-01,\n",
       "        1.96102471e-01, -1.20543392e-01,  4.31916655e-01, -2.75431149e-01,\n",
       "        6.87383699e-02,  2.31331848e-01,  1.64499668e-01, -1.01023666e-01,\n",
       "        1.22655147e-01,  2.95033287e-01,  1.29357183e-01,  2.80879272e-02,\n",
       "       -2.68550733e-01, -1.04038593e-01, -2.36124252e-01,  7.63422122e-02,\n",
       "       -2.72614555e-02,  2.40900505e-01,  3.10177333e-01, -2.60685624e-01,\n",
       "       -2.62225408e-01,  3.33186929e-01,  5.16671790e-01, -7.70619446e-02,\n",
       "        3.80472288e-01,  5.63317261e-01, -2.55454020e-01,  2.82490733e-01,\n",
       "        5.75148037e-01, -3.19368604e-01, -3.14288412e-01,  3.90319873e-01,\n",
       "        2.30451534e-02, -3.34995297e-01, -3.29283260e-01, -1.02792633e-01,\n",
       "       -2.69955813e-01, -2.49559366e-02,  3.69512352e-01, -7.77979052e-02,\n",
       "        5.94214380e-01,  4.38292416e-01, -1.23488588e-03,  2.80413354e-03,\n",
       "       -2.30269789e-01,  4.26753333e-01, -1.13264019e-01,  5.14483557e-01,\n",
       "        1.45589580e-01,  4.41008673e-01,  1.34577397e-01,  1.46769891e-01,\n",
       "        5.18156772e-01,  9.82781642e-02,  8.99812716e-02, -4.95183303e-02,\n",
       "        3.75129865e-01, -9.73768316e-02,  3.04802288e-01,  3.93966492e-01,\n",
       "       -1.58157248e-01, -1.46476136e-01,  1.72610359e-01,  2.88628456e-01,\n",
       "        2.93067783e-01,  1.14710284e-01, -2.79866052e-02, -2.87172421e-01,\n",
       "        2.72138989e-01,  4.84502144e-01,  5.25361726e-04,  5.02033904e-01,\n",
       "       -3.06435953e-01,  3.00520255e-01, -1.68912995e-01,  3.32096618e-01,\n",
       "        5.93573884e-01,  5.25708971e-01,  2.07222276e-01,  1.05297544e-01])"
      ]
     },
     "execution_count": 102,
     "metadata": {},
     "output_type": "execute_result"
    }
   ],
   "source": [
    "y"
   ]
  },
  {
   "cell_type": "code",
   "execution_count": 103,
   "metadata": {},
   "outputs": [
    {
     "data": {
      "text/plain": [
       "<matplotlib.collections.PathCollection at 0x11a1cfd30>"
      ]
     },
     "execution_count": 103,
     "metadata": {},
     "output_type": "execute_result"
    },
    {
     "data": {
      "image/png": "[encoded data removed]",
      "text/plain": [
       "<Figure size 432x288 with 1 Axes>"
      ]
     },
     "metadata": {},
     "output_type": "display_data"
    }
   ],
   "source": [
    "plt.scatter(x,y)"
   ]
  },
  {
   "cell_type": "code",
   "execution_count": null,
   "metadata": {},
   "outputs": [],
   "source": []
  }
 ],
 "metadata": {
  "kernelspec": {
   "display_name": "Python (nlp_new)",
   "language": "python",
   "name": "nlp_new"
  },
  "language_info": {
   "codemirror_mode": {
    "name": "ipython",
    "version": 3
   },
   "file_extension": ".py",
   "mimetype": "text/x-python",
   "name": "python",
   "nbconvert_exporter": "python",
   "pygments_lexer": "ipython3",
   "version": "3.6.3"
  }
 },
 "nbformat": 4,
 "nbformat_minor": 2
}
